{
 "cells": [
  {
   "cell_type": "code",
   "execution_count": 1,
   "metadata": {},
   "outputs": [],
   "source": [
    "from seqdataset import *\n",
    "import os\n",
    "import pandas as pd\n",
    "from tqdm import tqdm"
   ]
  },
  {
   "cell_type": "code",
   "execution_count": 2,
   "metadata": {},
   "outputs": [],
   "source": [
    "pssm_path = '/Users/suhancho/data/Uniprot_metalbinding_challenge/merged_PSSM/'\n",
    "pssm_files = [pssm_path+f for f in os.listdir(pssm_path)]\n",
    "inpath = '/Users/suhancho/data/Uniprot_metalbinding_challenge/chebi/'\n",
    "pos_fasta_path='/Users/suhancho/data/Uniprot_metalbinding_challenge/pos_sequence/'\n",
    "neg_fasta_path='/Users/suhancho/data/Uniprot_metalbinding_challenge/neg_sequence/'"
   ]
  },
  {
   "cell_type": "code",
   "execution_count": 3,
   "metadata": {},
   "outputs": [],
   "source": [
    "bind_tsv = process_binddata(inpath)"
   ]
  },
  {
   "cell_type": "code",
   "execution_count": 4,
   "metadata": {},
   "outputs": [],
   "source": [
    "def getdata(pssm_in):\n",
    "    pssm = get_PSSM_mat(pssm_in)\n",
    "    proc_pssm = get_processed_pssm(pssm)\n",
    "    pssm_accession = pssm_in.split('/')[-1].split('.')[0]\n",
    "    if bind_tsv.Accession.tolist().count(pssm_accession):\n",
    "        seq_type = 'positive'\n",
    "        fasta_path = pos_fasta_path\n",
    "    else : \n",
    "        seq_type = 'negative'\n",
    "        fasta_path = neg_fasta_path    \n",
    "    label = get_label(pssm_accession,fasta_path+pssm_accession+'.fasta',seq_type,bind_tsv)\n",
    "    \n",
    "    return(proc_pssm,label,pssm_accession)"
   ]
  },
  {
   "cell_type": "code",
   "execution_count": 5,
   "metadata": {},
   "outputs": [],
   "source": [
    "pssm_outpath='/Users/suhancho/data/Uniprot_metalbinding_challenge/processed_pssm/'\n",
    "label_outpath='/Users/suhancho/data/Uniprot_metalbinding_challenge/processed_label/'"
   ]
  },
  {
   "cell_type": "code",
   "execution_count": 6,
   "metadata": {},
   "outputs": [],
   "source": [
    "# for pssm_in in tqdm(pssm_files):\n",
    "\n",
    "\n",
    "def savedataset(pssm_in):\n",
    "    df,label,pssm_accession = getdata(pssm_in)\n",
    "    df.to_csv(pssm_outpath+pssm_accession+'.tsv',sep='\\t')\n",
    "    infile = open(label_outpath+pssm_accession+'.label.txt','w')\n",
    "    label = [str(l) for l in label]\n",
    "    infile.write(','.join(label)) ; infile.close()\n",
    "    return(0)"
   ]
  },
  {
   "cell_type": "code",
   "execution_count": 10,
   "metadata": {},
   "outputs": [],
   "source": [
    "import multiprocess\n",
    "if __name__=='__main__':\n",
    "    pool = multiprocess.Pool(processes=8)\n",
    "    pool.map(savedataset,pssm_files)\n",
    "    pool.close()\n",
    "    pool.join()"
   ]
  }
 ],
 "metadata": {
  "kernelspec": {
   "display_name": "Python 3.9.13 ('base')",
   "language": "python",
   "name": "python3"
  },
  "language_info": {
   "codemirror_mode": {
    "name": "ipython",
    "version": 3
   },
   "file_extension": ".py",
   "mimetype": "text/x-python",
   "name": "python",
   "nbconvert_exporter": "python",
   "pygments_lexer": "ipython3",
   "version": "3.9.13"
  },
  "orig_nbformat": 4,
  "vscode": {
   "interpreter": {
    "hash": "ee267b7c4590c1a749889590dc3d70c900280592ba44a2100f93954512298989"
   }
  }
 },
 "nbformat": 4,
 "nbformat_minor": 2
}
