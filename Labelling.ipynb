{
 "cells": [
  {
   "cell_type": "code",
   "execution_count": 18,
   "metadata": {},
   "outputs": [],
   "source": [
    "import pandas as pd\n",
    "import numpy as np\n",
    "import os\n",
    "import seaborn as sns"
   ]
  },
  {
   "cell_type": "code",
   "execution_count": 19,
   "metadata": {},
   "outputs": [],
   "source": [
    "datpath = '/Users/suhancho/data/Uniprot_metalbinding_challenge/'"
   ]
  },
  {
   "cell_type": "code",
   "execution_count": 20,
   "metadata": {},
   "outputs": [
    {
     "data": {
      "text/plain": [
       "['POS_TRAIN.fasta',\n",
       " '.DS_Store',\n",
       " 'NEG_TRAIN.fasta',\n",
       " 'neg_sequence',\n",
       " 'pos_sequence',\n",
       " 'POS_TRAIN_FULL.fasta',\n",
       " 'POS_TRAIN_FULL.tsv',\n",
       " 'POS_TRAIN.tsv',\n",
       " 'ChEBI-IDs_for_metal_binding.tsv',\n",
       " 'test-dataset.fasta',\n",
       " 'UniProt Metal Binding Site Challenge.docx',\n",
       " 'wget-log']"
      ]
     },
     "execution_count": 20,
     "metadata": {},
     "output_type": "execute_result"
    }
   ],
   "source": [
    "os.listdir(datpath)"
   ]
  },
  {
   "cell_type": "code",
   "execution_count": 24,
   "metadata": {},
   "outputs": [],
   "source": [
    "def getdata(datpath):\n",
    "    train_pos = pd.read_table(datpath+'POS_TRAIN_FULL.tsv')\n",
    "    chebi = pd.read_table(datpath+'ChEBI-IDs_for_metal_binding.tsv')\n",
    "    return(train_pos,chebi)"
   ]
  },
  {
   "cell_type": "code",
   "execution_count": 25,
   "metadata": {},
   "outputs": [],
   "source": [
    "train_pos,chebi = getdata(datpath)"
   ]
  },
  {
   "cell_type": "code",
   "execution_count": 26,
   "metadata": {},
   "outputs": [],
   "source": [
    "def get_label(accession,inpath,mode,ion):\n",
    "    if mode=='positive':\n",
    "        sequence_fasta = open(inpath+'/pos_sequence/'+accession+'.fasta','r').readlines()[0]\n",
    "        bindset = train_pos[(train_pos.Accession==accession) & (train_pos['ChEBI-ID']==ion)]\n",
    "        if len(bindset)!=0:\n",
    "            label = np.zeros(len(sequence_fasta),dtype = int)\n",
    "            for i in range(len(bindset)):\n",
    "                pos = bindset.Position.tolist()[i]\n",
    "                label[pos] = 1\n",
    "            label = ''.join(label.astype(str))\n",
    "        else : \n",
    "            label = np.NaN\n",
    "\n",
    "    elif mode=='negative':\n",
    "        sequence_fasta = open(inpath+'/neg_sequence/'+accession+'.fasta','r').readlines()[0]\n",
    "        label = '0'*len(sequence_fasta)\n",
    "    return(sequence_fasta,label,ion)"
   ]
  },
  {
   "cell_type": "code",
   "execution_count": 27,
   "metadata": {},
   "outputs": [],
   "source": [
    "neg_list = os.listdir(datpath+'/neg_sequence/')"
   ]
  },
  {
   "cell_type": "code",
   "execution_count": 28,
   "metadata": {},
   "outputs": [
    {
     "data": {
      "text/plain": [
       "('QPIPIVAIVALVVAIIIAIVVWSIVIIEYRKILRQRKIDRLIDRLIERAEDSGNESEGEISALVEMGVEMGHHAPWDVDDL',\n",
       " '000000000000000000000000000000000000000000000000000000000000000000000000000000000',\n",
       " 'CHEBI:29105')"
      ]
     },
     "execution_count": 28,
     "metadata": {},
     "output_type": "execute_result"
    }
   ],
   "source": [
    "get_label(neg_list[0].split('.')[0],datpath,'negative','CHEBI:29105')"
   ]
  },
  {
   "cell_type": "code",
   "execution_count": 29,
   "metadata": {},
   "outputs": [
    {
     "data": {
      "text/plain": [
       "('MRIGHGFDVHKFGENGSGPLIIGGVRIPYEKGLLAHSDGDVALHAATDALLGAAALGDIGKLFPDTDPAFKGADSRGLLREAYRRILAKGYKLGNLDITIIAQAPKMAPHIPQMRVNLAEDLQCHMDDINVKATTTEQLGFTGRGEGIACEAVVLLVNVEQG',\n",
       " '000000001010000000000000000000000000000000001000000000000000000000000000000000000000000000000000000000000000000000000000000000000000000000000000000000000000000000',\n",
       " 'CHEBI:60240')"
      ]
     },
     "execution_count": 29,
     "metadata": {},
     "output_type": "execute_result"
    }
   ],
   "source": [
    "get_label('A7FLX7',datpath,'positive','CHEBI:60240')"
   ]
  }
 ],
 "metadata": {
  "kernelspec": {
   "display_name": "Python 3.9.13 ('base')",
   "language": "python",
   "name": "python3"
  },
  "language_info": {
   "codemirror_mode": {
    "name": "ipython",
    "version": 3
   },
   "file_extension": ".py",
   "mimetype": "text/x-python",
   "name": "python",
   "nbconvert_exporter": "python",
   "pygments_lexer": "ipython3",
   "version": "3.9.13"
  },
  "orig_nbformat": 4,
  "vscode": {
   "interpreter": {
    "hash": "ee267b7c4590c1a749889590dc3d70c900280592ba44a2100f93954512298989"
   }
  }
 },
 "nbformat": 4,
 "nbformat_minor": 2
}
