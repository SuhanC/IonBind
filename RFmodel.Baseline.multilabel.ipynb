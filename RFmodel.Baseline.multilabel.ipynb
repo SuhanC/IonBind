{
 "cells": [
  {
   "cell_type": "code",
   "execution_count": 38,
   "metadata": {},
   "outputs": [],
   "source": [
    "from preproc_utils import *\n",
    "from Get_PSSM import *\n",
    "from Get_dataset import *\n",
    "import os\n",
    "from tqdm import tqdm\n",
    "import warnings\n",
    "warnings.filterwarnings('ignore')\n",
    "from sklearn.model_selection import train_test_split\n",
    "from sklearn.metrics import accuracy_score, precision_score, recall_score, roc_auc_score,f1_score\n",
    "import seaborn as sns\n",
    "import matplotlib.pyplot as plt\n",
    "\n",
    "chebi = pd.read_table('/Users/suhancho/data/Uniprot_metalbinding_challenge/POS_TRAIN_FULL.tsv')\n",
    "inpath = '/Users/suhancho/data/Uniprot_metalbinding_challenge/chebi/'\n",
    "bind_tsv_list = [inpath + f for f in os.listdir(inpath)]\n",
    "# pssm_path = '/Users/suhancho/data/Uniprot_metalbinding_challenge/PSSM/'\n",
    "# pssm_files = [pssm_path+f for f in os.listdir(pssm_path)]\n",
    "\n",
    "pssm_path = '/Users/suhancho/data/Uniprot_metalbinding_challenge/merged_PSSM/'\n",
    "pssm_files = [pssm_path+f for f in os.listdir(pssm_path)]\n",
    "\n",
    "\n",
    "bindlist = pd.concat([pd.read_table(f) for f in bind_tsv_list])\n",
    "low_labels = [l.replace(' ','') for l in bindlist.Name.value_counts().index[bindlist.Name.value_counts()<1000]]"
   ]
  },
  {
   "cell_type": "code",
   "execution_count": 49,
   "metadata": {},
   "outputs": [
    {
     "name": "stderr",
     "output_type": "stream",
     "text": [
      "100%|██████████| 193133/193133 [00:00<00:00, 3997860.63it/s]\n",
      "100%|██████████| 193133/193133 [00:24<00:00, 7743.84it/s]\n",
      "100%|██████████| 193133/193133 [00:03<00:00, 57199.12it/s]\n"
     ]
    }
   ],
   "source": [
    "negpath = '/Users/suhancho/data/Uniprot_metalbinding_challenge/neg_sequence/'\n",
    "bindlist_neg = pd.DataFrame()\n",
    "bindlist_neg['Accession'] = [f.split('/')[-1].split('.')[0] for f in tqdm(os.listdir(negpath))]\n",
    "bindlist_neg['Position'] = [len(open(negpath+s,'r').readlines()[0].strip())//2 for s in tqdm(os.listdir(negpath))]\n",
    "bindlist_neg['LEN_QUERY'] = [len(open(negpath+s,'r').readlines()[0].strip()) for s in tqdm(os.listdir(negpath))]\n",
    "bindlist_neg['ChEBI-ID'] = 'NB'\n",
    "bindlist_neg['Name'] = 'NB'\n",
    "bindlist = pd.concat([bindlist,bindlist_neg])\n",
    "bindlist['Name'] = pd.Categorical(bindlist.Name)\n",
    "bindlist['Target'] = bindlist.Name.cat.codes"
   ]
  },
  {
   "cell_type": "code",
   "execution_count": 51,
   "metadata": {},
   "outputs": [],
   "source": [
    "def calculate_window(start,num_inspections,bs_df):\n",
    "    train_dat=[]\n",
    "    for i,pssm in tqdm(enumerate(pssm_files[start:num_inspections])):\n",
    "        bs = get_binding_site_multi(bs_df,pssm.split('/')[-1].split('.')[0])\n",
    "        gt = get_dataset_padded_multi(get_processed_pssm(pssm),bs)\n",
    "        for g in gt : \n",
    "            train_dat.append([g[0].values.tolist(),g[1]])\n",
    "            \n",
    "    return(train_dat)"
   ]
  },
  {
   "cell_type": "code",
   "execution_count": 52,
   "metadata": {},
   "outputs": [],
   "source": [
    "def preproc_data(windowdata):\n",
    "    train_X = [dat[0] for dat in windowdata]\n",
    "    train_Y = [dat[1] for dat in windowdata]\n",
    "    print('Size of dataset : '+str(len(train_X)))\n",
    "    return(train_X,train_Y)"
   ]
  },
  {
   "cell_type": "code",
   "execution_count": 53,
   "metadata": {},
   "outputs": [],
   "source": [
    "def check_windowdata(traindata):\n",
    "    sns.histplot([len(t) for t in traindata])\n",
    "    plt.show()"
   ]
  },
  {
   "cell_type": "code",
   "execution_count": 54,
   "metadata": {},
   "outputs": [],
   "source": [
    "def filter_traindata(Xdata,Ydata):\n",
    "    train_X_filtered = [Xdata[i] for i in range(len(Xdata)) if len(Xdata[i])==9]\n",
    "    train_Y_filtered = [Ydata[i] for i in range(len(Xdata)) if len(Xdata[i])==9]\n",
    "    return(train_X_filtered,train_Y_filtered)  "
   ]
  },
  {
   "cell_type": "code",
   "execution_count": 55,
   "metadata": {},
   "outputs": [],
   "source": [
    "from itertools import chain\n",
    "def flatten_Xdata(filtered_X):\n",
    "    flatten_trainX = [list(chain.from_iterable(lst)) for lst in filtered_X]\n",
    "    return(flatten_trainX)"
   ]
  },
  {
   "cell_type": "code",
   "execution_count": 56,
   "metadata": {},
   "outputs": [],
   "source": [
    "def get_MLmetrics_multilabel(testset_y,testset_X,classifier,ion_name):\n",
    "    predicty = list(gs.predict(testset_X))\n",
    "    ytest = label_binarize(testset_y, classes=list(set(testy)))\n",
    "    ypreds = label_binarize(predicty, classes=list(set(testy)))\n",
    "    auc = roc_auc_score(ytest, ypreds,average='micro',multi_class='ovo')\n",
    "    acc = accuracy_score(testset_y,predicty)\n",
    "    f1 = f1_score(testset_y,predicty,average='micro')\n",
    "    recall = recall_score(testset_y,predicty,average='micro')\n",
    "    prec = precision_score(testset_y,predicty,average = 'micro')    \n",
    "    auc_mac = roc_auc_score(ytest, ypreds,average='macro',multi_class='ovo')\n",
    "    acc = accuracy_score(testset_y,predicty)\n",
    "    f1_mac = f1_score(testset_y,predicty,average='macro')\n",
    "    recall_mac = recall_score(testset_y,predicty,average='macro')\n",
    "    prec_mac = precision_score(testset_y,predicty,average = 'macro')    \n",
    "    print('ION = '+ion_name)\n",
    "    print('Accuracy = '+str(round(acc,2)))\n",
    "\n",
    "    print('AUC ( Micro ) = '+str(round(auc,2)))\n",
    "    print('Recall ( Micro ) = '+str(round(recall,2)))\n",
    "    print('F1 ( Micro ) = '+str(round(f1,2)))\n",
    "    print('Precision ( Micro ) = '+str(round(prec,2)))\n",
    "    print('AUC ( Macro ) = '+str(round(auc_mac,2)))\n",
    "    print('Recall ( Macro ) = '+str(round(recall_mac,2)))\n",
    "    print('F1 ( Macro ) = '+str(round(f1_mac,2)))\n",
    "    print('Precision ( Macro ) = '+str(round(prec_mac,2)))\n",
    "    return(acc,auc,recall,f1,prec,auc_mac,recall_mac,f1_mac,prec_mac)\n",
    "    "
   ]
  },
  {
   "cell_type": "code",
   "execution_count": 57,
   "metadata": {},
   "outputs": [],
   "source": [
    "def balance_classes(traindata,fold):\n",
    "    label1 = [traindata[i] for i in range(len(traindata)) if traindata[i][1]==1]\n",
    "    label0 = [traindata[i] for i in range(len(traindata)) if traindata[i][1]==0]\n",
    "    balanced0 = random.sample(label0,len(label1)*fold)\n",
    "    return(balanced0+label1)"
   ]
  },
  {
   "cell_type": "code",
   "execution_count": 58,
   "metadata": {},
   "outputs": [],
   "source": [
    "from sklearn.model_selection import GridSearchCV\n",
    "from sklearn.svm import SVC\n",
    "from sklearn.pipeline import make_pipeline\n",
    "from sklearn.preprocessing import StandardScaler\n",
    "from sklearn.multiclass import OneVsRestClassifier\n",
    "from sklearn.preprocessing import label_binarize"
   ]
  },
  {
   "cell_type": "code",
   "execution_count": 68,
   "metadata": {},
   "outputs": [
    {
     "data": {
      "text/plain": [
       "<AxesSubplot: ylabel='Count'>"
      ]
     },
     "execution_count": 68,
     "metadata": {},
     "output_type": "execute_result"
    },
    {
     "data": {
      "image/png": "[encoded data removed]",
      "text/plain": [
       "<Figure size 640x480 with 1 Axes>"
      ]
     },
     "metadata": {},
     "output_type": "display_data"
    }
   ],
   "source": [
    "sns.histplot(train_Y)"
   ]
  },
  {
   "cell_type": "code",
   "execution_count": 69,
   "metadata": {},
   "outputs": [
    {
     "name": "stderr",
     "output_type": "stream",
     "text": [
      "90000it [45:15, 33.15it/s]\n"
     ]
    },
    {
     "name": "stdout",
     "output_type": "stream",
     "text": [
      "Size of dataset : 243428\n"
     ]
    },
    {
     "data": {
      "image/png": "[encoded data removed]",
      "text/plain": [
       "<Figure size 640x480 with 1 Axes>"
      ]
     },
     "metadata": {},
     "output_type": "display_data"
    },
    {
     "name": "stdout",
     "output_type": "stream",
     "text": [
      "Fitting 2 folds for each of 36 candidates, totalling 72 fits\n"
     ]
    },
    {
     "ename": "KeyboardInterrupt",
     "evalue": "",
     "output_type": "error",
     "traceback": [
      "\u001b[0;31m---------------------------------------------------------------------------\u001b[0m",
      "\u001b[0;31mKeyboardInterrupt\u001b[0m                         Traceback (most recent call last)",
      "Cell \u001b[0;32mIn [69], line 28\u001b[0m\n\u001b[1;32m     18\u001b[0m param_grid \u001b[38;5;241m=\u001b[39m [{\u001b[38;5;124m'\u001b[39m\u001b[38;5;124msvc__C\u001b[39m\u001b[38;5;124m'\u001b[39m: param_range, \n\u001b[1;32m     19\u001b[0m             \u001b[38;5;124m'\u001b[39m\u001b[38;5;124msvc__gamma\u001b[39m\u001b[38;5;124m'\u001b[39m: param_range,\n\u001b[1;32m     20\u001b[0m             \u001b[38;5;124m'\u001b[39m\u001b[38;5;124msvc__kernel\u001b[39m\u001b[38;5;124m'\u001b[39m: [\u001b[38;5;124m'\u001b[39m\u001b[38;5;124mrbf\u001b[39m\u001b[38;5;124m'\u001b[39m],\n\u001b[1;32m     21\u001b[0m             \u001b[38;5;124m'\u001b[39m\u001b[38;5;124msvc__decision_function_shape\u001b[39m\u001b[38;5;124m'\u001b[39m:[\u001b[38;5;124m'\u001b[39m\u001b[38;5;124movo\u001b[39m\u001b[38;5;124m'\u001b[39m]}]\n\u001b[1;32m     23\u001b[0m gs \u001b[38;5;241m=\u001b[39m GridSearchCV(estimator\u001b[38;5;241m=\u001b[39mpipe_svc, \n\u001b[1;32m     24\u001b[0m                 param_grid\u001b[38;5;241m=\u001b[39mparam_grid, \n\u001b[1;32m     25\u001b[0m                 scoring\u001b[38;5;241m=\u001b[39m\u001b[38;5;124m'\u001b[39m\u001b[38;5;124maccuracy\u001b[39m\u001b[38;5;124m'\u001b[39m, \n\u001b[1;32m     26\u001b[0m                 cv\u001b[38;5;241m=\u001b[39m\u001b[38;5;241m2\u001b[39m,\n\u001b[1;32m     27\u001b[0m                 n_jobs\u001b[38;5;241m=\u001b[39m\u001b[38;5;241m4\u001b[39m,verbose\u001b[38;5;241m=\u001b[39m\u001b[38;5;241m3\u001b[39m)\n\u001b[0;32m---> 28\u001b[0m gs \u001b[38;5;241m=\u001b[39m gs\u001b[38;5;241m.\u001b[39mfit(X, y)\n\u001b[1;32m     29\u001b[0m acc,auc,recall,f1,prec,auc_mac,recall_mac,f1_mac,prec_mac \u001b[38;5;241m=\u001b[39m get_MLmetrics_multilabel(testy,testX,gs,\u001b[38;5;124m'\u001b[39m\u001b[38;5;124mmulti\u001b[39m\u001b[38;5;124m'\u001b[39m)\n",
      "File \u001b[0;32m~/miniforge3/envs/sklearn/lib/python3.10/site-packages/sklearn/model_selection/_search.py:875\u001b[0m, in \u001b[0;36mBaseSearchCV.fit\u001b[0;34m(self, X, y, groups, **fit_params)\u001b[0m\n\u001b[1;32m    869\u001b[0m     results \u001b[39m=\u001b[39m \u001b[39mself\u001b[39m\u001b[39m.\u001b[39m_format_results(\n\u001b[1;32m    870\u001b[0m         all_candidate_params, n_splits, all_out, all_more_results\n\u001b[1;32m    871\u001b[0m     )\n\u001b[1;32m    873\u001b[0m     \u001b[39mreturn\u001b[39;00m results\n\u001b[0;32m--> 875\u001b[0m \u001b[39mself\u001b[39;49m\u001b[39m.\u001b[39;49m_run_search(evaluate_candidates)\n\u001b[1;32m    877\u001b[0m \u001b[39m# multimetric is determined here because in the case of a callable\u001b[39;00m\n\u001b[1;32m    878\u001b[0m \u001b[39m# self.scoring the return type is only known after calling\u001b[39;00m\n\u001b[1;32m    879\u001b[0m first_test_score \u001b[39m=\u001b[39m all_out[\u001b[39m0\u001b[39m][\u001b[39m\"\u001b[39m\u001b[39mtest_scores\u001b[39m\u001b[39m\"\u001b[39m]\n",
      "File \u001b[0;32m~/miniforge3/envs/sklearn/lib/python3.10/site-packages/sklearn/model_selection/_search.py:1379\u001b[0m, in \u001b[0;36mGridSearchCV._run_search\u001b[0;34m(self, evaluate_candidates)\u001b[0m\n\u001b[1;32m   1377\u001b[0m \u001b[39mdef\u001b[39;00m \u001b[39m_run_search\u001b[39m(\u001b[39mself\u001b[39m, evaluate_candidates):\n\u001b[1;32m   1378\u001b[0m     \u001b[39m\"\"\"Search all candidates in param_grid\"\"\"\u001b[39;00m\n\u001b[0;32m-> 1379\u001b[0m     evaluate_candidates(ParameterGrid(\u001b[39mself\u001b[39;49m\u001b[39m.\u001b[39;49mparam_grid))\n",
      "File \u001b[0;32m~/miniforge3/envs/sklearn/lib/python3.10/site-packages/sklearn/model_selection/_search.py:822\u001b[0m, in \u001b[0;36mBaseSearchCV.fit.<locals>.evaluate_candidates\u001b[0;34m(candidate_params, cv, more_results)\u001b[0m\n\u001b[1;32m    814\u001b[0m \u001b[39mif\u001b[39;00m \u001b[39mself\u001b[39m\u001b[39m.\u001b[39mverbose \u001b[39m>\u001b[39m \u001b[39m0\u001b[39m:\n\u001b[1;32m    815\u001b[0m     \u001b[39mprint\u001b[39m(\n\u001b[1;32m    816\u001b[0m         \u001b[39m\"\u001b[39m\u001b[39mFitting \u001b[39m\u001b[39m{0}\u001b[39;00m\u001b[39m folds for each of \u001b[39m\u001b[39m{1}\u001b[39;00m\u001b[39m candidates,\u001b[39m\u001b[39m\"\u001b[39m\n\u001b[1;32m    817\u001b[0m         \u001b[39m\"\u001b[39m\u001b[39m totalling \u001b[39m\u001b[39m{2}\u001b[39;00m\u001b[39m fits\u001b[39m\u001b[39m\"\u001b[39m\u001b[39m.\u001b[39mformat(\n\u001b[1;32m    818\u001b[0m             n_splits, n_candidates, n_candidates \u001b[39m*\u001b[39m n_splits\n\u001b[1;32m    819\u001b[0m         )\n\u001b[1;32m    820\u001b[0m     )\n\u001b[0;32m--> 822\u001b[0m out \u001b[39m=\u001b[39m parallel(\n\u001b[1;32m    823\u001b[0m     delayed(_fit_and_score)(\n\u001b[1;32m    824\u001b[0m         clone(base_estimator),\n\u001b[1;32m    825\u001b[0m         X,\n\u001b[1;32m    826\u001b[0m         y,\n\u001b[1;32m    827\u001b[0m         train\u001b[39m=\u001b[39;49mtrain,\n\u001b[1;32m    828\u001b[0m         test\u001b[39m=\u001b[39;49mtest,\n\u001b[1;32m    829\u001b[0m         parameters\u001b[39m=\u001b[39;49mparameters,\n\u001b[1;32m    830\u001b[0m         split_progress\u001b[39m=\u001b[39;49m(split_idx, n_splits),\n\u001b[1;32m    831\u001b[0m         candidate_progress\u001b[39m=\u001b[39;49m(cand_idx, n_candidates),\n\u001b[1;32m    832\u001b[0m         \u001b[39m*\u001b[39;49m\u001b[39m*\u001b[39;49mfit_and_score_kwargs,\n\u001b[1;32m    833\u001b[0m     )\n\u001b[1;32m    834\u001b[0m     \u001b[39mfor\u001b[39;49;00m (cand_idx, parameters), (split_idx, (train, test)) \u001b[39min\u001b[39;49;00m product(\n\u001b[1;32m    835\u001b[0m         \u001b[39menumerate\u001b[39;49m(candidate_params), \u001b[39menumerate\u001b[39;49m(cv\u001b[39m.\u001b[39;49msplit(X, y, groups))\n\u001b[1;32m    836\u001b[0m     )\n\u001b[1;32m    837\u001b[0m )\n\u001b[1;32m    839\u001b[0m \u001b[39mif\u001b[39;00m \u001b[39mlen\u001b[39m(out) \u001b[39m<\u001b[39m \u001b[39m1\u001b[39m:\n\u001b[1;32m    840\u001b[0m     \u001b[39mraise\u001b[39;00m \u001b[39mValueError\u001b[39;00m(\n\u001b[1;32m    841\u001b[0m         \u001b[39m\"\u001b[39m\u001b[39mNo fits were performed. \u001b[39m\u001b[39m\"\u001b[39m\n\u001b[1;32m    842\u001b[0m         \u001b[39m\"\u001b[39m\u001b[39mWas the CV iterator empty? \u001b[39m\u001b[39m\"\u001b[39m\n\u001b[1;32m    843\u001b[0m         \u001b[39m\"\u001b[39m\u001b[39mWere there no candidates?\u001b[39m\u001b[39m\"\u001b[39m\n\u001b[1;32m    844\u001b[0m     )\n",
      "File \u001b[0;32m~/miniforge3/envs/sklearn/lib/python3.10/site-packages/joblib/parallel.py:1098\u001b[0m, in \u001b[0;36mParallel.__call__\u001b[0;34m(self, iterable)\u001b[0m\n\u001b[1;32m   1095\u001b[0m     \u001b[39mself\u001b[39m\u001b[39m.\u001b[39m_iterating \u001b[39m=\u001b[39m \u001b[39mFalse\u001b[39;00m\n\u001b[1;32m   1097\u001b[0m \u001b[39mwith\u001b[39;00m \u001b[39mself\u001b[39m\u001b[39m.\u001b[39m_backend\u001b[39m.\u001b[39mretrieval_context():\n\u001b[0;32m-> 1098\u001b[0m     \u001b[39mself\u001b[39;49m\u001b[39m.\u001b[39;49mretrieve()\n\u001b[1;32m   1099\u001b[0m \u001b[39m# Make sure that we get a last message telling us we are done\u001b[39;00m\n\u001b[1;32m   1100\u001b[0m elapsed_time \u001b[39m=\u001b[39m time\u001b[39m.\u001b[39mtime() \u001b[39m-\u001b[39m \u001b[39mself\u001b[39m\u001b[39m.\u001b[39m_start_time\n",
      "File \u001b[0;32m~/miniforge3/envs/sklearn/lib/python3.10/site-packages/joblib/parallel.py:975\u001b[0m, in \u001b[0;36mParallel.retrieve\u001b[0;34m(self)\u001b[0m\n\u001b[1;32m    973\u001b[0m \u001b[39mtry\u001b[39;00m:\n\u001b[1;32m    974\u001b[0m     \u001b[39mif\u001b[39;00m \u001b[39mgetattr\u001b[39m(\u001b[39mself\u001b[39m\u001b[39m.\u001b[39m_backend, \u001b[39m'\u001b[39m\u001b[39msupports_timeout\u001b[39m\u001b[39m'\u001b[39m, \u001b[39mFalse\u001b[39;00m):\n\u001b[0;32m--> 975\u001b[0m         \u001b[39mself\u001b[39m\u001b[39m.\u001b[39m_output\u001b[39m.\u001b[39mextend(job\u001b[39m.\u001b[39;49mget(timeout\u001b[39m=\u001b[39;49m\u001b[39mself\u001b[39;49m\u001b[39m.\u001b[39;49mtimeout))\n\u001b[1;32m    976\u001b[0m     \u001b[39melse\u001b[39;00m:\n\u001b[1;32m    977\u001b[0m         \u001b[39mself\u001b[39m\u001b[39m.\u001b[39m_output\u001b[39m.\u001b[39mextend(job\u001b[39m.\u001b[39mget())\n",
      "File \u001b[0;32m~/miniforge3/envs/sklearn/lib/python3.10/site-packages/joblib/_parallel_backends.py:567\u001b[0m, in \u001b[0;36mLokyBackend.wrap_future_result\u001b[0;34m(future, timeout)\u001b[0m\n\u001b[1;32m    564\u001b[0m \u001b[39m\"\"\"Wrapper for Future.result to implement the same behaviour as\u001b[39;00m\n\u001b[1;32m    565\u001b[0m \u001b[39mAsyncResults.get from multiprocessing.\"\"\"\u001b[39;00m\n\u001b[1;32m    566\u001b[0m \u001b[39mtry\u001b[39;00m:\n\u001b[0;32m--> 567\u001b[0m     \u001b[39mreturn\u001b[39;00m future\u001b[39m.\u001b[39;49mresult(timeout\u001b[39m=\u001b[39;49mtimeout)\n\u001b[1;32m    568\u001b[0m \u001b[39mexcept\u001b[39;00m CfTimeoutError \u001b[39mas\u001b[39;00m e:\n\u001b[1;32m    569\u001b[0m     \u001b[39mraise\u001b[39;00m \u001b[39mTimeoutError\u001b[39;00m \u001b[39mfrom\u001b[39;00m \u001b[39me\u001b[39;00m\n",
      "File \u001b[0;32m~/miniforge3/envs/sklearn/lib/python3.10/concurrent/futures/_base.py:453\u001b[0m, in \u001b[0;36mFuture.result\u001b[0;34m(self, timeout)\u001b[0m\n\u001b[1;32m    450\u001b[0m \u001b[39melif\u001b[39;00m \u001b[39mself\u001b[39m\u001b[39m.\u001b[39m_state \u001b[39m==\u001b[39m FINISHED:\n\u001b[1;32m    451\u001b[0m     \u001b[39mreturn\u001b[39;00m \u001b[39mself\u001b[39m\u001b[39m.\u001b[39m__get_result()\n\u001b[0;32m--> 453\u001b[0m \u001b[39mself\u001b[39;49m\u001b[39m.\u001b[39;49m_condition\u001b[39m.\u001b[39;49mwait(timeout)\n\u001b[1;32m    455\u001b[0m \u001b[39mif\u001b[39;00m \u001b[39mself\u001b[39m\u001b[39m.\u001b[39m_state \u001b[39min\u001b[39;00m [CANCELLED, CANCELLED_AND_NOTIFIED]:\n\u001b[1;32m    456\u001b[0m     \u001b[39mraise\u001b[39;00m CancelledError()\n",
      "File \u001b[0;32m~/miniforge3/envs/sklearn/lib/python3.10/threading.py:320\u001b[0m, in \u001b[0;36mCondition.wait\u001b[0;34m(self, timeout)\u001b[0m\n\u001b[1;32m    318\u001b[0m \u001b[39mtry\u001b[39;00m:    \u001b[39m# restore state no matter what (e.g., KeyboardInterrupt)\u001b[39;00m\n\u001b[1;32m    319\u001b[0m     \u001b[39mif\u001b[39;00m timeout \u001b[39mis\u001b[39;00m \u001b[39mNone\u001b[39;00m:\n\u001b[0;32m--> 320\u001b[0m         waiter\u001b[39m.\u001b[39;49macquire()\n\u001b[1;32m    321\u001b[0m         gotit \u001b[39m=\u001b[39m \u001b[39mTrue\u001b[39;00m\n\u001b[1;32m    322\u001b[0m     \u001b[39melse\u001b[39;00m:\n",
      "\u001b[0;31mKeyboardInterrupt\u001b[0m: "
     ]
    }
   ],
   "source": [
    "num_prot = 90000\n",
    "train_dat = calculate_window(0,num_prot,bindlist)\n",
    "train_X,train_Y = preproc_data(train_dat)\n",
    "check_windowdata(train_X)\n",
    "train_X,train_Y = filter_traindata(train_X,train_Y)\n",
    "flatten_trainX = flatten_Xdata(train_X)\n",
    "trainX, testX, trainy, testy = train_test_split(flatten_trainX,train_Y,test_size=0.4,shuffle = True)\n",
    "\n",
    "X = trainX ; y = trainy\n",
    "\n",
    "pipe_svc = make_pipeline(StandardScaler(),SVC(random_state=9510))\n",
    "\n",
    "# param_range = [0.0001, 0.001, 0.01, 0.1, 1.0, 10.0, 100.0, 1000.0]\n",
    "param_range = [0.001, 0.01, 0.1, 1.0, 10.0, 100.0]\n",
    "# {'svc__C': param_range, \n",
    "#             'svc__kernel': ['linear'],\n",
    "#             'svc__decision_function_shape':['ovo']},\n",
    "param_grid = [{'svc__C': param_range, \n",
    "            'svc__gamma': param_range,\n",
    "            'svc__kernel': ['rbf'],\n",
    "            'svc__decision_function_shape':['ovo']}]\n",
    "\n",
    "gs = GridSearchCV(estimator=pipe_svc, \n",
    "                param_grid=param_grid, \n",
    "                scoring='accuracy', \n",
    "                cv=2,\n",
    "                n_jobs=4,verbose=3)\n",
    "gs = gs.fit(X, y)\n",
    "acc,auc,recall,f1,prec,auc_mac,recall_mac,f1_mac,prec_mac = get_MLmetrics_multilabel(testy,testX,gs,'multi')"
   ]
  }
 ],
 "metadata": {
  "kernelspec": {
   "display_name": "Python 3.10.6 ('sklearn')",
   "language": "python",
   "name": "python3"
  },
  "language_info": {
   "codemirror_mode": {
    "name": "ipython",
    "version": 3
   },
   "file_extension": ".py",
   "mimetype": "text/x-python",
   "name": "python",
   "nbconvert_exporter": "python",
   "pygments_lexer": "ipython3",
   "version": "3.10.6"
  },
  "orig_nbformat": 4,
  "vscode": {
   "interpreter": {
    "hash": "9ca674affdede15e4a6394b48f5e33f7f932c70ec65fc4d25734b56c029e94fd"
   }
  }
 },
 "nbformat": 4,
 "nbformat_minor": 2
}
