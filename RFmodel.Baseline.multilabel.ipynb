{
 "cells": [
  {
   "cell_type": "code",
   "execution_count": 38,
   "metadata": {},
   "outputs": [],
   "source": [
    "from preproc_utils import *\n",
    "from Get_PSSM import *\n",
    "from Get_dataset import *\n",
    "import os\n",
    "from tqdm import tqdm\n",
    "import warnings\n",
    "warnings.filterwarnings('ignore')\n",
    "from sklearn.model_selection import train_test_split\n",
    "from sklearn.metrics import accuracy_score, precision_score, recall_score, roc_auc_score,f1_score\n",
    "import seaborn as sns\n",
    "import matplotlib.pyplot as plt\n",
    "\n",
    "chebi = pd.read_table('/Users/suhancho/data/Uniprot_metalbinding_challenge/POS_TRAIN_FULL.tsv')\n",
    "inpath = '/Users/suhancho/data/Uniprot_metalbinding_challenge/chebi/'\n",
    "bind_tsv_list = [inpath + f for f in os.listdir(inpath)]\n",
    "# pssm_path = '/Users/suhancho/data/Uniprot_metalbinding_challenge/PSSM/'\n",
    "# pssm_files = [pssm_path+f for f in os.listdir(pssm_path)]\n",
    "\n",
    "pssm_path = '/Users/suhancho/data/Uniprot_metalbinding_challenge/merged_PSSM/'\n",
    "pssm_files = [pssm_path+f for f in os.listdir(pssm_path)]\n",
    "\n",
    "\n",
    "bindlist = pd.concat([pd.read_table(f) for f in bind_tsv_list])\n",
    "low_labels = [l.replace(' ','') for l in bindlist.Name.value_counts().index[bindlist.Name.value_counts()<1000]]"
   ]
  },
  {
   "cell_type": "code",
   "execution_count": 49,
   "metadata": {},
   "outputs": [
    {
     "name": "stderr",
     "output_type": "stream",
     "text": [
      "100%|██████████| 193133/193133 [00:00<00:00, 3997860.63it/s]\n",
      "100%|██████████| 193133/193133 [00:24<00:00, 7743.84it/s]\n",
      "100%|██████████| 193133/193133 [00:03<00:00, 57199.12it/s]\n"
     ]
    }
   ],
   "source": [
    "negpath = '/Users/suhancho/data/Uniprot_metalbinding_challenge/neg_sequence/'\n",
    "bindlist_neg = pd.DataFrame()\n",
    "bindlist_neg['Accession'] = [f.split('/')[-1].split('.')[0] for f in tqdm(os.listdir(negpath))]\n",
    "bindlist_neg['Position'] = [len(open(negpath+s,'r').readlines()[0].strip())//2 for s in tqdm(os.listdir(negpath))]\n",
    "bindlist_neg['LEN_QUERY'] = [len(open(negpath+s,'r').readlines()[0].strip()) for s in tqdm(os.listdir(negpath))]\n",
    "bindlist_neg['ChEBI-ID'] = 'NB'\n",
    "bindlist_neg['Name'] = 'NB'\n",
    "bindlist = pd.concat([bindlist,bindlist_neg])\n",
    "bindlist['Name'] = pd.Categorical(bindlist.Name)\n",
    "bindlist['Target'] = bindlist.Name.cat.codes"
   ]
  },
  {
   "cell_type": "code",
   "execution_count": 51,
   "metadata": {},
   "outputs": [],
   "source": [
    "def calculate_window(start,num_inspections,bs_df):\n",
    "    train_dat=[]\n",
    "    for i,pssm in tqdm(enumerate(pssm_files[start:num_inspections])):\n",
    "        bs = get_binding_site_multi(bs_df,pssm.split('/')[-1].split('.')[0])\n",
    "        gt = get_dataset_padded_multi(get_processed_pssm(pssm),bs)\n",
    "        for g in gt : \n",
    "            train_dat.append([g[0].values.tolist(),g[1]])\n",
    "            \n",
    "    return(train_dat)"
   ]
  },
  {
   "cell_type": "code",
   "execution_count": 52,
   "metadata": {},
   "outputs": [],
   "source": [
    "def preproc_data(windowdata):\n",
    "    train_X = [dat[0] for dat in windowdata]\n",
    "    train_Y = [dat[1] for dat in windowdata]\n",
    "    print('Size of dataset : '+str(len(train_X)))\n",
    "    return(train_X,train_Y)"
   ]
  },
  {
   "cell_type": "code",
   "execution_count": 53,
   "metadata": {},
   "outputs": [],
   "source": [
    "def check_windowdata(traindata):\n",
    "    sns.histplot([len(t) for t in traindata])\n",
    "    plt.show()"
   ]
  },
  {
   "cell_type": "code",
   "execution_count": 54,
   "metadata": {},
   "outputs": [],
   "source": [
    "def filter_traindata(Xdata,Ydata):\n",
    "    train_X_filtered = [Xdata[i] for i in range(len(Xdata)) if len(Xdata[i])==9]\n",
    "    train_Y_filtered = [Ydata[i] for i in range(len(Xdata)) if len(Xdata[i])==9]\n",
    "    return(train_X_filtered,train_Y_filtered)  "
   ]
  },
  {
   "cell_type": "code",
   "execution_count": 55,
   "metadata": {},
   "outputs": [],
   "source": [
    "from itertools import chain\n",
    "def flatten_Xdata(filtered_X):\n",
    "    flatten_trainX = [list(chain.from_iterable(lst)) for lst in filtered_X]\n",
    "    return(flatten_trainX)"
   ]
  },
  {
   "cell_type": "code",
   "execution_count": 56,
   "metadata": {},
   "outputs": [],
   "source": [
    "def get_MLmetrics_multilabel(testset_y,testset_X,classifier,ion_name):\n",
    "    predicty = list(gs.predict(testset_X))\n",
    "    ytest = label_binarize(testset_y, classes=list(set(testy)))\n",
    "    ypreds = label_binarize(predicty, classes=list(set(testy)))\n",
    "    auc = roc_auc_score(ytest, ypreds,average='micro',multi_class='ovo')\n",
    "    acc = accuracy_score(testset_y,predicty)\n",
    "    f1 = f1_score(testset_y,predicty,average='micro')\n",
    "    recall = recall_score(testset_y,predicty,average='micro')\n",
    "    prec = precision_score(testset_y,predicty,average = 'micro')    \n",
    "    auc_mac = roc_auc_score(ytest, ypreds,average='macro',multi_class='ovo')\n",
    "    acc = accuracy_score(testset_y,predicty)\n",
    "    f1_mac = f1_score(testset_y,predicty,average='macro')\n",
    "    recall_mac = recall_score(testset_y,predicty,average='macro')\n",
    "    prec_mac = precision_score(testset_y,predicty,average = 'macro')    \n",
    "    print('ION = '+ion_name)\n",
    "    print('Accuracy = '+str(round(acc,2)))\n",
    "\n",
    "    print('AUC ( Micro ) = '+str(round(auc,2)))\n",
    "    print('Recall ( Micro ) = '+str(round(recall,2)))\n",
    "    print('F1 ( Micro ) = '+str(round(f1,2)))\n",
    "    print('Precision ( Micro ) = '+str(round(prec,2)))\n",
    "    print('AUC ( Macro ) = '+str(round(auc_mac,2)))\n",
    "    print('Recall ( Macro ) = '+str(round(recall_mac,2)))\n",
    "    print('F1 ( Macro ) = '+str(round(f1_mac,2)))\n",
    "    print('Precision ( Macro ) = '+str(round(prec_mac,2)))\n",
    "    return(acc,auc,recall,f1,prec,auc_mac,recall_mac,f1_mac,prec_mac)\n",
    "    "
   ]
  },
  {
   "cell_type": "code",
   "execution_count": 57,
   "metadata": {},
   "outputs": [],
   "source": [
    "def balance_classes(traindata,fold):\n",
    "    label1 = [traindata[i] for i in range(len(traindata)) if traindata[i][1]==1]\n",
    "    label0 = [traindata[i] for i in range(len(traindata)) if traindata[i][1]==0]\n",
    "    balanced0 = random.sample(label0,len(label1)*fold)\n",
    "    return(balanced0+label1)"
   ]
  },
  {
   "cell_type": "code",
   "execution_count": 58,
   "metadata": {},
   "outputs": [],
   "source": [
    "from sklearn.model_selection import GridSearchCV\n",
    "from sklearn.svm import SVC\n",
    "from sklearn.pipeline import make_pipeline\n",
    "from sklearn.preprocessing import StandardScaler\n",
    "from sklearn.multiclass import OneVsRestClassifier\n",
    "from sklearn.preprocessing import label_binarize"
   ]
  },
  {
   "cell_type": "code",
   "execution_count": 66,
   "metadata": {},
   "outputs": [
    {
     "data": {
      "text/plain": [
       "<AxesSubplot: ylabel='Count'>"
      ]
     },
     "execution_count": 66,
     "metadata": {},
     "output_type": "execute_result"
    },
    {
     "data": {
      "image/png": "[encoded data removed]",
      "text/plain": [
       "<Figure size 640x480 with 1 Axes>"
      ]
     },
     "metadata": {},
     "output_type": "display_data"
    }
   ],
   "source": [
    "sns.histplot(train_Y)"
   ]
  },
  {
   "cell_type": "code",
   "execution_count": 60,
   "metadata": {},
   "outputs": [
    {
     "name": "stderr",
     "output_type": "stream",
     "text": [
      "1000it [00:29, 33.36it/s]\n"
     ]
    },
    {
     "name": "stdout",
     "output_type": "stream",
     "text": [
      "Size of dataset : 2783\n"
     ]
    },
    {
     "data": {
      "image/png": "[encoded data removed]",
      "text/plain": [
       "<Figure size 640x480 with 1 Axes>"
      ]
     },
     "metadata": {},
     "output_type": "display_data"
    },
    {
     "name": "stdout",
     "output_type": "stream",
     "text": [
      "Fitting 2 folds for each of 36 candidates, totalling 72 fits\n",
      "[CV 2/2] END svc__C=0.001, svc__decision_function_shape=ovo, svc__gamma=0.001, svc__kernel=rbf;, score=0.281 total time=   0.2s\n",
      "[CV 1/2] END svc__C=0.001, svc__decision_function_shape=ovo, svc__gamma=0.001, svc__kernel=rbf;, score=0.281 total time=   0.2s\n",
      "[CV 1/2] END svc__C=0.001, svc__decision_function_shape=ovo, svc__gamma=0.01, svc__kernel=rbf;, score=0.281 total time=   0.2s\n",
      "[CV 2/2] END svc__C=0.001, svc__decision_function_shape=ovo, svc__gamma=0.01, svc__kernel=rbf;, score=0.281 total time=   0.2s\n",
      "[CV 1/2] END svc__C=0.001, svc__decision_function_shape=ovo, svc__gamma=0.1, svc__kernel=rbf;, score=0.281 total time=   0.2s\n",
      "[CV 2/2] END svc__C=0.001, svc__decision_function_shape=ovo, svc__gamma=0.1, svc__kernel=rbf;, score=0.281 total time=   0.2s\n",
      "[CV 1/2] END svc__C=0.001, svc__decision_function_shape=ovo, svc__gamma=1.0, svc__kernel=rbf;, score=0.281 total time=   0.2s\n",
      "[CV 2/2] END svc__C=0.001, svc__decision_function_shape=ovo, svc__gamma=1.0, svc__kernel=rbf;, score=0.281 total time=   0.2s\n",
      "[CV 1/2] END svc__C=0.001, svc__decision_function_shape=ovo, svc__gamma=10.0, svc__kernel=rbf;, score=0.281 total time=   0.2s\n",
      "[CV 2/2] END svc__C=0.001, svc__decision_function_shape=ovo, svc__gamma=10.0, svc__kernel=rbf;, score=0.281 total time=   0.2s\n",
      "[CV 1/2] END svc__C=0.001, svc__decision_function_shape=ovo, svc__gamma=100.0, svc__kernel=rbf;, score=0.281 total time=   0.2s\n",
      "[CV 2/2] END svc__C=0.001, svc__decision_function_shape=ovo, svc__gamma=100.0, svc__kernel=rbf;, score=0.281 total time=   0.2s\n",
      "[CV 1/2] END svc__C=0.01, svc__decision_function_shape=ovo, svc__gamma=0.001, svc__kernel=rbf;, score=0.281 total time=   0.2s\n",
      "[CV 2/2] END svc__C=0.01, svc__decision_function_shape=ovo, svc__gamma=0.001, svc__kernel=rbf;, score=0.281 total time=   0.2s\n",
      "[CV 1/2] END svc__C=0.01, svc__decision_function_shape=ovo, svc__gamma=0.01, svc__kernel=rbf;, score=0.281 total time=   0.3s\n",
      "[CV 2/2] END svc__C=0.01, svc__decision_function_shape=ovo, svc__gamma=0.01, svc__kernel=rbf;, score=0.281 total time=   0.3s\n",
      "[CV 1/2] END svc__C=0.01, svc__decision_function_shape=ovo, svc__gamma=0.1, svc__kernel=rbf;, score=0.281 total time=   0.3s\n",
      "[CV 2/2] END svc__C=0.01, svc__decision_function_shape=ovo, svc__gamma=0.1, svc__kernel=rbf;, score=0.281 total time=   0.3s\n",
      "[CV 1/2] END svc__C=0.01, svc__decision_function_shape=ovo, svc__gamma=1.0, svc__kernel=rbf;, score=0.281 total time=   0.3s\n",
      "[CV 2/2] END svc__C=0.01, svc__decision_function_shape=ovo, svc__gamma=1.0, svc__kernel=rbf;, score=0.281 total time=   0.3s\n",
      "[CV 1/2] END svc__C=0.01, svc__decision_function_shape=ovo, svc__gamma=10.0, svc__kernel=rbf;, score=0.281 total time=   0.3s\n",
      "[CV 2/2] END svc__C=0.01, svc__decision_function_shape=ovo, svc__gamma=10.0, svc__kernel=rbf;, score=0.281 total time=   0.3s\n",
      "[CV 1/2] END svc__C=0.01, svc__decision_function_shape=ovo, svc__gamma=100.0, svc__kernel=rbf;, score=0.281 total time=   0.3s\n",
      "[CV 2/2] END svc__C=0.01, svc__decision_function_shape=ovo, svc__gamma=100.0, svc__kernel=rbf;, score=0.281 total time=   0.3s\n",
      "[CV 1/2] END svc__C=0.1, svc__decision_function_shape=ovo, svc__gamma=0.001, svc__kernel=rbf;, score=0.281 total time=   0.2s\n",
      "[CV 2/2] END svc__C=0.1, svc__decision_function_shape=ovo, svc__gamma=0.001, svc__kernel=rbf;, score=0.281 total time=   0.2s\n",
      "[CV 1/2] END svc__C=0.1, svc__decision_function_shape=ovo, svc__gamma=0.01, svc__kernel=rbf;, score=0.281 total time=   0.3s\n",
      "[CV 2/2] END svc__C=0.1, svc__decision_function_shape=ovo, svc__gamma=0.01, svc__kernel=rbf;, score=0.281 total time=   0.3s\n",
      "[CV 1/2] END svc__C=0.1, svc__decision_function_shape=ovo, svc__gamma=0.1, svc__kernel=rbf;, score=0.281 total time=   0.3s\n",
      "[CV 2/2] END svc__C=0.1, svc__decision_function_shape=ovo, svc__gamma=0.1, svc__kernel=rbf;, score=0.281 total time=   0.3s\n",
      "[CV 1/2] END svc__C=0.1, svc__decision_function_shape=ovo, svc__gamma=1.0, svc__kernel=rbf;, score=0.281 total time=   0.3s\n",
      "[CV 2/2] END svc__C=0.1, svc__decision_function_shape=ovo, svc__gamma=1.0, svc__kernel=rbf;, score=0.281 total time=   0.3s\n",
      "[CV 1/2] END svc__C=0.1, svc__decision_function_shape=ovo, svc__gamma=10.0, svc__kernel=rbf;, score=0.281 total time=   0.3s\n",
      "[CV 2/2] END svc__C=0.1, svc__decision_function_shape=ovo, svc__gamma=10.0, svc__kernel=rbf;, score=0.281 total time=   0.3s\n",
      "[CV 1/2] END svc__C=0.1, svc__decision_function_shape=ovo, svc__gamma=100.0, svc__kernel=rbf;, score=0.281 total time=   0.3s\n",
      "[CV 2/2] END svc__C=0.1, svc__decision_function_shape=ovo, svc__gamma=100.0, svc__kernel=rbf;, score=0.281 total time=   0.3s\n",
      "[CV 1/2] END svc__C=1.0, svc__decision_function_shape=ovo, svc__gamma=0.001, svc__kernel=rbf;, score=0.606 total time=   0.2s\n",
      "[CV 2/2] END svc__C=1.0, svc__decision_function_shape=ovo, svc__gamma=0.001, svc__kernel=rbf;, score=0.586 total time=   0.2s\n",
      "[CV 1/2] END svc__C=1.0, svc__decision_function_shape=ovo, svc__gamma=0.01, svc__kernel=rbf;, score=0.614 total time=   0.3s\n",
      "[CV 2/2] END svc__C=1.0, svc__decision_function_shape=ovo, svc__gamma=0.01, svc__kernel=rbf;, score=0.625 total time=   0.3s\n",
      "[CV 1/2] END svc__C=1.0, svc__decision_function_shape=ovo, svc__gamma=0.1, svc__kernel=rbf;, score=0.303 total time=   0.3s\n",
      "[CV 2/2] END svc__C=1.0, svc__decision_function_shape=ovo, svc__gamma=0.1, svc__kernel=rbf;, score=0.303 total time=   0.3s\n",
      "[CV 1/2] END svc__C=1.0, svc__decision_function_shape=ovo, svc__gamma=1.0, svc__kernel=rbf;, score=0.290 total time=   0.3s\n",
      "[CV 2/2] END svc__C=1.0, svc__decision_function_shape=ovo, svc__gamma=1.0, svc__kernel=rbf;, score=0.288 total time=   0.3s\n",
      "[CV 1/2] END svc__C=1.0, svc__decision_function_shape=ovo, svc__gamma=10.0, svc__kernel=rbf;, score=0.287 total time=   0.3s\n",
      "[CV 2/2] END svc__C=1.0, svc__decision_function_shape=ovo, svc__gamma=10.0, svc__kernel=rbf;, score=0.285 total time=   0.3s\n",
      "[CV 1/2] END svc__C=10.0, svc__decision_function_shape=ovo, svc__gamma=0.001, svc__kernel=rbf;, score=0.675 total time=   0.2s\n",
      "[CV 2/2] END svc__C=10.0, svc__decision_function_shape=ovo, svc__gamma=0.001, svc__kernel=rbf;, score=0.673 total time=   0.2s\n",
      "[CV 1/2] END svc__C=1.0, svc__decision_function_shape=ovo, svc__gamma=100.0, svc__kernel=rbf;, score=0.287 total time=   0.3s\n",
      "[CV 2/2] END svc__C=1.0, svc__decision_function_shape=ovo, svc__gamma=100.0, svc__kernel=rbf;, score=0.285 total time=   0.3s\n",
      "[CV 1/2] END svc__C=10.0, svc__decision_function_shape=ovo, svc__gamma=0.01, svc__kernel=rbf;, score=0.651 total time=   0.3s\n",
      "[CV 2/2] END svc__C=10.0, svc__decision_function_shape=ovo, svc__gamma=0.01, svc__kernel=rbf;, score=0.658 total time=   0.3s\n",
      "[CV 1/2] END svc__C=10.0, svc__decision_function_shape=ovo, svc__gamma=0.1, svc__kernel=rbf;, score=0.315 total time=   0.3s\n",
      "[CV 2/2] END svc__C=10.0, svc__decision_function_shape=ovo, svc__gamma=0.1, svc__kernel=rbf;, score=0.319 total time=   0.3s\n",
      "[CV 1/2] END svc__C=10.0, svc__decision_function_shape=ovo, svc__gamma=1.0, svc__kernel=rbf;, score=0.291 total time=   0.3s\n",
      "[CV 2/2] END svc__C=10.0, svc__decision_function_shape=ovo, svc__gamma=1.0, svc__kernel=rbf;, score=0.290 total time=   0.3s\n",
      "[CV 1/2] END svc__C=10.0, svc__decision_function_shape=ovo, svc__gamma=10.0, svc__kernel=rbf;, score=0.287 total time=   0.3s\n",
      "[CV 2/2] END svc__C=10.0, svc__decision_function_shape=ovo, svc__gamma=10.0, svc__kernel=rbf;, score=0.285 total time=   0.3s\n",
      "[CV 1/2] END svc__C=100.0, svc__decision_function_shape=ovo, svc__gamma=0.001, svc__kernel=rbf;, score=0.679 total time=   0.2s\n",
      "[CV 2/2] END svc__C=100.0, svc__decision_function_shape=ovo, svc__gamma=0.001, svc__kernel=rbf;, score=0.671 total time=   0.2s\n",
      "[CV 1/2] END svc__C=10.0, svc__decision_function_shape=ovo, svc__gamma=100.0, svc__kernel=rbf;, score=0.287 total time=   0.3s\n",
      "[CV 2/2] END svc__C=10.0, svc__decision_function_shape=ovo, svc__gamma=100.0, svc__kernel=rbf;, score=0.285 total time=   0.3s\n",
      "[CV 1/2] END svc__C=100.0, svc__decision_function_shape=ovo, svc__gamma=0.01, svc__kernel=rbf;, score=0.651 total time=   0.3s\n",
      "[CV 2/2] END svc__C=100.0, svc__decision_function_shape=ovo, svc__gamma=0.01, svc__kernel=rbf;, score=0.658 total time=   0.3s\n",
      "[CV 1/2] END svc__C=100.0, svc__decision_function_shape=ovo, svc__gamma=0.1, svc__kernel=rbf;, score=0.315 total time=   0.3s\n",
      "[CV 2/2] END svc__C=100.0, svc__decision_function_shape=ovo, svc__gamma=0.1, svc__kernel=rbf;, score=0.319 total time=   0.3s\n",
      "[CV 1/2] END svc__C=100.0, svc__decision_function_shape=ovo, svc__gamma=1.0, svc__kernel=rbf;, score=0.291 total time=   0.3s\n",
      "[CV 2/2] END svc__C=100.0, svc__decision_function_shape=ovo, svc__gamma=1.0, svc__kernel=rbf;, score=0.290 total time=   0.3s\n",
      "[CV 1/2] END svc__C=100.0, svc__decision_function_shape=ovo, svc__gamma=10.0, svc__kernel=rbf;, score=0.287 total time=   0.3s\n",
      "[CV 2/2] END svc__C=100.0, svc__decision_function_shape=ovo, svc__gamma=10.0, svc__kernel=rbf;, score=0.285 total time=   0.3s\n",
      "[CV 1/2] END svc__C=100.0, svc__decision_function_shape=ovo, svc__gamma=100.0, svc__kernel=rbf;, score=0.287 total time=   0.3s\n",
      "[CV 2/2] END svc__C=100.0, svc__decision_function_shape=ovo, svc__gamma=100.0, svc__kernel=rbf;, score=0.285 total time=   0.3s\n",
      "ION = multi\n",
      "Accuracy = 0.74\n",
      "AUC ( Micro ) = 0.86\n",
      "Recall ( Micro ) = 0.74\n",
      "F1 ( Micro ) = 0.74\n",
      "Precision ( Micro ) = 0.74\n",
      "AUC ( Macro ) = 0.67\n",
      "Recall ( Macro ) = 0.36\n",
      "F1 ( Macro ) = 0.38\n",
      "Precision ( Macro ) = 0.42\n"
     ]
    }
   ],
   "source": [
    "num_prot = 1000\n",
    "train_dat = calculate_window(0,num_prot,bindlist)\n",
    "train_X,train_Y = preproc_data(train_dat)\n",
    "check_windowdata(train_X)\n",
    "train_X,train_Y = filter_traindata(train_X,train_Y)\n",
    "flatten_trainX = flatten_Xdata(train_X)\n",
    "trainX, testX, trainy, testy = train_test_split(flatten_trainX,train_Y,test_size=0.4,shuffle = True)\n",
    "\n",
    "X = trainX ; y = trainy\n",
    "\n",
    "pipe_svc = make_pipeline(StandardScaler(),SVC(random_state=9510))\n",
    "\n",
    "# param_range = [0.0001, 0.001, 0.01, 0.1, 1.0, 10.0, 100.0, 1000.0]\n",
    "param_range = [0.001, 0.01, 0.1, 1.0, 10.0, 100.0]\n",
    "# {'svc__C': param_range, \n",
    "#             'svc__kernel': ['linear'],\n",
    "#             'svc__decision_function_shape':['ovo']},\n",
    "param_grid = [{'svc__C': param_range, \n",
    "            'svc__gamma': param_range,\n",
    "            'svc__kernel': ['rbf'],\n",
    "            'svc__decision_function_shape':['ovo']}]\n",
    "\n",
    "gs = GridSearchCV(estimator=pipe_svc, \n",
    "                param_grid=param_grid, \n",
    "                scoring='accuracy', \n",
    "                cv=2,\n",
    "                n_jobs=4,verbose=3)\n",
    "gs = gs.fit(X, y)\n",
    "acc,auc,recall,f1,prec,auc_mac,recall_mac,f1_mac,prec_mac = get_MLmetrics_multilabel(testy,testX,gs,'multi')"
   ]
  }
 ],
 "metadata": {
  "kernelspec": {
   "display_name": "Python 3.10.6 ('sklearn')",
   "language": "python",
   "name": "python3"
  },
  "language_info": {
   "codemirror_mode": {
    "name": "ipython",
    "version": 3
   },
   "file_extension": ".py",
   "mimetype": "text/x-python",
   "name": "python",
   "nbconvert_exporter": "python",
   "pygments_lexer": "ipython3",
   "version": "3.10.6"
  },
  "orig_nbformat": 4,
  "vscode": {
   "interpreter": {
    "hash": "9ca674affdede15e4a6394b48f5e33f7f932c70ec65fc4d25734b56c029e94fd"
   }
  }
 },
 "nbformat": 4,
 "nbformat_minor": 2
}
