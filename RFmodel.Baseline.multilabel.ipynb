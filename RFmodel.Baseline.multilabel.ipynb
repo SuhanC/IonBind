{
 "cells": [
  {
   "cell_type": "code",
   "execution_count": 2,
   "metadata": {},
   "outputs": [],
   "source": [
    "from preproc_utils import *\n",
    "from Get_PSSM import *\n",
    "from Get_dataset import *\n",
    "import os\n",
    "from tqdm import tqdm\n",
    "import warnings\n",
    "warnings.filterwarnings('ignore')\n",
    "from sklearn.model_selection import train_test_split\n",
    "from sklearn.metrics import accuracy_score, precision_score, recall_score, roc_auc_score,f1_score\n",
    "\n",
    "chebi = pd.read_table('/Users/suhancho/data/Uniprot_metalbinding_challenge/POS_TRAIN_FULL.tsv')\n",
    "inpath = '/Users/suhancho/data/Uniprot_metalbinding_challenge/chebi/'\n",
    "bind_tsv_list = [inpath + f for f in os.listdir(inpath)]\n",
    "pssm_path = '/Users/suhancho/data/Uniprot_metalbinding_challenge/PSSM/'\n",
    "pssm_files = [pssm_path+f for f in os.listdir(pssm_path)]\n",
    "bindlist = pd.concat([pd.read_table(f) for f in bind_tsv_list])\n",
    "low_labels = [l.replace(' ','') for l in bindlist.Name.value_counts().index[bindlist.Name.value_counts()<1000]]"
   ]
  },
  {
   "cell_type": "code",
   "execution_count": 3,
   "metadata": {},
   "outputs": [],
   "source": [
    "bindlist['Name'] = pd.Categorical(bindlist.Name)\n",
    "bindlist['Target'] = bindlist.Name.cat.codes"
   ]
  },
  {
   "cell_type": "code",
   "execution_count": 4,
   "metadata": {},
   "outputs": [],
   "source": [
    "def calculate_window(num_inspections,bs_df):\n",
    "    train_dat=[]\n",
    "    for i,pssm in tqdm(enumerate(pssm_files[0:num_inspections])):\n",
    "        bs = get_binding_site_multi(bs_df,pssm.split('/')[-1].split('.')[0])\n",
    "        gt = get_dataset_padded_multi(get_processed_pssm(pssm),bs)\n",
    "        for g in gt : \n",
    "            train_dat.append([g[0].values.tolist(),g[1]])\n",
    "            \n",
    "    return(train_dat)"
   ]
  },
  {
   "cell_type": "code",
   "execution_count": 5,
   "metadata": {},
   "outputs": [],
   "source": [
    "def preproc_data(windowdata):\n",
    "    train_X = [dat[0] for dat in windowdata]\n",
    "    train_Y = [dat[1] for dat in windowdata]\n",
    "    print('Size of dataset : '+str(len(train_X)))\n",
    "    return(train_X,train_Y)"
   ]
  },
  {
   "cell_type": "code",
   "execution_count": 6,
   "metadata": {},
   "outputs": [],
   "source": [
    "import seaborn as sns\n",
    "import matplotlib.pyplot as plt\n",
    "def check_windowdata(traindata):\n",
    "    sns.histplot([len(t) for t in traindata])\n",
    "    plt.show()"
   ]
  },
  {
   "cell_type": "code",
   "execution_count": 7,
   "metadata": {},
   "outputs": [],
   "source": [
    "def filter_traindata(Xdata,Ydata):\n",
    "    train_X_filtered = [Xdata[i] for i in range(len(Xdata)) if len(Xdata[i])==9]\n",
    "    train_Y_filtered = [Ydata[i] for i in range(len(Xdata)) if len(Xdata[i])==9]\n",
    "    return(train_X_filtered,train_Y_filtered)  "
   ]
  },
  {
   "cell_type": "code",
   "execution_count": 8,
   "metadata": {},
   "outputs": [],
   "source": [
    "from itertools import chain\n",
    "def flatten_Xdata(filtered_X):\n",
    "    flatten_trainX = [list(chain.from_iterable(lst)) for lst in filtered_X]\n",
    "    return(flatten_trainX)"
   ]
  },
  {
   "cell_type": "code",
   "execution_count": 9,
   "metadata": {},
   "outputs": [],
   "source": [
    "def get_MLmetrics(testset_y,testset_X,classifier,ion_name):\n",
    "    auc = roc_auc_score(testset_y,list(classifier.predict(testset_X)))\n",
    "    acc = accuracy_score(testset_y,list(classifier.predict(testset_X)))\n",
    "    recall = recall_score(testset_y,list(classifier.predict(testset_X)))\n",
    "    f1 = f1_score(testset_y,list(classifier.predict(testset_X)))\n",
    "    prec = precision_score(testset_y,list(classifier.predict(testset_X)))\n",
    "    print('ION = '+ion_name)\n",
    "    print('\\nAUC = '+str(round(auc,2)))\n",
    "    print('\\nAccuracy = '+str(round(acc,2)))\n",
    "    print('\\nRecall = '+str(round(recall,2)))\n",
    "    print('\\nF1 = '+str(round(f1,2)))\n",
    "    print('Precision = '+str(round(prec,2)))\n",
    "    return(auc,acc,recall,f1,prec)"
   ]
  },
  {
   "cell_type": "code",
   "execution_count": 10,
   "metadata": {},
   "outputs": [],
   "source": [
    "def balance_classes(traindata,fold):\n",
    "    label1 = [traindata[i] for i in range(len(traindata)) if traindata[i][1]==1]\n",
    "    label0 = [traindata[i] for i in range(len(traindata)) if traindata[i][1]==0]\n",
    "    balanced0 = random.sample(label0,len(label1)*fold)\n",
    "    return(balanced0+label1)"
   ]
  },
  {
   "cell_type": "code",
   "execution_count": 11,
   "metadata": {},
   "outputs": [],
   "source": [
    "from sklearn.model_selection import GridSearchCV\n",
    "from sklearn.svm import SVC\n",
    "from sklearn.pipeline import make_pipeline\n",
    "from sklearn.preprocessing import StandardScaler\n"
   ]
  },
  {
   "cell_type": "code",
   "execution_count": 15,
   "metadata": {},
   "outputs": [],
   "source": [
    "iter = 10000\n",
    "train_dat = calculate_window(iter,bindlist)\n",
    "# train_dat = balance_classes(train_dat,3)\n",
    "train_X,train_Y = preproc_data(train_dat)\n",
    "check_windowdata(train_X)\n",
    "train_X,train_Y = filter_traindata(train_X,train_Y)\n",
    "flatten_trainX = flatten_Xdata(train_X)\n",
    "trainX, testX, trainy, testy = train_test_split(flatten_trainX,train_Y,test_size=0.4,shuffle = True)#,stratify=train_Y)\n",
    "\n",
    "X = trainX ; y = trainy\n",
    "\n",
    "pipe_svc = make_pipeline(StandardScaler(),SVC(random_state=9510))\n",
    "\n",
    "param_range = [0.0001, 0.001, 0.01, 0.1, 1.0, 10.0, 100.0, 1000.0]\n",
    "\n",
    "param_grid = [{'svc__C': param_range, \n",
    "            'svc__kernel': ['linear']},\n",
    "            {'svc__C': param_range, \n",
    "            'svc__gamma': param_range, \n",
    "            'svc__kernel': ['rbf']}]\n",
    "\n",
    "gs = GridSearchCV(estimator=pipe_svc, \n",
    "                param_grid=param_grid, \n",
    "                scoring='accuracy', \n",
    "                cv=3,\n",
    "                n_jobs=-1)\n",
    "gs = gs.fit(X, y)\n",
    "auc,acc,f1,recall,prec = get_MLmetrics(testy,testX,gs,'multi')"
   ]
  },
  {
   "cell_type": "code",
   "execution_count": null,
   "metadata": {},
   "outputs": [],
   "source": []
  }
 ],
 "metadata": {
  "kernelspec": {
   "display_name": "Python 3.10.6 ('sklearn')",
   "language": "python",
   "name": "python3"
  },
  "language_info": {
   "codemirror_mode": {
    "name": "ipython",
    "version": 3
   },
   "file_extension": ".py",
   "mimetype": "text/x-python",
   "name": "python",
   "nbconvert_exporter": "python",
   "pygments_lexer": "ipython3",
   "version": "3.10.6"
  },
  "orig_nbformat": 4,
  "vscode": {
   "interpreter": {
    "hash": "9ca674affdede15e4a6394b48f5e33f7f932c70ec65fc4d25734b56c029e94fd"
   }
  }
 },
 "nbformat": 4,
 "nbformat_minor": 2
}
