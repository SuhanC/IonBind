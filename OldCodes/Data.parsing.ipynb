{
 "cells": [
  {
   "cell_type": "code",
   "execution_count": 3,
   "metadata": {},
   "outputs": [],
   "source": [
    "import pandas as pd\n",
    "import numpy as np\n",
    "import os\n",
    "import seaborn as sns"
   ]
  },
  {
   "cell_type": "code",
   "execution_count": 4,
   "metadata": {},
   "outputs": [],
   "source": [
    "datpath = '/Users/suhancho/data/Uniprot_metalbinding_challenge/'"
   ]
  },
  {
   "cell_type": "code",
   "execution_count": 5,
   "metadata": {},
   "outputs": [
    {
     "data": {
      "text/plain": [
       "['POS_TRAIN.fasta',\n",
       " '.DS_Store',\n",
       " 'NEG_TRAIN.fasta',\n",
       " 'neg_sequence',\n",
       " 'pos_sequence',\n",
       " 'POS_TRAIN_FULL.fasta',\n",
       " 'POS_TRAIN_FULL.tsv',\n",
       " 'POS_TRAIN.tsv',\n",
       " 'ChEBI-IDs_for_metal_binding.tsv',\n",
       " 'test-dataset.fasta',\n",
       " 'UniProt Metal Binding Site Challenge.docx',\n",
       " 'wget-log']"
      ]
     },
     "execution_count": 5,
     "metadata": {},
     "output_type": "execute_result"
    }
   ],
   "source": [
    "os.listdir(datpath)"
   ]
  },
  {
   "cell_type": "code",
   "execution_count": 65,
   "metadata": {},
   "outputs": [],
   "source": [
    "def getdata(datpath):\n",
    "    train_pos = pd.read_table(datpath+'POS_TRAIN_FULL.tsv')\n",
    "    chebi = pd.read_table(datpath+'ChEBI-IDs_for_metal_binding.tsv')\n",
    "    return(train_pos,chebi)"
   ]
  },
  {
   "cell_type": "code",
   "execution_count": 66,
   "metadata": {},
   "outputs": [],
   "source": [
    "train_pos,chebi = getdata(datpath)"
   ]
  },
  {
   "cell_type": "code",
   "execution_count": 8,
   "metadata": {},
   "outputs": [],
   "source": [
    "def save_separate_fasta(my_file,outpath):\n",
    "    header = ''\n",
    "    with open(my_file, 'r') as my_gpcr:\n",
    "        for line in my_gpcr:\n",
    "            if line.startswith('>'):\n",
    "                if header:\n",
    "                    tempf.close()\n",
    "                    print()\n",
    "                header = line.split('|')[1]\n",
    "                tempf = open(outpath+header+'.fasta', 'w')\n",
    "            else:\n",
    "                tempf.write(line.strip())\n",
    "    return 0"
   ]
  },
  {
   "cell_type": "code",
   "execution_count": 9,
   "metadata": {},
   "outputs": [],
   "source": [
    "def get_separate_fasta_length(my_file):\n",
    "    header = ''\n",
    "    len_seq =[]\n",
    "\n",
    "    with open(my_file, 'r') as my_gpcr:\n",
    "        for line in my_gpcr:\n",
    "            tempf=''\n",
    "            if line.startswith('>'):\n",
    "                if header:\n",
    "                    pass\n",
    "                header = line.split('|')[1]\n",
    "            else:\n",
    "                tempf+=line.strip()\n",
    "            \n",
    "            len_seq.append([header,len(tempf)])\n",
    "    len_seq = pd.DataFrame(len_seq)\n",
    "    len_seq.columns = ['Accession','Length']\n",
    "    len_seq = len_seq.groupby('Accession').sum().reset_index()\n",
    "    len_seq = len_seq.sort_values('Length').reset_index(drop = True)\n",
    "    return (len_seq)"
   ]
  },
  {
   "cell_type": "code",
   "execution_count": 10,
   "metadata": {},
   "outputs": [],
   "source": [
    "# pos = get_separate_fasta_length(datpath+'POS_TRAIN_FULL.fasta')"
   ]
  },
  {
   "cell_type": "code",
   "execution_count": 12,
   "metadata": {},
   "outputs": [],
   "source": [
    "# my_file = datpath+'NEG_TRAIN.fasta'\n",
    "# outpath = datpath+'/neg_sequence/'\n",
    "# save_separate_fasta(my_file,outpath)   \n",
    "# my_file = datpath+'POS_TRAIN_FULL.fasta'\n",
    "# outpath = datpath+'/pos_sequence/'\n",
    "# save_separate_fasta(my_file,outpath)   "
   ]
  }
 ],
 "metadata": {
  "kernelspec": {
   "display_name": "Python 3.9.13 ('base')",
   "language": "python",
   "name": "python3"
  },
  "language_info": {
   "codemirror_mode": {
    "name": "ipython",
    "version": 3
   },
   "file_extension": ".py",
   "mimetype": "text/x-python",
   "name": "python",
   "nbconvert_exporter": "python",
   "pygments_lexer": "ipython3",
   "version": "3.9.13"
  },
  "orig_nbformat": 4,
  "vscode": {
   "interpreter": {
    "hash": "ee267b7c4590c1a749889590dc3d70c900280592ba44a2100f93954512298989"
   }
  }
 },
 "nbformat": 4,
 "nbformat_minor": 2
}
