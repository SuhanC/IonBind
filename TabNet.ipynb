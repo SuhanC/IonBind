{
 "cells": [
  {
   "cell_type": "code",
   "execution_count": 3,
   "metadata": {},
   "outputs": [],
   "source": [
    "import os\n",
    "import numpy as np\n",
    "import pandas as pd\n",
    "from sklearn.metrics import roc_auc_score\n",
    "from sklearn.preprocessing import LabelEncoder\n",
    "from matplotlib import pyplot as plt\n",
    "from torch.utils.data import DataLoader, Dataset\n",
    "import torch.nn.functional as F\n",
    "\n",
    "import torch\n",
    "import torch.nn as nn\n",
    "from pytorch_tabnet.tab_model import TabNetClassifier"
   ]
  },
  {
   "cell_type": "code",
   "execution_count": 4,
   "metadata": {},
   "outputs": [],
   "source": [
    "class PSSMDataset(torch.utils.data.Dataset):\n",
    "    def __init__(self,pssm_in,label_in):\n",
    "        self.pssm_lst = sorted(os.listdir(pssm_in))\n",
    "        self.pssm_files = [pssm_in+f for f in self.pssm_lst]\n",
    "        self.label_files = [label_in+f.split('.')[0]+'.label.txt' for f in self.pssm_lst]\n",
    "    def __len__(self):\n",
    "        return len(self.label_files)\n",
    "    def __getitem__(self, idx):\n",
    "        self.pssm_tensor = torch.tensor(pd.read_table(self.pssm_files[idx],index_col=0).astype(float).values)\n",
    "        self.label_tensor = torch.tensor(list(map(int,open(self.label_files[idx],'r').readlines()[0].split(','))))\n",
    "        return self.pssm_tensor, self.label_tensor\n",
    "\n",
    "def my_collate(batch):\n",
    "    data = [item[0] for item in batch]\n",
    "    target = [item[1] for item in batch]\n",
    "    dim_data = [d.size()[0] for d in data]\n",
    "    max_seqlen = max(dim_data)\n",
    "    data_transformed = [F.pad(d.T,(0,int(max_seqlen - d.size()[0])),'constant',0.0).T if d.size()[0]!=max_seqlen else d for d in data]\n",
    "    target_transformed = [F.pad(d,(0,int(max_seqlen - d.size()[0])),'constant',0.0) if d.size()[0]!=max_seqlen else d for d in target]\n",
    "    return [data_transformed, target_transformed]\n",
    "\n",
    "pssminpath = '/Users/suhancho/data/Uniprot_metalbinding_challenge/processed_pssm/'\n",
    "labelinpath = '/Users/suhancho/data/Uniprot_metalbinding_challenge/processed_label/'\n",
    "train_ds = PSSMDataset(pssminpath,labelinpath)\n",
    "train_dl = DataLoader(train_ds,batch_size = 4,shuffle = True,collate_fn=my_collate)\n",
    "\n"
   ]
  },
  {
   "cell_type": "code",
   "execution_count": 5,
   "metadata": {},
   "outputs": [
    {
     "name": "stderr",
     "output_type": "stream",
     "text": [
      "/Users/suhancho/miniforge3/envs/pytorch/lib/python3.10/site-packages/pytorch_tabnet/abstract_model.py:75: UserWarning: Device used : cpu\n",
      "  warnings.warn(f\"Device used : {self.device}\")\n"
     ]
    }
   ],
   "source": [
    "clf = TabNetClassifier(cat_emb_dim=10,\n",
    "                       optimizer_fn=torch.optim.Adam,\n",
    "                       optimizer_params=dict(lr=1e-2),\n",
    "                       scheduler_params={\"step_size\":50,\n",
    "                                         \"gamma\":0.9},\n",
    "                       scheduler_fn=torch.optim.lr_scheduler.StepLR,\n",
    "                       mask_type='sparsemax' # \"sparsemax\", entmax\n",
    "                      )"
   ]
  },
  {
   "cell_type": "code",
   "execution_count": null,
   "metadata": {},
   "outputs": [],
   "source": [
    "max_epochs = 15\n",
    "\n",
    "clf.fit(\n",
    "    X_train=X_train, y_train=y_train,\n",
    "    eval_set=[(X_train, y_train), (X_valid, y_valid)],\n",
    "    eval_name=['train', 'valid'],\n",
    "    eval_metric=['auc'],\n",
    "    max_epochs=max_epochs , patience=20,\n",
    "    batch_size=1024, virtual_batch_size=128,\n",
    "    num_workers=0,\n",
    "    weights=1,\n",
    "    drop_last=False,\n",
    ")"
   ]
  }
 ],
 "metadata": {
  "kernelspec": {
   "display_name": "Python 3.10.4 ('pytorch')",
   "language": "python",
   "name": "python3"
  },
  "language_info": {
   "codemirror_mode": {
    "name": "ipython",
    "version": 3
   },
   "file_extension": ".py",
   "mimetype": "text/x-python",
   "name": "python",
   "nbconvert_exporter": "python",
   "pygments_lexer": "ipython3",
   "version": "3.10.4"
  },
  "orig_nbformat": 4,
  "vscode": {
   "interpreter": {
    "hash": "d9d86feb0499a0b58932a2305ba04f997e477cb03dd1b79441914e4f34b762fa"
   }
  }
 },
 "nbformat": 4,
 "nbformat_minor": 2
}
