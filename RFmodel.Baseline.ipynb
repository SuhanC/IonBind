{
 "cells": [
  {
   "cell_type": "code",
   "execution_count": 1,
   "metadata": {},
   "outputs": [],
   "source": [
    "from preproc_utils import *\n",
    "from Get_PSSM import *\n",
    "from Get_dataset import *\n",
    "import os\n",
    "from tqdm import tqdm\n",
    "import warnings\n",
    "warnings.filterwarnings('ignore')\n",
    "chebi = pd.read_table('/Users/suhancho/data/Uniprot_metalbinding_challenge/POS_TRAIN_FULL.tsv')\n",
    "inpath = '/Users/suhancho/data/Uniprot_metalbinding_challenge/chebi/'\n",
    "bind_tsv_list = [inpath + f for f in os.listdir(inpath)]\n",
    "pssm_path = '/Users/suhancho/data/Uniprot_metalbinding_challenge/PSSM/'\n",
    "pssm_files = [pssm_path+f for f in os.listdir(pssm_path)]"
   ]
  },
  {
   "cell_type": "code",
   "execution_count": 2,
   "metadata": {},
   "outputs": [],
   "source": [
    "def calculate_window(num_inspections,bs_idx):\n",
    "    train_dat=[]\n",
    "    for i,pssm in tqdm(enumerate(pssm_files[0:num_inspections])):\n",
    "        ion_file =bind_tsv_list[bs_idx] # bs_idx : 0~29\n",
    "        ion_name = ion_file.split('/')[-1].split('.')[0]\n",
    "        bs = get_binding_site(ion_file,pssm.split('/')[-1].split('.')[0])\n",
    "        try : \n",
    "            if len(bs)!=0:\n",
    "                # gt,fs = get_dataset(get_processed_pssm(pssm),bs)\n",
    "                gt,fs = get_dataset_padded(get_processed_pssm(pssm),bs)\n",
    "                # print(\"Number of positive windows:\"+str(len(gt))+'\\n'+\n",
    "                #       \"Number of negative windows:\"+str(len(fs)))\n",
    "                for g in gt : \n",
    "                    train_dat.append([g.values.tolist(),1])\n",
    "                for f in fs : \n",
    "                    train_dat.append([f.values.tolist(),0])\n",
    "        except:\n",
    "            print(pssm)\n",
    "\n",
    "    return(train_dat,ion_name)"
   ]
  },
  {
   "cell_type": "code",
   "execution_count": 3,
   "metadata": {},
   "outputs": [],
   "source": [
    "def preproc_data(windowdata):\n",
    "    train_X = [dat[0] for dat in windowdata]\n",
    "    train_Y = [dat[1] for dat in windowdata]\n",
    "    print('Size of dataset : '+str(len(train_X)))\n",
    "    return(train_X,train_Y)"
   ]
  },
  {
   "cell_type": "code",
   "execution_count": 4,
   "metadata": {},
   "outputs": [],
   "source": [
    "import seaborn as sns\n",
    "import matplotlib.pyplot as plt\n",
    "def check_windowdata(traindata):\n",
    "    sns.histplot([len(t) for t in traindata])\n",
    "    plt.show()\n",
    "\n"
   ]
  },
  {
   "cell_type": "code",
   "execution_count": 5,
   "metadata": {},
   "outputs": [],
   "source": [
    "def filter_traindata(Xdata,Ydata):\n",
    "    train_X_filtered = [Xdata[i] for i in range(len(Xdata)) if len(Xdata[i])==9]\n",
    "    train_Y_filtered = [Ydata[i] for i in range(len(Xdata)) if len(Xdata[i])==9]\n",
    "    return(train_X_filtered,train_Y_filtered)  "
   ]
  },
  {
   "cell_type": "code",
   "execution_count": 6,
   "metadata": {},
   "outputs": [],
   "source": [
    "from itertools import chain\n",
    "def flatten_Xdata(filtered_X):\n",
    "    flatten_trainX = [list(chain.from_iterable(lst)) for lst in filtered_X]\n",
    "    return(flatten_trainX)"
   ]
  },
  {
   "cell_type": "code",
   "execution_count": 7,
   "metadata": {},
   "outputs": [],
   "source": [
    "from sklearn.model_selection import train_test_split"
   ]
  },
  {
   "cell_type": "code",
   "execution_count": 8,
   "metadata": {},
   "outputs": [],
   "source": [
    "from sklearn.metrics import accuracy_score, precision_score, recall_score, roc_auc_score,f1_score\n",
    "def get_MLmetrics(testset_y,testset_X,classifier,ion_name):\n",
    "    auc = roc_auc_score(testset_y,list(classifier.predict(testset_X)))\n",
    "    acc = accuracy_score(testset_y,list(classifier.predict(testset_X)))\n",
    "    recall = recall_score(testset_y,list(classifier.predict(testset_X)))\n",
    "    f1 = f1_score(testset_y,list(classifier.predict(testset_X)))\n",
    "    prec = precision_score(testset_y,list(classifier.predict(testset_X)))\n",
    "    print('ION = '+ion_name)\n",
    "    print('\\nAUC = '+str(round(auc,2)))\n",
    "    print('\\nAccuracy = '+str(round(acc,2)))\n",
    "    print('\\nRecall = '+str(round(recall,2)))\n",
    "    print('\\nF1 = '+str(round(f1,2)))\n",
    "    print('Precision = '+str(round(prec,2)))\n",
    "    return(0)"
   ]
  },
  {
   "cell_type": "code",
   "execution_count": 9,
   "metadata": {},
   "outputs": [],
   "source": [
    "def balance_classes(traindata,fold):\n",
    "    label1 = [traindata[i] for i in range(len(traindata)) if traindata[i][1]==1]\n",
    "    label0 = [traindata[i] for i in range(len(traindata)) if traindata[i][1]==0]\n",
    "    balanced0 = random.sample(label0,len(label1)*fold)\n",
    "    return(balanced0+label1)"
   ]
  },
  {
   "cell_type": "code",
   "execution_count": 12,
   "metadata": {},
   "outputs": [
    {
     "name": "stderr",
     "output_type": "stream",
     "text": [
      "900it [00:18, 49.19it/s]\n"
     ]
    },
    {
     "name": "stdout",
     "output_type": "stream",
     "text": [
      "Size of dataset : 177\n"
     ]
    },
    {
     "data": {
      "image/png": "[encoded data removed]",
      "text/plain": [
       "<Figure size 640x480 with 1 Axes>"
      ]
     },
     "metadata": {},
     "output_type": "display_data"
    },
    {
     "name": "stdout",
     "output_type": "stream",
     "text": [
      "ION = Mn(2+)\n",
      "\n",
      "AUC = 0.81\n",
      "\n",
      "Accuracy = 0.87\n",
      "\n",
      "Recall = 0.62\n",
      "\n",
      "F1 = 0.77\n",
      "Precision = 1.0\n"
     ]
    },
    {
     "data": {
      "text/plain": [
       "0"
      ]
     },
     "execution_count": 12,
     "metadata": {},
     "output_type": "execute_result"
    }
   ],
   "source": [
    "train_dat,ion = calculate_window(900,20)\n",
    "train_dat = balance_classes(train_dat,2)\n",
    "train_X,train_Y = preproc_data(train_dat)\n",
    "check_windowdata(train_X)\n",
    "flatten_trainX = flatten_Xdata(train_X)\n",
    "trainX, testX, trainy, testy = train_test_split(flatten_trainX,train_Y,test_size=0.4,shuffle = True,stratify=train_Y)\n",
    "from sklearn import svm\n",
    "X = trainX ; y = trainy\n",
    "clf = svm.SVC()\n",
    "clf.fit(X, y)\n",
    "get_MLmetrics(testy,testX,clf,ion)"
   ]
  },
  {
   "cell_type": "code",
   "execution_count": null,
   "metadata": {},
   "outputs": [
    {
     "data": {
      "text/plain": [
       "<AxesSubplot: ylabel='Count'>"
      ]
     },
     "execution_count": 26,
     "metadata": {},
     "output_type": "execute_result"
    },
    {
     "data": {
      "image/png": "[encoded data removed]",
      "text/plain": [
       "<Figure size 640x480 with 1 Axes>"
      ]
     },
     "metadata": {},
     "output_type": "display_data"
    }
   ],
   "source": [
    "sns.histplot(train_Y)"
   ]
  }
 ],
 "metadata": {
  "kernelspec": {
   "display_name": "Python 3.10.6 ('sklearn')",
   "language": "python",
   "name": "python3"
  },
  "language_info": {
   "codemirror_mode": {
    "name": "ipython",
    "version": 3
   },
   "file_extension": ".py",
   "mimetype": "text/x-python",
   "name": "python",
   "nbconvert_exporter": "python",
   "pygments_lexer": "ipython3",
   "version": "3.10.6"
  },
  "orig_nbformat": 4,
  "vscode": {
   "interpreter": {
    "hash": "9ca674affdede15e4a6394b48f5e33f7f932c70ec65fc4d25734b56c029e94fd"
   }
  }
 },
 "nbformat": 4,
 "nbformat_minor": 2
}
