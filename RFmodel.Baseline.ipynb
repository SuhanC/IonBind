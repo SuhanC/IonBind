{
 "cells": [
  {
   "cell_type": "code",
   "execution_count": 13,
   "metadata": {},
   "outputs": [],
   "source": [
    "from preproc_utils import *\n",
    "from Get_PSSM import *\n",
    "from Get_dataset import *\n",
    "import os\n",
    "from tqdm import tqdm\n",
    "import warnings\n",
    "warnings.filterwarnings('ignore')\n",
    "from sklearn.model_selection import train_test_split\n",
    "from sklearn.metrics import accuracy_score, precision_score, recall_score, roc_auc_score,f1_score\n",
    "\n",
    "chebi = pd.read_table('/Users/suhancho/data/Uniprot_metalbinding_challenge/POS_TRAIN_FULL.tsv')\n",
    "inpath = '/Users/suhancho/data/Uniprot_metalbinding_challenge/chebi/'\n",
    "bind_tsv_list = [inpath + f for f in os.listdir(inpath)]\n",
    "pssm_path = '/Users/suhancho/data/Uniprot_metalbinding_challenge/PSSM/'\n",
    "pssm_files = [pssm_path+f for f in os.listdir(pssm_path)]\n",
    "bindlist = pd.concat([pd.read_table(f) for f in bind_tsv_list])\n",
    "low_labels = [l.replace(' ','') for l in bindlist.Name.value_counts().index[bindlist.Name.value_counts()<1000]]"
   ]
  },
  {
   "cell_type": "code",
   "execution_count": 2,
   "metadata": {},
   "outputs": [],
   "source": [
    "def calculate_window(num_inspections,bs_idx):\n",
    "    train_dat=[]\n",
    "    for i,pssm in tqdm(enumerate(pssm_files[0:num_inspections])):\n",
    "        ion_file =bind_tsv_list[bs_idx] # bs_idx : 0~29\n",
    "        ion_name = ion_file.split('/')[-1].split('.')[0]\n",
    "        bs = get_binding_site(ion_file,pssm.split('/')[-1].split('.')[0])\n",
    "        try : \n",
    "            if len(bs)!=0:\n",
    "                # gt,fs = get_dataset(get_processed_pssm(pssm),bs)\n",
    "                gt,fs = get_dataset_padded(get_processed_pssm(pssm),bs)\n",
    "                # print(\"Number of positive windows:\"+str(len(gt))+'\\n'+\n",
    "                #       \"Number of negative windows:\"+str(len(fs)))\n",
    "                for g in gt : \n",
    "                    train_dat.append([g.values.tolist(),1])\n",
    "                for f in fs : \n",
    "                    train_dat.append([f.values.tolist(),0])\n",
    "        except:\n",
    "            print(pssm)\n",
    "\n",
    "    return(train_dat,ion_name)"
   ]
  },
  {
   "cell_type": "code",
   "execution_count": 3,
   "metadata": {},
   "outputs": [],
   "source": [
    "def preproc_data(windowdata):\n",
    "    train_X = [dat[0] for dat in windowdata]\n",
    "    train_Y = [dat[1] for dat in windowdata]\n",
    "    print('Size of dataset : '+str(len(train_X)))\n",
    "    return(train_X,train_Y)"
   ]
  },
  {
   "cell_type": "code",
   "execution_count": 4,
   "metadata": {},
   "outputs": [],
   "source": [
    "import seaborn as sns\n",
    "import matplotlib.pyplot as plt\n",
    "def check_windowdata(traindata):\n",
    "    sns.histplot([len(t) for t in traindata])\n",
    "    plt.show()\n",
    "\n"
   ]
  },
  {
   "cell_type": "code",
   "execution_count": 5,
   "metadata": {},
   "outputs": [],
   "source": [
    "def filter_traindata(Xdata,Ydata):\n",
    "    train_X_filtered = [Xdata[i] for i in range(len(Xdata)) if len(Xdata[i])==9]\n",
    "    train_Y_filtered = [Ydata[i] for i in range(len(Xdata)) if len(Xdata[i])==9]\n",
    "    return(train_X_filtered,train_Y_filtered)  "
   ]
  },
  {
   "cell_type": "code",
   "execution_count": 6,
   "metadata": {},
   "outputs": [],
   "source": [
    "from itertools import chain\n",
    "def flatten_Xdata(filtered_X):\n",
    "    flatten_trainX = [list(chain.from_iterable(lst)) for lst in filtered_X]\n",
    "    return(flatten_trainX)"
   ]
  },
  {
   "cell_type": "code",
   "execution_count": 42,
   "metadata": {},
   "outputs": [],
   "source": [
    "def balance_classes(traindata,fold):\n",
    "    label1 = [traindata[i] for i in range(len(traindata)) if traindata[i][1]==1]\n",
    "    label0 = [traindata[i] for i in range(len(traindata)) if traindata[i][1]==0]\n",
    "    balanced0 = random.sample(label0,len(label1)*fold)\n",
    "    return(balanced0+label1)"
   ]
  },
  {
   "cell_type": "code",
   "execution_count": 41,
   "metadata": {},
   "outputs": [],
   "source": [
    "def get_MLmetrics(testset_y,testset_X,classifier,ion_name):\n",
    "    auc = roc_auc_score(testset_y,list(classifier.predict(testset_X)))\n",
    "    acc = accuracy_score(testset_y,list(classifier.predict(testset_X)))\n",
    "    recall = recall_score(testset_y,list(classifier.predict(testset_X)))\n",
    "    f1 = f1_score(testset_y,list(classifier.predict(testset_X)))\n",
    "    prec = precision_score(testset_y,list(classifier.predict(testset_X)))\n",
    "    print('ION = '+ion_name)\n",
    "    print('\\nAUC = '+str(round(auc,2)))\n",
    "    print('\\nAccuracy = '+str(round(acc,2)))\n",
    "    print('\\nRecall = '+str(round(recall,2)))\n",
    "    print('\\nF1 = '+str(round(f1,2)))\n",
    "    print('Precision = '+str(round(prec,2)))\n",
    "    return(auc,acc,recall,f1,prec)"
   ]
  },
  {
   "cell_type": "code",
   "execution_count": 43,
   "metadata": {},
   "outputs": [],
   "source": [
    "from sklearn.model_selection import GridSearchCV\n",
    "from sklearn.svm import SVC\n",
    "from sklearn.pipeline import make_pipeline\n",
    "from sklearn.preprocessing import StandardScaler\n"
   ]
  },
  {
   "cell_type": "code",
   "execution_count": 64,
   "metadata": {},
   "outputs": [
    {
     "name": "stderr",
     "output_type": "stream",
     "text": [
      "90000it [01:40, 895.90it/s] \n"
     ]
    },
    {
     "name": "stdout",
     "output_type": "stream",
     "text": [
      "Size of dataset : 248\n",
      "ION = Cu(+)\n",
      "\n",
      "AUC = 0.93\n",
      "\n",
      "Accuracy = 0.96\n",
      "\n",
      "Recall = 0.88\n",
      "\n",
      "F1 = 0.92\n",
      "Precision = 0.96\n"
     ]
    },
    {
     "name": "stderr",
     "output_type": "stream",
     "text": [
      "90000it [01:00, 1490.77it/s]\n"
     ]
    },
    {
     "name": "stdout",
     "output_type": "stream",
     "text": [
      "Size of dataset : 104\n",
      "ION = Hg(2+)\n",
      "\n",
      "AUC = 0.91\n",
      "\n",
      "Accuracy = 0.95\n",
      "\n",
      "Recall = 0.82\n",
      "\n",
      "F1 = 0.9\n",
      "Precision = 1.0\n"
     ]
    },
    {
     "name": "stderr",
     "output_type": "stream",
     "text": [
      "90000it [01:13, 1228.67it/s]\n"
     ]
    },
    {
     "name": "stdout",
     "output_type": "stream",
     "text": [
      "Size of dataset : 208\n",
      "ION = [8Fe-7S]cluster\n",
      "\n",
      "AUC = 0.99\n",
      "\n",
      "Accuracy = 0.99\n",
      "\n",
      "Recall = 1.0\n",
      "\n",
      "F1 = 0.98\n",
      "Precision = 0.95\n"
     ]
    },
    {
     "name": "stderr",
     "output_type": "stream",
     "text": [
      "90000it [00:52, 1720.22it/s]\n"
     ]
    },
    {
     "name": "stdout",
     "output_type": "stream",
     "text": [
      "Size of dataset : 16\n",
      "ION = [8Fe-9S-C-homocitryl]cluster\n",
      "\n",
      "AUC = 0.5\n",
      "\n",
      "Accuracy = 0.71\n",
      "\n",
      "Recall = 0.0\n",
      "\n",
      "F1 = 0.0\n",
      "Precision = 0.0\n"
     ]
    },
    {
     "name": "stderr",
     "output_type": "stream",
     "text": [
      "90000it [01:23, 1072.76it/s]\n"
     ]
    },
    {
     "name": "stdout",
     "output_type": "stream",
     "text": [
      "Size of dataset : 284\n",
      "ION = Co(2+)\n",
      "\n",
      "AUC = 0.85\n",
      "\n",
      "Accuracy = 0.88\n",
      "\n",
      "Recall = 0.79\n",
      "\n",
      "F1 = 0.76\n",
      "Precision = 0.73\n"
     ]
    },
    {
     "name": "stderr",
     "output_type": "stream",
     "text": [
      "5000it [00:07, 646.73it/s]\n"
     ]
    },
    {
     "name": "stdout",
     "output_type": "stream",
     "text": [
      "Size of dataset : 64\n",
      "ION = iron-sulfurcluster\n",
      "\n",
      "AUC = 0.86\n",
      "\n",
      "Accuracy = 0.92\n",
      "\n",
      "Recall = 0.71\n",
      "\n",
      "F1 = 0.83\n",
      "Precision = 1.0\n"
     ]
    },
    {
     "name": "stderr",
     "output_type": "stream",
     "text": [
      "5000it [03:16, 25.50it/s]\n"
     ]
    },
    {
     "name": "stdout",
     "output_type": "stream",
     "text": [
      "Size of dataset : 2520\n",
      "ION = [4Fe-4S]cluster\n",
      "\n",
      "AUC = 0.99\n",
      "\n",
      "Accuracy = 0.99\n",
      "\n",
      "Recall = 0.98\n",
      "\n",
      "F1 = 0.97\n",
      "Precision = 0.96\n"
     ]
    },
    {
     "name": "stderr",
     "output_type": "stream",
     "text": [
      "90000it [01:33, 962.63it/s] \n"
     ]
    },
    {
     "name": "stdout",
     "output_type": "stream",
     "text": [
      "Size of dataset : 128\n",
      "ION = Cd(2+)\n",
      "\n",
      "AUC = 0.74\n",
      "\n",
      "Accuracy = 0.85\n",
      "\n",
      "Recall = 0.54\n",
      "\n",
      "F1 = 0.64\n",
      "Precision = 0.78\n"
     ]
    },
    {
     "name": "stderr",
     "output_type": "stream",
     "text": [
      "5000it [01:13, 68.36it/s] \n"
     ]
    },
    {
     "name": "stdout",
     "output_type": "stream",
     "text": [
      "Size of dataset : 988\n",
      "ION = adivalentmetalcation\n",
      "\n",
      "AUC = 0.88\n",
      "\n",
      "Accuracy = 0.92\n",
      "\n",
      "Recall = 0.8\n",
      "\n",
      "F1 = 0.83\n",
      "Precision = 0.87\n"
     ]
    },
    {
     "name": "stderr",
     "output_type": "stream",
     "text": [
      "5000it [00:27, 180.34it/s]\n"
     ]
    },
    {
     "name": "stdout",
     "output_type": "stream",
     "text": [
      "Size of dataset : 248\n",
      "ION = Cucation\n",
      "\n",
      "AUC = 0.83\n",
      "\n",
      "Accuracy = 0.9\n",
      "\n",
      "Recall = 0.71\n",
      "\n",
      "F1 = 0.77\n",
      "Precision = 0.85\n"
     ]
    },
    {
     "name": "stderr",
     "output_type": "stream",
     "text": [
      "90000it [01:03, 1420.90it/s]\n"
     ]
    },
    {
     "name": "stdout",
     "output_type": "stream",
     "text": [
      "Size of dataset : 32\n",
      "ION = [Ni-4Fe-5S]cluster\n",
      "\n",
      "AUC = 0.67\n",
      "\n",
      "Accuracy = 0.85\n",
      "\n",
      "Recall = 0.33\n",
      "\n",
      "F1 = 0.5\n",
      "Precision = 1.0\n"
     ]
    },
    {
     "name": "stderr",
     "output_type": "stream",
     "text": [
      "5000it [09:27,  8.81it/s]\n"
     ]
    },
    {
     "name": "stdout",
     "output_type": "stream",
     "text": [
      "Size of dataset : 6080\n",
      "ION = Zn(2+)\n",
      "\n",
      "AUC = 0.94\n",
      "\n",
      "Accuracy = 0.96\n",
      "\n",
      "Recall = 0.92\n",
      "\n",
      "F1 = 0.91\n",
      "Precision = 0.91\n"
     ]
    },
    {
     "name": "stderr",
     "output_type": "stream",
     "text": [
      "90000it [00:52, 1705.18it/s]\n"
     ]
    },
    {
     "name": "stdout",
     "output_type": "stream",
     "text": [
      "Size of dataset : 16\n",
      "ION = Co(3+)\n",
      "\n",
      "AUC = 0.5\n",
      "\n",
      "Accuracy = 0.71\n",
      "\n",
      "Recall = 0.0\n",
      "\n",
      "F1 = 0.0\n",
      "Precision = 0.0\n"
     ]
    },
    {
     "name": "stderr",
     "output_type": "stream",
     "text": [
      "90000it [01:27, 1028.77it/s]\n"
     ]
    },
    {
     "name": "stdout",
     "output_type": "stream",
     "text": [
      "Size of dataset : 64\n",
      "ION = [Ni-4Fe-4S]cluster\n",
      "\n",
      "AUC = 0.98\n",
      "\n",
      "Accuracy = 0.96\n",
      "\n",
      "Recall = 1.0\n",
      "\n",
      "F1 = 0.92\n",
      "Precision = 0.86\n"
     ]
    },
    {
     "name": "stderr",
     "output_type": "stream",
     "text": [
      "5000it [01:04, 77.53it/s] \n"
     ]
    },
    {
     "name": "stdout",
     "output_type": "stream",
     "text": [
      "Size of dataset : 908\n",
      "ION = Fecation\n",
      "\n",
      "AUC = 0.93\n",
      "\n",
      "Accuracy = 0.95\n",
      "\n",
      "Recall = 0.9\n",
      "\n",
      "F1 = 0.9\n",
      "Precision = 0.9\n"
     ]
    },
    {
     "name": "stderr",
     "output_type": "stream",
     "text": [
      "90000it [02:38, 569.19it/s]\n"
     ]
    },
    {
     "name": "stdout",
     "output_type": "stream",
     "text": [
      "Size of dataset : 372\n",
      "ION = Cu(2+)\n",
      "\n",
      "AUC = 0.89\n",
      "\n",
      "Accuracy = 0.95\n",
      "\n",
      "Recall = 0.78\n",
      "\n",
      "F1 = 0.88\n",
      "Precision = 1.0\n"
     ]
    },
    {
     "name": "stderr",
     "output_type": "stream",
     "text": [
      "90000it [02:35, 578.90it/s]\n"
     ]
    },
    {
     "name": "stdout",
     "output_type": "stream",
     "text": [
      "Size of dataset : 944\n",
      "ION = Fe(2+)\n",
      "\n",
      "AUC = 1.0\n",
      "\n",
      "Accuracy = 0.99\n",
      "\n",
      "Recall = 1.0\n",
      "\n",
      "F1 = 0.99\n",
      "Precision = 0.98\n"
     ]
    },
    {
     "name": "stderr",
     "output_type": "stream",
     "text": [
      "5000it [00:41, 120.88it/s]\n"
     ]
    },
    {
     "name": "stdout",
     "output_type": "stream",
     "text": [
      "Size of dataset : 592\n",
      "ION = [2Fe-2S]cluster\n",
      "\n",
      "AUC = 0.95\n",
      "\n",
      "Accuracy = 0.96\n",
      "\n",
      "Recall = 0.93\n",
      "\n",
      "F1 = 0.92\n",
      "Precision = 0.92\n"
     ]
    },
    {
     "name": "stderr",
     "output_type": "stream",
     "text": [
      "1856it [00:55, 37.52it/s]"
     ]
    },
    {
     "name": "stdout",
     "output_type": "stream",
     "text": [
      "/Users/suhancho/data/Uniprot_metalbinding_challenge/PSSM/P9WQ02.fasta.txt\n"
     ]
    },
    {
     "name": "stderr",
     "output_type": "stream",
     "text": [
      "5000it [02:28, 33.78it/s]\n"
     ]
    },
    {
     "name": "stdout",
     "output_type": "stream",
     "text": [
      "Size of dataset : 1156\n",
      "ION = Ca(2+)\n",
      "\n",
      "AUC = 0.78\n",
      "\n",
      "Accuracy = 0.84\n",
      "\n",
      "Recall = 0.66\n",
      "\n",
      "F1 = 0.68\n",
      "Precision = 0.7\n"
     ]
    },
    {
     "name": "stderr",
     "output_type": "stream",
     "text": [
      "90000it [00:55, 1633.54it/s]\n"
     ]
    },
    {
     "name": "stdout",
     "output_type": "stream",
     "text": [
      "Size of dataset : 44\n",
      "ION = [Ni-Fe-S]cluster\n",
      "\n",
      "AUC = 0.88\n",
      "\n",
      "Accuracy = 0.94\n",
      "\n",
      "Recall = 0.75\n",
      "\n",
      "F1 = 0.86\n",
      "Precision = 1.0\n"
     ]
    },
    {
     "name": "stderr",
     "output_type": "stream",
     "text": [
      "5000it [01:34, 52.81it/s]\n"
     ]
    },
    {
     "name": "stdout",
     "output_type": "stream",
     "text": [
      "Size of dataset : 1136\n",
      "ION = Mn(2+)\n",
      "\n",
      "AUC = 0.9\n",
      "\n",
      "Accuracy = 0.93\n",
      "\n",
      "Recall = 0.83\n",
      "\n",
      "F1 = 0.86\n",
      "Precision = 0.89\n"
     ]
    },
    {
     "name": "stderr",
     "output_type": "stream",
     "text": [
      "2199it [03:27, 15.76it/s]"
     ]
    },
    {
     "name": "stdout",
     "output_type": "stream",
     "text": [
      "/Users/suhancho/data/Uniprot_metalbinding_challenge/PSSM/A1VE87.fasta.txt\n"
     ]
    },
    {
     "name": "stderr",
     "output_type": "stream",
     "text": [
      "5000it [07:46, 10.72it/s]\n"
     ]
    },
    {
     "name": "stdout",
     "output_type": "stream",
     "text": [
      "Size of dataset : 7024\n"
     ]
    },
    {
     "ename": "KeyboardInterrupt",
     "evalue": "",
     "output_type": "error",
     "traceback": [
      "\u001b[0;31m---------------------------------------------------------------------------\u001b[0m",
      "\u001b[0;31mKeyboardInterrupt\u001b[0m                         Traceback (most recent call last)",
      "Cell \u001b[0;32mIn [64], line 35\u001b[0m\n\u001b[1;32m     24\u001b[0m param_grid \u001b[38;5;241m=\u001b[39m [{\u001b[38;5;124m'\u001b[39m\u001b[38;5;124msvc__C\u001b[39m\u001b[38;5;124m'\u001b[39m: param_range, \n\u001b[1;32m     25\u001b[0m             \u001b[38;5;124m'\u001b[39m\u001b[38;5;124msvc__kernel\u001b[39m\u001b[38;5;124m'\u001b[39m: [\u001b[38;5;124m'\u001b[39m\u001b[38;5;124mlinear\u001b[39m\u001b[38;5;124m'\u001b[39m]},\n\u001b[1;32m     26\u001b[0m             {\u001b[38;5;124m'\u001b[39m\u001b[38;5;124msvc__C\u001b[39m\u001b[38;5;124m'\u001b[39m: param_range, \n\u001b[1;32m     27\u001b[0m             \u001b[38;5;124m'\u001b[39m\u001b[38;5;124msvc__gamma\u001b[39m\u001b[38;5;124m'\u001b[39m: param_range, \n\u001b[1;32m     28\u001b[0m             \u001b[38;5;124m'\u001b[39m\u001b[38;5;124msvc__kernel\u001b[39m\u001b[38;5;124m'\u001b[39m: [\u001b[38;5;124m'\u001b[39m\u001b[38;5;124mrbf\u001b[39m\u001b[38;5;124m'\u001b[39m]}]\n\u001b[1;32m     30\u001b[0m gs \u001b[38;5;241m=\u001b[39m GridSearchCV(estimator\u001b[38;5;241m=\u001b[39mpipe_svc, \n\u001b[1;32m     31\u001b[0m                 param_grid\u001b[38;5;241m=\u001b[39mparam_grid, \n\u001b[1;32m     32\u001b[0m                 scoring\u001b[38;5;241m=\u001b[39m\u001b[38;5;124m'\u001b[39m\u001b[38;5;124maccuracy\u001b[39m\u001b[38;5;124m'\u001b[39m, \n\u001b[1;32m     33\u001b[0m                 cv\u001b[38;5;241m=\u001b[39m\u001b[38;5;241m3\u001b[39m,\n\u001b[1;32m     34\u001b[0m                 n_jobs\u001b[38;5;241m=\u001b[39m\u001b[38;5;241m-\u001b[39m\u001b[38;5;241m1\u001b[39m)\n\u001b[0;32m---> 35\u001b[0m gs \u001b[38;5;241m=\u001b[39m gs\u001b[38;5;241m.\u001b[39mfit(X, y)\n\u001b[1;32m     36\u001b[0m auc,acc,f1,recall,prec \u001b[38;5;241m=\u001b[39m get_MLmetrics(testy,testX,gs,ion)\n\u001b[1;32m     37\u001b[0m result\u001b[38;5;241m.\u001b[39mappend([auc,acc,f1,recall,prec,ion])\n",
      "File \u001b[0;32m~/miniforge3/envs/sklearn/lib/python3.10/site-packages/sklearn/model_selection/_search.py:875\u001b[0m, in \u001b[0;36mBaseSearchCV.fit\u001b[0;34m(self, X, y, groups, **fit_params)\u001b[0m\n\u001b[1;32m    869\u001b[0m     results \u001b[39m=\u001b[39m \u001b[39mself\u001b[39m\u001b[39m.\u001b[39m_format_results(\n\u001b[1;32m    870\u001b[0m         all_candidate_params, n_splits, all_out, all_more_results\n\u001b[1;32m    871\u001b[0m     )\n\u001b[1;32m    873\u001b[0m     \u001b[39mreturn\u001b[39;00m results\n\u001b[0;32m--> 875\u001b[0m \u001b[39mself\u001b[39;49m\u001b[39m.\u001b[39;49m_run_search(evaluate_candidates)\n\u001b[1;32m    877\u001b[0m \u001b[39m# multimetric is determined here because in the case of a callable\u001b[39;00m\n\u001b[1;32m    878\u001b[0m \u001b[39m# self.scoring the return type is only known after calling\u001b[39;00m\n\u001b[1;32m    879\u001b[0m first_test_score \u001b[39m=\u001b[39m all_out[\u001b[39m0\u001b[39m][\u001b[39m\"\u001b[39m\u001b[39mtest_scores\u001b[39m\u001b[39m\"\u001b[39m]\n",
      "File \u001b[0;32m~/miniforge3/envs/sklearn/lib/python3.10/site-packages/sklearn/model_selection/_search.py:1379\u001b[0m, in \u001b[0;36mGridSearchCV._run_search\u001b[0;34m(self, evaluate_candidates)\u001b[0m\n\u001b[1;32m   1377\u001b[0m \u001b[39mdef\u001b[39;00m \u001b[39m_run_search\u001b[39m(\u001b[39mself\u001b[39m, evaluate_candidates):\n\u001b[1;32m   1378\u001b[0m     \u001b[39m\"\"\"Search all candidates in param_grid\"\"\"\u001b[39;00m\n\u001b[0;32m-> 1379\u001b[0m     evaluate_candidates(ParameterGrid(\u001b[39mself\u001b[39;49m\u001b[39m.\u001b[39;49mparam_grid))\n",
      "File \u001b[0;32m~/miniforge3/envs/sklearn/lib/python3.10/site-packages/sklearn/model_selection/_search.py:822\u001b[0m, in \u001b[0;36mBaseSearchCV.fit.<locals>.evaluate_candidates\u001b[0;34m(candidate_params, cv, more_results)\u001b[0m\n\u001b[1;32m    814\u001b[0m \u001b[39mif\u001b[39;00m \u001b[39mself\u001b[39m\u001b[39m.\u001b[39mverbose \u001b[39m>\u001b[39m \u001b[39m0\u001b[39m:\n\u001b[1;32m    815\u001b[0m     \u001b[39mprint\u001b[39m(\n\u001b[1;32m    816\u001b[0m         \u001b[39m\"\u001b[39m\u001b[39mFitting \u001b[39m\u001b[39m{0}\u001b[39;00m\u001b[39m folds for each of \u001b[39m\u001b[39m{1}\u001b[39;00m\u001b[39m candidates,\u001b[39m\u001b[39m\"\u001b[39m\n\u001b[1;32m    817\u001b[0m         \u001b[39m\"\u001b[39m\u001b[39m totalling \u001b[39m\u001b[39m{2}\u001b[39;00m\u001b[39m fits\u001b[39m\u001b[39m\"\u001b[39m\u001b[39m.\u001b[39mformat(\n\u001b[1;32m    818\u001b[0m             n_splits, n_candidates, n_candidates \u001b[39m*\u001b[39m n_splits\n\u001b[1;32m    819\u001b[0m         )\n\u001b[1;32m    820\u001b[0m     )\n\u001b[0;32m--> 822\u001b[0m out \u001b[39m=\u001b[39m parallel(\n\u001b[1;32m    823\u001b[0m     delayed(_fit_and_score)(\n\u001b[1;32m    824\u001b[0m         clone(base_estimator),\n\u001b[1;32m    825\u001b[0m         X,\n\u001b[1;32m    826\u001b[0m         y,\n\u001b[1;32m    827\u001b[0m         train\u001b[39m=\u001b[39;49mtrain,\n\u001b[1;32m    828\u001b[0m         test\u001b[39m=\u001b[39;49mtest,\n\u001b[1;32m    829\u001b[0m         parameters\u001b[39m=\u001b[39;49mparameters,\n\u001b[1;32m    830\u001b[0m         split_progress\u001b[39m=\u001b[39;49m(split_idx, n_splits),\n\u001b[1;32m    831\u001b[0m         candidate_progress\u001b[39m=\u001b[39;49m(cand_idx, n_candidates),\n\u001b[1;32m    832\u001b[0m         \u001b[39m*\u001b[39;49m\u001b[39m*\u001b[39;49mfit_and_score_kwargs,\n\u001b[1;32m    833\u001b[0m     )\n\u001b[1;32m    834\u001b[0m     \u001b[39mfor\u001b[39;49;00m (cand_idx, parameters), (split_idx, (train, test)) \u001b[39min\u001b[39;49;00m product(\n\u001b[1;32m    835\u001b[0m         \u001b[39menumerate\u001b[39;49m(candidate_params), \u001b[39menumerate\u001b[39;49m(cv\u001b[39m.\u001b[39;49msplit(X, y, groups))\n\u001b[1;32m    836\u001b[0m     )\n\u001b[1;32m    837\u001b[0m )\n\u001b[1;32m    839\u001b[0m \u001b[39mif\u001b[39;00m \u001b[39mlen\u001b[39m(out) \u001b[39m<\u001b[39m \u001b[39m1\u001b[39m:\n\u001b[1;32m    840\u001b[0m     \u001b[39mraise\u001b[39;00m \u001b[39mValueError\u001b[39;00m(\n\u001b[1;32m    841\u001b[0m         \u001b[39m\"\u001b[39m\u001b[39mNo fits were performed. \u001b[39m\u001b[39m\"\u001b[39m\n\u001b[1;32m    842\u001b[0m         \u001b[39m\"\u001b[39m\u001b[39mWas the CV iterator empty? \u001b[39m\u001b[39m\"\u001b[39m\n\u001b[1;32m    843\u001b[0m         \u001b[39m\"\u001b[39m\u001b[39mWere there no candidates?\u001b[39m\u001b[39m\"\u001b[39m\n\u001b[1;32m    844\u001b[0m     )\n",
      "File \u001b[0;32m~/miniforge3/envs/sklearn/lib/python3.10/site-packages/joblib/parallel.py:1098\u001b[0m, in \u001b[0;36mParallel.__call__\u001b[0;34m(self, iterable)\u001b[0m\n\u001b[1;32m   1095\u001b[0m     \u001b[39mself\u001b[39m\u001b[39m.\u001b[39m_iterating \u001b[39m=\u001b[39m \u001b[39mFalse\u001b[39;00m\n\u001b[1;32m   1097\u001b[0m \u001b[39mwith\u001b[39;00m \u001b[39mself\u001b[39m\u001b[39m.\u001b[39m_backend\u001b[39m.\u001b[39mretrieval_context():\n\u001b[0;32m-> 1098\u001b[0m     \u001b[39mself\u001b[39;49m\u001b[39m.\u001b[39;49mretrieve()\n\u001b[1;32m   1099\u001b[0m \u001b[39m# Make sure that we get a last message telling us we are done\u001b[39;00m\n\u001b[1;32m   1100\u001b[0m elapsed_time \u001b[39m=\u001b[39m time\u001b[39m.\u001b[39mtime() \u001b[39m-\u001b[39m \u001b[39mself\u001b[39m\u001b[39m.\u001b[39m_start_time\n",
      "File \u001b[0;32m~/miniforge3/envs/sklearn/lib/python3.10/site-packages/joblib/parallel.py:975\u001b[0m, in \u001b[0;36mParallel.retrieve\u001b[0;34m(self)\u001b[0m\n\u001b[1;32m    973\u001b[0m \u001b[39mtry\u001b[39;00m:\n\u001b[1;32m    974\u001b[0m     \u001b[39mif\u001b[39;00m \u001b[39mgetattr\u001b[39m(\u001b[39mself\u001b[39m\u001b[39m.\u001b[39m_backend, \u001b[39m'\u001b[39m\u001b[39msupports_timeout\u001b[39m\u001b[39m'\u001b[39m, \u001b[39mFalse\u001b[39;00m):\n\u001b[0;32m--> 975\u001b[0m         \u001b[39mself\u001b[39m\u001b[39m.\u001b[39m_output\u001b[39m.\u001b[39mextend(job\u001b[39m.\u001b[39;49mget(timeout\u001b[39m=\u001b[39;49m\u001b[39mself\u001b[39;49m\u001b[39m.\u001b[39;49mtimeout))\n\u001b[1;32m    976\u001b[0m     \u001b[39melse\u001b[39;00m:\n\u001b[1;32m    977\u001b[0m         \u001b[39mself\u001b[39m\u001b[39m.\u001b[39m_output\u001b[39m.\u001b[39mextend(job\u001b[39m.\u001b[39mget())\n",
      "File \u001b[0;32m~/miniforge3/envs/sklearn/lib/python3.10/site-packages/joblib/_parallel_backends.py:567\u001b[0m, in \u001b[0;36mLokyBackend.wrap_future_result\u001b[0;34m(future, timeout)\u001b[0m\n\u001b[1;32m    564\u001b[0m \u001b[39m\"\"\"Wrapper for Future.result to implement the same behaviour as\u001b[39;00m\n\u001b[1;32m    565\u001b[0m \u001b[39mAsyncResults.get from multiprocessing.\"\"\"\u001b[39;00m\n\u001b[1;32m    566\u001b[0m \u001b[39mtry\u001b[39;00m:\n\u001b[0;32m--> 567\u001b[0m     \u001b[39mreturn\u001b[39;00m future\u001b[39m.\u001b[39;49mresult(timeout\u001b[39m=\u001b[39;49mtimeout)\n\u001b[1;32m    568\u001b[0m \u001b[39mexcept\u001b[39;00m CfTimeoutError \u001b[39mas\u001b[39;00m e:\n\u001b[1;32m    569\u001b[0m     \u001b[39mraise\u001b[39;00m \u001b[39mTimeoutError\u001b[39;00m \u001b[39mfrom\u001b[39;00m \u001b[39me\u001b[39;00m\n",
      "File \u001b[0;32m~/miniforge3/envs/sklearn/lib/python3.10/concurrent/futures/_base.py:453\u001b[0m, in \u001b[0;36mFuture.result\u001b[0;34m(self, timeout)\u001b[0m\n\u001b[1;32m    450\u001b[0m \u001b[39melif\u001b[39;00m \u001b[39mself\u001b[39m\u001b[39m.\u001b[39m_state \u001b[39m==\u001b[39m FINISHED:\n\u001b[1;32m    451\u001b[0m     \u001b[39mreturn\u001b[39;00m \u001b[39mself\u001b[39m\u001b[39m.\u001b[39m__get_result()\n\u001b[0;32m--> 453\u001b[0m \u001b[39mself\u001b[39;49m\u001b[39m.\u001b[39;49m_condition\u001b[39m.\u001b[39;49mwait(timeout)\n\u001b[1;32m    455\u001b[0m \u001b[39mif\u001b[39;00m \u001b[39mself\u001b[39m\u001b[39m.\u001b[39m_state \u001b[39min\u001b[39;00m [CANCELLED, CANCELLED_AND_NOTIFIED]:\n\u001b[1;32m    456\u001b[0m     \u001b[39mraise\u001b[39;00m CancelledError()\n",
      "File \u001b[0;32m~/miniforge3/envs/sklearn/lib/python3.10/threading.py:320\u001b[0m, in \u001b[0;36mCondition.wait\u001b[0;34m(self, timeout)\u001b[0m\n\u001b[1;32m    318\u001b[0m \u001b[39mtry\u001b[39;00m:    \u001b[39m# restore state no matter what (e.g., KeyboardInterrupt)\u001b[39;00m\n\u001b[1;32m    319\u001b[0m     \u001b[39mif\u001b[39;00m timeout \u001b[39mis\u001b[39;00m \u001b[39mNone\u001b[39;00m:\n\u001b[0;32m--> 320\u001b[0m         waiter\u001b[39m.\u001b[39;49macquire()\n\u001b[1;32m    321\u001b[0m         gotit \u001b[39m=\u001b[39m \u001b[39mTrue\u001b[39;00m\n\u001b[1;32m    322\u001b[0m     \u001b[39melse\u001b[39;00m:\n",
      "\u001b[0;31mKeyboardInterrupt\u001b[0m: "
     ]
    }
   ],
   "source": [
    "result=[]\n",
    "for i,b in enumerate(bind_tsv_list):\n",
    "    b_tmp = open(b,'r').readlines()\n",
    "\n",
    "    if len(b_tmp)<1000:\n",
    "        iter = 90000\n",
    "    else : \n",
    "        iter = 5000\n",
    "\n",
    "    train_dat,ion = calculate_window(iter,i)\n",
    "    train_dat = balance_classes(train_dat,3)\n",
    "    train_X,train_Y = preproc_data(train_dat)\n",
    "    # check_windowdata(train_X)\n",
    "    train_X,train_Y = filter_traindata(train_X,train_Y)\n",
    "    flatten_trainX = flatten_Xdata(train_X)\n",
    "    trainX, testX, trainy, testy = train_test_split(flatten_trainX,train_Y,test_size=0.4,shuffle = True,stratify=train_Y)\n",
    "\n",
    "    X = trainX ; y = trainy\n",
    "\n",
    "    pipe_svc = make_pipeline(StandardScaler(),SVC(random_state=9510))\n",
    "\n",
    "    param_range = [0.0001, 0.001, 0.01, 0.1, 1.0, 10.0, 100.0, 1000.0]\n",
    "\n",
    "    param_grid = [{'svc__C': param_range, \n",
    "                'svc__kernel': ['linear']},\n",
    "                {'svc__C': param_range, \n",
    "                'svc__gamma': param_range, \n",
    "                'svc__kernel': ['rbf']}]\n",
    "\n",
    "    gs = GridSearchCV(estimator=pipe_svc, \n",
    "                    param_grid=param_grid, \n",
    "                    scoring='accuracy', \n",
    "                    cv=3,\n",
    "                    n_jobs=-1)\n",
    "    gs = gs.fit(X, y)\n",
    "    auc,acc,f1,recall,prec = get_MLmetrics(testy,testX,gs,ion)\n",
    "    result.append([auc,acc,f1,recall,prec,ion])"
   ]
  },
  {
   "cell_type": "code",
   "execution_count": 66,
   "id": "2dd6de68",
   "metadata": {
    "execution": {
     "iopub.execute_input": "2022-06-06T11:40:58.095829Z",
     "iopub.status.busy": "2022-06-06T11:40:58.095341Z",
     "iopub.status.idle": "2022-06-06T11:40:58.749564Z",
     "shell.execute_reply": "2022-06-06T11:40:58.748626Z"
    },
    "papermill": {
     "duration": 0.665142,
     "end_time": "2022-06-06T11:40:58.751791",
     "exception": false,
     "start_time": "2022-06-06T11:40:58.086649",
     "status": "completed"
    },
    "tags": []
   },
   "outputs": [
    {
     "data": {
      "text/html": [
       "<div>\n",
       "<style scoped>\n",
       "    .dataframe tbody tr th:only-of-type {\n",
       "        vertical-align: middle;\n",
       "    }\n",
       "\n",
       "    .dataframe tbody tr th {\n",
       "        vertical-align: top;\n",
       "    }\n",
       "\n",
       "    .dataframe thead th {\n",
       "        text-align: right;\n",
       "    }\n",
       "</style>\n",
       "<table border=\"1\" class=\"dataframe\">\n",
       "  <thead>\n",
       "    <tr style=\"text-align: right;\">\n",
       "      <th></th>\n",
       "      <th>0</th>\n",
       "      <th>1</th>\n",
       "      <th>2</th>\n",
       "      <th>3</th>\n",
       "      <th>4</th>\n",
       "      <th>5</th>\n",
       "    </tr>\n",
       "  </thead>\n",
       "  <tbody>\n",
       "    <tr>\n",
       "      <th>0</th>\n",
       "      <td>0.933333</td>\n",
       "      <td>0.960000</td>\n",
       "      <td>0.880000</td>\n",
       "      <td>0.916667</td>\n",
       "      <td>0.956522</td>\n",
       "      <td>Cu(+)</td>\n",
       "    </tr>\n",
       "    <tr>\n",
       "      <th>1</th>\n",
       "      <td>0.909091</td>\n",
       "      <td>0.952381</td>\n",
       "      <td>0.818182</td>\n",
       "      <td>0.900000</td>\n",
       "      <td>1.000000</td>\n",
       "      <td>Hg(2+)</td>\n",
       "    </tr>\n",
       "    <tr>\n",
       "      <th>2</th>\n",
       "      <td>0.992063</td>\n",
       "      <td>0.988095</td>\n",
       "      <td>1.000000</td>\n",
       "      <td>0.976744</td>\n",
       "      <td>0.954545</td>\n",
       "      <td>[8Fe-7S]cluster</td>\n",
       "    </tr>\n",
       "    <tr>\n",
       "      <th>3</th>\n",
       "      <td>0.500000</td>\n",
       "      <td>0.714286</td>\n",
       "      <td>0.000000</td>\n",
       "      <td>0.000000</td>\n",
       "      <td>0.000000</td>\n",
       "      <td>[8Fe-9S-C-homocitryl]cluster</td>\n",
       "    </tr>\n",
       "    <tr>\n",
       "      <th>4</th>\n",
       "      <td>0.846346</td>\n",
       "      <td>0.877193</td>\n",
       "      <td>0.785714</td>\n",
       "      <td>0.758621</td>\n",
       "      <td>0.733333</td>\n",
       "      <td>Co(2+)</td>\n",
       "    </tr>\n",
       "    <tr>\n",
       "      <th>5</th>\n",
       "      <td>0.857143</td>\n",
       "      <td>0.923077</td>\n",
       "      <td>0.714286</td>\n",
       "      <td>0.833333</td>\n",
       "      <td>1.000000</td>\n",
       "      <td>iron-sulfurcluster</td>\n",
       "    </tr>\n",
       "    <tr>\n",
       "      <th>6</th>\n",
       "      <td>0.985450</td>\n",
       "      <td>0.986111</td>\n",
       "      <td>0.984127</td>\n",
       "      <td>0.972549</td>\n",
       "      <td>0.961240</td>\n",
       "      <td>[4Fe-4S]cluster</td>\n",
       "    </tr>\n",
       "    <tr>\n",
       "      <th>7</th>\n",
       "      <td>0.743590</td>\n",
       "      <td>0.846154</td>\n",
       "      <td>0.538462</td>\n",
       "      <td>0.636364</td>\n",
       "      <td>0.777778</td>\n",
       "      <td>Cd(2+)</td>\n",
       "    </tr>\n",
       "    <tr>\n",
       "      <th>8</th>\n",
       "      <td>0.878788</td>\n",
       "      <td>0.919192</td>\n",
       "      <td>0.797980</td>\n",
       "      <td>0.831579</td>\n",
       "      <td>0.868132</td>\n",
       "      <td>adivalentmetalcation</td>\n",
       "    </tr>\n",
       "    <tr>\n",
       "      <th>9</th>\n",
       "      <td>0.834167</td>\n",
       "      <td>0.898990</td>\n",
       "      <td>0.708333</td>\n",
       "      <td>0.772727</td>\n",
       "      <td>0.850000</td>\n",
       "      <td>Cucation</td>\n",
       "    </tr>\n",
       "    <tr>\n",
       "      <th>10</th>\n",
       "      <td>0.666667</td>\n",
       "      <td>0.846154</td>\n",
       "      <td>0.333333</td>\n",
       "      <td>0.500000</td>\n",
       "      <td>1.000000</td>\n",
       "      <td>[Ni-4Fe-5S]cluster</td>\n",
       "    </tr>\n",
       "    <tr>\n",
       "      <th>11</th>\n",
       "      <td>0.943805</td>\n",
       "      <td>0.956003</td>\n",
       "      <td>0.919408</td>\n",
       "      <td>0.912653</td>\n",
       "      <td>0.905997</td>\n",
       "      <td>Zn(2+)</td>\n",
       "    </tr>\n",
       "    <tr>\n",
       "      <th>12</th>\n",
       "      <td>0.500000</td>\n",
       "      <td>0.714286</td>\n",
       "      <td>0.000000</td>\n",
       "      <td>0.000000</td>\n",
       "      <td>0.000000</td>\n",
       "      <td>Co(3+)</td>\n",
       "    </tr>\n",
       "    <tr>\n",
       "      <th>13</th>\n",
       "      <td>0.975000</td>\n",
       "      <td>0.961538</td>\n",
       "      <td>1.000000</td>\n",
       "      <td>0.923077</td>\n",
       "      <td>0.857143</td>\n",
       "      <td>[Ni-4Fe-4S]cluster</td>\n",
       "    </tr>\n",
       "    <tr>\n",
       "      <th>14</th>\n",
       "      <td>0.934066</td>\n",
       "      <td>0.950549</td>\n",
       "      <td>0.901099</td>\n",
       "      <td>0.901099</td>\n",
       "      <td>0.901099</td>\n",
       "      <td>Fecation</td>\n",
       "    </tr>\n",
       "    <tr>\n",
       "      <th>15</th>\n",
       "      <td>0.891892</td>\n",
       "      <td>0.946309</td>\n",
       "      <td>0.783784</td>\n",
       "      <td>0.878788</td>\n",
       "      <td>1.000000</td>\n",
       "      <td>Cu(2+)</td>\n",
       "    </tr>\n",
       "    <tr>\n",
       "      <th>16</th>\n",
       "      <td>0.996466</td>\n",
       "      <td>0.994709</td>\n",
       "      <td>1.000000</td>\n",
       "      <td>0.989583</td>\n",
       "      <td>0.979381</td>\n",
       "      <td>Fe(2+)</td>\n",
       "    </tr>\n",
       "    <tr>\n",
       "      <th>17</th>\n",
       "      <td>0.952057</td>\n",
       "      <td>0.962025</td>\n",
       "      <td>0.932203</td>\n",
       "      <td>0.924370</td>\n",
       "      <td>0.916667</td>\n",
       "      <td>[2Fe-2S]cluster</td>\n",
       "    </tr>\n",
       "    <tr>\n",
       "      <th>18</th>\n",
       "      <td>0.782884</td>\n",
       "      <td>0.844156</td>\n",
       "      <td>0.660870</td>\n",
       "      <td>0.678571</td>\n",
       "      <td>0.697248</td>\n",
       "      <td>Ca(2+)</td>\n",
       "    </tr>\n",
       "    <tr>\n",
       "      <th>19</th>\n",
       "      <td>0.875000</td>\n",
       "      <td>0.944444</td>\n",
       "      <td>0.750000</td>\n",
       "      <td>0.857143</td>\n",
       "      <td>1.000000</td>\n",
       "      <td>[Ni-Fe-S]cluster</td>\n",
       "    </tr>\n",
       "    <tr>\n",
       "      <th>20</th>\n",
       "      <td>0.899071</td>\n",
       "      <td>0.931868</td>\n",
       "      <td>0.833333</td>\n",
       "      <td>0.859729</td>\n",
       "      <td>0.887850</td>\n",
       "      <td>Mn(2+)</td>\n",
       "    </tr>\n",
       "  </tbody>\n",
       "</table>\n",
       "</div>"
      ],
      "text/plain": [
       "           0         1         2         3         4  \\\n",
       "0   0.933333  0.960000  0.880000  0.916667  0.956522   \n",
       "1   0.909091  0.952381  0.818182  0.900000  1.000000   \n",
       "2   0.992063  0.988095  1.000000  0.976744  0.954545   \n",
       "3   0.500000  0.714286  0.000000  0.000000  0.000000   \n",
       "4   0.846346  0.877193  0.785714  0.758621  0.733333   \n",
       "5   0.857143  0.923077  0.714286  0.833333  1.000000   \n",
       "6   0.985450  0.986111  0.984127  0.972549  0.961240   \n",
       "7   0.743590  0.846154  0.538462  0.636364  0.777778   \n",
       "8   0.878788  0.919192  0.797980  0.831579  0.868132   \n",
       "9   0.834167  0.898990  0.708333  0.772727  0.850000   \n",
       "10  0.666667  0.846154  0.333333  0.500000  1.000000   \n",
       "11  0.943805  0.956003  0.919408  0.912653  0.905997   \n",
       "12  0.500000  0.714286  0.000000  0.000000  0.000000   \n",
       "13  0.975000  0.961538  1.000000  0.923077  0.857143   \n",
       "14  0.934066  0.950549  0.901099  0.901099  0.901099   \n",
       "15  0.891892  0.946309  0.783784  0.878788  1.000000   \n",
       "16  0.996466  0.994709  1.000000  0.989583  0.979381   \n",
       "17  0.952057  0.962025  0.932203  0.924370  0.916667   \n",
       "18  0.782884  0.844156  0.660870  0.678571  0.697248   \n",
       "19  0.875000  0.944444  0.750000  0.857143  1.000000   \n",
       "20  0.899071  0.931868  0.833333  0.859729  0.887850   \n",
       "\n",
       "                               5  \n",
       "0                          Cu(+)  \n",
       "1                         Hg(2+)  \n",
       "2                [8Fe-7S]cluster  \n",
       "3   [8Fe-9S-C-homocitryl]cluster  \n",
       "4                         Co(2+)  \n",
       "5             iron-sulfurcluster  \n",
       "6                [4Fe-4S]cluster  \n",
       "7                         Cd(2+)  \n",
       "8           adivalentmetalcation  \n",
       "9                       Cucation  \n",
       "10            [Ni-4Fe-5S]cluster  \n",
       "11                        Zn(2+)  \n",
       "12                        Co(3+)  \n",
       "13            [Ni-4Fe-4S]cluster  \n",
       "14                      Fecation  \n",
       "15                        Cu(2+)  \n",
       "16                        Fe(2+)  \n",
       "17               [2Fe-2S]cluster  \n",
       "18                        Ca(2+)  \n",
       "19              [Ni-Fe-S]cluster  \n",
       "20                        Mn(2+)  "
      ]
     },
     "execution_count": 66,
     "metadata": {},
     "output_type": "execute_result"
    }
   ],
   "source": [
    "pd.DataFrame(result)"
   ]
  },
  {
   "cell_type": "code",
   "execution_count": null,
   "metadata": {},
   "outputs": [],
   "source": []
  }
 ],
 "metadata": {
  "kernelspec": {
   "display_name": "Python 3.10.6 ('sklearn')",
   "language": "python",
   "name": "python3"
  },
  "language_info": {
   "codemirror_mode": {
    "name": "ipython",
    "version": 3
   },
   "file_extension": ".py",
   "mimetype": "text/x-python",
   "name": "python",
   "nbconvert_exporter": "python",
   "pygments_lexer": "ipython3",
   "version": "3.10.6"
  },
  "orig_nbformat": 4,
  "vscode": {
   "interpreter": {
    "hash": "9ca674affdede15e4a6394b48f5e33f7f932c70ec65fc4d25734b56c029e94fd"
   }
  }
 },
 "nbformat": 4,
 "nbformat_minor": 2
}
