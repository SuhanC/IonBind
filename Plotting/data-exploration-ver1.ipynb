{
 "cells": [
  {
   "cell_type": "markdown",
   "id": "45ce12d4",
   "metadata": {
    "papermill": {
     "duration": 0.032629,
     "end_time": "2022-08-08T10:53:59.391533",
     "exception": false,
     "start_time": "2022-08-08T10:53:59.358904",
     "status": "completed"
    },
    "tags": []
   },
   "source": [
    "## Preparing Datasets & Dependencies"
   ]
  },
  {
   "cell_type": "code",
   "execution_count": 1,
   "id": "57e350e7",
   "metadata": {
    "_kg_hide-input": true,
    "_kg_hide-output": true,
    "execution": {
     "iopub.execute_input": "2022-08-08T10:53:59.454425Z",
     "iopub.status.busy": "2022-08-08T10:53:59.453342Z",
     "iopub.status.idle": "2022-08-08T10:53:59.467945Z",
     "shell.execute_reply": "2022-08-08T10:53:59.466519Z"
    },
    "papermill": {
     "duration": 0.049716,
     "end_time": "2022-08-08T10:53:59.471402",
     "exception": false,
     "start_time": "2022-08-08T10:53:59.421686",
     "status": "completed"
    },
    "tags": []
   },
   "outputs": [],
   "source": [
    "# Paths\n",
    "db_path = \"/kaggle/input/metal-bind-predict/metalBindPredict/db/uniprot_data\"\n",
    "scripts_path = \"/kaggle/input/metal-bind-predict/metalBindPredict/scripts\""
   ]
  },
  {
   "cell_type": "code",
   "execution_count": 2,
   "id": "3c18edab",
   "metadata": {
    "_kg_hide-input": true,
    "_kg_hide-output": true,
    "execution": {
     "iopub.execute_input": "2022-08-08T10:53:59.532517Z",
     "iopub.status.busy": "2022-08-08T10:53:59.532117Z",
     "iopub.status.idle": "2022-08-08T10:55:14.992075Z",
     "shell.execute_reply": "2022-08-08T10:55:14.990454Z"
    },
    "papermill": {
     "duration": 75.493441,
     "end_time": "2022-08-08T10:55:14.995024",
     "exception": false,
     "start_time": "2022-08-08T10:53:59.501583",
     "status": "completed"
    },
    "scrolled": true,
    "tags": []
   },
   "outputs": [
    {
     "name": "stdout",
     "output_type": "stream",
     "text": [
      "Collecting package metadata (current_repodata.json): - \b\b\\ \b\b| \b\b/ \b\b- \b\b\\ \b\b| \b\b/ \b\b- \b\b\\ \b\b| \b\b/ \b\b- \b\b\\ \b\b| \b\b/ \b\b- \b\b\\ \b\b| \b\b/ \b\b- \b\b\\ \b\b| \b\b/ \b\b- \b\b\\ \b\b| \b\b/ \b\b- \b\b\\ \b\b| \b\b/ \b\b- \b\b\\ \b\b| \b\b/ \b\b- \b\b\\ \b\b| \b\b/ \b\b- \b\b\\ \b\b| \b\b/ \b\b- \b\b\\ \b\b| \b\b/ \b\b- \b\b\\ \b\b| \b\b/ \b\b- \b\b\\ \b\b| \b\b/ \b\b- \b\b\\ \b\b| \b\b/ \b\b- \b\b\\ \b\b| \b\b/ \b\b- \b\b\\ \b\b| \b\b/ \b\b- \b\b\\ \b\b| \b\b/ \b\b- \b\b\\ \b\b| \b\b/ \b\b- \b\b\\ \b\b| \b\b/ \b\b- \b\b\\ \b\b| \b\b/ \b\b- \b\b\\ \b\b| \b\b/ \b\b- \b\b\\ \b\b| \b\b/ \b\b- \b\b\\ \b\b| \b\b/ \b\b- \b\b\\ \b\b| \b\b/ \b\b- \b\b\\ \b\b| \b\b/ \b\b- \b\b\\ \b\b| \b\b/ \b\b- \b\b\\ \b\b| \b\b/ \b\b- \b\b\\ \b\b| \b\b/ \b\b- \b\b\\ \b\b| \b\b/ \b\b- \b\b\\ \b\b| \b\b/ \b\b- \b\b\\ \b\b| \b\b/ \b\b- \b\b\\ \b\b| \b\b/ \b\b- \b\b\\ \b\b| \b\b/ \b\b- \b\b\\ \b\b| \b\b/ \b\b- \b\b\\ \b\b| \b\b/ \b\b- \b\b\\ \b\b| \b\b/ \b\b- \b\b\\ \b\b| \b\b/ \b\b- \b\b\\ \b\b| \b\b/ \b\b- \b\b\\ \b\b| \b\b/ \b\b- \b\b\\ \b\b| \b\b/ \b\b- \b\b\\ \b\b| \b\b/ \b\b- \b\b\\ \b\b| \b\b/ \b\b- \b\b\\ \b\b| \b\b/ \b\b- \b\b\\ \b\b| \b\b/ \b\b- \b\b\\ \b\b| \b\b/ \b\b- \b\b\\ \b\b| \b\b/ \b\b- \b\b\\ \b\b| \b\b/ \b\b- \b\b\\ \b\b| \b\b/ \b\b- \b\b\\ \b\b| \b\b/ \b\b- \b\b\\ \b\b| \b\b/ \b\b- \b\b\\ \b\b| \b\b/ \b\b- \b\b\\ \b\b| \b\b/ \b\b- \b\b\\ \b\b| \b\b/ \b\b- \b\b\\ \b\b| \b\b/ \b\b- \b\b\\ \b\b| \b\b/ \b\b- \b\b\\ \b\b| \b\b/ \b\b- \b\b\\ \b\b| \b\b/ \b\b- \b\b\\ \b\b| \b\b/ \b\b- \b\b\\ \b\b| \b\b/ \b\b- \b\b\\ \b\b| \b\b/ \b\b- \b\b\\ \b\b| \b\b/ \b\b- \b\b\\ \b\b| \b\b/ \b\b- \b\b\\ \b\b| \b\b/ \b\b- \b\b\\ \b\b| \b\b/ \b\b- \b\bdone\r\n",
      "Solving environment: | \b\b/ \b\b- \b\b\\ \b\b| \b\b/ \b\b- \b\b\\ \b\b| \b\b/ \b\b- \b\b\\ \b\b| \b\b/ \b\b- \b\b\\ \b\b| \b\b/ \b\b- \b\b\\ \b\b| \b\b/ \b\b- \b\b\\ \b\b| \b\b/ \b\b- \b\b\\ \b\b| \b\b/ \b\b- \b\b\\ \b\b| \b\b/ \b\b- \b\b\\ \b\b| \b\b/ \b\b- \b\b\\ \b\b| \b\b/ \b\b- \b\b\\ \b\b| \b\b/ \b\b- \b\b\\ \b\b| \b\b/ \b\b- \b\b\\ \b\b| \b\b/ \b\b- \b\b\\ \b\b| \b\b/ \b\b- \b\b\\ \b\b| \b\b/ \b\b- \b\b\\ \b\b| \b\b/ \b\b- \b\b\\ \b\b| \b\b/ \b\b- \b\b\\ \b\b| \b\b/ \b\b- \b\b\\ \b\b| \b\b/ \b\b- \b\b\\ \b\b| \b\b/ \b\b- \b\b\\ \b\b| \b\b/ \b\b- \b\b\\ \b\b| \b\b/ \b\b- \b\b\\ \b\b| \b\b/ \b\b- \b\b\\ \b\b| \b\bdone\r\n",
      "\r\n",
      "## Package Plan ##\r\n",
      "\r\n",
      "  environment location: /opt/conda\r\n",
      "\r\n",
      "  added / updated specs:\r\n",
      "    - gtfparse\r\n",
      "\r\n",
      "\r\n",
      "The following packages will be downloaded:\r\n",
      "\r\n",
      "    package                    |            build\r\n",
      "    ---------------------------|-----------------\r\n",
      "    gtfparse-1.2.1             |     pyh864c0ab_0          13 KB  bioconda\r\n",
      "    ------------------------------------------------------------\r\n",
      "                                           Total:          13 KB\r\n",
      "\r\n",
      "The following NEW packages will be INSTALLED:\r\n",
      "\r\n",
      "  gtfparse           bioconda/noarch::gtfparse-1.2.1-pyh864c0ab_0\r\n",
      "\r\n",
      "\r\n",
      "\r\n",
      "Downloading and Extracting Packages\r\n",
      "gtfparse-1.2.1       | 13 KB     | ##################################### | 100% \r\n",
      "Preparing transaction: - \b\bdone\r\n",
      "Verifying transaction: | \b\bdone\r\n",
      "Executing transaction: - \b\b\\ \b\b| \b\b/ \b\b- \b\b\\ \b\b| \b\b/ \b\b- \b\b\\ \b\bdone\r\n",
      "\n",
      "Note: you may need to restart the kernel to use updated packages.\n"
     ]
    }
   ],
   "source": [
    "conda install -c bioconda gtfparse"
   ]
  },
  {
   "cell_type": "code",
   "execution_count": 3,
   "id": "8aa1eb5f",
   "metadata": {
    "_kg_hide-input": true,
    "_kg_hide-output": true,
    "execution": {
     "iopub.execute_input": "2022-08-08T10:55:15.099680Z",
     "iopub.status.busy": "2022-08-08T10:55:15.099273Z",
     "iopub.status.idle": "2022-08-08T10:55:16.302934Z",
     "shell.execute_reply": "2022-08-08T10:55:16.301545Z"
    },
    "papermill": {
     "duration": 1.259381,
     "end_time": "2022-08-08T10:55:16.305879",
     "exception": false,
     "start_time": "2022-08-08T10:55:15.046498",
     "status": "completed"
    },
    "tags": []
   },
   "outputs": [],
   "source": [
    "# Dependencies\n",
    "import os\n",
    "import pandas as pd\n",
    "import matplotlib as plt\n",
    "import numpy as np\n",
    "import sys\n",
    "import gtfparse\n",
    "import seaborn as sns\n",
    "\n",
    "# global settings\n",
    "sns.set(rc={'figure.figsize':(11.7,8.27)})"
   ]
  },
  {
   "cell_type": "code",
   "execution_count": 4,
   "id": "7e5736ea",
   "metadata": {
    "_kg_hide-input": true,
    "_kg_hide-output": true,
    "execution": {
     "iopub.execute_input": "2022-08-08T10:55:16.409916Z",
     "iopub.status.busy": "2022-08-08T10:55:16.409508Z",
     "iopub.status.idle": "2022-08-08T10:55:17.573893Z",
     "shell.execute_reply": "2022-08-08T10:55:17.571974Z"
    },
    "papermill": {
     "duration": 1.2196,
     "end_time": "2022-08-08T10:55:17.576938",
     "exception": false,
     "start_time": "2022-08-08T10:55:16.357338",
     "status": "completed"
    },
    "tags": []
   },
   "outputs": [
    {
     "name": "stdout",
     "output_type": "stream",
     "text": [
      "ChEBI-IDs_for_metal_binding.tsv  POS_TRAIN.tsv\t       test-dataset.fasta\r\n",
      "NEG_TRAIN.fasta\t\t\t POS_TRAIN_FULL.fasta  test.txt\r\n",
      "POS_TRAIN.fasta\t\t\t POS_TRAIN_FULL.tsv\r\n"
     ]
    }
   ],
   "source": [
    "os.chdir(db_path)\n",
    "!ls"
   ]
  },
  {
   "cell_type": "code",
   "execution_count": 5,
   "id": "303c160d",
   "metadata": {
    "_kg_hide-input": true,
    "_kg_hide-output": true,
    "execution": {
     "iopub.execute_input": "2022-08-08T10:55:17.684060Z",
     "iopub.status.busy": "2022-08-08T10:55:17.683651Z",
     "iopub.status.idle": "2022-08-08T10:55:17.692876Z",
     "shell.execute_reply": "2022-08-08T10:55:17.691291Z"
    },
    "papermill": {
     "duration": 0.065934,
     "end_time": "2022-08-08T10:55:17.695682",
     "exception": false,
     "start_time": "2022-08-08T10:55:17.629748",
     "status": "completed"
    },
    "tags": []
   },
   "outputs": [],
   "source": [
    "# function to read fasta files into dataframes\n",
    "import pandas as pd\n",
    "def read_fasta(file_name,file_path, columns) :\n",
    "    from Bio.SeqIO.FastaIO import SimpleFastaParser \n",
    "    with open(file_name) as fasta_file:  \n",
    "        records = [] # create empty list\n",
    "        for title, sequence in SimpleFastaParser(fasta_file): #SimpleFastaParser Iterate over Fasta records as string tuples. For each record a tuple of two strings is returned, the FASTA title line (without the leading ‘>’ character), and the sequence (with any whitespace removed). \n",
    "            record = []\n",
    "            title_splits=title.split('|') # Data cleaning is needed\n",
    "            #print(title_splits)\n",
    "                 \n",
    "            \n",
    "            record.append(title_splits[1])  #First values are ID (Append adds element to a list)\n",
    "            record.append(len(sequence)) #Second values are sequences lengths\n",
    "            record.append(title_splits[2]) #It converts into one line\n",
    "            record.append(sequence)#Third values are sequences\n",
    "            records.append(record)\n",
    "    return pd.DataFrame(records, columns = columns) #We have created a function that returns a dataframe\n"
   ]
  },
  {
   "cell_type": "markdown",
   "id": "d6437329",
   "metadata": {
    "papermill": {
     "duration": 0.050214,
     "end_time": "2022-08-08T10:55:17.797530",
     "exception": false,
     "start_time": "2022-08-08T10:55:17.747316",
     "status": "completed"
    },
    "tags": []
   },
   "source": [
    "## Exploring POS_TRAIN "
   ]
  },
  {
   "cell_type": "code",
   "execution_count": 6,
   "id": "7c53422f",
   "metadata": {
    "_kg_hide-input": true,
    "_kg_hide-output": true,
    "execution": {
     "iopub.execute_input": "2022-08-08T10:55:17.903347Z",
     "iopub.status.busy": "2022-08-08T10:55:17.902868Z",
     "iopub.status.idle": "2022-08-08T10:55:18.119008Z",
     "shell.execute_reply": "2022-08-08T10:55:18.118135Z"
    },
    "papermill": {
     "duration": 0.271694,
     "end_time": "2022-08-08T10:55:18.121400",
     "exception": false,
     "start_time": "2022-08-08T10:55:17.849706",
     "status": "completed"
    },
    "tags": []
   },
   "outputs": [
    {
     "data": {
      "text/html": [
       "<div>\n",
       "<style scoped>\n",
       "    .dataframe tbody tr th:only-of-type {\n",
       "        vertical-align: middle;\n",
       "    }\n",
       "\n",
       "    .dataframe tbody tr th {\n",
       "        vertical-align: top;\n",
       "    }\n",
       "\n",
       "    .dataframe thead th {\n",
       "        text-align: right;\n",
       "    }\n",
       "</style>\n",
       "<table border=\"1\" class=\"dataframe\">\n",
       "  <thead>\n",
       "    <tr style=\"text-align: right;\">\n",
       "      <th></th>\n",
       "      <th>id</th>\n",
       "      <th>seq_length</th>\n",
       "      <th>info</th>\n",
       "      <th>sequence</th>\n",
       "    </tr>\n",
       "  </thead>\n",
       "  <tbody>\n",
       "    <tr>\n",
       "      <th>0</th>\n",
       "      <td>A0A023GPI8</td>\n",
       "      <td>237</td>\n",
       "      <td>LECA_CANBL Lectin alpha chain OS=Canavalia bol...</td>\n",
       "      <td>ADTIVAVELDTYPNTDIGDPSYPHIGIDIKSVRSKKTAKWNMQNGK...</td>\n",
       "    </tr>\n",
       "    <tr>\n",
       "      <th>1</th>\n",
       "      <td>A0A067XG71</td>\n",
       "      <td>237</td>\n",
       "      <td>LECA_CANGR Lectin ConGF OS=Canavalia grandiflo...</td>\n",
       "      <td>ADTIVAVELDTYPNTDIGDPNYPHIGIDIKSIRSKKIAKWNMQDGK...</td>\n",
       "    </tr>\n",
       "    <tr>\n",
       "      <th>2</th>\n",
       "      <td>A0A084JZF2</td>\n",
       "      <td>303</td>\n",
       "      <td>UL28B_NONUL Ulvan lyase NLR48 OS=Nonlabens ulv...</td>\n",
       "      <td>MRKLKYNTTRVILMIAFISLSACSSEDAMIEEEQVIPDPDPVAQTD...</td>\n",
       "    </tr>\n",
       "    <tr>\n",
       "      <th>3</th>\n",
       "      <td>A0A096P8D3</td>\n",
       "      <td>470</td>\n",
       "      <td>IDH_OSTTA Isocitrate dehydrogenase (NAD(+)), m...</td>\n",
       "      <td>MTRVERGRVLARAIERAVAHRASARRWTTTTRTPAWMVTGWMGGRG...</td>\n",
       "    </tr>\n",
       "    <tr>\n",
       "      <th>4</th>\n",
       "      <td>A0A0D4WV12</td>\n",
       "      <td>279</td>\n",
       "      <td>BIB11_SICTE Dermonecrotic toxin StSicTox-betaI...</td>\n",
       "      <td>GDSRRPIWNIAHMVNDLDLVDEYLDDGANSLELDVEFSKSGTALRT...</td>\n",
       "    </tr>\n",
       "  </tbody>\n",
       "</table>\n",
       "</div>"
      ],
      "text/plain": [
       "           id  seq_length                                               info  \\\n",
       "0  A0A023GPI8         237  LECA_CANBL Lectin alpha chain OS=Canavalia bol...   \n",
       "1  A0A067XG71         237  LECA_CANGR Lectin ConGF OS=Canavalia grandiflo...   \n",
       "2  A0A084JZF2         303  UL28B_NONUL Ulvan lyase NLR48 OS=Nonlabens ulv...   \n",
       "3  A0A096P8D3         470  IDH_OSTTA Isocitrate dehydrogenase (NAD(+)), m...   \n",
       "4  A0A0D4WV12         279  BIB11_SICTE Dermonecrotic toxin StSicTox-betaI...   \n",
       "\n",
       "                                            sequence  \n",
       "0  ADTIVAVELDTYPNTDIGDPSYPHIGIDIKSVRSKKTAKWNMQNGK...  \n",
       "1  ADTIVAVELDTYPNTDIGDPNYPHIGIDIKSIRSKKIAKWNMQDGK...  \n",
       "2  MRKLKYNTTRVILMIAFISLSACSSEDAMIEEEQVIPDPDPVAQTD...  \n",
       "3  MTRVERGRVLARAIERAVAHRASARRWTTTTRTPAWMVTGWMGGRG...  \n",
       "4  GDSRRPIWNIAHMVNDLDLVDEYLDDGANSLELDVEFSKSGTALRT...  "
      ]
     },
     "execution_count": 6,
     "metadata": {},
     "output_type": "execute_result"
    }
   ],
   "source": [
    "# exploring pos train fasta file\n",
    "pos_train_fasta = read_fasta(\"POS_TRAIN.fasta\",db_path, columns=[\"id\",\"seq_length\",\"info\", \"sequence\"])\n",
    "pos_train_fasta.head()"
   ]
  },
  {
   "cell_type": "code",
   "execution_count": 7,
   "id": "b8f055f7",
   "metadata": {
    "_kg_hide-input": true,
    "_kg_hide-output": true,
    "execution": {
     "iopub.execute_input": "2022-08-08T10:55:18.226437Z",
     "iopub.status.busy": "2022-08-08T10:55:18.225664Z",
     "iopub.status.idle": "2022-08-08T10:55:18.270485Z",
     "shell.execute_reply": "2022-08-08T10:55:18.269211Z"
    },
    "papermill": {
     "duration": 0.100513,
     "end_time": "2022-08-08T10:55:18.273322",
     "exception": false,
     "start_time": "2022-08-08T10:55:18.172809",
     "status": "completed"
    },
    "tags": []
   },
   "outputs": [
    {
     "data": {
      "text/html": [
       "<div>\n",
       "<style scoped>\n",
       "    .dataframe tbody tr th:only-of-type {\n",
       "        vertical-align: middle;\n",
       "    }\n",
       "\n",
       "    .dataframe tbody tr th {\n",
       "        vertical-align: top;\n",
       "    }\n",
       "\n",
       "    .dataframe thead th {\n",
       "        text-align: right;\n",
       "    }\n",
       "</style>\n",
       "<table border=\"1\" class=\"dataframe\">\n",
       "  <thead>\n",
       "    <tr style=\"text-align: right;\">\n",
       "      <th></th>\n",
       "      <th>Accession</th>\n",
       "      <th>Evidence</th>\n",
       "      <th>ChEBI-ID</th>\n",
       "      <th>Position</th>\n",
       "    </tr>\n",
       "  </thead>\n",
       "  <tbody>\n",
       "    <tr>\n",
       "      <th>0</th>\n",
       "      <td>Q8INK9</td>\n",
       "      <td>ECO:0000269</td>\n",
       "      <td>CHEBI:29105</td>\n",
       "      <td>157</td>\n",
       "    </tr>\n",
       "    <tr>\n",
       "      <th>1</th>\n",
       "      <td>Q8INK9</td>\n",
       "      <td>ECO:0000269</td>\n",
       "      <td>CHEBI:29105</td>\n",
       "      <td>96</td>\n",
       "    </tr>\n",
       "    <tr>\n",
       "      <th>2</th>\n",
       "      <td>Q1QT89</td>\n",
       "      <td>ECO:0000269</td>\n",
       "      <td>CHEBI:18420</td>\n",
       "      <td>263</td>\n",
       "    </tr>\n",
       "    <tr>\n",
       "      <th>3</th>\n",
       "      <td>P07327</td>\n",
       "      <td>ECO:0000269</td>\n",
       "      <td>CHEBI:29105</td>\n",
       "      <td>101</td>\n",
       "    </tr>\n",
       "    <tr>\n",
       "      <th>4</th>\n",
       "      <td>P07327</td>\n",
       "      <td>ECO:0007744</td>\n",
       "      <td>CHEBI:29105</td>\n",
       "      <td>104</td>\n",
       "    </tr>\n",
       "  </tbody>\n",
       "</table>\n",
       "</div>"
      ],
      "text/plain": [
       "  Accession     Evidence     ChEBI-ID  Position\n",
       "0    Q8INK9  ECO:0000269  CHEBI:29105       157\n",
       "1    Q8INK9  ECO:0000269  CHEBI:29105        96\n",
       "2    Q1QT89  ECO:0000269  CHEBI:18420       263\n",
       "3    P07327  ECO:0000269  CHEBI:29105       101\n",
       "4    P07327  ECO:0007744  CHEBI:29105       104"
      ]
     },
     "execution_count": 7,
     "metadata": {},
     "output_type": "execute_result"
    }
   ],
   "source": [
    "pos_train_tsv = pd.read_csv(db_path+'/POS_TRAIN.tsv', sep='\\t', header=0)\n",
    "pos_train_tsv.head()"
   ]
  },
  {
   "cell_type": "code",
   "execution_count": 8,
   "id": "6f057e3c",
   "metadata": {
    "_kg_hide-input": true,
    "_kg_hide-output": true,
    "execution": {
     "iopub.execute_input": "2022-08-08T10:55:18.380325Z",
     "iopub.status.busy": "2022-08-08T10:55:18.379603Z",
     "iopub.status.idle": "2022-08-08T10:55:18.412772Z",
     "shell.execute_reply": "2022-08-08T10:55:18.411146Z"
    },
    "papermill": {
     "duration": 0.089047,
     "end_time": "2022-08-08T10:55:18.415598",
     "exception": false,
     "start_time": "2022-08-08T10:55:18.326551",
     "status": "completed"
    },
    "tags": []
   },
   "outputs": [
    {
     "name": "stdout",
     "output_type": "stream",
     "text": [
      "<class 'pandas.core.frame.DataFrame'>\n",
      "RangeIndex: 18043 entries, 0 to 18042\n",
      "Data columns (total 4 columns):\n",
      " #   Column     Non-Null Count  Dtype \n",
      "---  ------     --------------  ----- \n",
      " 0   Accession  18043 non-null  object\n",
      " 1   Evidence   18043 non-null  object\n",
      " 2   ChEBI-ID   18043 non-null  object\n",
      " 3   Position   18043 non-null  int64 \n",
      "dtypes: int64(1), object(3)\n",
      "memory usage: 564.0+ KB\n"
     ]
    }
   ],
   "source": [
    "pos_train_tsv.info()"
   ]
  },
  {
   "cell_type": "code",
   "execution_count": 9,
   "id": "93d9f4b6",
   "metadata": {
    "_kg_hide-input": true,
    "_kg_hide-output": true,
    "execution": {
     "iopub.execute_input": "2022-08-08T10:55:18.522246Z",
     "iopub.status.busy": "2022-08-08T10:55:18.521779Z",
     "iopub.status.idle": "2022-08-08T10:55:18.559846Z",
     "shell.execute_reply": "2022-08-08T10:55:18.558579Z"
    },
    "papermill": {
     "duration": 0.093283,
     "end_time": "2022-08-08T10:55:18.562314",
     "exception": false,
     "start_time": "2022-08-08T10:55:18.469031",
     "status": "completed"
    },
    "tags": []
   },
   "outputs": [
    {
     "data": {
      "text/html": [
       "<div>\n",
       "<style scoped>\n",
       "    .dataframe tbody tr th:only-of-type {\n",
       "        vertical-align: middle;\n",
       "    }\n",
       "\n",
       "    .dataframe tbody tr th {\n",
       "        vertical-align: top;\n",
       "    }\n",
       "\n",
       "    .dataframe thead th {\n",
       "        text-align: right;\n",
       "    }\n",
       "</style>\n",
       "<table border=\"1\" class=\"dataframe\">\n",
       "  <thead>\n",
       "    <tr style=\"text-align: right;\">\n",
       "      <th></th>\n",
       "      <th>id</th>\n",
       "      <th>ChEBI-ID</th>\n",
       "      <th>Position</th>\n",
       "      <th>sequence</th>\n",
       "    </tr>\n",
       "  </thead>\n",
       "  <tbody>\n",
       "    <tr>\n",
       "      <th>0</th>\n",
       "      <td>Q8INK9</td>\n",
       "      <td>CHEBI:29105</td>\n",
       "      <td>157</td>\n",
       "      <td>MFALSARHALRRTRIFAIPRFFADSRQDSDNPDKRYSGPAATMDNK...</td>\n",
       "    </tr>\n",
       "    <tr>\n",
       "      <th>1</th>\n",
       "      <td>Q8INK9</td>\n",
       "      <td>CHEBI:29105</td>\n",
       "      <td>96</td>\n",
       "      <td>MFALSARHALRRTRIFAIPRFFADSRQDSDNPDKRYSGPAATMDNK...</td>\n",
       "    </tr>\n",
       "    <tr>\n",
       "      <th>2</th>\n",
       "      <td>Q8INK9</td>\n",
       "      <td>CHEBI:29105</td>\n",
       "      <td>93</td>\n",
       "      <td>MFALSARHALRRTRIFAIPRFFADSRQDSDNPDKRYSGPAATMDNK...</td>\n",
       "    </tr>\n",
       "    <tr>\n",
       "      <th>3</th>\n",
       "      <td>Q8INK9</td>\n",
       "      <td>CHEBI:29105</td>\n",
       "      <td>154</td>\n",
       "      <td>MFALSARHALRRTRIFAIPRFFADSRQDSDNPDKRYSGPAATMDNK...</td>\n",
       "    </tr>\n",
       "    <tr>\n",
       "      <th>4</th>\n",
       "      <td>Q1QT89</td>\n",
       "      <td>CHEBI:18420</td>\n",
       "      <td>263</td>\n",
       "      <td>MKIRDAYTIVTCPGRNFVTLKIVTESGTHGIGDATLNGREMAVAAY...</td>\n",
       "    </tr>\n",
       "  </tbody>\n",
       "</table>\n",
       "</div>"
      ],
      "text/plain": [
       "       id     ChEBI-ID  Position  \\\n",
       "0  Q8INK9  CHEBI:29105       157   \n",
       "1  Q8INK9  CHEBI:29105        96   \n",
       "2  Q8INK9  CHEBI:29105        93   \n",
       "3  Q8INK9  CHEBI:29105       154   \n",
       "4  Q1QT89  CHEBI:18420       263   \n",
       "\n",
       "                                            sequence  \n",
       "0  MFALSARHALRRTRIFAIPRFFADSRQDSDNPDKRYSGPAATMDNK...  \n",
       "1  MFALSARHALRRTRIFAIPRFFADSRQDSDNPDKRYSGPAATMDNK...  \n",
       "2  MFALSARHALRRTRIFAIPRFFADSRQDSDNPDKRYSGPAATMDNK...  \n",
       "3  MFALSARHALRRTRIFAIPRFFADSRQDSDNPDKRYSGPAATMDNK...  \n",
       "4  MKIRDAYTIVTCPGRNFVTLKIVTESGTHGIGDATLNGREMAVAAY...  "
      ]
     },
     "execution_count": 9,
     "metadata": {},
     "output_type": "execute_result"
    }
   ],
   "source": [
    "pos_train_df0 = pd.merge(pos_train_tsv, pos_train_fasta, left_on='Accession', right_on='id')\n",
    "pos_train_df0 = pos_train_df0[['id','ChEBI-ID','Position','sequence']]\n",
    "pos_train_df0.head()"
   ]
  },
  {
   "cell_type": "code",
   "execution_count": 10,
   "id": "cdbd8f7b",
   "metadata": {
    "_kg_hide-input": true,
    "_kg_hide-output": true,
    "execution": {
     "iopub.execute_input": "2022-08-08T10:55:18.667258Z",
     "iopub.status.busy": "2022-08-08T10:55:18.666435Z",
     "iopub.status.idle": "2022-08-08T10:55:19.085579Z",
     "shell.execute_reply": "2022-08-08T10:55:19.083949Z"
    },
    "papermill": {
     "duration": 0.474485,
     "end_time": "2022-08-08T10:55:19.088267",
     "exception": false,
     "start_time": "2022-08-08T10:55:18.613782",
     "status": "completed"
    },
    "tags": []
   },
   "outputs": [
    {
     "data": {
      "text/html": [
       "<div>\n",
       "<style scoped>\n",
       "    .dataframe tbody tr th:only-of-type {\n",
       "        vertical-align: middle;\n",
       "    }\n",
       "\n",
       "    .dataframe tbody tr th {\n",
       "        vertical-align: top;\n",
       "    }\n",
       "\n",
       "    .dataframe thead th {\n",
       "        text-align: right;\n",
       "    }\n",
       "</style>\n",
       "<table border=\"1\" class=\"dataframe\">\n",
       "  <thead>\n",
       "    <tr style=\"text-align: right;\">\n",
       "      <th></th>\n",
       "      <th>id</th>\n",
       "      <th>ChEBI-ID</th>\n",
       "      <th>Position</th>\n",
       "      <th>sequence</th>\n",
       "      <th>binding_amino_acid</th>\n",
       "    </tr>\n",
       "  </thead>\n",
       "  <tbody>\n",
       "    <tr>\n",
       "      <th>0</th>\n",
       "      <td>Q8INK9</td>\n",
       "      <td>CHEBI:29105</td>\n",
       "      <td>157</td>\n",
       "      <td>MFALSARHALRRTRIFAIPRFFADSRQDSDNPDKRYSGPAATMDNK...</td>\n",
       "      <td>C</td>\n",
       "    </tr>\n",
       "    <tr>\n",
       "      <th>1</th>\n",
       "      <td>Q8INK9</td>\n",
       "      <td>CHEBI:29105</td>\n",
       "      <td>96</td>\n",
       "      <td>MFALSARHALRRTRIFAIPRFFADSRQDSDNPDKRYSGPAATMDNK...</td>\n",
       "      <td>C</td>\n",
       "    </tr>\n",
       "    <tr>\n",
       "      <th>2</th>\n",
       "      <td>Q8INK9</td>\n",
       "      <td>CHEBI:29105</td>\n",
       "      <td>93</td>\n",
       "      <td>MFALSARHALRRTRIFAIPRFFADSRQDSDNPDKRYSGPAATMDNK...</td>\n",
       "      <td>C</td>\n",
       "    </tr>\n",
       "    <tr>\n",
       "      <th>3</th>\n",
       "      <td>Q8INK9</td>\n",
       "      <td>CHEBI:29105</td>\n",
       "      <td>154</td>\n",
       "      <td>MFALSARHALRRTRIFAIPRFFADSRQDSDNPDKRYSGPAATMDNK...</td>\n",
       "      <td>C</td>\n",
       "    </tr>\n",
       "    <tr>\n",
       "      <th>4</th>\n",
       "      <td>Q1QT89</td>\n",
       "      <td>CHEBI:18420</td>\n",
       "      <td>263</td>\n",
       "      <td>MKIRDAYTIVTCPGRNFVTLKIVTESGTHGIGDATLNGREMAVAAY...</td>\n",
       "      <td>E</td>\n",
       "    </tr>\n",
       "  </tbody>\n",
       "</table>\n",
       "</div>"
      ],
      "text/plain": [
       "       id     ChEBI-ID  Position  \\\n",
       "0  Q8INK9  CHEBI:29105       157   \n",
       "1  Q8INK9  CHEBI:29105        96   \n",
       "2  Q8INK9  CHEBI:29105        93   \n",
       "3  Q8INK9  CHEBI:29105       154   \n",
       "4  Q1QT89  CHEBI:18420       263   \n",
       "\n",
       "                                            sequence binding_amino_acid  \n",
       "0  MFALSARHALRRTRIFAIPRFFADSRQDSDNPDKRYSGPAATMDNK...                  C  \n",
       "1  MFALSARHALRRTRIFAIPRFFADSRQDSDNPDKRYSGPAATMDNK...                  C  \n",
       "2  MFALSARHALRRTRIFAIPRFFADSRQDSDNPDKRYSGPAATMDNK...                  C  \n",
       "3  MFALSARHALRRTRIFAIPRFFADSRQDSDNPDKRYSGPAATMDNK...                  C  \n",
       "4  MKIRDAYTIVTCPGRNFVTLKIVTESGTHGIGDATLNGREMAVAAY...                  E  "
      ]
     },
     "execution_count": 10,
     "metadata": {},
     "output_type": "execute_result"
    }
   ],
   "source": [
    "# function to determine the amino acid that the binding happened at\n",
    "pos_train_df0['binding_amino_acid'] = pos_train_df0.apply(\n",
    "    lambda row: row.sequence[row.Position-1] , axis=1)\n",
    "\n",
    "# function to determine the \n",
    "pos_train_df0.head()"
   ]
  },
  {
   "cell_type": "code",
   "execution_count": 11,
   "id": "75ce2397",
   "metadata": {
    "_kg_hide-input": true,
    "_kg_hide-output": true,
    "execution": {
     "iopub.execute_input": "2022-08-08T10:55:19.197824Z",
     "iopub.status.busy": "2022-08-08T10:55:19.196986Z",
     "iopub.status.idle": "2022-08-08T10:55:19.216662Z",
     "shell.execute_reply": "2022-08-08T10:55:19.215187Z"
    },
    "papermill": {
     "duration": 0.077366,
     "end_time": "2022-08-08T10:55:19.219696",
     "exception": false,
     "start_time": "2022-08-08T10:55:19.142330",
     "status": "completed"
    },
    "tags": []
   },
   "outputs": [
    {
     "data": {
      "text/html": [
       "<div>\n",
       "<style scoped>\n",
       "    .dataframe tbody tr th:only-of-type {\n",
       "        vertical-align: middle;\n",
       "    }\n",
       "\n",
       "    .dataframe tbody tr th {\n",
       "        vertical-align: top;\n",
       "    }\n",
       "\n",
       "    .dataframe thead th {\n",
       "        text-align: right;\n",
       "    }\n",
       "</style>\n",
       "<table border=\"1\" class=\"dataframe\">\n",
       "  <thead>\n",
       "    <tr style=\"text-align: right;\">\n",
       "      <th></th>\n",
       "      <th>ChEBI-ID</th>\n",
       "      <th>Name</th>\n",
       "    </tr>\n",
       "  </thead>\n",
       "  <tbody>\n",
       "    <tr>\n",
       "      <th>0</th>\n",
       "      <td>CHEBI:48775</td>\n",
       "      <td>Cd(2+)</td>\n",
       "    </tr>\n",
       "    <tr>\n",
       "      <th>1</th>\n",
       "      <td>CHEBI:29108</td>\n",
       "      <td>Ca(2+)</td>\n",
       "    </tr>\n",
       "    <tr>\n",
       "      <th>2</th>\n",
       "      <td>CHEBI:48828</td>\n",
       "      <td>Co(2+)</td>\n",
       "    </tr>\n",
       "    <tr>\n",
       "      <th>3</th>\n",
       "      <td>CHEBI:49415</td>\n",
       "      <td>Co(3+)</td>\n",
       "    </tr>\n",
       "    <tr>\n",
       "      <th>4</th>\n",
       "      <td>CHEBI:23378</td>\n",
       "      <td>Cu cation</td>\n",
       "    </tr>\n",
       "  </tbody>\n",
       "</table>\n",
       "</div>"
      ],
      "text/plain": [
       "      ChEBI-ID       Name\n",
       "0  CHEBI:48775     Cd(2+)\n",
       "1  CHEBI:29108     Ca(2+)\n",
       "2  CHEBI:48828     Co(2+)\n",
       "3  CHEBI:49415     Co(3+)\n",
       "4  CHEBI:23378  Cu cation"
      ]
     },
     "execution_count": 11,
     "metadata": {},
     "output_type": "execute_result"
    }
   ],
   "source": [
    "chebi_id_df = pd.read_csv(db_path+'/ChEBI-IDs_for_metal_binding.tsv', sep='\\t', header=0)\n",
    "chebi_id_df = chebi_id_df[['ChEBI-ID','Name']]\n",
    "chebi_id_df.head()"
   ]
  },
  {
   "cell_type": "code",
   "execution_count": 12,
   "id": "a36ae8d2",
   "metadata": {
    "_kg_hide-input": true,
    "_kg_hide-output": true,
    "execution": {
     "iopub.execute_input": "2022-08-08T10:55:19.328277Z",
     "iopub.status.busy": "2022-08-08T10:55:19.327830Z",
     "iopub.status.idle": "2022-08-08T10:55:19.358165Z",
     "shell.execute_reply": "2022-08-08T10:55:19.356471Z"
    },
    "papermill": {
     "duration": 0.089355,
     "end_time": "2022-08-08T10:55:19.361401",
     "exception": false,
     "start_time": "2022-08-08T10:55:19.272046",
     "status": "completed"
    },
    "tags": []
   },
   "outputs": [
    {
     "data": {
      "text/html": [
       "<div>\n",
       "<style scoped>\n",
       "    .dataframe tbody tr th:only-of-type {\n",
       "        vertical-align: middle;\n",
       "    }\n",
       "\n",
       "    .dataframe tbody tr th {\n",
       "        vertical-align: top;\n",
       "    }\n",
       "\n",
       "    .dataframe thead th {\n",
       "        text-align: right;\n",
       "    }\n",
       "</style>\n",
       "<table border=\"1\" class=\"dataframe\">\n",
       "  <thead>\n",
       "    <tr style=\"text-align: right;\">\n",
       "      <th></th>\n",
       "      <th>id</th>\n",
       "      <th>metal_name</th>\n",
       "      <th>Position</th>\n",
       "      <th>binding_amino_acid</th>\n",
       "      <th>sequence</th>\n",
       "    </tr>\n",
       "  </thead>\n",
       "  <tbody>\n",
       "    <tr>\n",
       "      <th>0</th>\n",
       "      <td>Q8INK9</td>\n",
       "      <td>Zn(2+)</td>\n",
       "      <td>157</td>\n",
       "      <td>C</td>\n",
       "      <td>MFALSARHALRRTRIFAIPRFFADSRQDSDNPDKRYSGPAATMDNK...</td>\n",
       "    </tr>\n",
       "    <tr>\n",
       "      <th>1</th>\n",
       "      <td>Q8INK9</td>\n",
       "      <td>Zn(2+)</td>\n",
       "      <td>96</td>\n",
       "      <td>C</td>\n",
       "      <td>MFALSARHALRRTRIFAIPRFFADSRQDSDNPDKRYSGPAATMDNK...</td>\n",
       "    </tr>\n",
       "    <tr>\n",
       "      <th>2</th>\n",
       "      <td>Q8INK9</td>\n",
       "      <td>Zn(2+)</td>\n",
       "      <td>93</td>\n",
       "      <td>C</td>\n",
       "      <td>MFALSARHALRRTRIFAIPRFFADSRQDSDNPDKRYSGPAATMDNK...</td>\n",
       "    </tr>\n",
       "    <tr>\n",
       "      <th>3</th>\n",
       "      <td>Q8INK9</td>\n",
       "      <td>Zn(2+)</td>\n",
       "      <td>154</td>\n",
       "      <td>C</td>\n",
       "      <td>MFALSARHALRRTRIFAIPRFFADSRQDSDNPDKRYSGPAATMDNK...</td>\n",
       "    </tr>\n",
       "    <tr>\n",
       "      <th>4</th>\n",
       "      <td>P07327</td>\n",
       "      <td>Zn(2+)</td>\n",
       "      <td>101</td>\n",
       "      <td>C</td>\n",
       "      <td>MSTAGKVIKCKAAVLWELKKPFSIEEVEVAPPKAHEVRIKMVAVGI...</td>\n",
       "    </tr>\n",
       "  </tbody>\n",
       "</table>\n",
       "</div>"
      ],
      "text/plain": [
       "       id metal_name  Position binding_amino_acid  \\\n",
       "0  Q8INK9     Zn(2+)       157                  C   \n",
       "1  Q8INK9     Zn(2+)        96                  C   \n",
       "2  Q8INK9     Zn(2+)        93                  C   \n",
       "3  Q8INK9     Zn(2+)       154                  C   \n",
       "4  P07327     Zn(2+)       101                  C   \n",
       "\n",
       "                                            sequence  \n",
       "0  MFALSARHALRRTRIFAIPRFFADSRQDSDNPDKRYSGPAATMDNK...  \n",
       "1  MFALSARHALRRTRIFAIPRFFADSRQDSDNPDKRYSGPAATMDNK...  \n",
       "2  MFALSARHALRRTRIFAIPRFFADSRQDSDNPDKRYSGPAATMDNK...  \n",
       "3  MFALSARHALRRTRIFAIPRFFADSRQDSDNPDKRYSGPAATMDNK...  \n",
       "4  MSTAGKVIKCKAAVLWELKKPFSIEEVEVAPPKAHEVRIKMVAVGI...  "
      ]
     },
     "execution_count": 12,
     "metadata": {},
     "output_type": "execute_result"
    }
   ],
   "source": [
    "pos_train_df1 = pd.merge(pos_train_df0, chebi_id_df, left_on='ChEBI-ID', right_on='ChEBI-ID')\n",
    "pos_train_df1 = pos_train_df1[['id','Name','Position', 'binding_amino_acid','sequence']]\n",
    "pos_train_df1 = pos_train_df1.rename(columns={\"Name\": \"metal_name\"})\n",
    "pos_train_df1.head()"
   ]
  },
  {
   "cell_type": "code",
   "execution_count": 13,
   "id": "211294b8",
   "metadata": {
    "_kg_hide-input": true,
    "_kg_hide-output": true,
    "execution": {
     "iopub.execute_input": "2022-08-08T10:55:19.474423Z",
     "iopub.status.busy": "2022-08-08T10:55:19.473927Z",
     "iopub.status.idle": "2022-08-08T10:55:19.488885Z",
     "shell.execute_reply": "2022-08-08T10:55:19.487657Z"
    },
    "papermill": {
     "duration": 0.072864,
     "end_time": "2022-08-08T10:55:19.491762",
     "exception": false,
     "start_time": "2022-08-08T10:55:19.418898",
     "status": "completed"
    },
    "tags": []
   },
   "outputs": [
    {
     "data": {
      "text/plain": [
       "count    18043.000000\n",
       "mean       287.125644\n",
       "std        422.697156\n",
       "min          1.000000\n",
       "25%         88.000000\n",
       "50%        187.000000\n",
       "75%        334.000000\n",
       "max       5038.000000\n",
       "Name: Position, dtype: float64"
      ]
     },
     "execution_count": 13,
     "metadata": {},
     "output_type": "execute_result"
    }
   ],
   "source": [
    "pos_train_df1['Position'].describe()"
   ]
  },
  {
   "cell_type": "code",
   "execution_count": 14,
   "id": "92995ed6",
   "metadata": {
    "_kg_hide-input": true,
    "_kg_hide-output": true,
    "execution": {
     "iopub.execute_input": "2022-08-08T10:55:19.603328Z",
     "iopub.status.busy": "2022-08-08T10:55:19.602511Z",
     "iopub.status.idle": "2022-08-08T10:55:19.632854Z",
     "shell.execute_reply": "2022-08-08T10:55:19.631676Z"
    },
    "papermill": {
     "duration": 0.089078,
     "end_time": "2022-08-08T10:55:19.635344",
     "exception": false,
     "start_time": "2022-08-08T10:55:19.546266",
     "status": "completed"
    },
    "tags": []
   },
   "outputs": [
    {
     "data": {
      "text/plain": [
       "6056"
      ]
     },
     "execution_count": 14,
     "metadata": {},
     "output_type": "execute_result"
    }
   ],
   "source": [
    "# checking for duplicates\n",
    "pos_train_df1.duplicated().sum()"
   ]
  },
  {
   "cell_type": "markdown",
   "id": "65334f1f",
   "metadata": {
    "_kg_hide-input": true,
    "_kg_hide-output": true,
    "papermill": {
     "duration": 0.051549,
     "end_time": "2022-08-08T10:55:19.741419",
     "exception": false,
     "start_time": "2022-08-08T10:55:19.689870",
     "status": "completed"
    },
    "tags": []
   },
   "source": [
    "Duplicates are result of having two evidences for the same observation! since we have dropped the evidence column, we have to drop the duplicate records."
   ]
  },
  {
   "cell_type": "code",
   "execution_count": 15,
   "id": "e2d79d73",
   "metadata": {
    "_kg_hide-input": true,
    "_kg_hide-output": true,
    "execution": {
     "iopub.execute_input": "2022-08-08T10:55:19.848488Z",
     "iopub.status.busy": "2022-08-08T10:55:19.847697Z",
     "iopub.status.idle": "2022-08-08T10:55:19.896190Z",
     "shell.execute_reply": "2022-08-08T10:55:19.894949Z"
    },
    "papermill": {
     "duration": 0.106,
     "end_time": "2022-08-08T10:55:19.898915",
     "exception": false,
     "start_time": "2022-08-08T10:55:19.792915",
     "status": "completed"
    },
    "tags": []
   },
   "outputs": [
    {
     "data": {
      "text/plain": [
       "0"
      ]
     },
     "execution_count": 15,
     "metadata": {},
     "output_type": "execute_result"
    }
   ],
   "source": [
    "# dropping duplicates \n",
    "pos_train_df1 = pos_train_df1.drop_duplicates()\n",
    "\n",
    "# then checking again for duplicates\n",
    "pos_train_df1.duplicated().sum()"
   ]
  },
  {
   "cell_type": "code",
   "execution_count": 16,
   "id": "fce05d9b",
   "metadata": {
    "_kg_hide-input": true,
    "_kg_hide-output": true,
    "execution": {
     "iopub.execute_input": "2022-08-08T10:55:20.009993Z",
     "iopub.status.busy": "2022-08-08T10:55:20.009117Z",
     "iopub.status.idle": "2022-08-08T10:55:20.204692Z",
     "shell.execute_reply": "2022-08-08T10:55:20.203185Z"
    },
    "papermill": {
     "duration": 0.254051,
     "end_time": "2022-08-08T10:55:20.207642",
     "exception": false,
     "start_time": "2022-08-08T10:55:19.953591",
     "status": "completed"
    },
    "tags": []
   },
   "outputs": [],
   "source": [
    "# Getting part of the sequence before and after the binding amino acids with an offset of 3 amino acids\n",
    "def window_3(Position,sequence):\n",
    "    if Position <= 3:\n",
    "        return sequence[:Position+3]\n",
    "    if Position >= 5035:\n",
    "        return sequence[Position-4:]\n",
    "    else:\n",
    "        return sequence[Position-4:Position+3]\n",
    "\n",
    "pos_train_df1[\"window_3\"] = pos_train_df1.apply(lambda row: window_3(row[\"Position\"],row[\"sequence\"]),\n",
    "\n",
    "axis=1)"
   ]
  },
  {
   "cell_type": "code",
   "execution_count": 17,
   "id": "1804e753",
   "metadata": {
    "_kg_hide-input": true,
    "_kg_hide-output": true,
    "execution": {
     "iopub.execute_input": "2022-08-08T10:55:20.316703Z",
     "iopub.status.busy": "2022-08-08T10:55:20.316184Z",
     "iopub.status.idle": "2022-08-08T10:55:20.332904Z",
     "shell.execute_reply": "2022-08-08T10:55:20.331775Z"
    },
    "papermill": {
     "duration": 0.073205,
     "end_time": "2022-08-08T10:55:20.335821",
     "exception": false,
     "start_time": "2022-08-08T10:55:20.262616",
     "status": "completed"
    },
    "tags": []
   },
   "outputs": [
    {
     "data": {
      "text/plain": [
       "count       11987\n",
       "unique      10291\n",
       "top       VELDTYP\n",
       "freq           12\n",
       "Name: window_3, dtype: object"
      ]
     },
     "execution_count": 17,
     "metadata": {},
     "output_type": "execute_result"
    }
   ],
   "source": [
    "pos_train_df1['window_3'].describe()"
   ]
  },
  {
   "cell_type": "code",
   "execution_count": 18,
   "id": "499fa624",
   "metadata": {
    "_kg_hide-input": true,
    "_kg_hide-output": true,
    "execution": {
     "iopub.execute_input": "2022-08-08T10:55:20.447811Z",
     "iopub.status.busy": "2022-08-08T10:55:20.447417Z",
     "iopub.status.idle": "2022-08-08T10:55:20.636156Z",
     "shell.execute_reply": "2022-08-08T10:55:20.634977Z"
    },
    "papermill": {
     "duration": 0.247974,
     "end_time": "2022-08-08T10:55:20.639198",
     "exception": false,
     "start_time": "2022-08-08T10:55:20.391224",
     "status": "completed"
    },
    "tags": []
   },
   "outputs": [],
   "source": [
    "# Getting part of the sequence before and after the binding amino acids with an offset of 10 amino acids\n",
    "def window_10(Position,sequence):\n",
    "    if Position <= 10:\n",
    "        return sequence[:Position+10]\n",
    "    if Position >= 5028:\n",
    "        return sequence[Position-11:]\n",
    "    else:\n",
    "        return sequence[Position-11:Position+10]\n",
    "\n",
    "pos_train_df1[\"window_10\"] = pos_train_df1.apply(lambda row: window_10(row[\"Position\"],row[\"sequence\"]),\n",
    "\n",
    "axis=1)"
   ]
  },
  {
   "cell_type": "code",
   "execution_count": 19,
   "id": "e062a029",
   "metadata": {
    "_kg_hide-input": true,
    "_kg_hide-output": true,
    "execution": {
     "iopub.execute_input": "2022-08-08T10:55:20.744649Z",
     "iopub.status.busy": "2022-08-08T10:55:20.744256Z",
     "iopub.status.idle": "2022-08-08T10:55:20.759242Z",
     "shell.execute_reply": "2022-08-08T10:55:20.757962Z"
    },
    "papermill": {
     "duration": 0.070902,
     "end_time": "2022-08-08T10:55:20.761768",
     "exception": false,
     "start_time": "2022-08-08T10:55:20.690866",
     "status": "completed"
    },
    "tags": []
   },
   "outputs": [
    {
     "data": {
      "text/html": [
       "<div>\n",
       "<style scoped>\n",
       "    .dataframe tbody tr th:only-of-type {\n",
       "        vertical-align: middle;\n",
       "    }\n",
       "\n",
       "    .dataframe tbody tr th {\n",
       "        vertical-align: top;\n",
       "    }\n",
       "\n",
       "    .dataframe thead th {\n",
       "        text-align: right;\n",
       "    }\n",
       "</style>\n",
       "<table border=\"1\" class=\"dataframe\">\n",
       "  <thead>\n",
       "    <tr style=\"text-align: right;\">\n",
       "      <th></th>\n",
       "      <th>id</th>\n",
       "      <th>metal_name</th>\n",
       "      <th>Position</th>\n",
       "      <th>binding_amino_acid</th>\n",
       "      <th>sequence</th>\n",
       "      <th>window_3</th>\n",
       "      <th>window_10</th>\n",
       "    </tr>\n",
       "  </thead>\n",
       "  <tbody>\n",
       "    <tr>\n",
       "      <th>0</th>\n",
       "      <td>Q8INK9</td>\n",
       "      <td>Zn(2+)</td>\n",
       "      <td>157</td>\n",
       "      <td>C</td>\n",
       "      <td>MFALSARHALRRTRIFAIPRFFADSRQDSDNPDKRYSGPAATMDNK...</td>\n",
       "      <td>CARCNAH</td>\n",
       "      <td>RIRTEVRCARCNAHMGHVFED</td>\n",
       "    </tr>\n",
       "    <tr>\n",
       "      <th>1</th>\n",
       "      <td>Q8INK9</td>\n",
       "      <td>Zn(2+)</td>\n",
       "      <td>96</td>\n",
       "      <td>C</td>\n",
       "      <td>MFALSARHALRRTRIFAIPRFFADSRQDSDNPDKRYSGPAATMDNK...</td>\n",
       "      <td>CIVCHQD</td>\n",
       "      <td>YEKGVYQCIVCHQDLFSSETK</td>\n",
       "    </tr>\n",
       "    <tr>\n",
       "      <th>2</th>\n",
       "      <td>Q8INK9</td>\n",
       "      <td>Zn(2+)</td>\n",
       "      <td>93</td>\n",
       "      <td>C</td>\n",
       "      <td>MFALSARHALRRTRIFAIPRFFADSRQDSDNPDKRYSGPAATMDNK...</td>\n",
       "      <td>VYQCIVC</td>\n",
       "      <td>NKHYEKGVYQCIVCHQDLFSS</td>\n",
       "    </tr>\n",
       "    <tr>\n",
       "      <th>3</th>\n",
       "      <td>Q8INK9</td>\n",
       "      <td>Zn(2+)</td>\n",
       "      <td>154</td>\n",
       "      <td>C</td>\n",
       "      <td>MFALSARHALRRTRIFAIPRFFADSRQDSDNPDKRYSGPAATMDNK...</td>\n",
       "      <td>EVRCARC</td>\n",
       "      <td>HPERIRTEVRCARCNAHMGHV</td>\n",
       "    </tr>\n",
       "    <tr>\n",
       "      <th>4</th>\n",
       "      <td>P07327</td>\n",
       "      <td>Zn(2+)</td>\n",
       "      <td>101</td>\n",
       "      <td>C</td>\n",
       "      <td>MSTAGKVIKCKAAVLWELKKPFSIEEVEVAPPKAHEVRIKMVAVGI...</td>\n",
       "      <td>CGKCRIC</td>\n",
       "      <td>IPLAIPQCGKCRICKNPESNY</td>\n",
       "    </tr>\n",
       "  </tbody>\n",
       "</table>\n",
       "</div>"
      ],
      "text/plain": [
       "       id metal_name  Position binding_amino_acid  \\\n",
       "0  Q8INK9     Zn(2+)       157                  C   \n",
       "1  Q8INK9     Zn(2+)        96                  C   \n",
       "2  Q8INK9     Zn(2+)        93                  C   \n",
       "3  Q8INK9     Zn(2+)       154                  C   \n",
       "4  P07327     Zn(2+)       101                  C   \n",
       "\n",
       "                                            sequence window_3  \\\n",
       "0  MFALSARHALRRTRIFAIPRFFADSRQDSDNPDKRYSGPAATMDNK...  CARCNAH   \n",
       "1  MFALSARHALRRTRIFAIPRFFADSRQDSDNPDKRYSGPAATMDNK...  CIVCHQD   \n",
       "2  MFALSARHALRRTRIFAIPRFFADSRQDSDNPDKRYSGPAATMDNK...  VYQCIVC   \n",
       "3  MFALSARHALRRTRIFAIPRFFADSRQDSDNPDKRYSGPAATMDNK...  EVRCARC   \n",
       "4  MSTAGKVIKCKAAVLWELKKPFSIEEVEVAPPKAHEVRIKMVAVGI...  CGKCRIC   \n",
       "\n",
       "               window_10  \n",
       "0  RIRTEVRCARCNAHMGHVFED  \n",
       "1  YEKGVYQCIVCHQDLFSSETK  \n",
       "2  NKHYEKGVYQCIVCHQDLFSS  \n",
       "3  HPERIRTEVRCARCNAHMGHV  \n",
       "4  IPLAIPQCGKCRICKNPESNY  "
      ]
     },
     "execution_count": 19,
     "metadata": {},
     "output_type": "execute_result"
    }
   ],
   "source": [
    "pos_train_df1.head()"
   ]
  },
  {
   "cell_type": "code",
   "execution_count": 20,
   "id": "e1d9c850",
   "metadata": {
    "_kg_hide-input": true,
    "_kg_hide-output": true,
    "execution": {
     "iopub.execute_input": "2022-08-08T10:55:20.872405Z",
     "iopub.status.busy": "2022-08-08T10:55:20.871967Z",
     "iopub.status.idle": "2022-08-08T10:55:20.883710Z",
     "shell.execute_reply": "2022-08-08T10:55:20.882380Z"
    },
    "papermill": {
     "duration": 0.069671,
     "end_time": "2022-08-08T10:55:20.886328",
     "exception": false,
     "start_time": "2022-08-08T10:55:20.816657",
     "status": "completed"
    },
    "tags": []
   },
   "outputs": [
    {
     "data": {
      "text/plain": [
       "Zn(2+)                     31.817803\n",
       "Ca(2+)                     25.210645\n",
       "Mg(2+)                     12.596980\n",
       "Mn(2+)                      6.256778\n",
       "Fe cation                   5.339117\n",
       "[4Fe-4S] cluster            5.030450\n",
       "a divalent metal cation     3.812464\n",
       "Cu cation                   3.578877\n",
       "[2Fe-2S] cluster            2.135647\n",
       "K(+)                        0.917661\n",
       "Na(+)                       0.717444\n",
       "Fe(3+)                      0.717444\n",
       "Ni(2+)                      0.425461\n",
       "Co(2+)                      0.325352\n",
       "Cd(2+)                      0.266956\n",
       "[3Fe-4S] cluster            0.175190\n",
       "Cu(+)                       0.166847\n",
       "Cu(2+)                      0.166847\n",
       "Fe(2+)                      0.141820\n",
       "[Ni-4Fe-4S] cluster         0.100108\n",
       "[Ni-4Fe-5S] cluster         0.050054\n",
       "Co(3+)                      0.033369\n",
       "Hg(2+)                      0.016685\n",
       "Name: metal_name, dtype: float64"
      ]
     },
     "execution_count": 20,
     "metadata": {},
     "output_type": "execute_result"
    }
   ],
   "source": [
    "# percentage of occurences of Metals\n",
    "counts0_pos_train = pos_train_df1['metal_name'].value_counts(normalize=True)*100\n",
    "counts0_pos_train"
   ]
  },
  {
   "cell_type": "markdown",
   "id": "e5aab98b",
   "metadata": {
    "_kg_hide-input": true,
    "_kg_hide-output": true,
    "papermill": {
     "duration": 0.052867,
     "end_time": "2022-08-08T10:55:20.995997",
     "exception": false,
     "start_time": "2022-08-08T10:55:20.943130",
     "status": "completed"
    },
    "tags": []
   },
   "source": [
    "The following metals are the most frequant to bind with the following percentages (%):\n",
    "\n",
    "Zn(2+)   :                  31.817803\n",
    "\n",
    "Ca(2+)   :                  25.210645\n",
    "\n",
    "Mg(2+)   :                  12.596980\n",
    "\n",
    "Mn(2+)   :                   6.256778\n",
    "\n"
   ]
  },
  {
   "cell_type": "code",
   "execution_count": 21,
   "id": "5c502b73",
   "metadata": {
    "_kg_hide-input": true,
    "_kg_hide-output": true,
    "execution": {
     "iopub.execute_input": "2022-08-08T10:55:21.103635Z",
     "iopub.status.busy": "2022-08-08T10:55:21.102972Z",
     "iopub.status.idle": "2022-08-08T10:55:21.113239Z",
     "shell.execute_reply": "2022-08-08T10:55:21.112201Z"
    },
    "papermill": {
     "duration": 0.066854,
     "end_time": "2022-08-08T10:55:21.115593",
     "exception": false,
     "start_time": "2022-08-08T10:55:21.048739",
     "status": "completed"
    },
    "tags": []
   },
   "outputs": [
    {
     "data": {
      "text/plain": [
       "Q10583    48\n",
       "O31526    44\n",
       "O31527    38\n",
       "E0VIU9    32\n",
       "Q868M7    31\n",
       "Q51817    28\n",
       "P45452    28\n",
       "P19619    26\n",
       "Q46085    26\n",
       "P03956    24\n",
       "Name: id, dtype: int64"
      ]
     },
     "execution_count": 21,
     "metadata": {},
     "output_type": "execute_result"
    }
   ],
   "source": [
    "# top 10 protiens with highest number of binding sites\n",
    "pos_train_df1['id'].value_counts().head(10)"
   ]
  },
  {
   "cell_type": "code",
   "execution_count": 22,
   "id": "78bd7598",
   "metadata": {
    "_kg_hide-input": true,
    "_kg_hide-output": true,
    "execution": {
     "iopub.execute_input": "2022-08-08T10:55:21.226591Z",
     "iopub.status.busy": "2022-08-08T10:55:21.226061Z",
     "iopub.status.idle": "2022-08-08T10:55:21.237365Z",
     "shell.execute_reply": "2022-08-08T10:55:21.236429Z"
    },
    "papermill": {
     "duration": 0.070487,
     "end_time": "2022-08-08T10:55:21.239836",
     "exception": false,
     "start_time": "2022-08-08T10:55:21.169349",
     "status": "completed"
    },
    "tags": []
   },
   "outputs": [
    {
     "data": {
      "text/plain": [
       "48"
      ]
     },
     "execution_count": 22,
     "metadata": {},
     "output_type": "execute_result"
    }
   ],
   "source": [
    "#test: how many unique binding sites are there for O31526 protien\n",
    "test1 = pos_train_df1[pos_train_df1['id'] == 'Q10583']\n",
    "len(test1.Position.unique())"
   ]
  },
  {
   "cell_type": "code",
   "execution_count": 23,
   "id": "03be3527",
   "metadata": {
    "_kg_hide-input": true,
    "_kg_hide-output": true,
    "execution": {
     "iopub.execute_input": "2022-08-08T10:55:21.351421Z",
     "iopub.status.busy": "2022-08-08T10:55:21.350989Z",
     "iopub.status.idle": "2022-08-08T10:55:21.372049Z",
     "shell.execute_reply": "2022-08-08T10:55:21.370722Z"
    },
    "papermill": {
     "duration": 0.080522,
     "end_time": "2022-08-08T10:55:21.374843",
     "exception": false,
     "start_time": "2022-08-08T10:55:21.294321",
     "status": "completed"
    },
    "tags": []
   },
   "outputs": [
    {
     "data": {
      "text/html": [
       "<div>\n",
       "<style scoped>\n",
       "    .dataframe tbody tr th:only-of-type {\n",
       "        vertical-align: middle;\n",
       "    }\n",
       "\n",
       "    .dataframe tbody tr th {\n",
       "        vertical-align: top;\n",
       "    }\n",
       "\n",
       "    .dataframe thead th {\n",
       "        text-align: right;\n",
       "    }\n",
       "</style>\n",
       "<table border=\"1\" class=\"dataframe\">\n",
       "  <thead>\n",
       "    <tr style=\"text-align: right;\">\n",
       "      <th></th>\n",
       "      <th>index</th>\n",
       "      <th>id</th>\n",
       "      <th>metal_name</th>\n",
       "      <th>Position</th>\n",
       "      <th>binding_amino_acid</th>\n",
       "      <th>sequence</th>\n",
       "      <th>window_3</th>\n",
       "      <th>window_10</th>\n",
       "    </tr>\n",
       "  </thead>\n",
       "  <tbody>\n",
       "    <tr>\n",
       "      <th>0</th>\n",
       "      <td>0</td>\n",
       "      <td>Q8INK9</td>\n",
       "      <td>Zn(2+)</td>\n",
       "      <td>157</td>\n",
       "      <td>C</td>\n",
       "      <td>MFALSARHALRRTRIFAIPRFFADSRQDSDNPDKRYSGPAATMDNK...</td>\n",
       "      <td>CARCNAH</td>\n",
       "      <td>RIRTEVRCARCNAHMGHVFED</td>\n",
       "    </tr>\n",
       "    <tr>\n",
       "      <th>1</th>\n",
       "      <td>1</td>\n",
       "      <td>Q8INK9</td>\n",
       "      <td>Zn(2+)</td>\n",
       "      <td>96</td>\n",
       "      <td>C</td>\n",
       "      <td>MFALSARHALRRTRIFAIPRFFADSRQDSDNPDKRYSGPAATMDNK...</td>\n",
       "      <td>CIVCHQD</td>\n",
       "      <td>YEKGVYQCIVCHQDLFSSETK</td>\n",
       "    </tr>\n",
       "    <tr>\n",
       "      <th>2</th>\n",
       "      <td>2</td>\n",
       "      <td>Q8INK9</td>\n",
       "      <td>Zn(2+)</td>\n",
       "      <td>93</td>\n",
       "      <td>C</td>\n",
       "      <td>MFALSARHALRRTRIFAIPRFFADSRQDSDNPDKRYSGPAATMDNK...</td>\n",
       "      <td>VYQCIVC</td>\n",
       "      <td>NKHYEKGVYQCIVCHQDLFSS</td>\n",
       "    </tr>\n",
       "    <tr>\n",
       "      <th>3</th>\n",
       "      <td>3</td>\n",
       "      <td>Q8INK9</td>\n",
       "      <td>Zn(2+)</td>\n",
       "      <td>154</td>\n",
       "      <td>C</td>\n",
       "      <td>MFALSARHALRRTRIFAIPRFFADSRQDSDNPDKRYSGPAATMDNK...</td>\n",
       "      <td>EVRCARC</td>\n",
       "      <td>HPERIRTEVRCARCNAHMGHV</td>\n",
       "    </tr>\n",
       "    <tr>\n",
       "      <th>4</th>\n",
       "      <td>4</td>\n",
       "      <td>P07327</td>\n",
       "      <td>Zn(2+)</td>\n",
       "      <td>101</td>\n",
       "      <td>C</td>\n",
       "      <td>MSTAGKVIKCKAAVLWELKKPFSIEEVEVAPPKAHEVRIKMVAVGI...</td>\n",
       "      <td>CGKCRIC</td>\n",
       "      <td>IPLAIPQCGKCRICKNPESNY</td>\n",
       "    </tr>\n",
       "    <tr>\n",
       "      <th>...</th>\n",
       "      <td>...</td>\n",
       "      <td>...</td>\n",
       "      <td>...</td>\n",
       "      <td>...</td>\n",
       "      <td>...</td>\n",
       "      <td>...</td>\n",
       "      <td>...</td>\n",
       "      <td>...</td>\n",
       "    </tr>\n",
       "    <tr>\n",
       "      <th>11982</th>\n",
       "      <td>18038</td>\n",
       "      <td>O66188</td>\n",
       "      <td>Co(3+)</td>\n",
       "      <td>131</td>\n",
       "      <td>C</td>\n",
       "      <td>MSADHDHDHDHDHDHKPAPMVEEVSDFEILEMAVRELAIEKGLFSA...</td>\n",
       "      <td>CTLCSCY</td>\n",
       "      <td>TLKHVVVCTLCSCYPRPILGQ</td>\n",
       "    </tr>\n",
       "    <tr>\n",
       "      <th>11983</th>\n",
       "      <td>18039</td>\n",
       "      <td>O66188</td>\n",
       "      <td>Co(3+)</td>\n",
       "      <td>133</td>\n",
       "      <td>C</td>\n",
       "      <td>MSADHDHDHDHDHDHKPAPMVEEVSDFEILEMAVRELAIEKGLFSA...</td>\n",
       "      <td>LCSCYPR</td>\n",
       "      <td>KHVVVCTLCSCYPRPILGQSP</td>\n",
       "    </tr>\n",
       "    <tr>\n",
       "      <th>11984</th>\n",
       "      <td>18040</td>\n",
       "      <td>O66188</td>\n",
       "      <td>Co(3+)</td>\n",
       "      <td>128</td>\n",
       "      <td>C</td>\n",
       "      <td>MSADHDHDHDHDHDHKPAPMVEEVSDFEILEMAVRELAIEKGLFSA...</td>\n",
       "      <td>VVVCTLC</td>\n",
       "      <td>DSPTLKHVVVCTLCSCYPRPI</td>\n",
       "    </tr>\n",
       "    <tr>\n",
       "      <th>11985</th>\n",
       "      <td>18041</td>\n",
       "      <td>P04129</td>\n",
       "      <td>Hg(2+)</td>\n",
       "      <td>36</td>\n",
       "      <td>C</td>\n",
       "      <td>MKKLFASLALAAAVAPVWAATQTVTLAVPGMTCAACPITVKKALSK...</td>\n",
       "      <td>CAACPIT</td>\n",
       "      <td>LAVPGMTCAACPITVKKALSK</td>\n",
       "    </tr>\n",
       "    <tr>\n",
       "      <th>11986</th>\n",
       "      <td>18042</td>\n",
       "      <td>P04129</td>\n",
       "      <td>Hg(2+)</td>\n",
       "      <td>33</td>\n",
       "      <td>C</td>\n",
       "      <td>MKKLFASLALAAAVAPVWAATQTVTLAVPGMTCAACPITVKKALSK...</td>\n",
       "      <td>GMTCAAC</td>\n",
       "      <td>TVTLAVPGMTCAACPITVKKA</td>\n",
       "    </tr>\n",
       "  </tbody>\n",
       "</table>\n",
       "<p>11987 rows × 8 columns</p>\n",
       "</div>"
      ],
      "text/plain": [
       "       index      id metal_name  Position binding_amino_acid  \\\n",
       "0          0  Q8INK9     Zn(2+)       157                  C   \n",
       "1          1  Q8INK9     Zn(2+)        96                  C   \n",
       "2          2  Q8INK9     Zn(2+)        93                  C   \n",
       "3          3  Q8INK9     Zn(2+)       154                  C   \n",
       "4          4  P07327     Zn(2+)       101                  C   \n",
       "...      ...     ...        ...       ...                ...   \n",
       "11982  18038  O66188     Co(3+)       131                  C   \n",
       "11983  18039  O66188     Co(3+)       133                  C   \n",
       "11984  18040  O66188     Co(3+)       128                  C   \n",
       "11985  18041  P04129     Hg(2+)        36                  C   \n",
       "11986  18042  P04129     Hg(2+)        33                  C   \n",
       "\n",
       "                                                sequence window_3  \\\n",
       "0      MFALSARHALRRTRIFAIPRFFADSRQDSDNPDKRYSGPAATMDNK...  CARCNAH   \n",
       "1      MFALSARHALRRTRIFAIPRFFADSRQDSDNPDKRYSGPAATMDNK...  CIVCHQD   \n",
       "2      MFALSARHALRRTRIFAIPRFFADSRQDSDNPDKRYSGPAATMDNK...  VYQCIVC   \n",
       "3      MFALSARHALRRTRIFAIPRFFADSRQDSDNPDKRYSGPAATMDNK...  EVRCARC   \n",
       "4      MSTAGKVIKCKAAVLWELKKPFSIEEVEVAPPKAHEVRIKMVAVGI...  CGKCRIC   \n",
       "...                                                  ...      ...   \n",
       "11982  MSADHDHDHDHDHDHKPAPMVEEVSDFEILEMAVRELAIEKGLFSA...  CTLCSCY   \n",
       "11983  MSADHDHDHDHDHDHKPAPMVEEVSDFEILEMAVRELAIEKGLFSA...  LCSCYPR   \n",
       "11984  MSADHDHDHDHDHDHKPAPMVEEVSDFEILEMAVRELAIEKGLFSA...  VVVCTLC   \n",
       "11985  MKKLFASLALAAAVAPVWAATQTVTLAVPGMTCAACPITVKKALSK...  CAACPIT   \n",
       "11986  MKKLFASLALAAAVAPVWAATQTVTLAVPGMTCAACPITVKKALSK...  GMTCAAC   \n",
       "\n",
       "                   window_10  \n",
       "0      RIRTEVRCARCNAHMGHVFED  \n",
       "1      YEKGVYQCIVCHQDLFSSETK  \n",
       "2      NKHYEKGVYQCIVCHQDLFSS  \n",
       "3      HPERIRTEVRCARCNAHMGHV  \n",
       "4      IPLAIPQCGKCRICKNPESNY  \n",
       "...                      ...  \n",
       "11982  TLKHVVVCTLCSCYPRPILGQ  \n",
       "11983  KHVVVCTLCSCYPRPILGQSP  \n",
       "11984  DSPTLKHVVVCTLCSCYPRPI  \n",
       "11985  LAVPGMTCAACPITVKKALSK  \n",
       "11986  TVTLAVPGMTCAACPITVKKA  \n",
       "\n",
       "[11987 rows x 8 columns]"
      ]
     },
     "execution_count": 23,
     "metadata": {},
     "output_type": "execute_result"
    }
   ],
   "source": [
    "pos_train_df1.reset_index()"
   ]
  },
  {
   "cell_type": "markdown",
   "id": "58379c22",
   "metadata": {
    "papermill": {
     "duration": 0.054656,
     "end_time": "2022-08-08T10:55:21.486957",
     "exception": false,
     "start_time": "2022-08-08T10:55:21.432301",
     "status": "completed"
    },
    "tags": []
   },
   "source": [
    "## Findings"
   ]
  },
  {
   "cell_type": "code",
   "execution_count": 24,
   "id": "ead83dbe",
   "metadata": {
    "execution": {
     "iopub.execute_input": "2022-08-08T10:55:21.598803Z",
     "iopub.status.busy": "2022-08-08T10:55:21.598053Z",
     "iopub.status.idle": "2022-08-08T10:55:21.607536Z",
     "shell.execute_reply": "2022-08-08T10:55:21.606754Z"
    },
    "papermill": {
     "duration": 0.066453,
     "end_time": "2022-08-08T10:55:21.609840",
     "exception": false,
     "start_time": "2022-08-08T10:55:21.543387",
     "status": "completed"
    },
    "tags": []
   },
   "outputs": [
    {
     "data": {
      "text/plain": [
       "C    25.027113\n",
       "D    24.217903\n",
       "H    22.357554\n",
       "E    11.862851\n",
       "N     3.770752\n",
       "T     1.843664\n",
       "G     1.785267\n",
       "S     1.551681\n",
       "Y     1.334779\n",
       "K     0.934346\n",
       "Q     0.859264\n",
       "V     0.742471\n",
       "L     0.709102\n",
       "I     0.700759\n",
       "A     0.650705\n",
       "M     0.442146\n",
       "R     0.425461\n",
       "F     0.400434\n",
       "W     0.241929\n",
       "P     0.141820\n",
       "Name: binding_amino_acid, dtype: float64"
      ]
     },
     "execution_count": 24,
     "metadata": {},
     "output_type": "execute_result"
    }
   ],
   "source": [
    "#  frequancy percentage of having a binding site according to amino acid\n",
    "counts1_pos_train = pos_train_df1['binding_amino_acid'].value_counts(normalize=True)*100\n",
    "counts1_pos_train"
   ]
  },
  {
   "cell_type": "code",
   "execution_count": 25,
   "id": "adbcbdb2",
   "metadata": {
    "execution": {
     "iopub.execute_input": "2022-08-08T10:55:21.718355Z",
     "iopub.status.busy": "2022-08-08T10:55:21.717584Z",
     "iopub.status.idle": "2022-08-08T10:55:22.120011Z",
     "shell.execute_reply": "2022-08-08T10:55:22.118900Z"
    },
    "papermill": {
     "duration": 0.459265,
     "end_time": "2022-08-08T10:55:22.122687",
     "exception": false,
     "start_time": "2022-08-08T10:55:21.663422",
     "status": "completed"
    },
    "tags": []
   },
   "outputs": [
    {
     "data": {
      "text/plain": [
       "<AxesSubplot:xlabel='binding_amino_acid', ylabel='count'>"
      ]
     },
     "execution_count": 25,
     "metadata": {},
     "output_type": "execute_result"
    },
    {
     "data": {
      "image/png": "[encoded data removed]",
      "text/plain": [
       "<Figure size 842.4x595.44 with 1 Axes>"
      ]
     },
     "metadata": {},
     "output_type": "display_data"
    }
   ],
   "source": [
    "# plot for the previous counts\n",
    "sns.countplot(x='binding_amino_acid', data=pos_train_df1)"
   ]
  },
  {
   "cell_type": "markdown",
   "id": "07f03c4a",
   "metadata": {
    "papermill": {
     "duration": 0.053063,
     "end_time": "2022-08-08T10:55:22.229059",
     "exception": false,
     "start_time": "2022-08-08T10:55:22.175996",
     "status": "completed"
    },
    "tags": []
   },
   "source": [
    "The following amino acid are more likely to bind to metals than other amino acids with the following percentages:\n",
    "\n",
    "\n",
    "C:    25.027113\n",
    "\n",
    "D:    24.217903\n",
    "\n",
    "H:    22.357554\n",
    "\n",
    "E:    11.862851\n",
    "\n"
   ]
  },
  {
   "cell_type": "code",
   "execution_count": 26,
   "id": "42162d44",
   "metadata": {
    "execution": {
     "iopub.execute_input": "2022-08-08T10:55:22.337584Z",
     "iopub.status.busy": "2022-08-08T10:55:22.337193Z",
     "iopub.status.idle": "2022-08-08T10:55:22.367710Z",
     "shell.execute_reply": "2022-08-08T10:55:22.366557Z"
    },
    "papermill": {
     "duration": 0.088011,
     "end_time": "2022-08-08T10:55:22.370400",
     "exception": false,
     "start_time": "2022-08-08T10:55:22.282389",
     "status": "completed"
    },
    "tags": []
   },
   "outputs": [
    {
     "data": {
      "text/html": [
       "<div>\n",
       "<style scoped>\n",
       "    .dataframe tbody tr th:only-of-type {\n",
       "        vertical-align: middle;\n",
       "    }\n",
       "\n",
       "    .dataframe tbody tr th {\n",
       "        vertical-align: top;\n",
       "    }\n",
       "\n",
       "    .dataframe thead th {\n",
       "        text-align: right;\n",
       "    }\n",
       "</style>\n",
       "<table border=\"1\" class=\"dataframe\">\n",
       "  <thead>\n",
       "    <tr style=\"text-align: right;\">\n",
       "      <th></th>\n",
       "      <th>binding_amino_acid</th>\n",
       "      <th>metal_name</th>\n",
       "      <th>metal_counts</th>\n",
       "      <th>sequence</th>\n",
       "    </tr>\n",
       "  </thead>\n",
       "  <tbody>\n",
       "    <tr>\n",
       "      <th>0</th>\n",
       "      <td>C</td>\n",
       "      <td>Zn(2+)</td>\n",
       "      <td>1799</td>\n",
       "      <td>1799</td>\n",
       "    </tr>\n",
       "    <tr>\n",
       "      <th>1</th>\n",
       "      <td>H</td>\n",
       "      <td>Zn(2+)</td>\n",
       "      <td>1378</td>\n",
       "      <td>1378</td>\n",
       "    </tr>\n",
       "    <tr>\n",
       "      <th>2</th>\n",
       "      <td>D</td>\n",
       "      <td>Ca(2+)</td>\n",
       "      <td>1231</td>\n",
       "      <td>1231</td>\n",
       "    </tr>\n",
       "    <tr>\n",
       "      <th>3</th>\n",
       "      <td>D</td>\n",
       "      <td>Mg(2+)</td>\n",
       "      <td>754</td>\n",
       "      <td>754</td>\n",
       "    </tr>\n",
       "    <tr>\n",
       "      <th>4</th>\n",
       "      <td>C</td>\n",
       "      <td>[4Fe-4S] cluster</td>\n",
       "      <td>591</td>\n",
       "      <td>591</td>\n",
       "    </tr>\n",
       "    <tr>\n",
       "      <th>...</th>\n",
       "      <td>...</td>\n",
       "      <td>...</td>\n",
       "      <td>...</td>\n",
       "      <td>...</td>\n",
       "    </tr>\n",
       "    <tr>\n",
       "      <th>189</th>\n",
       "      <td>Q</td>\n",
       "      <td>Fe cation</td>\n",
       "      <td>1</td>\n",
       "      <td>1</td>\n",
       "    </tr>\n",
       "    <tr>\n",
       "      <th>190</th>\n",
       "      <td>Q</td>\n",
       "      <td>K(+)</td>\n",
       "      <td>1</td>\n",
       "      <td>1</td>\n",
       "    </tr>\n",
       "    <tr>\n",
       "      <th>191</th>\n",
       "      <td>Q</td>\n",
       "      <td>Ni(2+)</td>\n",
       "      <td>1</td>\n",
       "      <td>1</td>\n",
       "    </tr>\n",
       "    <tr>\n",
       "      <th>192</th>\n",
       "      <td>S</td>\n",
       "      <td>Co(2+)</td>\n",
       "      <td>1</td>\n",
       "      <td>1</td>\n",
       "    </tr>\n",
       "    <tr>\n",
       "      <th>193</th>\n",
       "      <td>Y</td>\n",
       "      <td>a divalent metal cation</td>\n",
       "      <td>1</td>\n",
       "      <td>1</td>\n",
       "    </tr>\n",
       "  </tbody>\n",
       "</table>\n",
       "<p>194 rows × 4 columns</p>\n",
       "</div>"
      ],
      "text/plain": [
       "    binding_amino_acid               metal_name  metal_counts  sequence\n",
       "0                    C                   Zn(2+)          1799      1799\n",
       "1                    H                   Zn(2+)          1378      1378\n",
       "2                    D                   Ca(2+)          1231      1231\n",
       "3                    D                   Mg(2+)           754       754\n",
       "4                    C         [4Fe-4S] cluster           591       591\n",
       "..                 ...                      ...           ...       ...\n",
       "189                  Q                Fe cation             1         1\n",
       "190                  Q                     K(+)             1         1\n",
       "191                  Q                   Ni(2+)             1         1\n",
       "192                  S                   Co(2+)             1         1\n",
       "193                  Y  a divalent metal cation             1         1\n",
       "\n",
       "[194 rows x 4 columns]"
      ]
     },
     "execution_count": 26,
     "metadata": {},
     "output_type": "execute_result"
    }
   ],
   "source": [
    "# ranking the combinations between binding metals and amino acids and thier occurance count\n",
    "list_amino_acids = []\n",
    "temp_pos_train = pos_train_df1[~pos_train_df1.binding_amino_acid.isin(list_amino_acids)]\n",
    "\n",
    "#pos_train_df1[pos_train_df1['Binding Amino Acid'] in ]\n",
    "temp_pos_train = temp_pos_train.groupby(['binding_amino_acid', 'metal_name']).count().sort_values(['id'], ascending=False)\n",
    "temp_pos_train = temp_pos_train.drop(['Position','window_3','window_10'], axis=1).rename(columns={'id':'metal_counts'}).reset_index()\n",
    "#temp['metal_counts'] = temp['metal_counts'] /temp['metal_counts'].abs().max()\n",
    "temp_pos_train"
   ]
  },
  {
   "cell_type": "code",
   "execution_count": 27,
   "id": "f184f739",
   "metadata": {
    "execution": {
     "iopub.execute_input": "2022-08-08T10:55:22.482883Z",
     "iopub.status.busy": "2022-08-08T10:55:22.481739Z",
     "iopub.status.idle": "2022-08-08T10:55:23.092263Z",
     "shell.execute_reply": "2022-08-08T10:55:23.090844Z"
    },
    "papermill": {
     "duration": 0.670331,
     "end_time": "2022-08-08T10:55:23.095116",
     "exception": false,
     "start_time": "2022-08-08T10:55:22.424785",
     "status": "completed"
    },
    "tags": []
   },
   "outputs": [
    {
     "data": {
      "image/png": "[encoded data removed]",
      "text/plain": [
       "<Figure size 842.4x595.44 with 2 Axes>"
      ]
     },
     "metadata": {},
     "output_type": "display_data"
    }
   ],
   "source": [
    "# Visualizing the combinations between binding metals and amino acids and thier occurance count\n",
    "heatmap = temp_pos_train.pivot(\"binding_amino_acid\", \"metal_name\", \"metal_counts\")\n",
    "ax = sns.heatmap(heatmap , cmap=\"YlGnBu\")"
   ]
  },
  {
   "cell_type": "markdown",
   "id": "8cade016",
   "metadata": {
    "papermill": {
     "duration": 0.055331,
     "end_time": "2022-08-08T10:55:23.209547",
     "exception": false,
     "start_time": "2022-08-08T10:55:23.154216",
     "status": "completed"
    },
    "tags": []
   },
   "source": [
    "The previous heatmap combines the correlation and how likely you find a certian amino acid binding to a certian metal. There are some interesting insights coming out of this heat map:\n",
    "* Metals: Ca(2+), K(+), Mg(2+), Mn(+), Na(+), and Zn(2+) can bind to more than 90 percent of the different amino acids. \n",
    "* Metal: Ca(2+) binds to all amino acids with a higher frequancy on (D, E).\n",
    "* Amino Acid: C binds to all metals on the spectrum with more frequancy with Zn(2+) and [Ni-4Fe-4S] type.\n",
    "* Metal Hg(2+) only binds to amino acid C\n"
   ]
  },
  {
   "cell_type": "markdown",
   "id": "99e731e5",
   "metadata": {
    "papermill": {
     "duration": 0.055434,
     "end_time": "2022-08-08T10:55:23.321175",
     "exception": false,
     "start_time": "2022-08-08T10:55:23.265741",
     "status": "completed"
    },
    "tags": []
   },
   "source": [
    "## Exploring POS_TRAIN_FULL"
   ]
  },
  {
   "cell_type": "code",
   "execution_count": 28,
   "id": "4eb36587",
   "metadata": {
    "_kg_hide-input": true,
    "_kg_hide-output": true,
    "execution": {
     "iopub.execute_input": "2022-08-08T10:55:23.435815Z",
     "iopub.status.busy": "2022-08-08T10:55:23.435031Z",
     "iopub.status.idle": "2022-08-08T10:55:25.064420Z",
     "shell.execute_reply": "2022-08-08T10:55:25.063243Z"
    },
    "papermill": {
     "duration": 1.690702,
     "end_time": "2022-08-08T10:55:25.067147",
     "exception": false,
     "start_time": "2022-08-08T10:55:23.376445",
     "status": "completed"
    },
    "tags": []
   },
   "outputs": [
    {
     "data": {
      "text/html": [
       "<div>\n",
       "<style scoped>\n",
       "    .dataframe tbody tr th:only-of-type {\n",
       "        vertical-align: middle;\n",
       "    }\n",
       "\n",
       "    .dataframe tbody tr th {\n",
       "        vertical-align: top;\n",
       "    }\n",
       "\n",
       "    .dataframe thead th {\n",
       "        text-align: right;\n",
       "    }\n",
       "</style>\n",
       "<table border=\"1\" class=\"dataframe\">\n",
       "  <thead>\n",
       "    <tr style=\"text-align: right;\">\n",
       "      <th></th>\n",
       "      <th>id</th>\n",
       "      <th>seq_length</th>\n",
       "      <th>info</th>\n",
       "      <th>sequence</th>\n",
       "    </tr>\n",
       "  </thead>\n",
       "  <tbody>\n",
       "    <tr>\n",
       "      <th>0</th>\n",
       "      <td>A0A023GPI8</td>\n",
       "      <td>237</td>\n",
       "      <td>LECA_CANBL Lectin alpha chain OS=Canavalia bol...</td>\n",
       "      <td>ADTIVAVELDTYPNTDIGDPSYPHIGIDIKSVRSKKTAKWNMQNGK...</td>\n",
       "    </tr>\n",
       "    <tr>\n",
       "      <th>1</th>\n",
       "      <td>A0A023GS28</td>\n",
       "      <td>369</td>\n",
       "      <td>DIOX1_RUTGR Bi-functional coumaroyl CoA and fe...</td>\n",
       "      <td>MAPTKDFSTTTTNGAESWDDVADFVTKKGHGVKGLSERGIKTLPKP...</td>\n",
       "    </tr>\n",
       "    <tr>\n",
       "      <th>2</th>\n",
       "      <td>A0A023GS29</td>\n",
       "      <td>369</td>\n",
       "      <td>DIOX2_RUTGR Bi-functional coumaroyl CoA and fe...</td>\n",
       "      <td>MAPTKDFSTATNGADSWDDVADFVTKKGHGVKGLSERGIKTLPKPF...</td>\n",
       "    </tr>\n",
       "    <tr>\n",
       "      <th>3</th>\n",
       "      <td>A0A023YYV9</td>\n",
       "      <td>326</td>\n",
       "      <td>NLEB2_ECOLR Protein-arginine N-acetylglucosami...</td>\n",
       "      <td>MLSPIRTTFHNSVNIVQSSPCQTVSFAGKEYELKVIDEKTPILFQW...</td>\n",
       "    </tr>\n",
       "    <tr>\n",
       "      <th>4</th>\n",
       "      <td>A0A024B7W1</td>\n",
       "      <td>3423</td>\n",
       "      <td>POLG_ZIKVF Genome polyprotein OS=Zika virus (i...</td>\n",
       "      <td>MKNPKKKSGGFRIVNMLKRGVARVSPFGGLKRLPAGLLLGHGPIRM...</td>\n",
       "    </tr>\n",
       "  </tbody>\n",
       "</table>\n",
       "</div>"
      ],
      "text/plain": [
       "           id  seq_length                                               info  \\\n",
       "0  A0A023GPI8         237  LECA_CANBL Lectin alpha chain OS=Canavalia bol...   \n",
       "1  A0A023GS28         369  DIOX1_RUTGR Bi-functional coumaroyl CoA and fe...   \n",
       "2  A0A023GS29         369  DIOX2_RUTGR Bi-functional coumaroyl CoA and fe...   \n",
       "3  A0A023YYV9         326  NLEB2_ECOLR Protein-arginine N-acetylglucosami...   \n",
       "4  A0A024B7W1        3423  POLG_ZIKVF Genome polyprotein OS=Zika virus (i...   \n",
       "\n",
       "                                            sequence  \n",
       "0  ADTIVAVELDTYPNTDIGDPSYPHIGIDIKSVRSKKTAKWNMQNGK...  \n",
       "1  MAPTKDFSTTTTNGAESWDDVADFVTKKGHGVKGLSERGIKTLPKP...  \n",
       "2  MAPTKDFSTATNGADSWDDVADFVTKKGHGVKGLSERGIKTLPKPF...  \n",
       "3  MLSPIRTTFHNSVNIVQSSPCQTVSFAGKEYELKVIDEKTPILFQW...  \n",
       "4  MKNPKKKSGGFRIVNMLKRGVARVSPFGGLKRLPAGLLLGHGPIRM...  "
      ]
     },
     "execution_count": 28,
     "metadata": {},
     "output_type": "execute_result"
    }
   ],
   "source": [
    "# exploring pos train fasta file\n",
    "pos_train_full_fasta = read_fasta(\"POS_TRAIN_FULL.fasta\",db_path, columns=[\"id\",\"seq_length\",\"info\", \"sequence\"])\n",
    "pos_train_full_fasta.head()"
   ]
  },
  {
   "cell_type": "code",
   "execution_count": 29,
   "id": "04ff4f0e",
   "metadata": {
    "_kg_hide-input": true,
    "_kg_hide-output": true,
    "execution": {
     "iopub.execute_input": "2022-08-08T10:55:25.182416Z",
     "iopub.status.busy": "2022-08-08T10:55:25.180908Z",
     "iopub.status.idle": "2022-08-08T10:55:26.382950Z",
     "shell.execute_reply": "2022-08-08T10:55:26.381339Z"
    },
    "papermill": {
     "duration": 1.26328,
     "end_time": "2022-08-08T10:55:26.386278",
     "exception": false,
     "start_time": "2022-08-08T10:55:25.122998",
     "status": "completed"
    },
    "tags": []
   },
   "outputs": [
    {
     "name": "stdout",
     "output_type": "stream",
     "text": [
      "ChEBI-IDs_for_metal_binding.tsv  POS_TRAIN.tsv         test-dataset.fasta\r\n",
      "NEG_TRAIN.fasta                  POS_TRAIN_FULL.fasta  test.txt\r\n",
      "POS_TRAIN.fasta                  POS_TRAIN_FULL.tsv\r\n"
     ]
    }
   ],
   "source": [
    "ls"
   ]
  },
  {
   "cell_type": "code",
   "execution_count": 30,
   "id": "9da0bd19",
   "metadata": {
    "_kg_hide-input": true,
    "_kg_hide-output": true,
    "execution": {
     "iopub.execute_input": "2022-08-08T10:55:26.508739Z",
     "iopub.status.busy": "2022-08-08T10:55:26.507741Z",
     "iopub.status.idle": "2022-08-08T10:55:27.030889Z",
     "shell.execute_reply": "2022-08-08T10:55:27.029724Z"
    },
    "papermill": {
     "duration": 0.584294,
     "end_time": "2022-08-08T10:55:27.033671",
     "exception": false,
     "start_time": "2022-08-08T10:55:26.449377",
     "status": "completed"
    },
    "tags": []
   },
   "outputs": [
    {
     "data": {
      "text/html": [
       "<div>\n",
       "<style scoped>\n",
       "    .dataframe tbody tr th:only-of-type {\n",
       "        vertical-align: middle;\n",
       "    }\n",
       "\n",
       "    .dataframe tbody tr th {\n",
       "        vertical-align: top;\n",
       "    }\n",
       "\n",
       "    .dataframe thead th {\n",
       "        text-align: right;\n",
       "    }\n",
       "</style>\n",
       "<table border=\"1\" class=\"dataframe\">\n",
       "  <thead>\n",
       "    <tr style=\"text-align: right;\">\n",
       "      <th></th>\n",
       "      <th>Accession</th>\n",
       "      <th>Evidence</th>\n",
       "      <th>ChEBI-ID</th>\n",
       "      <th>Position</th>\n",
       "    </tr>\n",
       "  </thead>\n",
       "  <tbody>\n",
       "    <tr>\n",
       "      <th>0</th>\n",
       "      <td>P0C6X8</td>\n",
       "      <td>ECO:0000255</td>\n",
       "      <td>CHEBI:29105</td>\n",
       "      <td>6190</td>\n",
       "    </tr>\n",
       "    <tr>\n",
       "      <th>1</th>\n",
       "      <td>P0C6X8</td>\n",
       "      <td>ECO:0000255</td>\n",
       "      <td>CHEBI:29105</td>\n",
       "      <td>6376</td>\n",
       "    </tr>\n",
       "    <tr>\n",
       "      <th>2</th>\n",
       "      <td>Q9RS27</td>\n",
       "      <td>ECO:0000255</td>\n",
       "      <td>CHEBI:29105</td>\n",
       "      <td>693</td>\n",
       "    </tr>\n",
       "    <tr>\n",
       "      <th>3</th>\n",
       "      <td>Q5HLY0</td>\n",
       "      <td>ECO:0000255</td>\n",
       "      <td>CHEBI:18420</td>\n",
       "      <td>97</td>\n",
       "    </tr>\n",
       "    <tr>\n",
       "      <th>4</th>\n",
       "      <td>Q9I2T1</td>\n",
       "      <td>ECO:0000255</td>\n",
       "      <td>CHEBI:29105</td>\n",
       "      <td>170</td>\n",
       "    </tr>\n",
       "  </tbody>\n",
       "</table>\n",
       "</div>"
      ],
      "text/plain": [
       "  Accession     Evidence     ChEBI-ID  Position\n",
       "0    P0C6X8  ECO:0000255  CHEBI:29105      6190\n",
       "1    P0C6X8  ECO:0000255  CHEBI:29105      6376\n",
       "2    Q9RS27  ECO:0000255  CHEBI:29105       693\n",
       "3    Q5HLY0  ECO:0000255  CHEBI:18420        97\n",
       "4    Q9I2T1  ECO:0000255  CHEBI:29105       170"
      ]
     },
     "execution_count": 30,
     "metadata": {},
     "output_type": "execute_result"
    }
   ],
   "source": [
    "pos_train_full_tsv = pd.read_csv(db_path+'/POS_TRAIN_FULL.tsv', sep='\\t', header=0)\n",
    "pos_train_full_tsv.head()"
   ]
  },
  {
   "cell_type": "code",
   "execution_count": 31,
   "id": "cf148e15",
   "metadata": {
    "_kg_hide-input": true,
    "_kg_hide-output": true,
    "execution": {
     "iopub.execute_input": "2022-08-08T10:55:27.145408Z",
     "iopub.status.busy": "2022-08-08T10:55:27.144811Z",
     "iopub.status.idle": "2022-08-08T10:55:27.213479Z",
     "shell.execute_reply": "2022-08-08T10:55:27.211767Z"
    },
    "papermill": {
     "duration": 0.127856,
     "end_time": "2022-08-08T10:55:27.216200",
     "exception": false,
     "start_time": "2022-08-08T10:55:27.088344",
     "status": "completed"
    },
    "tags": []
   },
   "outputs": [
    {
     "name": "stdout",
     "output_type": "stream",
     "text": [
      "<class 'pandas.core.frame.DataFrame'>\n",
      "RangeIndex: 409989 entries, 0 to 409988\n",
      "Data columns (total 4 columns):\n",
      " #   Column     Non-Null Count   Dtype \n",
      "---  ------     --------------   ----- \n",
      " 0   Accession  409989 non-null  object\n",
      " 1   Evidence   409989 non-null  object\n",
      " 2   ChEBI-ID   409989 non-null  object\n",
      " 3   Position   409989 non-null  int64 \n",
      "dtypes: int64(1), object(3)\n",
      "memory usage: 12.5+ MB\n"
     ]
    }
   ],
   "source": [
    "pos_train_full_tsv.info()"
   ]
  },
  {
   "cell_type": "code",
   "execution_count": 32,
   "id": "6536433b",
   "metadata": {
    "_kg_hide-input": true,
    "_kg_hide-output": true,
    "execution": {
     "iopub.execute_input": "2022-08-08T10:55:27.328723Z",
     "iopub.status.busy": "2022-08-08T10:55:27.328314Z",
     "iopub.status.idle": "2022-08-08T10:55:27.934682Z",
     "shell.execute_reply": "2022-08-08T10:55:27.933363Z"
    },
    "papermill": {
     "duration": 0.666003,
     "end_time": "2022-08-08T10:55:27.937660",
     "exception": false,
     "start_time": "2022-08-08T10:55:27.271657",
     "status": "completed"
    },
    "tags": []
   },
   "outputs": [
    {
     "data": {
      "text/html": [
       "<div>\n",
       "<style scoped>\n",
       "    .dataframe tbody tr th:only-of-type {\n",
       "        vertical-align: middle;\n",
       "    }\n",
       "\n",
       "    .dataframe tbody tr th {\n",
       "        vertical-align: top;\n",
       "    }\n",
       "\n",
       "    .dataframe thead th {\n",
       "        text-align: right;\n",
       "    }\n",
       "</style>\n",
       "<table border=\"1\" class=\"dataframe\">\n",
       "  <thead>\n",
       "    <tr style=\"text-align: right;\">\n",
       "      <th></th>\n",
       "      <th>id</th>\n",
       "      <th>ChEBI-ID</th>\n",
       "      <th>Position</th>\n",
       "      <th>sequence</th>\n",
       "    </tr>\n",
       "  </thead>\n",
       "  <tbody>\n",
       "    <tr>\n",
       "      <th>0</th>\n",
       "      <td>P0C6X8</td>\n",
       "      <td>CHEBI:29105</td>\n",
       "      <td>6190</td>\n",
       "      <td>MAKMGKYGLGFKWAPEFPWMLPNASEKLGSPERSEEDGFCPSAAQE...</td>\n",
       "    </tr>\n",
       "    <tr>\n",
       "      <th>1</th>\n",
       "      <td>P0C6X8</td>\n",
       "      <td>CHEBI:29105</td>\n",
       "      <td>6376</td>\n",
       "      <td>MAKMGKYGLGFKWAPEFPWMLPNASEKLGSPERSEEDGFCPSAAQE...</td>\n",
       "    </tr>\n",
       "    <tr>\n",
       "      <th>2</th>\n",
       "      <td>P0C6X8</td>\n",
       "      <td>CHEBI:29105</td>\n",
       "      <td>5363</td>\n",
       "      <td>MAKMGKYGLGFKWAPEFPWMLPNASEKLGSPERSEEDGFCPSAAQE...</td>\n",
       "    </tr>\n",
       "    <tr>\n",
       "      <th>3</th>\n",
       "      <td>P0C6X8</td>\n",
       "      <td>CHEBI:29105</td>\n",
       "      <td>4355</td>\n",
       "      <td>MAKMGKYGLGFKWAPEFPWMLPNASEKLGSPERSEEDGFCPSAAQE...</td>\n",
       "    </tr>\n",
       "    <tr>\n",
       "      <th>4</th>\n",
       "      <td>P0C6X8</td>\n",
       "      <td>CHEBI:29105</td>\n",
       "      <td>4392</td>\n",
       "      <td>MAKMGKYGLGFKWAPEFPWMLPNASEKLGSPERSEEDGFCPSAAQE...</td>\n",
       "    </tr>\n",
       "  </tbody>\n",
       "</table>\n",
       "</div>"
      ],
      "text/plain": [
       "       id     ChEBI-ID  Position  \\\n",
       "0  P0C6X8  CHEBI:29105      6190   \n",
       "1  P0C6X8  CHEBI:29105      6376   \n",
       "2  P0C6X8  CHEBI:29105      5363   \n",
       "3  P0C6X8  CHEBI:29105      4355   \n",
       "4  P0C6X8  CHEBI:29105      4392   \n",
       "\n",
       "                                            sequence  \n",
       "0  MAKMGKYGLGFKWAPEFPWMLPNASEKLGSPERSEEDGFCPSAAQE...  \n",
       "1  MAKMGKYGLGFKWAPEFPWMLPNASEKLGSPERSEEDGFCPSAAQE...  \n",
       "2  MAKMGKYGLGFKWAPEFPWMLPNASEKLGSPERSEEDGFCPSAAQE...  \n",
       "3  MAKMGKYGLGFKWAPEFPWMLPNASEKLGSPERSEEDGFCPSAAQE...  \n",
       "4  MAKMGKYGLGFKWAPEFPWMLPNASEKLGSPERSEEDGFCPSAAQE...  "
      ]
     },
     "execution_count": 32,
     "metadata": {},
     "output_type": "execute_result"
    }
   ],
   "source": [
    "pos_train_full_df0 = pd.merge(pos_train_full_tsv, pos_train_full_fasta, left_on='Accession', right_on='id')\n",
    "pos_train_full_df0 = pos_train_full_df0[['id','ChEBI-ID','Position','sequence']]\n",
    "pos_train_full_df0.head()"
   ]
  },
  {
   "cell_type": "code",
   "execution_count": 33,
   "id": "fc59b4dc",
   "metadata": {
    "_kg_hide-input": true,
    "_kg_hide-output": true,
    "execution": {
     "iopub.execute_input": "2022-08-08T10:55:28.051824Z",
     "iopub.status.busy": "2022-08-08T10:55:28.051453Z",
     "iopub.status.idle": "2022-08-08T10:55:37.654299Z",
     "shell.execute_reply": "2022-08-08T10:55:37.653157Z"
    },
    "papermill": {
     "duration": 9.661986,
     "end_time": "2022-08-08T10:55:37.656879",
     "exception": false,
     "start_time": "2022-08-08T10:55:27.994893",
     "status": "completed"
    },
    "tags": []
   },
   "outputs": [
    {
     "data": {
      "text/html": [
       "<div>\n",
       "<style scoped>\n",
       "    .dataframe tbody tr th:only-of-type {\n",
       "        vertical-align: middle;\n",
       "    }\n",
       "\n",
       "    .dataframe tbody tr th {\n",
       "        vertical-align: top;\n",
       "    }\n",
       "\n",
       "    .dataframe thead th {\n",
       "        text-align: right;\n",
       "    }\n",
       "</style>\n",
       "<table border=\"1\" class=\"dataframe\">\n",
       "  <thead>\n",
       "    <tr style=\"text-align: right;\">\n",
       "      <th></th>\n",
       "      <th>id</th>\n",
       "      <th>ChEBI-ID</th>\n",
       "      <th>Position</th>\n",
       "      <th>sequence</th>\n",
       "      <th>binding_amino_acid</th>\n",
       "    </tr>\n",
       "  </thead>\n",
       "  <tbody>\n",
       "    <tr>\n",
       "      <th>0</th>\n",
       "      <td>P0C6X8</td>\n",
       "      <td>CHEBI:29105</td>\n",
       "      <td>6190</td>\n",
       "      <td>MAKMGKYGLGFKWAPEFPWMLPNASEKLGSPERSEEDGFCPSAAQE...</td>\n",
       "      <td>C</td>\n",
       "    </tr>\n",
       "    <tr>\n",
       "      <th>1</th>\n",
       "      <td>P0C6X8</td>\n",
       "      <td>CHEBI:29105</td>\n",
       "      <td>6376</td>\n",
       "      <td>MAKMGKYGLGFKWAPEFPWMLPNASEKLGSPERSEEDGFCPSAAQE...</td>\n",
       "      <td>C</td>\n",
       "    </tr>\n",
       "    <tr>\n",
       "      <th>2</th>\n",
       "      <td>P0C6X8</td>\n",
       "      <td>CHEBI:29105</td>\n",
       "      <td>5363</td>\n",
       "      <td>MAKMGKYGLGFKWAPEFPWMLPNASEKLGSPERSEEDGFCPSAAQE...</td>\n",
       "      <td>H</td>\n",
       "    </tr>\n",
       "    <tr>\n",
       "      <th>3</th>\n",
       "      <td>P0C6X8</td>\n",
       "      <td>CHEBI:29105</td>\n",
       "      <td>4355</td>\n",
       "      <td>MAKMGKYGLGFKWAPEFPWMLPNASEKLGSPERSEEDGFCPSAAQE...</td>\n",
       "      <td>C</td>\n",
       "    </tr>\n",
       "    <tr>\n",
       "      <th>4</th>\n",
       "      <td>P0C6X8</td>\n",
       "      <td>CHEBI:29105</td>\n",
       "      <td>4392</td>\n",
       "      <td>MAKMGKYGLGFKWAPEFPWMLPNASEKLGSPERSEEDGFCPSAAQE...</td>\n",
       "      <td>C</td>\n",
       "    </tr>\n",
       "  </tbody>\n",
       "</table>\n",
       "</div>"
      ],
      "text/plain": [
       "       id     ChEBI-ID  Position  \\\n",
       "0  P0C6X8  CHEBI:29105      6190   \n",
       "1  P0C6X8  CHEBI:29105      6376   \n",
       "2  P0C6X8  CHEBI:29105      5363   \n",
       "3  P0C6X8  CHEBI:29105      4355   \n",
       "4  P0C6X8  CHEBI:29105      4392   \n",
       "\n",
       "                                            sequence binding_amino_acid  \n",
       "0  MAKMGKYGLGFKWAPEFPWMLPNASEKLGSPERSEEDGFCPSAAQE...                  C  \n",
       "1  MAKMGKYGLGFKWAPEFPWMLPNASEKLGSPERSEEDGFCPSAAQE...                  C  \n",
       "2  MAKMGKYGLGFKWAPEFPWMLPNASEKLGSPERSEEDGFCPSAAQE...                  H  \n",
       "3  MAKMGKYGLGFKWAPEFPWMLPNASEKLGSPERSEEDGFCPSAAQE...                  C  \n",
       "4  MAKMGKYGLGFKWAPEFPWMLPNASEKLGSPERSEEDGFCPSAAQE...                  C  "
      ]
     },
     "execution_count": 33,
     "metadata": {},
     "output_type": "execute_result"
    }
   ],
   "source": [
    "# function to determine the amino acid that the binding happened at\n",
    "pos_train_full_df0['binding_amino_acid'] = pos_train_full_df0.apply(\n",
    "    lambda row: row.sequence[row.Position-1] , axis=1)\n",
    "\n",
    "# function to determine the \n",
    "pos_train_full_df0.head()"
   ]
  },
  {
   "cell_type": "code",
   "execution_count": 34,
   "id": "e369b0cf",
   "metadata": {
    "_kg_hide-input": true,
    "_kg_hide-output": true,
    "execution": {
     "iopub.execute_input": "2022-08-08T10:55:37.775292Z",
     "iopub.status.busy": "2022-08-08T10:55:37.774856Z",
     "iopub.status.idle": "2022-08-08T10:55:37.885672Z",
     "shell.execute_reply": "2022-08-08T10:55:37.884158Z"
    },
    "papermill": {
     "duration": 0.171619,
     "end_time": "2022-08-08T10:55:37.888531",
     "exception": false,
     "start_time": "2022-08-08T10:55:37.716912",
     "status": "completed"
    },
    "tags": []
   },
   "outputs": [
    {
     "data": {
      "text/plain": [
       "id                    0\n",
       "ChEBI-ID              0\n",
       "Position              0\n",
       "sequence              0\n",
       "binding_amino_acid    0\n",
       "dtype: int64"
      ]
     },
     "execution_count": 34,
     "metadata": {},
     "output_type": "execute_result"
    }
   ],
   "source": [
    "# checking for null values\n",
    "pos_train_full_df0.isnull().sum()"
   ]
  },
  {
   "cell_type": "code",
   "execution_count": 35,
   "id": "0d6ded80",
   "metadata": {
    "_kg_hide-input": true,
    "_kg_hide-output": true,
    "execution": {
     "iopub.execute_input": "2022-08-08T10:55:38.004186Z",
     "iopub.status.busy": "2022-08-08T10:55:38.003739Z",
     "iopub.status.idle": "2022-08-08T10:55:38.356807Z",
     "shell.execute_reply": "2022-08-08T10:55:38.355645Z"
    },
    "papermill": {
     "duration": 0.413482,
     "end_time": "2022-08-08T10:55:38.359292",
     "exception": false,
     "start_time": "2022-08-08T10:55:37.945810",
     "status": "completed"
    },
    "tags": []
   },
   "outputs": [
    {
     "data": {
      "text/html": [
       "<div>\n",
       "<style scoped>\n",
       "    .dataframe tbody tr th:only-of-type {\n",
       "        vertical-align: middle;\n",
       "    }\n",
       "\n",
       "    .dataframe tbody tr th {\n",
       "        vertical-align: top;\n",
       "    }\n",
       "\n",
       "    .dataframe thead th {\n",
       "        text-align: right;\n",
       "    }\n",
       "</style>\n",
       "<table border=\"1\" class=\"dataframe\">\n",
       "  <thead>\n",
       "    <tr style=\"text-align: right;\">\n",
       "      <th></th>\n",
       "      <th>id</th>\n",
       "      <th>metal_name</th>\n",
       "      <th>Position</th>\n",
       "      <th>binding_amino_acid</th>\n",
       "      <th>sequence</th>\n",
       "    </tr>\n",
       "  </thead>\n",
       "  <tbody>\n",
       "    <tr>\n",
       "      <th>0</th>\n",
       "      <td>P0C6X8</td>\n",
       "      <td>Zn(2+)</td>\n",
       "      <td>6190</td>\n",
       "      <td>C</td>\n",
       "      <td>MAKMGKYGLGFKWAPEFPWMLPNASEKLGSPERSEEDGFCPSAAQE...</td>\n",
       "    </tr>\n",
       "    <tr>\n",
       "      <th>1</th>\n",
       "      <td>P0C6X8</td>\n",
       "      <td>Zn(2+)</td>\n",
       "      <td>6376</td>\n",
       "      <td>C</td>\n",
       "      <td>MAKMGKYGLGFKWAPEFPWMLPNASEKLGSPERSEEDGFCPSAAQE...</td>\n",
       "    </tr>\n",
       "    <tr>\n",
       "      <th>2</th>\n",
       "      <td>P0C6X8</td>\n",
       "      <td>Zn(2+)</td>\n",
       "      <td>5363</td>\n",
       "      <td>H</td>\n",
       "      <td>MAKMGKYGLGFKWAPEFPWMLPNASEKLGSPERSEEDGFCPSAAQE...</td>\n",
       "    </tr>\n",
       "    <tr>\n",
       "      <th>3</th>\n",
       "      <td>P0C6X8</td>\n",
       "      <td>Zn(2+)</td>\n",
       "      <td>4355</td>\n",
       "      <td>C</td>\n",
       "      <td>MAKMGKYGLGFKWAPEFPWMLPNASEKLGSPERSEEDGFCPSAAQE...</td>\n",
       "    </tr>\n",
       "    <tr>\n",
       "      <th>4</th>\n",
       "      <td>P0C6X8</td>\n",
       "      <td>Zn(2+)</td>\n",
       "      <td>4392</td>\n",
       "      <td>C</td>\n",
       "      <td>MAKMGKYGLGFKWAPEFPWMLPNASEKLGSPERSEEDGFCPSAAQE...</td>\n",
       "    </tr>\n",
       "  </tbody>\n",
       "</table>\n",
       "</div>"
      ],
      "text/plain": [
       "       id metal_name  Position binding_amino_acid  \\\n",
       "0  P0C6X8     Zn(2+)      6190                  C   \n",
       "1  P0C6X8     Zn(2+)      6376                  C   \n",
       "2  P0C6X8     Zn(2+)      5363                  H   \n",
       "3  P0C6X8     Zn(2+)      4355                  C   \n",
       "4  P0C6X8     Zn(2+)      4392                  C   \n",
       "\n",
       "                                            sequence  \n",
       "0  MAKMGKYGLGFKWAPEFPWMLPNASEKLGSPERSEEDGFCPSAAQE...  \n",
       "1  MAKMGKYGLGFKWAPEFPWMLPNASEKLGSPERSEEDGFCPSAAQE...  \n",
       "2  MAKMGKYGLGFKWAPEFPWMLPNASEKLGSPERSEEDGFCPSAAQE...  \n",
       "3  MAKMGKYGLGFKWAPEFPWMLPNASEKLGSPERSEEDGFCPSAAQE...  \n",
       "4  MAKMGKYGLGFKWAPEFPWMLPNASEKLGSPERSEEDGFCPSAAQE...  "
      ]
     },
     "execution_count": 35,
     "metadata": {},
     "output_type": "execute_result"
    }
   ],
   "source": [
    "pos_train_full_df1 = pd.merge(pos_train_full_df0, chebi_id_df, left_on='ChEBI-ID', right_on='ChEBI-ID')\n",
    "pos_train_full_df1 = pos_train_full_df1[['id','Name','Position', 'binding_amino_acid','sequence']]\n",
    "pos_train_full_df1 = pos_train_full_df1.rename(columns={\"Name\": \"metal_name\"})\n",
    "pos_train_full_df1.head()"
   ]
  },
  {
   "cell_type": "code",
   "execution_count": 36,
   "id": "637b9ee1",
   "metadata": {
    "_kg_hide-input": true,
    "_kg_hide-output": true,
    "execution": {
     "iopub.execute_input": "2022-08-08T10:55:38.476022Z",
     "iopub.status.busy": "2022-08-08T10:55:38.475502Z",
     "iopub.status.idle": "2022-08-08T10:55:39.032600Z",
     "shell.execute_reply": "2022-08-08T10:55:39.031049Z"
    },
    "papermill": {
     "duration": 0.619281,
     "end_time": "2022-08-08T10:55:39.035237",
     "exception": false,
     "start_time": "2022-08-08T10:55:38.415956",
     "status": "completed"
    },
    "tags": []
   },
   "outputs": [
    {
     "data": {
      "text/plain": [
       "10144"
      ]
     },
     "execution_count": 36,
     "metadata": {},
     "output_type": "execute_result"
    }
   ],
   "source": [
    "#  checking for duplicates\n",
    "pos_train_full_df1.duplicated().sum()"
   ]
  },
  {
   "cell_type": "code",
   "execution_count": 37,
   "id": "3e4b4794",
   "metadata": {
    "_kg_hide-input": true,
    "_kg_hide-output": true,
    "execution": {
     "iopub.execute_input": "2022-08-08T10:55:39.150520Z",
     "iopub.status.busy": "2022-08-08T10:55:39.150128Z",
     "iopub.status.idle": "2022-08-08T10:55:40.281665Z",
     "shell.execute_reply": "2022-08-08T10:55:40.280182Z"
    },
    "papermill": {
     "duration": 1.192633,
     "end_time": "2022-08-08T10:55:40.284556",
     "exception": false,
     "start_time": "2022-08-08T10:55:39.091923",
     "status": "completed"
    },
    "tags": []
   },
   "outputs": [
    {
     "data": {
      "text/plain": [
       "0"
      ]
     },
     "execution_count": 37,
     "metadata": {},
     "output_type": "execute_result"
    }
   ],
   "source": [
    "# dropping duplicates \n",
    "pos_train_full_df1 = pos_train_full_df1.drop_duplicates()\n",
    "\n",
    "# then checking again for duplicates\n",
    "pos_train_full_df1.duplicated().sum()"
   ]
  },
  {
   "cell_type": "code",
   "execution_count": 38,
   "id": "0fcc53eb",
   "metadata": {
    "_kg_hide-input": true,
    "_kg_hide-output": true,
    "execution": {
     "iopub.execute_input": "2022-08-08T10:55:40.399775Z",
     "iopub.status.busy": "2022-08-08T10:55:40.399406Z",
     "iopub.status.idle": "2022-08-08T10:55:40.424671Z",
     "shell.execute_reply": "2022-08-08T10:55:40.423273Z"
    },
    "papermill": {
     "duration": 0.086239,
     "end_time": "2022-08-08T10:55:40.427616",
     "exception": false,
     "start_time": "2022-08-08T10:55:40.341377",
     "status": "completed"
    },
    "tags": []
   },
   "outputs": [
    {
     "data": {
      "text/plain": [
       "count    399845.000000\n",
       "mean        254.259458\n",
       "std         405.432395\n",
       "min           1.000000\n",
       "25%          82.000000\n",
       "50%         165.000000\n",
       "75%         288.000000\n",
       "max        7257.000000\n",
       "Name: Position, dtype: float64"
      ]
     },
     "execution_count": 38,
     "metadata": {},
     "output_type": "execute_result"
    }
   ],
   "source": [
    "pos_train_full_df1['Position'].describe()"
   ]
  },
  {
   "cell_type": "code",
   "execution_count": 39,
   "id": "77037b3f",
   "metadata": {
    "_kg_hide-input": true,
    "_kg_hide-output": true,
    "execution": {
     "iopub.execute_input": "2022-08-08T10:55:40.543712Z",
     "iopub.status.busy": "2022-08-08T10:55:40.543316Z",
     "iopub.status.idle": "2022-08-08T10:55:46.716335Z",
     "shell.execute_reply": "2022-08-08T10:55:46.714983Z"
    },
    "papermill": {
     "duration": 6.235351,
     "end_time": "2022-08-08T10:55:46.719671",
     "exception": false,
     "start_time": "2022-08-08T10:55:40.484320",
     "status": "completed"
    },
    "tags": []
   },
   "outputs": [],
   "source": [
    "# Getting part of the sequence before and after the binding amino acids with an offset of 3 amino acids\n",
    "def window_3(Position,sequence):\n",
    "    if Position <= 3:\n",
    "        return sequence[:Position+3]\n",
    "    if Position >= (7257-3):\n",
    "        return sequence[Position-4:]\n",
    "    else:\n",
    "        return sequence[Position-4:Position+3]\n",
    "\n",
    "pos_train_full_df1[\"window_3\"] = pos_train_full_df1.apply(lambda row: window_3(row[\"Position\"],row[\"sequence\"]),\n",
    "\n",
    "axis=1)"
   ]
  },
  {
   "cell_type": "code",
   "execution_count": 40,
   "id": "7f2794d0",
   "metadata": {
    "_kg_hide-input": true,
    "_kg_hide-output": true,
    "execution": {
     "iopub.execute_input": "2022-08-08T10:55:46.834813Z",
     "iopub.status.busy": "2022-08-08T10:55:46.834397Z",
     "iopub.status.idle": "2022-08-08T10:55:47.022386Z",
     "shell.execute_reply": "2022-08-08T10:55:47.021079Z"
    },
    "papermill": {
     "duration": 0.248179,
     "end_time": "2022-08-08T10:55:47.024747",
     "exception": false,
     "start_time": "2022-08-08T10:55:46.776568",
     "status": "completed"
    },
    "tags": []
   },
   "outputs": [
    {
     "data": {
      "text/plain": [
       "count      399845\n",
       "unique     108982\n",
       "top       ADFDGDQ\n",
       "freq          839\n",
       "Name: window_3, dtype: object"
      ]
     },
     "execution_count": 40,
     "metadata": {},
     "output_type": "execute_result"
    }
   ],
   "source": [
    "pos_train_full_df1['window_3'].describe()"
   ]
  },
  {
   "cell_type": "code",
   "execution_count": 41,
   "id": "2c27ca7c",
   "metadata": {
    "_kg_hide-input": true,
    "_kg_hide-output": true,
    "execution": {
     "iopub.execute_input": "2022-08-08T10:55:47.140791Z",
     "iopub.status.busy": "2022-08-08T10:55:47.140179Z",
     "iopub.status.idle": "2022-08-08T10:55:53.395853Z",
     "shell.execute_reply": "2022-08-08T10:55:53.394435Z"
    },
    "papermill": {
     "duration": 6.31698,
     "end_time": "2022-08-08T10:55:53.398695",
     "exception": false,
     "start_time": "2022-08-08T10:55:47.081715",
     "status": "completed"
    },
    "tags": []
   },
   "outputs": [],
   "source": [
    "# Getting part of the sequence before and after the binding amino acids with an offset of 10 amino acids\n",
    "def window_10(Position,sequence):\n",
    "    if Position <= 10:\n",
    "        return sequence[:Position+10]\n",
    "    if Position >= (7257-10):\n",
    "        return sequence[Position-11:]\n",
    "    else:\n",
    "        return sequence[Position-11:Position+10]\n",
    "\n",
    "pos_train_full_df1[\"window_10\"] = pos_train_full_df1.apply(lambda row: window_10(row[\"Position\"],row[\"sequence\"]),\n",
    "\n",
    "axis=1)"
   ]
  },
  {
   "cell_type": "code",
   "execution_count": 42,
   "id": "7ba07434",
   "metadata": {
    "_kg_hide-input": true,
    "_kg_hide-output": true,
    "execution": {
     "iopub.execute_input": "2022-08-08T10:55:53.515313Z",
     "iopub.status.busy": "2022-08-08T10:55:53.514725Z",
     "iopub.status.idle": "2022-08-08T10:55:53.529879Z",
     "shell.execute_reply": "2022-08-08T10:55:53.528663Z"
    },
    "papermill": {
     "duration": 0.076503,
     "end_time": "2022-08-08T10:55:53.532484",
     "exception": false,
     "start_time": "2022-08-08T10:55:53.455981",
     "status": "completed"
    },
    "tags": []
   },
   "outputs": [
    {
     "data": {
      "text/html": [
       "<div>\n",
       "<style scoped>\n",
       "    .dataframe tbody tr th:only-of-type {\n",
       "        vertical-align: middle;\n",
       "    }\n",
       "\n",
       "    .dataframe tbody tr th {\n",
       "        vertical-align: top;\n",
       "    }\n",
       "\n",
       "    .dataframe thead th {\n",
       "        text-align: right;\n",
       "    }\n",
       "</style>\n",
       "<table border=\"1\" class=\"dataframe\">\n",
       "  <thead>\n",
       "    <tr style=\"text-align: right;\">\n",
       "      <th></th>\n",
       "      <th>id</th>\n",
       "      <th>metal_name</th>\n",
       "      <th>Position</th>\n",
       "      <th>binding_amino_acid</th>\n",
       "      <th>sequence</th>\n",
       "      <th>window_3</th>\n",
       "      <th>window_10</th>\n",
       "    </tr>\n",
       "  </thead>\n",
       "  <tbody>\n",
       "    <tr>\n",
       "      <th>0</th>\n",
       "      <td>P0C6X8</td>\n",
       "      <td>Zn(2+)</td>\n",
       "      <td>6190</td>\n",
       "      <td>C</td>\n",
       "      <td>MAKMGKYGLGFKWAPEFPWMLPNASEKLGSPERSEEDGFCPSAAQE...</td>\n",
       "      <td>DLICSVH</td>\n",
       "      <td>GSLTSNHDLICSVHKGAHVAS</td>\n",
       "    </tr>\n",
       "    <tr>\n",
       "      <th>1</th>\n",
       "      <td>P0C6X8</td>\n",
       "      <td>Zn(2+)</td>\n",
       "      <td>6376</td>\n",
       "      <td>C</td>\n",
       "      <td>MAKMGKYGLGFKWAPEFPWMLPNASEKLGSPERSEEDGFCPSAAQE...</td>\n",
       "      <td>DTPCVYM</td>\n",
       "      <td>MPFFYYSDTPCVYMEGMESKQ</td>\n",
       "    </tr>\n",
       "    <tr>\n",
       "      <th>2</th>\n",
       "      <td>P0C6X8</td>\n",
       "      <td>Zn(2+)</td>\n",
       "      <td>5363</td>\n",
       "      <td>H</td>\n",
       "      <td>MAKMGKYGLGFKWAPEFPWMLPNASEKLGSPERSEEDGFCPSAAQE...</td>\n",
       "      <td>AYDHVMS</td>\n",
       "      <td>PLLCCKCAYDHVMSTDHKYVL</td>\n",
       "    </tr>\n",
       "    <tr>\n",
       "      <th>3</th>\n",
       "      <td>P0C6X8</td>\n",
       "      <td>Zn(2+)</td>\n",
       "      <td>4355</td>\n",
       "      <td>C</td>\n",
       "      <td>MAKMGKYGLGFKWAPEFPWMLPNASEKLGSPERSEEDGFCPSAAQE...</td>\n",
       "      <td>DGLCKLR</td>\n",
       "      <td>RVEHPDVDGLCKLRGKFVQVP</td>\n",
       "    </tr>\n",
       "    <tr>\n",
       "      <th>4</th>\n",
       "      <td>P0C6X8</td>\n",
       "      <td>Zn(2+)</td>\n",
       "      <td>4392</td>\n",
       "      <td>C</td>\n",
       "      <td>MAKMGKYGLGFKWAPEFPWMLPNASEKLGSPERSEEDGFCPSAAQE...</td>\n",
       "      <td>DGSCSCV</td>\n",
       "      <td>QVCGFWRDGSCSCVGTGSQFQ</td>\n",
       "    </tr>\n",
       "  </tbody>\n",
       "</table>\n",
       "</div>"
      ],
      "text/plain": [
       "       id metal_name  Position binding_amino_acid  \\\n",
       "0  P0C6X8     Zn(2+)      6190                  C   \n",
       "1  P0C6X8     Zn(2+)      6376                  C   \n",
       "2  P0C6X8     Zn(2+)      5363                  H   \n",
       "3  P0C6X8     Zn(2+)      4355                  C   \n",
       "4  P0C6X8     Zn(2+)      4392                  C   \n",
       "\n",
       "                                            sequence window_3  \\\n",
       "0  MAKMGKYGLGFKWAPEFPWMLPNASEKLGSPERSEEDGFCPSAAQE...  DLICSVH   \n",
       "1  MAKMGKYGLGFKWAPEFPWMLPNASEKLGSPERSEEDGFCPSAAQE...  DTPCVYM   \n",
       "2  MAKMGKYGLGFKWAPEFPWMLPNASEKLGSPERSEEDGFCPSAAQE...  AYDHVMS   \n",
       "3  MAKMGKYGLGFKWAPEFPWMLPNASEKLGSPERSEEDGFCPSAAQE...  DGLCKLR   \n",
       "4  MAKMGKYGLGFKWAPEFPWMLPNASEKLGSPERSEEDGFCPSAAQE...  DGSCSCV   \n",
       "\n",
       "               window_10  \n",
       "0  GSLTSNHDLICSVHKGAHVAS  \n",
       "1  MPFFYYSDTPCVYMEGMESKQ  \n",
       "2  PLLCCKCAYDHVMSTDHKYVL  \n",
       "3  RVEHPDVDGLCKLRGKFVQVP  \n",
       "4  QVCGFWRDGSCSCVGTGSQFQ  "
      ]
     },
     "execution_count": 42,
     "metadata": {},
     "output_type": "execute_result"
    }
   ],
   "source": [
    "pos_train_full_df1.head()"
   ]
  },
  {
   "cell_type": "markdown",
   "id": "7f462514",
   "metadata": {
    "papermill": {
     "duration": 0.056088,
     "end_time": "2022-08-08T10:55:53.645849",
     "exception": false,
     "start_time": "2022-08-08T10:55:53.589761",
     "status": "completed"
    },
    "tags": []
   },
   "source": [
    "## Findings"
   ]
  },
  {
   "cell_type": "code",
   "execution_count": 43,
   "id": "07cfded2",
   "metadata": {
    "execution": {
     "iopub.execute_input": "2022-08-08T10:55:53.760983Z",
     "iopub.status.busy": "2022-08-08T10:55:53.760317Z",
     "iopub.status.idle": "2022-08-08T10:55:53.788122Z",
     "shell.execute_reply": "2022-08-08T10:55:53.787175Z"
    },
    "papermill": {
     "duration": 0.088127,
     "end_time": "2022-08-08T10:55:53.790527",
     "exception": false,
     "start_time": "2022-08-08T10:55:53.702400",
     "status": "completed"
    },
    "tags": []
   },
   "outputs": [
    {
     "data": {
      "text/plain": [
       "Zn(2+)                           32.690918\n",
       "Mg(2+)                           22.102565\n",
       "[4Fe-4S] cluster                 12.778202\n",
       "Ca(2+)                            9.794045\n",
       "Mn(2+)                            5.478873\n",
       "a divalent metal cation           4.452475\n",
       "Fe cation                         4.176869\n",
       "[2Fe-2S] cluster                  2.196101\n",
       "Cu cation                         1.810952\n",
       "K(+)                              1.546599\n",
       "Ni(2+)                            0.839575\n",
       "Na(+)                             0.541210\n",
       "Fe(3+)                            0.392402\n",
       "iron-sulfur cluster               0.263602\n",
       "Cu(2+)                            0.229589\n",
       "Fe(2+)                            0.204579\n",
       "[3Fe-4S] cluster                  0.122297\n",
       "Cu(+)                             0.086784\n",
       "Cd(2+)                            0.083782\n",
       "Co(2+)                            0.053271\n",
       "[8Fe-7S] cluster                  0.044017\n",
       "a metal cation                    0.032763\n",
       "[Ni-4Fe-4S] cluster               0.025510\n",
       "Hg(2+)                            0.022009\n",
       "[Ni-4Fe-5S] cluster               0.012755\n",
       "[Ni-Fe-S] cluster                 0.011004\n",
       "Co(3+)                            0.004002\n",
       "[8Fe-9S-C-homocitryl] cluster     0.001751\n",
       "Li(+)                             0.001501\n",
       "Name: metal_name, dtype: float64"
      ]
     },
     "execution_count": 43,
     "metadata": {},
     "output_type": "execute_result"
    }
   ],
   "source": [
    "# percentage of occurences of Metals\n",
    "counts_pos_full_1 = pos_train_full_df1['metal_name'].value_counts(normalize=True)*100\n",
    "counts_pos_full_1"
   ]
  },
  {
   "cell_type": "code",
   "execution_count": 44,
   "id": "d8403166",
   "metadata": {
    "execution": {
     "iopub.execute_input": "2022-08-08T10:55:53.981789Z",
     "iopub.status.busy": "2022-08-08T10:55:53.980972Z",
     "iopub.status.idle": "2022-08-08T10:55:53.992156Z",
     "shell.execute_reply": "2022-08-08T10:55:53.990964Z"
    },
    "papermill": {
     "duration": 0.146253,
     "end_time": "2022-08-08T10:55:53.994634",
     "exception": false,
     "start_time": "2022-08-08T10:55:53.848381",
     "status": "completed"
    },
    "tags": []
   },
   "outputs": [
    {
     "data": {
      "text/plain": [
       "Q10583    48\n",
       "O31526    44\n",
       "O31527    38\n",
       "E0VIU9    32\n",
       "Q868M7    31\n",
       "Q51817    28\n",
       "P45452    28\n",
       "P19619    26\n",
       "Q46085    26\n",
       "P03956    24\n",
       "Name: id, dtype: int64"
      ]
     },
     "execution_count": 44,
     "metadata": {},
     "output_type": "execute_result"
    }
   ],
   "source": [
    "# top 10 protiens with highest number of binding sites\n",
    "pos_train_df1['id'].value_counts().head(10)"
   ]
  },
  {
   "cell_type": "code",
   "execution_count": 45,
   "id": "34a7d96a",
   "metadata": {
    "execution": {
     "iopub.execute_input": "2022-08-08T10:55:54.112577Z",
     "iopub.status.busy": "2022-08-08T10:55:54.111743Z",
     "iopub.status.idle": "2022-08-08T10:55:54.138643Z",
     "shell.execute_reply": "2022-08-08T10:55:54.137606Z"
    },
    "papermill": {
     "duration": 0.088414,
     "end_time": "2022-08-08T10:55:54.141145",
     "exception": false,
     "start_time": "2022-08-08T10:55:54.052731",
     "status": "completed"
    },
    "tags": []
   },
   "outputs": [
    {
     "data": {
      "text/plain": [
       "C    35.024822\n",
       "D    22.518226\n",
       "H    18.814040\n",
       "E    11.883355\n",
       "N     2.906876\n",
       "S     2.130075\n",
       "T     1.664645\n",
       "G     1.176206\n",
       "K     0.957371\n",
       "Q     0.573472\n",
       "Y     0.464180\n",
       "I     0.337881\n",
       "R     0.324626\n",
       "L     0.311871\n",
       "V     0.305869\n",
       "A     0.234091\n",
       "M     0.175818\n",
       "F     0.113544\n",
       "P     0.047018\n",
       "W     0.033513\n",
       "X     0.001501\n",
       "U     0.001000\n",
       "Name: binding_amino_acid, dtype: float64"
      ]
     },
     "execution_count": 45,
     "metadata": {},
     "output_type": "execute_result"
    }
   ],
   "source": [
    "#  frequancy percentage of having a binding site according to amino acid\n",
    "counts_pos_full_2 = pos_train_full_df1['binding_amino_acid'].value_counts(normalize=True)*100\n",
    "counts_pos_full_2"
   ]
  },
  {
   "cell_type": "code",
   "execution_count": 46,
   "id": "ce9a2aec",
   "metadata": {
    "execution": {
     "iopub.execute_input": "2022-08-08T10:55:54.259134Z",
     "iopub.status.busy": "2022-08-08T10:55:54.258312Z",
     "iopub.status.idle": "2022-08-08T10:55:54.891718Z",
     "shell.execute_reply": "2022-08-08T10:55:54.890273Z"
    },
    "papermill": {
     "duration": 0.695906,
     "end_time": "2022-08-08T10:55:54.894397",
     "exception": false,
     "start_time": "2022-08-08T10:55:54.198491",
     "status": "completed"
    },
    "tags": []
   },
   "outputs": [
    {
     "data": {
      "text/plain": [
       "<AxesSubplot:xlabel='binding_amino_acid', ylabel='count'>"
      ]
     },
     "execution_count": 46,
     "metadata": {},
     "output_type": "execute_result"
    },
    {
     "data": {
      "image/png": "[encoded data removed]",
      "text/plain": [
       "<Figure size 842.4x595.44 with 1 Axes>"
      ]
     },
     "metadata": {},
     "output_type": "display_data"
    }
   ],
   "source": [
    "# plot for the previous counts\n",
    "sns.countplot(x='binding_amino_acid', data=pos_train_full_df1)"
   ]
  },
  {
   "cell_type": "code",
   "execution_count": 47,
   "id": "6b3f9807",
   "metadata": {
    "execution": {
     "iopub.execute_input": "2022-08-08T10:55:55.017489Z",
     "iopub.status.busy": "2022-08-08T10:55:55.017045Z",
     "iopub.status.idle": "2022-08-08T10:55:55.449936Z",
     "shell.execute_reply": "2022-08-08T10:55:55.448791Z"
    },
    "papermill": {
     "duration": 0.49702,
     "end_time": "2022-08-08T10:55:55.452411",
     "exception": false,
     "start_time": "2022-08-08T10:55:54.955391",
     "status": "completed"
    },
    "tags": []
   },
   "outputs": [
    {
     "data": {
      "text/html": [
       "<div>\n",
       "<style scoped>\n",
       "    .dataframe tbody tr th:only-of-type {\n",
       "        vertical-align: middle;\n",
       "    }\n",
       "\n",
       "    .dataframe tbody tr th {\n",
       "        vertical-align: top;\n",
       "    }\n",
       "\n",
       "    .dataframe thead th {\n",
       "        text-align: right;\n",
       "    }\n",
       "</style>\n",
       "<table border=\"1\" class=\"dataframe\">\n",
       "  <thead>\n",
       "    <tr style=\"text-align: right;\">\n",
       "      <th></th>\n",
       "      <th>binding_amino_acid</th>\n",
       "      <th>metal_name</th>\n",
       "      <th>metal_counts</th>\n",
       "      <th>sequence</th>\n",
       "    </tr>\n",
       "  </thead>\n",
       "  <tbody>\n",
       "    <tr>\n",
       "      <th>0</th>\n",
       "      <td>C</td>\n",
       "      <td>Zn(2+)</td>\n",
       "      <td>72787</td>\n",
       "      <td>72787</td>\n",
       "    </tr>\n",
       "    <tr>\n",
       "      <th>1</th>\n",
       "      <td>C</td>\n",
       "      <td>[4Fe-4S] cluster</td>\n",
       "      <td>49778</td>\n",
       "      <td>49778</td>\n",
       "    </tr>\n",
       "    <tr>\n",
       "      <th>2</th>\n",
       "      <td>D</td>\n",
       "      <td>Mg(2+)</td>\n",
       "      <td>45125</td>\n",
       "      <td>45125</td>\n",
       "    </tr>\n",
       "    <tr>\n",
       "      <th>3</th>\n",
       "      <td>H</td>\n",
       "      <td>Zn(2+)</td>\n",
       "      <td>42062</td>\n",
       "      <td>42062</td>\n",
       "    </tr>\n",
       "    <tr>\n",
       "      <th>4</th>\n",
       "      <td>E</td>\n",
       "      <td>Mg(2+)</td>\n",
       "      <td>22721</td>\n",
       "      <td>22721</td>\n",
       "    </tr>\n",
       "    <tr>\n",
       "      <th>...</th>\n",
       "      <td>...</td>\n",
       "      <td>...</td>\n",
       "      <td>...</td>\n",
       "      <td>...</td>\n",
       "    </tr>\n",
       "    <tr>\n",
       "      <th>223</th>\n",
       "      <td>Q</td>\n",
       "      <td>Ni(2+)</td>\n",
       "      <td>1</td>\n",
       "      <td>1</td>\n",
       "    </tr>\n",
       "    <tr>\n",
       "      <th>224</th>\n",
       "      <td>I</td>\n",
       "      <td>[4Fe-4S] cluster</td>\n",
       "      <td>1</td>\n",
       "      <td>1</td>\n",
       "    </tr>\n",
       "    <tr>\n",
       "      <th>225</th>\n",
       "      <td>V</td>\n",
       "      <td>a divalent metal cation</td>\n",
       "      <td>1</td>\n",
       "      <td>1</td>\n",
       "    </tr>\n",
       "    <tr>\n",
       "      <th>226</th>\n",
       "      <td>V</td>\n",
       "      <td>Zn(2+)</td>\n",
       "      <td>1</td>\n",
       "      <td>1</td>\n",
       "    </tr>\n",
       "    <tr>\n",
       "      <th>227</th>\n",
       "      <td>K</td>\n",
       "      <td>Co(2+)</td>\n",
       "      <td>1</td>\n",
       "      <td>1</td>\n",
       "    </tr>\n",
       "  </tbody>\n",
       "</table>\n",
       "<p>228 rows × 4 columns</p>\n",
       "</div>"
      ],
      "text/plain": [
       "    binding_amino_acid               metal_name  metal_counts  sequence\n",
       "0                    C                   Zn(2+)         72787     72787\n",
       "1                    C         [4Fe-4S] cluster         49778     49778\n",
       "2                    D                   Mg(2+)         45125     45125\n",
       "3                    H                   Zn(2+)         42062     42062\n",
       "4                    E                   Mg(2+)         22721     22721\n",
       "..                 ...                      ...           ...       ...\n",
       "223                  Q                   Ni(2+)             1         1\n",
       "224                  I         [4Fe-4S] cluster             1         1\n",
       "225                  V  a divalent metal cation             1         1\n",
       "226                  V                   Zn(2+)             1         1\n",
       "227                  K                   Co(2+)             1         1\n",
       "\n",
       "[228 rows x 4 columns]"
      ]
     },
     "execution_count": 47,
     "metadata": {},
     "output_type": "execute_result"
    }
   ],
   "source": [
    "# ranking the combinations between binding metals and amino acids and thier occurance count\n",
    "list_amino_acids = []\n",
    "temp_pos_train_full = pos_train_full_df1[~pos_train_full_df1.binding_amino_acid.isin(list_amino_acids)]\n",
    "\n",
    "#pos_train_df1[pos_train_df1['Binding Amino Acid'] in ]\n",
    "temp_pos_train_full = temp_pos_train_full.groupby(['binding_amino_acid', 'metal_name']).count().sort_values(['id'], ascending=False)\n",
    "temp_pos_train_full = temp_pos_train_full.drop(['Position','window_3','window_10'], axis=1).rename(columns={'id':'metal_counts'}).reset_index()\n",
    "#temp['metal_counts'] = temp['metal_counts'] /temp['metal_counts'].abs().max()\n",
    "temp_pos_train_full"
   ]
  },
  {
   "cell_type": "code",
   "execution_count": 48,
   "id": "c37d4be8",
   "metadata": {
    "execution": {
     "iopub.execute_input": "2022-08-08T10:55:55.571028Z",
     "iopub.status.busy": "2022-08-08T10:55:55.570448Z",
     "iopub.status.idle": "2022-08-08T10:55:56.321684Z",
     "shell.execute_reply": "2022-08-08T10:55:56.320156Z"
    },
    "papermill": {
     "duration": 0.814538,
     "end_time": "2022-08-08T10:55:56.324837",
     "exception": false,
     "start_time": "2022-08-08T10:55:55.510299",
     "status": "completed"
    },
    "tags": []
   },
   "outputs": [
    {
     "data": {
      "image/png": "[encoded data removed]",
      "text/plain": [
       "<Figure size 842.4x595.44 with 2 Axes>"
      ]
     },
     "metadata": {},
     "output_type": "display_data"
    }
   ],
   "source": [
    "# Visualizing the combinations between binding metals and amino acids and thier occurance count\n",
    "heatmap2 = temp_pos_train_full.pivot(\"binding_amino_acid\", \"metal_name\", \"metal_counts\")\n",
    "ax2 = sns.heatmap(heatmap2 , cmap=\"YlGnBu\")"
   ]
  },
  {
   "cell_type": "markdown",
   "id": "3fc67b4b",
   "metadata": {
    "papermill": {
     "duration": 0.062099,
     "end_time": "2022-08-08T10:55:56.447950",
     "exception": false,
     "start_time": "2022-08-08T10:55:56.385851",
     "status": "completed"
    },
    "tags": []
   },
   "source": [
    "## Comparing both Full_POS_TRAIN and Full_POS datasets"
   ]
  },
  {
   "cell_type": "markdown",
   "id": "c8d12a6b",
   "metadata": {
    "papermill": {
     "duration": 0.060951,
     "end_time": "2022-08-08T10:55:56.569030",
     "exception": false,
     "start_time": "2022-08-08T10:55:56.508079",
     "status": "completed"
    },
    "tags": []
   },
   "source": [
    "Comparing counts of binding sites on all amino acids on both datasets\n",
    "\n"
   ]
  },
  {
   "cell_type": "code",
   "execution_count": 49,
   "id": "2454d8cd",
   "metadata": {
    "_kg_hide-input": true,
    "execution": {
     "iopub.execute_input": "2022-08-08T10:55:56.694127Z",
     "iopub.status.busy": "2022-08-08T10:55:56.693332Z",
     "iopub.status.idle": "2022-08-08T10:55:57.655843Z",
     "shell.execute_reply": "2022-08-08T10:55:57.654876Z"
    },
    "papermill": {
     "duration": 1.029199,
     "end_time": "2022-08-08T10:55:57.658398",
     "exception": false,
     "start_time": "2022-08-08T10:55:56.629199",
     "status": "completed"
    },
    "tags": []
   },
   "outputs": [
    {
     "data": {
      "image/png": "[encoded data removed]",
      "text/plain": [
       "<Figure size 842.4x595.44 with 2 Axes>"
      ]
     },
     "metadata": {},
     "output_type": "display_data"
    }
   ],
   "source": [
    "import matplotlib.pyplot as plt\n",
    "amino_acids = list(pos_train_df1.binding_amino_acid.unique())\n",
    "fig, ax = plt.subplots(1,2)\n",
    "sns.countplot(x = pos_train_df1['binding_amino_acid'], ax=ax[0], data= pos_train_df1)\n",
    "sns.countplot(x = pos_train_full_df1['binding_amino_acid'], ax=ax[1], data= pos_train_full_df1, order= amino_acids)\n",
    "fig.show()"
   ]
  },
  {
   "cell_type": "markdown",
   "id": "1b3cdc18",
   "metadata": {
    "papermill": {
     "duration": 0.060625,
     "end_time": "2022-08-08T10:55:57.780043",
     "exception": false,
     "start_time": "2022-08-08T10:55:57.719418",
     "status": "completed"
    },
    "tags": []
   },
   "source": [
    "Comparing frequancy of metals on both datasets"
   ]
  },
  {
   "cell_type": "code",
   "execution_count": 50,
   "id": "4220435d",
   "metadata": {
    "_kg_hide-input": true,
    "execution": {
     "iopub.execute_input": "2022-08-08T10:55:57.904668Z",
     "iopub.status.busy": "2022-08-08T10:55:57.903915Z",
     "iopub.status.idle": "2022-08-08T10:55:59.051381Z",
     "shell.execute_reply": "2022-08-08T10:55:59.050155Z"
    },
    "papermill": {
     "duration": 1.212552,
     "end_time": "2022-08-08T10:55:59.054201",
     "exception": false,
     "start_time": "2022-08-08T10:55:57.841649",
     "status": "completed"
    },
    "tags": []
   },
   "outputs": [
    {
     "data": {
      "image/png": "[encoded data removed]",
      "text/plain": [
       "<Figure size 842.4x595.44 with 2 Axes>"
      ]
     },
     "metadata": {},
     "output_type": "display_data"
    }
   ],
   "source": [
    "\n",
    "import matplotlib.pyplot as plt\n",
    "metals = list(pos_train_df1.metal_name.unique())\n",
    "amino_acids = list(pos_train_df1.binding_amino_acid.unique())\n",
    "fig, ax = plt.subplots(1,2)\n",
    "sns.countplot(y = pos_train_df1['metal_name'], ax=ax[0], data= pos_train_df1, orient = \"h\", order = metals)\n",
    "sns.countplot(y = pos_train_full_df1['metal_name'], ax=ax[1], data= pos_train_full_df1, orient= \"h\", order = metals)\n",
    "fig.show()"
   ]
  },
  {
   "cell_type": "markdown",
   "id": "dec4171a",
   "metadata": {
    "papermill": {
     "duration": 0.061394,
     "end_time": "2022-08-08T10:55:59.177719",
     "exception": false,
     "start_time": "2022-08-08T10:55:59.116325",
     "status": "completed"
    },
    "tags": []
   },
   "source": [
    "## Exploring NEG_TRAIN"
   ]
  },
  {
   "cell_type": "code",
   "execution_count": 51,
   "id": "9900d6a5",
   "metadata": {
    "_kg_hide-input": true,
    "_kg_hide-output": true,
    "execution": {
     "iopub.execute_input": "2022-08-08T10:55:59.301946Z",
     "iopub.status.busy": "2022-08-08T10:55:59.301558Z",
     "iopub.status.idle": "2022-08-08T10:56:02.553545Z",
     "shell.execute_reply": "2022-08-08T10:56:02.552326Z"
    },
    "papermill": {
     "duration": 3.31774,
     "end_time": "2022-08-08T10:56:02.555974",
     "exception": false,
     "start_time": "2022-08-08T10:55:59.238234",
     "status": "completed"
    },
    "tags": []
   },
   "outputs": [
    {
     "data": {
      "text/html": [
       "<div>\n",
       "<style scoped>\n",
       "    .dataframe tbody tr th:only-of-type {\n",
       "        vertical-align: middle;\n",
       "    }\n",
       "\n",
       "    .dataframe tbody tr th {\n",
       "        vertical-align: top;\n",
       "    }\n",
       "\n",
       "    .dataframe thead th {\n",
       "        text-align: right;\n",
       "    }\n",
       "</style>\n",
       "<table border=\"1\" class=\"dataframe\">\n",
       "  <thead>\n",
       "    <tr style=\"text-align: right;\">\n",
       "      <th></th>\n",
       "      <th>id</th>\n",
       "      <th>seq_length</th>\n",
       "      <th>info</th>\n",
       "      <th>sequence</th>\n",
       "    </tr>\n",
       "  </thead>\n",
       "  <tbody>\n",
       "    <tr>\n",
       "      <th>0</th>\n",
       "      <td>A0A075B6S6</td>\n",
       "      <td>120</td>\n",
       "      <td>KVD30_HUMAN Immunoglobulin kappa variable 2D-3...</td>\n",
       "      <td>MRLPAQLLGLLMLWVPGSSGDVVMTQSPLSLPVTLGQPASISCRSS...</td>\n",
       "    </tr>\n",
       "    <tr>\n",
       "      <th>1</th>\n",
       "      <td>A0A0K0IP23</td>\n",
       "      <td>161</td>\n",
       "      <td>CPI2_BRUMA Cystatin cpi-2 OS=Brugia malayi OX=...</td>\n",
       "      <td>MMSTMSIKEGLLVILLSLFLFDTTALIHRREIPHMESKGQMQRGQV...</td>\n",
       "    </tr>\n",
       "    <tr>\n",
       "      <th>2</th>\n",
       "      <td>A3DA80</td>\n",
       "      <td>365</td>\n",
       "      <td>TRMA_SHEB5 tRNA/tmRNA (uracil-C(5))-methyltran...</td>\n",
       "      <td>MNLAAMDPQTYDTQLEHKRIKLEQAFAQFETPSVEVFASEPANYRM...</td>\n",
       "    </tr>\n",
       "    <tr>\n",
       "      <th>3</th>\n",
       "      <td>A3KGV1</td>\n",
       "      <td>830</td>\n",
       "      <td>ODFP2_MOUSE Outer dense fiber protein 2 OS=Mus...</td>\n",
       "      <td>MSASSSGGSPRFPSCGKNGVTSLTQKKVLRTPCGAPSVTVTKSHKR...</td>\n",
       "    </tr>\n",
       "    <tr>\n",
       "      <th>4</th>\n",
       "      <td>A3MRU9</td>\n",
       "      <td>126</td>\n",
       "      <td>RS12_BURM7 30S ribosomal protein S12 OS=Burkho...</td>\n",
       "      <td>MPTINQLVRKGRASETTKSKSPALQDCPQRRGVCTRVYTTTPKKPN...</td>\n",
       "    </tr>\n",
       "  </tbody>\n",
       "</table>\n",
       "</div>"
      ],
      "text/plain": [
       "           id  seq_length                                               info  \\\n",
       "0  A0A075B6S6         120  KVD30_HUMAN Immunoglobulin kappa variable 2D-3...   \n",
       "1  A0A0K0IP23         161  CPI2_BRUMA Cystatin cpi-2 OS=Brugia malayi OX=...   \n",
       "2      A3DA80         365  TRMA_SHEB5 tRNA/tmRNA (uracil-C(5))-methyltran...   \n",
       "3      A3KGV1         830  ODFP2_MOUSE Outer dense fiber protein 2 OS=Mus...   \n",
       "4      A3MRU9         126  RS12_BURM7 30S ribosomal protein S12 OS=Burkho...   \n",
       "\n",
       "                                            sequence  \n",
       "0  MRLPAQLLGLLMLWVPGSSGDVVMTQSPLSLPVTLGQPASISCRSS...  \n",
       "1  MMSTMSIKEGLLVILLSLFLFDTTALIHRREIPHMESKGQMQRGQV...  \n",
       "2  MNLAAMDPQTYDTQLEHKRIKLEQAFAQFETPSVEVFASEPANYRM...  \n",
       "3  MSASSSGGSPRFPSCGKNGVTSLTQKKVLRTPCGAPSVTVTKSHKR...  \n",
       "4  MPTINQLVRKGRASETTKSKSPALQDCPQRRGVCTRVYTTTPKKPN...  "
      ]
     },
     "execution_count": 51,
     "metadata": {},
     "output_type": "execute_result"
    }
   ],
   "source": [
    "# exploring neg train fasta file\n",
    "neg_train_df = read_fasta(\"NEG_TRAIN.fasta\",db_path, columns=[\"id\",\"seq_length\",\"info\", \"sequence\"])\n",
    "neg_train_df.head()"
   ]
  },
  {
   "cell_type": "code",
   "execution_count": 52,
   "id": "38398b69",
   "metadata": {
    "_kg_hide-input": true,
    "_kg_hide-output": true,
    "execution": {
     "iopub.execute_input": "2022-08-08T10:56:02.681881Z",
     "iopub.status.busy": "2022-08-08T10:56:02.681468Z",
     "iopub.status.idle": "2022-08-08T10:56:02.746782Z",
     "shell.execute_reply": "2022-08-08T10:56:02.745135Z"
    },
    "papermill": {
     "duration": 0.131035,
     "end_time": "2022-08-08T10:56:02.749728",
     "exception": false,
     "start_time": "2022-08-08T10:56:02.618693",
     "status": "completed"
    },
    "tags": []
   },
   "outputs": [
    {
     "name": "stdout",
     "output_type": "stream",
     "text": [
      "<class 'pandas.core.frame.DataFrame'>\n",
      "RangeIndex: 193133 entries, 0 to 193132\n",
      "Data columns (total 4 columns):\n",
      " #   Column      Non-Null Count   Dtype \n",
      "---  ------      --------------   ----- \n",
      " 0   id          193133 non-null  object\n",
      " 1   seq_length  193133 non-null  int64 \n",
      " 2   info        193133 non-null  object\n",
      " 3   sequence    193133 non-null  object\n",
      "dtypes: int64(1), object(3)\n",
      "memory usage: 5.9+ MB\n"
     ]
    }
   ],
   "source": [
    "neg_train_df.info()"
   ]
  },
  {
   "cell_type": "code",
   "execution_count": 53,
   "id": "b95adc47",
   "metadata": {
    "_kg_hide-input": true,
    "_kg_hide-output": true,
    "execution": {
     "iopub.execute_input": "2022-08-08T10:56:02.877541Z",
     "iopub.status.busy": "2022-08-08T10:56:02.877112Z",
     "iopub.status.idle": "2022-08-08T10:56:02.887085Z",
     "shell.execute_reply": "2022-08-08T10:56:02.885495Z"
    },
    "papermill": {
     "duration": 0.076646,
     "end_time": "2022-08-08T10:56:02.889947",
     "exception": false,
     "start_time": "2022-08-08T10:56:02.813301",
     "status": "completed"
    },
    "tags": []
   },
   "outputs": [],
   "source": [
    "neg_train_df = neg_train_df.drop(columns=['sequence', 'info','seq_length'])"
   ]
  },
  {
   "cell_type": "code",
   "execution_count": 54,
   "id": "f003f6e3",
   "metadata": {
    "_kg_hide-input": true,
    "_kg_hide-output": true,
    "execution": {
     "iopub.execute_input": "2022-08-08T10:56:03.019674Z",
     "iopub.status.busy": "2022-08-08T10:56:03.019226Z",
     "iopub.status.idle": "2022-08-08T10:56:03.033293Z",
     "shell.execute_reply": "2022-08-08T10:56:03.032072Z"
    },
    "papermill": {
     "duration": 0.084643,
     "end_time": "2022-08-08T10:56:03.036025",
     "exception": false,
     "start_time": "2022-08-08T10:56:02.951382",
     "status": "completed"
    },
    "tags": []
   },
   "outputs": [
    {
     "data": {
      "text/html": [
       "<div>\n",
       "<style scoped>\n",
       "    .dataframe tbody tr th:only-of-type {\n",
       "        vertical-align: middle;\n",
       "    }\n",
       "\n",
       "    .dataframe tbody tr th {\n",
       "        vertical-align: top;\n",
       "    }\n",
       "\n",
       "    .dataframe thead th {\n",
       "        text-align: right;\n",
       "    }\n",
       "</style>\n",
       "<table border=\"1\" class=\"dataframe\">\n",
       "  <thead>\n",
       "    <tr style=\"text-align: right;\">\n",
       "      <th></th>\n",
       "      <th>id</th>\n",
       "    </tr>\n",
       "  </thead>\n",
       "  <tbody>\n",
       "    <tr>\n",
       "      <th>0</th>\n",
       "      <td>A0A075B6S6</td>\n",
       "    </tr>\n",
       "    <tr>\n",
       "      <th>1</th>\n",
       "      <td>A0A0K0IP23</td>\n",
       "    </tr>\n",
       "    <tr>\n",
       "      <th>2</th>\n",
       "      <td>A3DA80</td>\n",
       "    </tr>\n",
       "    <tr>\n",
       "      <th>3</th>\n",
       "      <td>A3KGV1</td>\n",
       "    </tr>\n",
       "    <tr>\n",
       "      <th>4</th>\n",
       "      <td>A3MRU9</td>\n",
       "    </tr>\n",
       "    <tr>\n",
       "      <th>...</th>\n",
       "      <td>...</td>\n",
       "    </tr>\n",
       "    <tr>\n",
       "      <th>193128</th>\n",
       "      <td>Q9VSE2</td>\n",
       "    </tr>\n",
       "    <tr>\n",
       "      <th>193129</th>\n",
       "      <td>Q9VV87</td>\n",
       "    </tr>\n",
       "    <tr>\n",
       "      <th>193130</th>\n",
       "      <td>Q9VZU4</td>\n",
       "    </tr>\n",
       "    <tr>\n",
       "      <th>193131</th>\n",
       "      <td>Q9W133</td>\n",
       "    </tr>\n",
       "    <tr>\n",
       "      <th>193132</th>\n",
       "      <td>R9UAM1</td>\n",
       "    </tr>\n",
       "  </tbody>\n",
       "</table>\n",
       "<p>193133 rows × 1 columns</p>\n",
       "</div>"
      ],
      "text/plain": [
       "                id\n",
       "0       A0A075B6S6\n",
       "1       A0A0K0IP23\n",
       "2           A3DA80\n",
       "3           A3KGV1\n",
       "4           A3MRU9\n",
       "...            ...\n",
       "193128      Q9VSE2\n",
       "193129      Q9VV87\n",
       "193130      Q9VZU4\n",
       "193131      Q9W133\n",
       "193132      R9UAM1\n",
       "\n",
       "[193133 rows x 1 columns]"
      ]
     },
     "execution_count": 54,
     "metadata": {},
     "output_type": "execute_result"
    }
   ],
   "source": [
    "neg_train_df"
   ]
  },
  {
   "cell_type": "code",
   "execution_count": 55,
   "id": "2710bfa3",
   "metadata": {
    "execution": {
     "iopub.execute_input": "2022-08-08T10:56:03.166060Z",
     "iopub.status.busy": "2022-08-08T10:56:03.165591Z",
     "iopub.status.idle": "2022-08-08T10:56:07.218748Z",
     "shell.execute_reply": "2022-08-08T10:56:07.217387Z"
    },
    "papermill": {
     "duration": 4.120248,
     "end_time": "2022-08-08T10:56:07.221858",
     "exception": false,
     "start_time": "2022-08-08T10:56:03.101610",
     "status": "completed"
    },
    "tags": []
   },
   "outputs": [
    {
     "name": "stdout",
     "output_type": "stream",
     "text": [
      "There are not matches!\n"
     ]
    }
   ],
   "source": [
    "# Checking if there are any proteins both in the POS and NEG trainning sets\n",
    "matches = []\n",
    "for i in pos_train_full_df1.id:\n",
    "    if i in neg_train_df.id:\n",
    "        matches.append(i)\n",
    "if len(matches) == 0: \n",
    "    print(\"There are not matches!\")\n",
    "else:\n",
    "    print(matches)"
   ]
  },
  {
   "cell_type": "markdown",
   "id": "35ee938d",
   "metadata": {
    "papermill": {
     "duration": 0.063284,
     "end_time": "2022-08-08T10:56:07.346403",
     "exception": false,
     "start_time": "2022-08-08T10:56:07.283119",
     "status": "completed"
    },
    "tags": []
   },
   "source": [
    "## Exploring only observations with Evidence: ECO:0000269 (Extracted from literature by Curators)"
   ]
  },
  {
   "cell_type": "code",
   "execution_count": 56,
   "id": "72325ba7",
   "metadata": {
    "_kg_hide-input": true,
    "_kg_hide-output": true,
    "execution": {
     "iopub.execute_input": "2022-08-08T10:56:07.475279Z",
     "iopub.status.busy": "2022-08-08T10:56:07.473883Z",
     "iopub.status.idle": "2022-08-08T10:56:08.128772Z",
     "shell.execute_reply": "2022-08-08T10:56:08.127444Z"
    },
    "papermill": {
     "duration": 0.721856,
     "end_time": "2022-08-08T10:56:08.131247",
     "exception": false,
     "start_time": "2022-08-08T10:56:07.409391",
     "status": "completed"
    },
    "tags": []
   },
   "outputs": [
    {
     "name": "stdout",
     "output_type": "stream",
     "text": [
      "<class 'pandas.core.frame.DataFrame'>\n",
      "Int64Index: 409989 entries, 0 to 409988\n",
      "Data columns (total 5 columns):\n",
      " #   Column    Non-Null Count   Dtype \n",
      "---  ------    --------------   ----- \n",
      " 0   id        409989 non-null  object\n",
      " 1   ChEBI-ID  409989 non-null  object\n",
      " 2   Evidence  409989 non-null  object\n",
      " 3   Position  409989 non-null  int64 \n",
      " 4   sequence  409989 non-null  object\n",
      "dtypes: int64(1), object(4)\n",
      "memory usage: 18.8+ MB\n"
     ]
    }
   ],
   "source": [
    "pos_train_lit_based = pd.merge(pos_train_full_tsv, pos_train_full_fasta, left_on='Accession', right_on='id')\n",
    "pos_train_lit_based = pos_train_lit_based[['id','ChEBI-ID', 'Evidence','Position','sequence']]\n",
    "pos_train_lit_based.info()"
   ]
  },
  {
   "cell_type": "code",
   "execution_count": 57,
   "id": "fb061f82",
   "metadata": {
    "_kg_hide-input": true,
    "_kg_hide-output": true,
    "execution": {
     "iopub.execute_input": "2022-08-08T10:56:08.262493Z",
     "iopub.status.busy": "2022-08-08T10:56:08.260654Z",
     "iopub.status.idle": "2022-08-08T10:56:08.326826Z",
     "shell.execute_reply": "2022-08-08T10:56:08.325288Z"
    },
    "papermill": {
     "duration": 0.137289,
     "end_time": "2022-08-08T10:56:08.331153",
     "exception": false,
     "start_time": "2022-08-08T10:56:08.193864",
     "status": "completed"
    },
    "tags": []
   },
   "outputs": [
    {
     "data": {
      "text/html": [
       "<div>\n",
       "<style scoped>\n",
       "    .dataframe tbody tr th:only-of-type {\n",
       "        vertical-align: middle;\n",
       "    }\n",
       "\n",
       "    .dataframe tbody tr th {\n",
       "        vertical-align: top;\n",
       "    }\n",
       "\n",
       "    .dataframe thead th {\n",
       "        text-align: right;\n",
       "    }\n",
       "</style>\n",
       "<table border=\"1\" class=\"dataframe\">\n",
       "  <thead>\n",
       "    <tr style=\"text-align: right;\">\n",
       "      <th></th>\n",
       "      <th>id</th>\n",
       "      <th>ChEBI-ID</th>\n",
       "      <th>Position</th>\n",
       "      <th>sequence</th>\n",
       "    </tr>\n",
       "  </thead>\n",
       "  <tbody>\n",
       "    <tr>\n",
       "      <th>52</th>\n",
       "      <td>Q8C6L5</td>\n",
       "      <td>CHEBI:29105</td>\n",
       "      <td>385</td>\n",
       "      <td>MEDPRRRTTAPRAKKPSAKRAPTQPSRTRAHAESCGPQRGARSRRA...</td>\n",
       "    </tr>\n",
       "    <tr>\n",
       "      <th>53</th>\n",
       "      <td>Q8C6L5</td>\n",
       "      <td>CHEBI:18420</td>\n",
       "      <td>213</td>\n",
       "      <td>MEDPRRRTTAPRAKKPSAKRAPTQPSRTRAHAESCGPQRGARSRRA...</td>\n",
       "    </tr>\n",
       "    <tr>\n",
       "      <th>56</th>\n",
       "      <td>Q8C6L5</td>\n",
       "      <td>CHEBI:18420</td>\n",
       "      <td>211</td>\n",
       "      <td>MEDPRRRTTAPRAKKPSAKRAPTQPSRTRAHAESCGPQRGARSRRA...</td>\n",
       "    </tr>\n",
       "    <tr>\n",
       "      <th>57</th>\n",
       "      <td>Q8C6L5</td>\n",
       "      <td>CHEBI:29105</td>\n",
       "      <td>392</td>\n",
       "      <td>MEDPRRRTTAPRAKKPSAKRAPTQPSRTRAHAESCGPQRGARSRRA...</td>\n",
       "    </tr>\n",
       "    <tr>\n",
       "      <th>58</th>\n",
       "      <td>Q8C6L5</td>\n",
       "      <td>CHEBI:18420</td>\n",
       "      <td>307</td>\n",
       "      <td>MEDPRRRTTAPRAKKPSAKRAPTQPSRTRAHAESCGPQRGARSRRA...</td>\n",
       "    </tr>\n",
       "  </tbody>\n",
       "</table>\n",
       "</div>"
      ],
      "text/plain": [
       "        id     ChEBI-ID  Position  \\\n",
       "52  Q8C6L5  CHEBI:29105       385   \n",
       "53  Q8C6L5  CHEBI:18420       213   \n",
       "56  Q8C6L5  CHEBI:18420       211   \n",
       "57  Q8C6L5  CHEBI:29105       392   \n",
       "58  Q8C6L5  CHEBI:18420       307   \n",
       "\n",
       "                                             sequence  \n",
       "52  MEDPRRRTTAPRAKKPSAKRAPTQPSRTRAHAESCGPQRGARSRRA...  \n",
       "53  MEDPRRRTTAPRAKKPSAKRAPTQPSRTRAHAESCGPQRGARSRRA...  \n",
       "56  MEDPRRRTTAPRAKKPSAKRAPTQPSRTRAHAESCGPQRGARSRRA...  \n",
       "57  MEDPRRRTTAPRAKKPSAKRAPTQPSRTRAHAESCGPQRGARSRRA...  \n",
       "58  MEDPRRRTTAPRAKKPSAKRAPTQPSRTRAHAESCGPQRGARSRRA...  "
      ]
     },
     "execution_count": 57,
     "metadata": {},
     "output_type": "execute_result"
    }
   ],
   "source": [
    "pos_train_lit_based=pos_train_lit_based[pos_train_lit_based['Evidence']=='ECO:0000269']\n",
    "pos_train_lit_based = pos_train_lit_based.drop(columns=['Evidence'])\n",
    "pos_train_lit_based.head()"
   ]
  },
  {
   "cell_type": "code",
   "execution_count": 58,
   "id": "8b3f98b4",
   "metadata": {
    "_kg_hide-input": true,
    "_kg_hide-output": true,
    "execution": {
     "iopub.execute_input": "2022-08-08T10:56:08.480588Z",
     "iopub.status.busy": "2022-08-08T10:56:08.479368Z",
     "iopub.status.idle": "2022-08-08T10:56:08.751592Z",
     "shell.execute_reply": "2022-08-08T10:56:08.750192Z"
    },
    "papermill": {
     "duration": 0.343366,
     "end_time": "2022-08-08T10:56:08.754723",
     "exception": false,
     "start_time": "2022-08-08T10:56:08.411357",
     "status": "completed"
    },
    "tags": []
   },
   "outputs": [
    {
     "name": "stdout",
     "output_type": "stream",
     "text": [
      "<class 'pandas.core.frame.DataFrame'>\n",
      "Int64Index: 11169 entries, 52 to 409938\n",
      "Data columns (total 5 columns):\n",
      " #   Column              Non-Null Count  Dtype \n",
      "---  ------              --------------  ----- \n",
      " 0   id                  11169 non-null  object\n",
      " 1   ChEBI-ID            11169 non-null  object\n",
      " 2   Position            11169 non-null  int64 \n",
      " 3   sequence            11169 non-null  object\n",
      " 4   binding_amino_acid  11169 non-null  object\n",
      "dtypes: int64(1), object(4)\n",
      "memory usage: 523.5+ KB\n"
     ]
    }
   ],
   "source": [
    "# function to determine the amino acid that the binding happened at\n",
    "pos_train_lit_based['binding_amino_acid'] = pos_train_lit_based.apply(\n",
    "    lambda row: row.sequence[row.Position-1] , axis=1)\n",
    "\n",
    "# function to determine the \n",
    "pos_train_lit_based.info()"
   ]
  },
  {
   "cell_type": "code",
   "execution_count": 59,
   "id": "8de49267",
   "metadata": {
    "_kg_hide-input": true,
    "_kg_hide-output": true,
    "execution": {
     "iopub.execute_input": "2022-08-08T10:56:08.881381Z",
     "iopub.status.busy": "2022-08-08T10:56:08.880960Z",
     "iopub.status.idle": "2022-08-08T10:56:08.905984Z",
     "shell.execute_reply": "2022-08-08T10:56:08.904662Z"
    },
    "papermill": {
     "duration": 0.090727,
     "end_time": "2022-08-08T10:56:08.908453",
     "exception": false,
     "start_time": "2022-08-08T10:56:08.817726",
     "status": "completed"
    },
    "tags": []
   },
   "outputs": [
    {
     "data": {
      "text/html": [
       "<div>\n",
       "<style scoped>\n",
       "    .dataframe tbody tr th:only-of-type {\n",
       "        vertical-align: middle;\n",
       "    }\n",
       "\n",
       "    .dataframe tbody tr th {\n",
       "        vertical-align: top;\n",
       "    }\n",
       "\n",
       "    .dataframe thead th {\n",
       "        text-align: right;\n",
       "    }\n",
       "</style>\n",
       "<table border=\"1\" class=\"dataframe\">\n",
       "  <thead>\n",
       "    <tr style=\"text-align: right;\">\n",
       "      <th></th>\n",
       "      <th>id</th>\n",
       "      <th>metal_name</th>\n",
       "      <th>Position</th>\n",
       "      <th>binding_amino_acid</th>\n",
       "      <th>sequence</th>\n",
       "    </tr>\n",
       "  </thead>\n",
       "  <tbody>\n",
       "    <tr>\n",
       "      <th>0</th>\n",
       "      <td>Q8C6L5</td>\n",
       "      <td>Zn(2+)</td>\n",
       "      <td>385</td>\n",
       "      <td>C</td>\n",
       "      <td>MEDPRRRTTAPRAKKPSAKRAPTQPSRTRAHAESCGPQRGARSRRA...</td>\n",
       "    </tr>\n",
       "    <tr>\n",
       "      <th>1</th>\n",
       "      <td>Q8C6L5</td>\n",
       "      <td>Zn(2+)</td>\n",
       "      <td>392</td>\n",
       "      <td>C</td>\n",
       "      <td>MEDPRRRTTAPRAKKPSAKRAPTQPSRTRAHAESCGPQRGARSRRA...</td>\n",
       "    </tr>\n",
       "    <tr>\n",
       "      <th>2</th>\n",
       "      <td>Q8C6L5</td>\n",
       "      <td>Zn(2+)</td>\n",
       "      <td>378</td>\n",
       "      <td>H</td>\n",
       "      <td>MEDPRRRTTAPRAKKPSAKRAPTQPSRTRAHAESCGPQRGARSRRA...</td>\n",
       "    </tr>\n",
       "    <tr>\n",
       "      <th>3</th>\n",
       "      <td>Q8C6L5</td>\n",
       "      <td>Zn(2+)</td>\n",
       "      <td>384</td>\n",
       "      <td>C</td>\n",
       "      <td>MEDPRRRTTAPRAKKPSAKRAPTQPSRTRAHAESCGPQRGARSRRA...</td>\n",
       "    </tr>\n",
       "    <tr>\n",
       "      <th>4</th>\n",
       "      <td>P07505</td>\n",
       "      <td>Zn(2+)</td>\n",
       "      <td>148</td>\n",
       "      <td>H</td>\n",
       "      <td>MAAHTILASAPSHTTFSLISPFSSTPTNALSSSLQSSSFNGLSFKL...</td>\n",
       "    </tr>\n",
       "  </tbody>\n",
       "</table>\n",
       "</div>"
      ],
      "text/plain": [
       "       id metal_name  Position binding_amino_acid  \\\n",
       "0  Q8C6L5     Zn(2+)       385                  C   \n",
       "1  Q8C6L5     Zn(2+)       392                  C   \n",
       "2  Q8C6L5     Zn(2+)       378                  H   \n",
       "3  Q8C6L5     Zn(2+)       384                  C   \n",
       "4  P07505     Zn(2+)       148                  H   \n",
       "\n",
       "                                            sequence  \n",
       "0  MEDPRRRTTAPRAKKPSAKRAPTQPSRTRAHAESCGPQRGARSRRA...  \n",
       "1  MEDPRRRTTAPRAKKPSAKRAPTQPSRTRAHAESCGPQRGARSRRA...  \n",
       "2  MEDPRRRTTAPRAKKPSAKRAPTQPSRTRAHAESCGPQRGARSRRA...  \n",
       "3  MEDPRRRTTAPRAKKPSAKRAPTQPSRTRAHAESCGPQRGARSRRA...  \n",
       "4  MAAHTILASAPSHTTFSLISPFSSTPTNALSSSLQSSSFNGLSFKL...  "
      ]
     },
     "execution_count": 59,
     "metadata": {},
     "output_type": "execute_result"
    }
   ],
   "source": [
    "pos_train_lit_based = pd.merge(pos_train_lit_based, chebi_id_df, left_on='ChEBI-ID', right_on='ChEBI-ID')\n",
    "pos_train_lit_based = pos_train_lit_based[['id','Name','Position', 'binding_amino_acid','sequence']]\n",
    "pos_train_lit_based = pos_train_lit_based.rename(columns={\"Name\": \"metal_name\"})\n",
    "pos_train_lit_based.head()"
   ]
  },
  {
   "cell_type": "code",
   "execution_count": 60,
   "id": "635ee0f5",
   "metadata": {
    "_kg_hide-input": true,
    "_kg_hide-output": true,
    "execution": {
     "iopub.execute_input": "2022-08-08T10:56:09.033870Z",
     "iopub.status.busy": "2022-08-08T10:56:09.033478Z",
     "iopub.status.idle": "2022-08-08T10:56:09.056007Z",
     "shell.execute_reply": "2022-08-08T10:56:09.055151Z"
    },
    "papermill": {
     "duration": 0.088332,
     "end_time": "2022-08-08T10:56:09.058364",
     "exception": false,
     "start_time": "2022-08-08T10:56:08.970032",
     "status": "completed"
    },
    "tags": []
   },
   "outputs": [
    {
     "data": {
      "text/plain": [
       "0"
      ]
     },
     "execution_count": 60,
     "metadata": {},
     "output_type": "execute_result"
    }
   ],
   "source": [
    "#  checking for duplicates\n",
    "pos_train_lit_based.duplicated().sum()"
   ]
  },
  {
   "cell_type": "code",
   "execution_count": 61,
   "id": "ab6addee",
   "metadata": {
    "_kg_hide-input": true,
    "_kg_hide-output": true,
    "execution": {
     "iopub.execute_input": "2022-08-08T10:56:09.184664Z",
     "iopub.status.busy": "2022-08-08T10:56:09.183840Z",
     "iopub.status.idle": "2022-08-08T10:56:09.193812Z",
     "shell.execute_reply": "2022-08-08T10:56:09.192671Z"
    },
    "papermill": {
     "duration": 0.07532,
     "end_time": "2022-08-08T10:56:09.196159",
     "exception": false,
     "start_time": "2022-08-08T10:56:09.120839",
     "status": "completed"
    },
    "tags": []
   },
   "outputs": [
    {
     "data": {
      "text/plain": [
       "count    11169.000000\n",
       "mean       279.130003\n",
       "std        410.904162\n",
       "min          1.000000\n",
       "25%         90.000000\n",
       "50%        185.000000\n",
       "75%        322.000000\n",
       "max       5038.000000\n",
       "Name: Position, dtype: float64"
      ]
     },
     "execution_count": 61,
     "metadata": {},
     "output_type": "execute_result"
    }
   ],
   "source": [
    "pos_train_lit_based['Position'].describe()"
   ]
  },
  {
   "cell_type": "code",
   "execution_count": 62,
   "id": "76c2a8f9",
   "metadata": {
    "_kg_hide-input": true,
    "_kg_hide-output": true,
    "execution": {
     "iopub.execute_input": "2022-08-08T10:56:09.322836Z",
     "iopub.status.busy": "2022-08-08T10:56:09.322071Z",
     "iopub.status.idle": "2022-08-08T10:56:09.496813Z",
     "shell.execute_reply": "2022-08-08T10:56:09.495459Z"
    },
    "papermill": {
     "duration": 0.240902,
     "end_time": "2022-08-08T10:56:09.499733",
     "exception": false,
     "start_time": "2022-08-08T10:56:09.258831",
     "status": "completed"
    },
    "tags": []
   },
   "outputs": [],
   "source": [
    "# Getting part of the sequence before and after the binding amino acids with an offset of 3 amino acids\n",
    "def window_3(Position,sequence):\n",
    "    if Position <= 3:\n",
    "        return sequence[:Position+3]\n",
    "    if Position >= (5038-3):\n",
    "        return sequence[Position-4:]\n",
    "    else:\n",
    "        return sequence[Position-4:Position+3]\n",
    "\n",
    "pos_train_lit_based[\"window_3\"] = pos_train_lit_based.apply(lambda row: window_3(row[\"Position\"],row[\"sequence\"]),\n",
    "\n",
    "axis=1)"
   ]
  },
  {
   "cell_type": "code",
   "execution_count": 63,
   "id": "bd8a4577",
   "metadata": {
    "_kg_hide-input": true,
    "_kg_hide-output": true,
    "execution": {
     "iopub.execute_input": "2022-08-08T10:56:09.626134Z",
     "iopub.status.busy": "2022-08-08T10:56:09.625693Z",
     "iopub.status.idle": "2022-08-08T10:56:09.642007Z",
     "shell.execute_reply": "2022-08-08T10:56:09.640675Z"
    },
    "papermill": {
     "duration": 0.081651,
     "end_time": "2022-08-08T10:56:09.644589",
     "exception": false,
     "start_time": "2022-08-08T10:56:09.562938",
     "status": "completed"
    },
    "tags": []
   },
   "outputs": [
    {
     "data": {
      "text/plain": [
       "count       11169\n",
       "unique       9638\n",
       "top       GAGMVGK\n",
       "freq           12\n",
       "Name: window_3, dtype: object"
      ]
     },
     "execution_count": 63,
     "metadata": {},
     "output_type": "execute_result"
    }
   ],
   "source": [
    "pos_train_lit_based['window_3'].describe()"
   ]
  },
  {
   "cell_type": "code",
   "execution_count": 64,
   "id": "d014c932",
   "metadata": {
    "_kg_hide-input": true,
    "_kg_hide-output": true,
    "execution": {
     "iopub.execute_input": "2022-08-08T10:56:09.769789Z",
     "iopub.status.busy": "2022-08-08T10:56:09.769296Z",
     "iopub.status.idle": "2022-08-08T10:56:09.949442Z",
     "shell.execute_reply": "2022-08-08T10:56:09.947970Z"
    },
    "papermill": {
     "duration": 0.245916,
     "end_time": "2022-08-08T10:56:09.952404",
     "exception": false,
     "start_time": "2022-08-08T10:56:09.706488",
     "status": "completed"
    },
    "tags": []
   },
   "outputs": [],
   "source": [
    "# Getting part of the sequence before and after the binding amino acids with an offset of 10 amino acids\n",
    "def window_10(Position,sequence):\n",
    "    if Position <= 10:\n",
    "        return sequence[:Position+10]\n",
    "    if Position >= (5038-10):\n",
    "        return sequence[Position-11:]\n",
    "    else:\n",
    "        return sequence[Position-11:Position+10]\n",
    "\n",
    "pos_train_lit_based[\"window_10\"] = pos_train_lit_based.apply(lambda row: window_10(row[\"Position\"],row[\"sequence\"]),\n",
    "\n",
    "axis=1)"
   ]
  },
  {
   "cell_type": "code",
   "execution_count": 65,
   "id": "e8587aac",
   "metadata": {
    "_kg_hide-input": true,
    "_kg_hide-output": true,
    "execution": {
     "iopub.execute_input": "2022-08-08T10:56:10.079272Z",
     "iopub.status.busy": "2022-08-08T10:56:10.078065Z",
     "iopub.status.idle": "2022-08-08T10:56:10.091892Z",
     "shell.execute_reply": "2022-08-08T10:56:10.091152Z"
    },
    "papermill": {
     "duration": 0.079824,
     "end_time": "2022-08-08T10:56:10.094289",
     "exception": false,
     "start_time": "2022-08-08T10:56:10.014465",
     "status": "completed"
    },
    "tags": []
   },
   "outputs": [
    {
     "data": {
      "text/html": [
       "<div>\n",
       "<style scoped>\n",
       "    .dataframe tbody tr th:only-of-type {\n",
       "        vertical-align: middle;\n",
       "    }\n",
       "\n",
       "    .dataframe tbody tr th {\n",
       "        vertical-align: top;\n",
       "    }\n",
       "\n",
       "    .dataframe thead th {\n",
       "        text-align: right;\n",
       "    }\n",
       "</style>\n",
       "<table border=\"1\" class=\"dataframe\">\n",
       "  <thead>\n",
       "    <tr style=\"text-align: right;\">\n",
       "      <th></th>\n",
       "      <th>id</th>\n",
       "      <th>metal_name</th>\n",
       "      <th>Position</th>\n",
       "      <th>binding_amino_acid</th>\n",
       "      <th>sequence</th>\n",
       "      <th>window_3</th>\n",
       "      <th>window_10</th>\n",
       "    </tr>\n",
       "  </thead>\n",
       "  <tbody>\n",
       "    <tr>\n",
       "      <th>0</th>\n",
       "      <td>Q8C6L5</td>\n",
       "      <td>Zn(2+)</td>\n",
       "      <td>385</td>\n",
       "      <td>C</td>\n",
       "      <td>MEDPRRRTTAPRAKKPSAKRAPTQPSRTRAHAESCGPQRGARSRRA...</td>\n",
       "      <td>KTCCESS</td>\n",
       "      <td>LNNHGIEKTCCESSGAKCCRK</td>\n",
       "    </tr>\n",
       "    <tr>\n",
       "      <th>1</th>\n",
       "      <td>Q8C6L5</td>\n",
       "      <td>Zn(2+)</td>\n",
       "      <td>392</td>\n",
       "      <td>C</td>\n",
       "      <td>MEDPRRRTTAPRAKKPSAKRAPTQPSRTRAHAESCGPQRGARSRRA...</td>\n",
       "      <td>GAKCCRK</td>\n",
       "      <td>KTCCESSGAKCCRKECLKLMK</td>\n",
       "    </tr>\n",
       "    <tr>\n",
       "      <th>2</th>\n",
       "      <td>Q8C6L5</td>\n",
       "      <td>Zn(2+)</td>\n",
       "      <td>378</td>\n",
       "      <td>H</td>\n",
       "      <td>MEDPRRRTTAPRAKKPSAKRAPTQPSRTRAHAESCGPQRGARSRRA...</td>\n",
       "      <td>LNNHGIE</td>\n",
       "      <td>SHTEKYILNNHGIEKTCCESS</td>\n",
       "    </tr>\n",
       "    <tr>\n",
       "      <th>3</th>\n",
       "      <td>Q8C6L5</td>\n",
       "      <td>Zn(2+)</td>\n",
       "      <td>384</td>\n",
       "      <td>C</td>\n",
       "      <td>MEDPRRRTTAPRAKKPSAKRAPTQPSRTRAHAESCGPQRGARSRRA...</td>\n",
       "      <td>EKTCCES</td>\n",
       "      <td>ILNNHGIEKTCCESSGAKCCR</td>\n",
       "    </tr>\n",
       "    <tr>\n",
       "      <th>4</th>\n",
       "      <td>P07505</td>\n",
       "      <td>Zn(2+)</td>\n",
       "      <td>148</td>\n",
       "      <td>H</td>\n",
       "      <td>MAAHTILASAPSHTTFSLISPFSSTPTNALSSSLQSSSFNGLSFKL...</td>\n",
       "      <td>EVRHAGD</td>\n",
       "      <td>THGAPEDEVRHAGDLGNIVAN</td>\n",
       "    </tr>\n",
       "  </tbody>\n",
       "</table>\n",
       "</div>"
      ],
      "text/plain": [
       "       id metal_name  Position binding_amino_acid  \\\n",
       "0  Q8C6L5     Zn(2+)       385                  C   \n",
       "1  Q8C6L5     Zn(2+)       392                  C   \n",
       "2  Q8C6L5     Zn(2+)       378                  H   \n",
       "3  Q8C6L5     Zn(2+)       384                  C   \n",
       "4  P07505     Zn(2+)       148                  H   \n",
       "\n",
       "                                            sequence window_3  \\\n",
       "0  MEDPRRRTTAPRAKKPSAKRAPTQPSRTRAHAESCGPQRGARSRRA...  KTCCESS   \n",
       "1  MEDPRRRTTAPRAKKPSAKRAPTQPSRTRAHAESCGPQRGARSRRA...  GAKCCRK   \n",
       "2  MEDPRRRTTAPRAKKPSAKRAPTQPSRTRAHAESCGPQRGARSRRA...  LNNHGIE   \n",
       "3  MEDPRRRTTAPRAKKPSAKRAPTQPSRTRAHAESCGPQRGARSRRA...  EKTCCES   \n",
       "4  MAAHTILASAPSHTTFSLISPFSSTPTNALSSSLQSSSFNGLSFKL...  EVRHAGD   \n",
       "\n",
       "               window_10  \n",
       "0  LNNHGIEKTCCESSGAKCCRK  \n",
       "1  KTCCESSGAKCCRKECLKLMK  \n",
       "2  SHTEKYILNNHGIEKTCCESS  \n",
       "3  ILNNHGIEKTCCESSGAKCCR  \n",
       "4  THGAPEDEVRHAGDLGNIVAN  "
      ]
     },
     "execution_count": 65,
     "metadata": {},
     "output_type": "execute_result"
    }
   ],
   "source": [
    "pos_train_lit_based.head()"
   ]
  },
  {
   "cell_type": "markdown",
   "id": "32ec904e",
   "metadata": {
    "papermill": {
     "duration": 0.061085,
     "end_time": "2022-08-08T10:56:10.217638",
     "exception": false,
     "start_time": "2022-08-08T10:56:10.156553",
     "status": "completed"
    },
    "tags": []
   },
   "source": [
    "## Findings"
   ]
  },
  {
   "cell_type": "code",
   "execution_count": 66,
   "id": "3c2448ed",
   "metadata": {
    "execution": {
     "iopub.execute_input": "2022-08-08T10:56:10.343203Z",
     "iopub.status.busy": "2022-08-08T10:56:10.342758Z",
     "iopub.status.idle": "2022-08-08T10:56:10.353043Z",
     "shell.execute_reply": "2022-08-08T10:56:10.352148Z"
    },
    "papermill": {
     "duration": 0.076241,
     "end_time": "2022-08-08T10:56:10.355047",
     "exception": false,
     "start_time": "2022-08-08T10:56:10.278806",
     "status": "completed"
    },
    "tags": []
   },
   "outputs": [
    {
     "data": {
      "text/plain": [
       "Zn(2+)                     31.676963\n",
       "Ca(2+)                     24.478467\n",
       "Mg(2+)                     12.901782\n",
       "Mn(2+)                      6.437461\n",
       "Fe cation                   5.479452\n",
       "[4Fe-4S] cluster            5.398872\n",
       "a divalent metal cation     3.858895\n",
       "Cu cation                   3.285881\n",
       "[2Fe-2S] cluster            2.175665\n",
       "K(+)                        0.984869\n",
       "Fe(3+)                      0.734175\n",
       "Na(+)                       0.671501\n",
       "Ni(2+)                      0.456621\n",
       "Co(2+)                      0.322321\n",
       "Cd(2+)                      0.286507\n",
       "[3Fe-4S] cluster            0.188020\n",
       "Cu(2+)                      0.179067\n",
       "Cu(+)                       0.179067\n",
       "Fe(2+)                      0.125347\n",
       "[Ni-4Fe-4S] cluster         0.107440\n",
       "[Ni-4Fe-5S] cluster         0.053720\n",
       "Hg(2+)                      0.017907\n",
       "Name: metal_name, dtype: float64"
      ]
     },
     "execution_count": 66,
     "metadata": {},
     "output_type": "execute_result"
    }
   ],
   "source": [
    "# percentage of occurences of Metals\n",
    "counts_lit_based_1 = pos_train_lit_based['metal_name'].value_counts(normalize=True)*100\n",
    "counts_lit_based_1"
   ]
  },
  {
   "cell_type": "code",
   "execution_count": 67,
   "id": "f1362c9c",
   "metadata": {
    "execution": {
     "iopub.execute_input": "2022-08-08T10:56:10.483143Z",
     "iopub.status.busy": "2022-08-08T10:56:10.482389Z",
     "iopub.status.idle": "2022-08-08T10:56:10.491976Z",
     "shell.execute_reply": "2022-08-08T10:56:10.491157Z"
    },
    "papermill": {
     "duration": 0.076392,
     "end_time": "2022-08-08T10:56:10.494112",
     "exception": false,
     "start_time": "2022-08-08T10:56:10.417720",
     "status": "completed"
    },
    "tags": []
   },
   "outputs": [
    {
     "data": {
      "text/plain": [
       "O31526    44\n",
       "O31527    38\n",
       "E0VIU9    32\n",
       "Q868M7    31\n",
       "Q51817    28\n",
       "P45452    28\n",
       "Q46085    26\n",
       "O75592    24\n",
       "P03956    24\n",
       "Q9NQV7    24\n",
       "Name: id, dtype: int64"
      ]
     },
     "execution_count": 67,
     "metadata": {},
     "output_type": "execute_result"
    }
   ],
   "source": [
    "# top 10 protiens with highest number of binding sites\n",
    "pos_train_lit_based['id'].value_counts().head(10)"
   ]
  },
  {
   "cell_type": "code",
   "execution_count": 68,
   "id": "270fc23e",
   "metadata": {
    "execution": {
     "iopub.execute_input": "2022-08-08T10:56:10.622428Z",
     "iopub.status.busy": "2022-08-08T10:56:10.621555Z",
     "iopub.status.idle": "2022-08-08T10:56:10.630791Z",
     "shell.execute_reply": "2022-08-08T10:56:10.629943Z"
    },
    "papermill": {
     "duration": 0.076297,
     "end_time": "2022-08-08T10:56:10.633163",
     "exception": false,
     "start_time": "2022-08-08T10:56:10.556866",
     "status": "completed"
    },
    "tags": []
   },
   "outputs": [
    {
     "data": {
      "text/plain": [
       "C    25.167875\n",
       "D    24.371027\n",
       "H    22.365476\n",
       "E    11.737846\n",
       "N     3.796222\n",
       "T     1.835437\n",
       "G     1.763811\n",
       "S     1.611604\n",
       "Y     1.325096\n",
       "K     0.913242\n",
       "Q     0.787895\n",
       "V     0.752082\n",
       "I     0.689408\n",
       "A     0.635688\n",
       "L     0.626735\n",
       "M     0.438714\n",
       "R     0.411854\n",
       "F     0.367087\n",
       "W     0.259647\n",
       "P     0.143254\n",
       "Name: binding_amino_acid, dtype: float64"
      ]
     },
     "execution_count": 68,
     "metadata": {},
     "output_type": "execute_result"
    }
   ],
   "source": [
    "#  frequancy percentage of having a binding site according to amino acid\n",
    "counts_lit_based_2 = pos_train_lit_based['binding_amino_acid'].value_counts(normalize=True)*100\n",
    "counts_lit_based_2"
   ]
  },
  {
   "cell_type": "code",
   "execution_count": 69,
   "id": "7166e883",
   "metadata": {
    "execution": {
     "iopub.execute_input": "2022-08-08T10:56:10.762061Z",
     "iopub.status.busy": "2022-08-08T10:56:10.761335Z",
     "iopub.status.idle": "2022-08-08T10:56:11.112017Z",
     "shell.execute_reply": "2022-08-08T10:56:11.111111Z"
    },
    "papermill": {
     "duration": 0.41737,
     "end_time": "2022-08-08T10:56:11.114280",
     "exception": false,
     "start_time": "2022-08-08T10:56:10.696910",
     "status": "completed"
    },
    "tags": []
   },
   "outputs": [
    {
     "data": {
      "text/plain": [
       "<AxesSubplot:xlabel='binding_amino_acid', ylabel='count'>"
      ]
     },
     "execution_count": 69,
     "metadata": {},
     "output_type": "execute_result"
    },
    {
     "data": {
      "image/png": "[encoded data removed]",
      "text/plain": [
       "<Figure size 842.4x595.44 with 1 Axes>"
      ]
     },
     "metadata": {},
     "output_type": "display_data"
    }
   ],
   "source": [
    "# plot for the previous counts\n",
    "sns.countplot(x='binding_amino_acid', data=pos_train_lit_based)"
   ]
  },
  {
   "cell_type": "code",
   "execution_count": 70,
   "id": "68868007",
   "metadata": {
    "execution": {
     "iopub.execute_input": "2022-08-08T10:56:11.244806Z",
     "iopub.status.busy": "2022-08-08T10:56:11.243602Z",
     "iopub.status.idle": "2022-08-08T10:56:11.277411Z",
     "shell.execute_reply": "2022-08-08T10:56:11.276614Z"
    },
    "papermill": {
     "duration": 0.101303,
     "end_time": "2022-08-08T10:56:11.279385",
     "exception": false,
     "start_time": "2022-08-08T10:56:11.178082",
     "status": "completed"
    },
    "tags": []
   },
   "outputs": [
    {
     "data": {
      "text/html": [
       "<div>\n",
       "<style scoped>\n",
       "    .dataframe tbody tr th:only-of-type {\n",
       "        vertical-align: middle;\n",
       "    }\n",
       "\n",
       "    .dataframe tbody tr th {\n",
       "        vertical-align: top;\n",
       "    }\n",
       "\n",
       "    .dataframe thead th {\n",
       "        text-align: right;\n",
       "    }\n",
       "</style>\n",
       "<table border=\"1\" class=\"dataframe\">\n",
       "  <thead>\n",
       "    <tr style=\"text-align: right;\">\n",
       "      <th></th>\n",
       "      <th>binding_amino_acid</th>\n",
       "      <th>metal_name</th>\n",
       "      <th>metal_counts</th>\n",
       "      <th>sequence</th>\n",
       "    </tr>\n",
       "  </thead>\n",
       "  <tbody>\n",
       "    <tr>\n",
       "      <th>0</th>\n",
       "      <td>C</td>\n",
       "      <td>Zn(2+)</td>\n",
       "      <td>1631</td>\n",
       "      <td>1631</td>\n",
       "    </tr>\n",
       "    <tr>\n",
       "      <th>1</th>\n",
       "      <td>H</td>\n",
       "      <td>Zn(2+)</td>\n",
       "      <td>1305</td>\n",
       "      <td>1305</td>\n",
       "    </tr>\n",
       "    <tr>\n",
       "      <th>2</th>\n",
       "      <td>D</td>\n",
       "      <td>Ca(2+)</td>\n",
       "      <td>1138</td>\n",
       "      <td>1138</td>\n",
       "    </tr>\n",
       "    <tr>\n",
       "      <th>3</th>\n",
       "      <td>D</td>\n",
       "      <td>Mg(2+)</td>\n",
       "      <td>708</td>\n",
       "      <td>708</td>\n",
       "    </tr>\n",
       "    <tr>\n",
       "      <th>4</th>\n",
       "      <td>C</td>\n",
       "      <td>[4Fe-4S] cluster</td>\n",
       "      <td>591</td>\n",
       "      <td>591</td>\n",
       "    </tr>\n",
       "    <tr>\n",
       "      <th>...</th>\n",
       "      <td>...</td>\n",
       "      <td>...</td>\n",
       "      <td>...</td>\n",
       "      <td>...</td>\n",
       "    </tr>\n",
       "    <tr>\n",
       "      <th>185</th>\n",
       "      <td>K</td>\n",
       "      <td>K(+)</td>\n",
       "      <td>1</td>\n",
       "      <td>1</td>\n",
       "    </tr>\n",
       "    <tr>\n",
       "      <th>186</th>\n",
       "      <td>K</td>\n",
       "      <td>Fe cation</td>\n",
       "      <td>1</td>\n",
       "      <td>1</td>\n",
       "    </tr>\n",
       "    <tr>\n",
       "      <th>187</th>\n",
       "      <td>T</td>\n",
       "      <td>Cu(+)</td>\n",
       "      <td>1</td>\n",
       "      <td>1</td>\n",
       "    </tr>\n",
       "    <tr>\n",
       "      <th>188</th>\n",
       "      <td>K</td>\n",
       "      <td>Co(2+)</td>\n",
       "      <td>1</td>\n",
       "      <td>1</td>\n",
       "    </tr>\n",
       "    <tr>\n",
       "      <th>189</th>\n",
       "      <td>Y</td>\n",
       "      <td>a divalent metal cation</td>\n",
       "      <td>1</td>\n",
       "      <td>1</td>\n",
       "    </tr>\n",
       "  </tbody>\n",
       "</table>\n",
       "<p>190 rows × 4 columns</p>\n",
       "</div>"
      ],
      "text/plain": [
       "    binding_amino_acid               metal_name  metal_counts  sequence\n",
       "0                    C                   Zn(2+)          1631      1631\n",
       "1                    H                   Zn(2+)          1305      1305\n",
       "2                    D                   Ca(2+)          1138      1138\n",
       "3                    D                   Mg(2+)           708       708\n",
       "4                    C         [4Fe-4S] cluster           591       591\n",
       "..                 ...                      ...           ...       ...\n",
       "185                  K                     K(+)             1         1\n",
       "186                  K                Fe cation             1         1\n",
       "187                  T                    Cu(+)             1         1\n",
       "188                  K                   Co(2+)             1         1\n",
       "189                  Y  a divalent metal cation             1         1\n",
       "\n",
       "[190 rows x 4 columns]"
      ]
     },
     "execution_count": 70,
     "metadata": {},
     "output_type": "execute_result"
    }
   ],
   "source": [
    "# ranking the combinations between binding metals and amino acids and thier occurance count\n",
    "list_amino_acids = []\n",
    "pos_train_lit_based_temp = pos_train_lit_based[~pos_train_lit_based.binding_amino_acid.isin(list_amino_acids)]\n",
    "\n",
    "#pos_train_df1[pos_train_df1['Binding Amino Acid'] in ]\n",
    "pos_train_lit_based_temp = pos_train_lit_based_temp.groupby(['binding_amino_acid', 'metal_name']).count().sort_values(['id'], ascending=False)\n",
    "pos_train_lit_based_temp = pos_train_lit_based_temp.drop(['Position','window_3','window_10'], axis=1).rename(columns={'id':'metal_counts'}).reset_index()\n",
    "#temp['metal_counts'] = temp['metal_counts'] /temp['metal_counts'].abs().max()\n",
    "pos_train_lit_based_temp"
   ]
  },
  {
   "cell_type": "code",
   "execution_count": 71,
   "id": "ffdc19be",
   "metadata": {
    "execution": {
     "iopub.execute_input": "2022-08-08T10:56:11.408549Z",
     "iopub.status.busy": "2022-08-08T10:56:11.407862Z",
     "iopub.status.idle": "2022-08-08T10:56:11.999437Z",
     "shell.execute_reply": "2022-08-08T10:56:11.998216Z"
    },
    "papermill": {
     "duration": 0.660074,
     "end_time": "2022-08-08T10:56:12.002414",
     "exception": false,
     "start_time": "2022-08-08T10:56:11.342340",
     "status": "completed"
    },
    "tags": []
   },
   "outputs": [
    {
     "data": {
      "image/png": "[encoded data removed]",
      "text/plain": [
       "<Figure size 842.4x595.44 with 2 Axes>"
      ]
     },
     "metadata": {},
     "output_type": "display_data"
    }
   ],
   "source": [
    "# Visualizing the combinations between binding metals and amino acids and thier occurance count\n",
    "heatmap2 = pos_train_lit_based_temp.pivot(\"binding_amino_acid\", \"metal_name\", \"metal_counts\")\n",
    "ax2 = sns.heatmap(heatmap2 , cmap=\"YlGnBu\")"
   ]
  },
  {
   "cell_type": "code",
   "execution_count": 72,
   "id": "798acc08",
   "metadata": {
    "execution": {
     "iopub.execute_input": "2022-08-08T10:56:12.134021Z",
     "iopub.status.busy": "2022-08-08T10:56:12.133599Z",
     "iopub.status.idle": "2022-08-08T10:56:12.634807Z",
     "shell.execute_reply": "2022-08-08T10:56:12.633543Z"
    },
    "papermill": {
     "duration": 0.569858,
     "end_time": "2022-08-08T10:56:12.637440",
     "exception": false,
     "start_time": "2022-08-08T10:56:12.067582",
     "status": "completed"
    },
    "tags": []
   },
   "outputs": [
    {
     "data": {
      "text/plain": [
       "<AxesSubplot:xlabel='Metal names', ylabel='Percentage (%)'>"
      ]
     },
     "execution_count": 72,
     "metadata": {},
     "output_type": "execute_result"
    },
    {
     "data": {
      "image/png": "[encoded data removed]",
      "text/plain": [
       "<Figure size 842.4x595.44 with 1 Axes>"
      ]
     },
     "metadata": {},
     "output_type": "display_data"
    }
   ],
   "source": [
    "# Plotting the occurences of metals for the full pos dataset and observations with literature evidence\n",
    "pd.DataFrame(counts_pos_full_1).reset_index().merge(\n",
    "    pd.DataFrame(counts_lit_based_1).reset_index(), right_on='index', left_on='index').rename(columns={\n",
    "    'index': 'metal_name', 'metal_name_x': 'counts_full','metal_name_y':'counts_evidence1'}).plot(\n",
    "        x=\"metal_name\", y=[\"counts_full\", \"counts_evidence1\"], kind=\"bar\", xlabel= 'Metal names', ylabel= \"Percentage (%)\")\n"
   ]
  },
  {
   "cell_type": "code",
   "execution_count": 73,
   "id": "c3e58703",
   "metadata": {
    "execution": {
     "iopub.execute_input": "2022-08-08T10:56:12.777397Z",
     "iopub.status.busy": "2022-08-08T10:56:12.776215Z",
     "iopub.status.idle": "2022-08-08T10:56:13.211935Z",
     "shell.execute_reply": "2022-08-08T10:56:13.210741Z"
    },
    "papermill": {
     "duration": 0.511346,
     "end_time": "2022-08-08T10:56:13.214909",
     "exception": false,
     "start_time": "2022-08-08T10:56:12.703563",
     "status": "completed"
    },
    "tags": []
   },
   "outputs": [
    {
     "data": {
      "text/plain": [
       "<AxesSubplot:xlabel='binding_amino_acids names', ylabel='Percentage (%)'>"
      ]
     },
     "execution_count": 73,
     "metadata": {},
     "output_type": "execute_result"
    },
    {
     "data": {
      "image/png": "[encoded data removed]",
      "text/plain": [
       "<Figure size 842.4x595.44 with 1 Axes>"
      ]
     },
     "metadata": {},
     "output_type": "display_data"
    }
   ],
   "source": [
    "# Plotting the frequancy of binding sites for the full pos dataset and observations with literature evidence\n",
    "pd.DataFrame(counts_pos_full_2).reset_index().merge(\n",
    "    pd.DataFrame(counts_lit_based_2).reset_index(), right_on='index', left_on='index').rename(columns={\n",
    "    'index': 'binding_amino_acid', 'binding_amino_acid_x': 'counts_full','binding_amino_acid_y':'counts_evidence1'}).plot(\n",
    "        x=\"binding_amino_acid\", y=[\"counts_full\", \"counts_evidence1\"], kind=\"bar\", xlabel= 'binding_amino_acids names', ylabel= \"Percentage (%)\")\n"
   ]
  },
  {
   "cell_type": "markdown",
   "id": "f2439737",
   "metadata": {
    "papermill": {
     "duration": 0.066252,
     "end_time": "2022-08-08T10:56:13.348119",
     "exception": false,
     "start_time": "2022-08-08T10:56:13.281867",
     "status": "completed"
    },
    "tags": []
   },
   "source": [
    "Through observing the differences between the full dataset and the dataset only based on literature evidence:\n",
    "* Metal Findings:\n",
    "\n",
    "    * Ca(+2) appears to be well documented through literture as the (orange column) far exceeds the (blue column)\n",
    "    * [4Fe-4S] and Mg(2+) claims to be present more in the full_pos dataset. However, according to literture, their presence is less likely.\n",
    "    * Other metals are close in precentages to be a binding ligand\n",
    "    \n",
    "* Amino Acid Findings:\n",
    "\n",
    "    * C is claimed to be more likely to appear in the full dataset, however a 10% reduction has happened when only considering literature.\n",
    "    * All other amino acids seem to have consistent results when comparing both dataset with a slight increase in favor of the literture."
   ]
  },
  {
   "cell_type": "markdown",
   "id": "9640ce63",
   "metadata": {
    "papermill": {
     "duration": 0.064987,
     "end_time": "2022-08-08T10:56:13.478339",
     "exception": false,
     "start_time": "2022-08-08T10:56:13.413352",
     "status": "completed"
    },
    "tags": []
   },
   "source": [
    "## Comparing residue-ligand distribution between the instances having (literature-based evidence, computer-predicted evidence, and both evidences)"
   ]
  },
  {
   "cell_type": "code",
   "execution_count": 74,
   "id": "3016eb0e",
   "metadata": {
    "_kg_hide-input": true,
    "_kg_hide-output": true,
    "execution": {
     "iopub.execute_input": "2022-08-08T10:56:13.612347Z",
     "iopub.status.busy": "2022-08-08T10:56:13.611618Z",
     "iopub.status.idle": "2022-08-08T10:56:14.238278Z",
     "shell.execute_reply": "2022-08-08T10:56:14.236886Z"
    },
    "papermill": {
     "duration": 0.698277,
     "end_time": "2022-08-08T10:56:14.241355",
     "exception": false,
     "start_time": "2022-08-08T10:56:13.543078",
     "status": "completed"
    },
    "tags": []
   },
   "outputs": [
    {
     "name": "stdout",
     "output_type": "stream",
     "text": [
      "<class 'pandas.core.frame.DataFrame'>\n",
      "Int64Index: 409989 entries, 0 to 409988\n",
      "Data columns (total 5 columns):\n",
      " #   Column    Non-Null Count   Dtype \n",
      "---  ------    --------------   ----- \n",
      " 0   id        409989 non-null  object\n",
      " 1   ChEBI-ID  409989 non-null  object\n",
      " 2   Evidence  409989 non-null  object\n",
      " 3   Position  409989 non-null  int64 \n",
      " 4   sequence  409989 non-null  object\n",
      "dtypes: int64(1), object(4)\n",
      "memory usage: 18.8+ MB\n"
     ]
    }
   ],
   "source": [
    "pos_train_comp_based = pd.merge(pos_train_full_tsv, pos_train_full_fasta, left_on='Accession', right_on='id')\n",
    "pos_train_comp_based = pos_train_comp_based[['id','ChEBI-ID', 'Evidence','Position','sequence']]\n",
    "pos_train_comp_based.info()"
   ]
  },
  {
   "cell_type": "code",
   "execution_count": 75,
   "id": "6fd3e487",
   "metadata": {
    "_kg_hide-input": true,
    "_kg_hide-output": true,
    "execution": {
     "iopub.execute_input": "2022-08-08T10:56:14.381839Z",
     "iopub.status.busy": "2022-08-08T10:56:14.381388Z",
     "iopub.status.idle": "2022-08-08T10:56:14.421136Z",
     "shell.execute_reply": "2022-08-08T10:56:14.419922Z"
    },
    "papermill": {
     "duration": 0.113216,
     "end_time": "2022-08-08T10:56:14.424017",
     "exception": false,
     "start_time": "2022-08-08T10:56:14.310801",
     "status": "completed"
    },
    "tags": []
   },
   "outputs": [
    {
     "data": {
      "text/plain": [
       "array(['ECO:0000255', 'ECO:0000269', 'ECO:0007744', 'ECO:0000250',\n",
       "       'ECO:0000305', 'ECO:0000312', 'ECO:0000303'], dtype=object)"
      ]
     },
     "execution_count": 75,
     "metadata": {},
     "output_type": "execute_result"
    }
   ],
   "source": [
    "pos_train_comp_based.Evidence.unique()"
   ]
  },
  {
   "cell_type": "code",
   "execution_count": 76,
   "id": "6b44f4c1",
   "metadata": {
    "_kg_hide-input": true,
    "_kg_hide-output": true,
    "execution": {
     "iopub.execute_input": "2022-08-08T10:56:14.562917Z",
     "iopub.status.busy": "2022-08-08T10:56:14.562524Z",
     "iopub.status.idle": "2022-08-08T10:56:14.626104Z",
     "shell.execute_reply": "2022-08-08T10:56:14.624711Z"
    },
    "papermill": {
     "duration": 0.136601,
     "end_time": "2022-08-08T10:56:14.628782",
     "exception": false,
     "start_time": "2022-08-08T10:56:14.492181",
     "status": "completed"
    },
    "tags": []
   },
   "outputs": [
    {
     "data": {
      "text/html": [
       "<div>\n",
       "<style scoped>\n",
       "    .dataframe tbody tr th:only-of-type {\n",
       "        vertical-align: middle;\n",
       "    }\n",
       "\n",
       "    .dataframe tbody tr th {\n",
       "        vertical-align: top;\n",
       "    }\n",
       "\n",
       "    .dataframe thead th {\n",
       "        text-align: right;\n",
       "    }\n",
       "</style>\n",
       "<table border=\"1\" class=\"dataframe\">\n",
       "  <thead>\n",
       "    <tr style=\"text-align: right;\">\n",
       "      <th></th>\n",
       "      <th>id</th>\n",
       "      <th>ChEBI-ID</th>\n",
       "      <th>Position</th>\n",
       "      <th>sequence</th>\n",
       "    </tr>\n",
       "  </thead>\n",
       "  <tbody>\n",
       "    <tr>\n",
       "      <th>54</th>\n",
       "      <td>Q8C6L5</td>\n",
       "      <td>CHEBI:29105</td>\n",
       "      <td>384</td>\n",
       "      <td>MEDPRRRTTAPRAKKPSAKRAPTQPSRTRAHAESCGPQRGARSRRA...</td>\n",
       "    </tr>\n",
       "    <tr>\n",
       "      <th>55</th>\n",
       "      <td>Q8C6L5</td>\n",
       "      <td>CHEBI:29105</td>\n",
       "      <td>392</td>\n",
       "      <td>MEDPRRRTTAPRAKKPSAKRAPTQPSRTRAHAESCGPQRGARSRRA...</td>\n",
       "    </tr>\n",
       "    <tr>\n",
       "      <th>61</th>\n",
       "      <td>Q8C6L5</td>\n",
       "      <td>CHEBI:29105</td>\n",
       "      <td>378</td>\n",
       "      <td>MEDPRRRTTAPRAKKPSAKRAPTQPSRTRAHAESCGPQRGARSRRA...</td>\n",
       "    </tr>\n",
       "    <tr>\n",
       "      <th>62</th>\n",
       "      <td>Q8C6L5</td>\n",
       "      <td>CHEBI:29105</td>\n",
       "      <td>385</td>\n",
       "      <td>MEDPRRRTTAPRAKKPSAKRAPTQPSRTRAHAESCGPQRGARSRRA...</td>\n",
       "    </tr>\n",
       "    <tr>\n",
       "      <th>238</th>\n",
       "      <td>A3DBH1</td>\n",
       "      <td>CHEBI:29108</td>\n",
       "      <td>456</td>\n",
       "      <td>MNRLGIIYEIQGMKAVVLTSEGEFLIIRRRKDMKVGQQVSFENEDI...</td>\n",
       "    </tr>\n",
       "  </tbody>\n",
       "</table>\n",
       "</div>"
      ],
      "text/plain": [
       "         id     ChEBI-ID  Position  \\\n",
       "54   Q8C6L5  CHEBI:29105       384   \n",
       "55   Q8C6L5  CHEBI:29105       392   \n",
       "61   Q8C6L5  CHEBI:29105       378   \n",
       "62   Q8C6L5  CHEBI:29105       385   \n",
       "238  A3DBH1  CHEBI:29108       456   \n",
       "\n",
       "                                              sequence  \n",
       "54   MEDPRRRTTAPRAKKPSAKRAPTQPSRTRAHAESCGPQRGARSRRA...  \n",
       "55   MEDPRRRTTAPRAKKPSAKRAPTQPSRTRAHAESCGPQRGARSRRA...  \n",
       "61   MEDPRRRTTAPRAKKPSAKRAPTQPSRTRAHAESCGPQRGARSRRA...  \n",
       "62   MEDPRRRTTAPRAKKPSAKRAPTQPSRTRAHAESCGPQRGARSRRA...  \n",
       "238  MNRLGIIYEIQGMKAVVLTSEGEFLIIRRRKDMKVGQQVSFENEDI...  "
      ]
     },
     "execution_count": 76,
     "metadata": {},
     "output_type": "execute_result"
    }
   ],
   "source": [
    "pos_train_comp_based =pos_train_comp_based[pos_train_comp_based['Evidence']=='ECO:0007744']\n",
    "pos_train_comp_based = pos_train_comp_based.drop(columns=['Evidence'])\n",
    "pos_train_comp_based.head()"
   ]
  },
  {
   "cell_type": "code",
   "execution_count": 77,
   "id": "bf3588df",
   "metadata": {
    "_kg_hide-input": true,
    "_kg_hide-output": true,
    "execution": {
     "iopub.execute_input": "2022-08-08T10:56:14.764919Z",
     "iopub.status.busy": "2022-08-08T10:56:14.764455Z",
     "iopub.status.idle": "2022-08-08T10:56:14.780962Z",
     "shell.execute_reply": "2022-08-08T10:56:14.779691Z"
    },
    "papermill": {
     "duration": 0.087639,
     "end_time": "2022-08-08T10:56:14.783463",
     "exception": false,
     "start_time": "2022-08-08T10:56:14.695824",
     "status": "completed"
    },
    "tags": []
   },
   "outputs": [
    {
     "name": "stdout",
     "output_type": "stream",
     "text": [
      "<class 'pandas.core.frame.DataFrame'>\n",
      "Int64Index: 6874 entries, 54 to 405914\n",
      "Data columns (total 4 columns):\n",
      " #   Column    Non-Null Count  Dtype \n",
      "---  ------    --------------  ----- \n",
      " 0   id        6874 non-null   object\n",
      " 1   ChEBI-ID  6874 non-null   object\n",
      " 2   Position  6874 non-null   int64 \n",
      " 3   sequence  6874 non-null   object\n",
      "dtypes: int64(1), object(3)\n",
      "memory usage: 268.5+ KB\n"
     ]
    }
   ],
   "source": [
    "pos_train_comp_based.info()"
   ]
  },
  {
   "cell_type": "code",
   "execution_count": 78,
   "id": "404af543",
   "metadata": {
    "_kg_hide-input": true,
    "_kg_hide-output": true,
    "execution": {
     "iopub.execute_input": "2022-08-08T10:56:14.919651Z",
     "iopub.status.busy": "2022-08-08T10:56:14.918000Z",
     "iopub.status.idle": "2022-08-08T10:56:15.093362Z",
     "shell.execute_reply": "2022-08-08T10:56:15.092021Z"
    },
    "papermill": {
     "duration": 0.245868,
     "end_time": "2022-08-08T10:56:15.096132",
     "exception": false,
     "start_time": "2022-08-08T10:56:14.850264",
     "status": "completed"
    },
    "tags": []
   },
   "outputs": [
    {
     "name": "stdout",
     "output_type": "stream",
     "text": [
      "<class 'pandas.core.frame.DataFrame'>\n",
      "Int64Index: 6874 entries, 54 to 405914\n",
      "Data columns (total 5 columns):\n",
      " #   Column              Non-Null Count  Dtype \n",
      "---  ------              --------------  ----- \n",
      " 0   id                  6874 non-null   object\n",
      " 1   ChEBI-ID            6874 non-null   object\n",
      " 2   Position            6874 non-null   int64 \n",
      " 3   sequence            6874 non-null   object\n",
      " 4   binding_amino_acid  6874 non-null   object\n",
      "dtypes: int64(1), object(4)\n",
      "memory usage: 322.2+ KB\n"
     ]
    }
   ],
   "source": [
    "# function to determine the amino acid that the binding happened at\n",
    "pos_train_comp_based['binding_amino_acid'] = pos_train_comp_based.apply(\n",
    "    lambda row: row.sequence[row.Position-1] , axis=1)\n",
    "\n",
    "# function to determine the \n",
    "pos_train_comp_based.info()"
   ]
  },
  {
   "cell_type": "code",
   "execution_count": 79,
   "id": "204cbe26",
   "metadata": {
    "_kg_hide-input": true,
    "_kg_hide-output": true,
    "execution": {
     "iopub.execute_input": "2022-08-08T10:56:15.232853Z",
     "iopub.status.busy": "2022-08-08T10:56:15.231972Z",
     "iopub.status.idle": "2022-08-08T10:56:15.254994Z",
     "shell.execute_reply": "2022-08-08T10:56:15.253862Z"
    },
    "papermill": {
     "duration": 0.094284,
     "end_time": "2022-08-08T10:56:15.257502",
     "exception": false,
     "start_time": "2022-08-08T10:56:15.163218",
     "status": "completed"
    },
    "tags": []
   },
   "outputs": [
    {
     "data": {
      "text/html": [
       "<div>\n",
       "<style scoped>\n",
       "    .dataframe tbody tr th:only-of-type {\n",
       "        vertical-align: middle;\n",
       "    }\n",
       "\n",
       "    .dataframe tbody tr th {\n",
       "        vertical-align: top;\n",
       "    }\n",
       "\n",
       "    .dataframe thead th {\n",
       "        text-align: right;\n",
       "    }\n",
       "</style>\n",
       "<table border=\"1\" class=\"dataframe\">\n",
       "  <thead>\n",
       "    <tr style=\"text-align: right;\">\n",
       "      <th></th>\n",
       "      <th>id</th>\n",
       "      <th>metal_name</th>\n",
       "      <th>Position</th>\n",
       "      <th>binding_amino_acid</th>\n",
       "      <th>sequence</th>\n",
       "    </tr>\n",
       "  </thead>\n",
       "  <tbody>\n",
       "    <tr>\n",
       "      <th>0</th>\n",
       "      <td>Q8C6L5</td>\n",
       "      <td>Zn(2+)</td>\n",
       "      <td>384</td>\n",
       "      <td>C</td>\n",
       "      <td>MEDPRRRTTAPRAKKPSAKRAPTQPSRTRAHAESCGPQRGARSRRA...</td>\n",
       "    </tr>\n",
       "    <tr>\n",
       "      <th>1</th>\n",
       "      <td>Q8C6L5</td>\n",
       "      <td>Zn(2+)</td>\n",
       "      <td>392</td>\n",
       "      <td>C</td>\n",
       "      <td>MEDPRRRTTAPRAKKPSAKRAPTQPSRTRAHAESCGPQRGARSRRA...</td>\n",
       "    </tr>\n",
       "    <tr>\n",
       "      <th>2</th>\n",
       "      <td>Q8C6L5</td>\n",
       "      <td>Zn(2+)</td>\n",
       "      <td>378</td>\n",
       "      <td>H</td>\n",
       "      <td>MEDPRRRTTAPRAKKPSAKRAPTQPSRTRAHAESCGPQRGARSRRA...</td>\n",
       "    </tr>\n",
       "    <tr>\n",
       "      <th>3</th>\n",
       "      <td>Q8C6L5</td>\n",
       "      <td>Zn(2+)</td>\n",
       "      <td>385</td>\n",
       "      <td>C</td>\n",
       "      <td>MEDPRRRTTAPRAKKPSAKRAPTQPSRTRAHAESCGPQRGARSRRA...</td>\n",
       "    </tr>\n",
       "    <tr>\n",
       "      <th>4</th>\n",
       "      <td>Q8U082</td>\n",
       "      <td>Zn(2+)</td>\n",
       "      <td>76</td>\n",
       "      <td>C</td>\n",
       "      <td>MGEKRKTRQAEVNIGMVGHVDHGKTTLTKALTGVWTDTHSEELRRG...</td>\n",
       "    </tr>\n",
       "  </tbody>\n",
       "</table>\n",
       "</div>"
      ],
      "text/plain": [
       "       id metal_name  Position binding_amino_acid  \\\n",
       "0  Q8C6L5     Zn(2+)       384                  C   \n",
       "1  Q8C6L5     Zn(2+)       392                  C   \n",
       "2  Q8C6L5     Zn(2+)       378                  H   \n",
       "3  Q8C6L5     Zn(2+)       385                  C   \n",
       "4  Q8U082     Zn(2+)        76                  C   \n",
       "\n",
       "                                            sequence  \n",
       "0  MEDPRRRTTAPRAKKPSAKRAPTQPSRTRAHAESCGPQRGARSRRA...  \n",
       "1  MEDPRRRTTAPRAKKPSAKRAPTQPSRTRAHAESCGPQRGARSRRA...  \n",
       "2  MEDPRRRTTAPRAKKPSAKRAPTQPSRTRAHAESCGPQRGARSRRA...  \n",
       "3  MEDPRRRTTAPRAKKPSAKRAPTQPSRTRAHAESCGPQRGARSRRA...  \n",
       "4  MGEKRKTRQAEVNIGMVGHVDHGKTTLTKALTGVWTDTHSEELRRG...  "
      ]
     },
     "execution_count": 79,
     "metadata": {},
     "output_type": "execute_result"
    }
   ],
   "source": [
    "pos_train_comp_based = pd.merge(pos_train_comp_based, chebi_id_df, left_on='ChEBI-ID', right_on='ChEBI-ID')\n",
    "pos_train_comp_based = pos_train_comp_based[['id','Name','Position', 'binding_amino_acid','sequence']]\n",
    "pos_train_comp_based = pos_train_comp_based.rename(columns={\"Name\": \"metal_name\"})\n",
    "pos_train_comp_based.head()"
   ]
  },
  {
   "cell_type": "code",
   "execution_count": 80,
   "id": "913a22b5",
   "metadata": {
    "_kg_hide-input": true,
    "_kg_hide-output": true,
    "execution": {
     "iopub.execute_input": "2022-08-08T10:56:15.394207Z",
     "iopub.status.busy": "2022-08-08T10:56:15.393398Z",
     "iopub.status.idle": "2022-08-08T10:56:15.411968Z",
     "shell.execute_reply": "2022-08-08T10:56:15.410680Z"
    },
    "papermill": {
     "duration": 0.089078,
     "end_time": "2022-08-08T10:56:15.414565",
     "exception": false,
     "start_time": "2022-08-08T10:56:15.325487",
     "status": "completed"
    },
    "tags": []
   },
   "outputs": [
    {
     "data": {
      "text/plain": [
       "0"
      ]
     },
     "execution_count": 80,
     "metadata": {},
     "output_type": "execute_result"
    }
   ],
   "source": [
    "#  checking for duplicates\n",
    "pos_train_comp_based.duplicated().sum()"
   ]
  },
  {
   "cell_type": "code",
   "execution_count": 81,
   "id": "fc615e45",
   "metadata": {
    "_kg_hide-input": true,
    "_kg_hide-output": true,
    "execution": {
     "iopub.execute_input": "2022-08-08T10:56:15.552326Z",
     "iopub.status.busy": "2022-08-08T10:56:15.551666Z",
     "iopub.status.idle": "2022-08-08T10:56:15.562746Z",
     "shell.execute_reply": "2022-08-08T10:56:15.561451Z"
    },
    "papermill": {
     "duration": 0.083783,
     "end_time": "2022-08-08T10:56:15.565142",
     "exception": false,
     "start_time": "2022-08-08T10:56:15.481359",
     "status": "completed"
    },
    "tags": []
   },
   "outputs": [
    {
     "data": {
      "text/plain": [
       "count    6874.000000\n",
       "mean      300.117108\n",
       "std       440.908278\n",
       "min         1.000000\n",
       "25%        86.000000\n",
       "50%       191.000000\n",
       "75%       352.000000\n",
       "max      5001.000000\n",
       "Name: Position, dtype: float64"
      ]
     },
     "execution_count": 81,
     "metadata": {},
     "output_type": "execute_result"
    }
   ],
   "source": [
    "pos_train_comp_based['Position'].describe()"
   ]
  },
  {
   "cell_type": "code",
   "execution_count": 82,
   "id": "c6a61498",
   "metadata": {
    "_kg_hide-input": true,
    "_kg_hide-output": true,
    "execution": {
     "iopub.execute_input": "2022-08-08T10:56:15.701762Z",
     "iopub.status.busy": "2022-08-08T10:56:15.701122Z",
     "iopub.status.idle": "2022-08-08T10:56:15.811550Z",
     "shell.execute_reply": "2022-08-08T10:56:15.810291Z"
    },
    "papermill": {
     "duration": 0.182009,
     "end_time": "2022-08-08T10:56:15.814862",
     "exception": false,
     "start_time": "2022-08-08T10:56:15.632853",
     "status": "completed"
    },
    "tags": []
   },
   "outputs": [],
   "source": [
    "# Getting part of the sequence before and after the binding amino acids with an offset of 3 amino acids\n",
    "def window_3(Position,sequence):\n",
    "    if Position <= 3:\n",
    "        return sequence[:Position+3]\n",
    "    if Position >= (5001-3):\n",
    "        return sequence[Position-4:]\n",
    "    else:\n",
    "        return sequence[Position-4:Position+3]\n",
    "\n",
    "pos_train_comp_based[\"window_3\"] = pos_train_comp_based.apply(lambda row: window_3(row[\"Position\"],row[\"sequence\"]),\n",
    "\n",
    "axis=1)"
   ]
  },
  {
   "cell_type": "code",
   "execution_count": 83,
   "id": "f3f5e474",
   "metadata": {
    "_kg_hide-input": true,
    "_kg_hide-output": true,
    "execution": {
     "iopub.execute_input": "2022-08-08T10:56:15.954338Z",
     "iopub.status.busy": "2022-08-08T10:56:15.953615Z",
     "iopub.status.idle": "2022-08-08T10:56:15.965694Z",
     "shell.execute_reply": "2022-08-08T10:56:15.964389Z"
    },
    "papermill": {
     "duration": 0.084893,
     "end_time": "2022-08-08T10:56:15.968502",
     "exception": false,
     "start_time": "2022-08-08T10:56:15.883609",
     "status": "completed"
    },
    "tags": []
   },
   "outputs": [
    {
     "data": {
      "text/plain": [
       "count        6874\n",
       "unique       5979\n",
       "top       QVHDNCY\n",
       "freq            9\n",
       "Name: window_3, dtype: object"
      ]
     },
     "execution_count": 83,
     "metadata": {},
     "output_type": "execute_result"
    }
   ],
   "source": [
    "pos_train_comp_based['window_3'].describe()"
   ]
  },
  {
   "cell_type": "code",
   "execution_count": 84,
   "id": "944d5d5c",
   "metadata": {
    "_kg_hide-input": true,
    "_kg_hide-output": true,
    "execution": {
     "iopub.execute_input": "2022-08-08T10:56:16.105963Z",
     "iopub.status.busy": "2022-08-08T10:56:16.105268Z",
     "iopub.status.idle": "2022-08-08T10:56:16.215120Z",
     "shell.execute_reply": "2022-08-08T10:56:16.214263Z"
    },
    "papermill": {
     "duration": 0.179864,
     "end_time": "2022-08-08T10:56:16.217627",
     "exception": false,
     "start_time": "2022-08-08T10:56:16.037763",
     "status": "completed"
    },
    "tags": []
   },
   "outputs": [],
   "source": [
    "# Getting part of the sequence before and after the binding amino acids with an offset of 10 amino acids\n",
    "def window_10(Position,sequence):\n",
    "    if Position <= 10:\n",
    "        return sequence[:Position+10]\n",
    "    if Position >= (5038-10):\n",
    "        return sequence[Position-11:]\n",
    "    else:\n",
    "        return sequence[Position-11:Position+10]\n",
    "\n",
    "pos_train_comp_based[\"window_10\"] = pos_train_comp_based.apply(lambda row: window_10(row[\"Position\"],row[\"sequence\"]),\n",
    "\n",
    "axis=1)"
   ]
  },
  {
   "cell_type": "code",
   "execution_count": 85,
   "id": "65790b16",
   "metadata": {
    "_kg_hide-input": true,
    "_kg_hide-output": true,
    "execution": {
     "iopub.execute_input": "2022-08-08T10:56:16.353798Z",
     "iopub.status.busy": "2022-08-08T10:56:16.352839Z",
     "iopub.status.idle": "2022-08-08T10:56:16.365968Z",
     "shell.execute_reply": "2022-08-08T10:56:16.365127Z"
    },
    "papermill": {
     "duration": 0.083714,
     "end_time": "2022-08-08T10:56:16.368179",
     "exception": false,
     "start_time": "2022-08-08T10:56:16.284465",
     "status": "completed"
    },
    "tags": []
   },
   "outputs": [
    {
     "data": {
      "text/html": [
       "<div>\n",
       "<style scoped>\n",
       "    .dataframe tbody tr th:only-of-type {\n",
       "        vertical-align: middle;\n",
       "    }\n",
       "\n",
       "    .dataframe tbody tr th {\n",
       "        vertical-align: top;\n",
       "    }\n",
       "\n",
       "    .dataframe thead th {\n",
       "        text-align: right;\n",
       "    }\n",
       "</style>\n",
       "<table border=\"1\" class=\"dataframe\">\n",
       "  <thead>\n",
       "    <tr style=\"text-align: right;\">\n",
       "      <th></th>\n",
       "      <th>id</th>\n",
       "      <th>metal_name</th>\n",
       "      <th>Position</th>\n",
       "      <th>binding_amino_acid</th>\n",
       "      <th>sequence</th>\n",
       "      <th>window_3</th>\n",
       "      <th>window_10</th>\n",
       "    </tr>\n",
       "  </thead>\n",
       "  <tbody>\n",
       "    <tr>\n",
       "      <th>0</th>\n",
       "      <td>Q8C6L5</td>\n",
       "      <td>Zn(2+)</td>\n",
       "      <td>384</td>\n",
       "      <td>C</td>\n",
       "      <td>MEDPRRRTTAPRAKKPSAKRAPTQPSRTRAHAESCGPQRGARSRRA...</td>\n",
       "      <td>EKTCCES</td>\n",
       "      <td>ILNNHGIEKTCCESSGAKCCR</td>\n",
       "    </tr>\n",
       "    <tr>\n",
       "      <th>1</th>\n",
       "      <td>Q8C6L5</td>\n",
       "      <td>Zn(2+)</td>\n",
       "      <td>392</td>\n",
       "      <td>C</td>\n",
       "      <td>MEDPRRRTTAPRAKKPSAKRAPTQPSRTRAHAESCGPQRGARSRRA...</td>\n",
       "      <td>GAKCCRK</td>\n",
       "      <td>KTCCESSGAKCCRKECLKLMK</td>\n",
       "    </tr>\n",
       "    <tr>\n",
       "      <th>2</th>\n",
       "      <td>Q8C6L5</td>\n",
       "      <td>Zn(2+)</td>\n",
       "      <td>378</td>\n",
       "      <td>H</td>\n",
       "      <td>MEDPRRRTTAPRAKKPSAKRAPTQPSRTRAHAESCGPQRGARSRRA...</td>\n",
       "      <td>LNNHGIE</td>\n",
       "      <td>SHTEKYILNNHGIEKTCCESS</td>\n",
       "    </tr>\n",
       "    <tr>\n",
       "      <th>3</th>\n",
       "      <td>Q8C6L5</td>\n",
       "      <td>Zn(2+)</td>\n",
       "      <td>385</td>\n",
       "      <td>C</td>\n",
       "      <td>MEDPRRRTTAPRAKKPSAKRAPTQPSRTRAHAESCGPQRGARSRRA...</td>\n",
       "      <td>KTCCESS</td>\n",
       "      <td>LNNHGIEKTCCESSGAKCCRK</td>\n",
       "    </tr>\n",
       "    <tr>\n",
       "      <th>4</th>\n",
       "      <td>Q8U082</td>\n",
       "      <td>Zn(2+)</td>\n",
       "      <td>76</td>\n",
       "      <td>C</td>\n",
       "      <td>MGEKRKTRQAEVNIGMVGHVDHGKTTLTKALTGVWTDTHSEELRRG...</td>\n",
       "      <td>CPYCGHE</td>\n",
       "      <td>RYSTSPICPYCGHETEFIRRV</td>\n",
       "    </tr>\n",
       "  </tbody>\n",
       "</table>\n",
       "</div>"
      ],
      "text/plain": [
       "       id metal_name  Position binding_amino_acid  \\\n",
       "0  Q8C6L5     Zn(2+)       384                  C   \n",
       "1  Q8C6L5     Zn(2+)       392                  C   \n",
       "2  Q8C6L5     Zn(2+)       378                  H   \n",
       "3  Q8C6L5     Zn(2+)       385                  C   \n",
       "4  Q8U082     Zn(2+)        76                  C   \n",
       "\n",
       "                                            sequence window_3  \\\n",
       "0  MEDPRRRTTAPRAKKPSAKRAPTQPSRTRAHAESCGPQRGARSRRA...  EKTCCES   \n",
       "1  MEDPRRRTTAPRAKKPSAKRAPTQPSRTRAHAESCGPQRGARSRRA...  GAKCCRK   \n",
       "2  MEDPRRRTTAPRAKKPSAKRAPTQPSRTRAHAESCGPQRGARSRRA...  LNNHGIE   \n",
       "3  MEDPRRRTTAPRAKKPSAKRAPTQPSRTRAHAESCGPQRGARSRRA...  KTCCESS   \n",
       "4  MGEKRKTRQAEVNIGMVGHVDHGKTTLTKALTGVWTDTHSEELRRG...  CPYCGHE   \n",
       "\n",
       "               window_10  \n",
       "0  ILNNHGIEKTCCESSGAKCCR  \n",
       "1  KTCCESSGAKCCRKECLKLMK  \n",
       "2  SHTEKYILNNHGIEKTCCESS  \n",
       "3  LNNHGIEKTCCESSGAKCCRK  \n",
       "4  RYSTSPICPYCGHETEFIRRV  "
      ]
     },
     "execution_count": 85,
     "metadata": {},
     "output_type": "execute_result"
    }
   ],
   "source": [
    "pos_train_comp_based.head()"
   ]
  },
  {
   "cell_type": "markdown",
   "id": "305f5be4",
   "metadata": {
    "papermill": {
     "duration": 0.067776,
     "end_time": "2022-08-08T10:56:16.502741",
     "exception": false,
     "start_time": "2022-08-08T10:56:16.434965",
     "status": "completed"
    },
    "tags": []
   },
   "source": [
    "## Findings"
   ]
  },
  {
   "cell_type": "code",
   "execution_count": 86,
   "id": "9f1ec120",
   "metadata": {
    "execution": {
     "iopub.execute_input": "2022-08-08T10:56:16.641962Z",
     "iopub.status.busy": "2022-08-08T10:56:16.641221Z",
     "iopub.status.idle": "2022-08-08T10:56:16.650413Z",
     "shell.execute_reply": "2022-08-08T10:56:16.649481Z"
    },
    "papermill": {
     "duration": 0.081498,
     "end_time": "2022-08-08T10:56:16.652665",
     "exception": false,
     "start_time": "2022-08-08T10:56:16.571167",
     "status": "completed"
    },
    "tags": []
   },
   "outputs": [
    {
     "data": {
      "text/plain": [
       "Zn(2+)                     32.732034\n",
       "Ca(2+)                     29.589759\n",
       "Mg(2+)                     10.168752\n",
       "Mn(2+)                      6.066337\n",
       "Fe cation                   4.466104\n",
       "a divalent metal cation     4.466104\n",
       "[4Fe-4S] cluster            4.102415\n",
       "Cu cation                   2.822229\n",
       "[2Fe-2S] cluster            1.527495\n",
       "Na(+)                       0.974687\n",
       "Fe(3+)                      0.785569\n",
       "K(+)                        0.771021\n",
       "Ni(2+)                      0.378237\n",
       "Cd(2+)                      0.261856\n",
       "[3Fe-4S] cluster            0.218214\n",
       "Co(2+)                      0.203666\n",
       "Cu(2+)                      0.189118\n",
       "Fe(2+)                      0.116381\n",
       "Cu(+)                       0.101833\n",
       "Co(3+)                      0.058190\n",
       "Name: metal_name, dtype: float64"
      ]
     },
     "execution_count": 86,
     "metadata": {},
     "output_type": "execute_result"
    }
   ],
   "source": [
    "# percentage of occurences of Metals\n",
    "counts_comp_based_1 = pos_train_comp_based['metal_name'].value_counts(normalize=True)*100\n",
    "counts_comp_based_1"
   ]
  },
  {
   "cell_type": "code",
   "execution_count": 87,
   "id": "51917b7b",
   "metadata": {
    "execution": {
     "iopub.execute_input": "2022-08-08T10:56:16.791943Z",
     "iopub.status.busy": "2022-08-08T10:56:16.791212Z",
     "iopub.status.idle": "2022-08-08T10:56:16.801605Z",
     "shell.execute_reply": "2022-08-08T10:56:16.800195Z"
    },
    "papermill": {
     "duration": 0.081848,
     "end_time": "2022-08-08T10:56:16.804335",
     "exception": false,
     "start_time": "2022-08-08T10:56:16.722487",
     "status": "completed"
    },
    "tags": []
   },
   "outputs": [
    {
     "data": {
      "text/plain": [
       "Q10583    48\n",
       "O31526    44\n",
       "O31527    38\n",
       "E0VIU9    32\n",
       "Q868M7    31\n",
       "Q51817    28\n",
       "Q46085    26\n",
       "P19619    26\n",
       "Q9NQV7    24\n",
       "O75592    24\n",
       "Name: id, dtype: int64"
      ]
     },
     "execution_count": 87,
     "metadata": {},
     "output_type": "execute_result"
    }
   ],
   "source": [
    "# top 10 protiens with highest number of binding sites\n",
    "pos_train_comp_based['id'].value_counts().head(10)"
   ]
  },
  {
   "cell_type": "code",
   "execution_count": 88,
   "id": "f8c87b17",
   "metadata": {
    "execution": {
     "iopub.execute_input": "2022-08-08T10:56:17.001648Z",
     "iopub.status.busy": "2022-08-08T10:56:17.001255Z",
     "iopub.status.idle": "2022-08-08T10:56:17.012279Z",
     "shell.execute_reply": "2022-08-08T10:56:17.010926Z"
    },
    "papermill": {
     "duration": 0.082931,
     "end_time": "2022-08-08T10:56:17.014932",
     "exception": false,
     "start_time": "2022-08-08T10:56:16.932001",
     "status": "completed"
    },
    "tags": []
   },
   "outputs": [
    {
     "data": {
      "text/plain": [
       "C    25.501891\n",
       "D    24.454466\n",
       "H    20.555717\n",
       "E    11.725342\n",
       "N     4.058772\n",
       "G     1.934827\n",
       "T     1.934827\n",
       "S     1.658423\n",
       "Y     1.469305\n",
       "K     1.105615\n",
       "Q     0.931045\n",
       "L     0.843759\n",
       "V     0.814664\n",
       "I     0.756474\n",
       "A     0.625546\n",
       "R     0.538260\n",
       "F     0.494617\n",
       "M     0.305499\n",
       "W     0.203666\n",
       "P     0.087285\n",
       "Name: binding_amino_acid, dtype: float64"
      ]
     },
     "execution_count": 88,
     "metadata": {},
     "output_type": "execute_result"
    }
   ],
   "source": [
    "#  frequancy percentage of having a binding site according to amino acid\n",
    "counts_comp_based_2 = pos_train_comp_based['binding_amino_acid'].value_counts(normalize=True)*100\n",
    "counts_comp_based_2"
   ]
  },
  {
   "cell_type": "code",
   "execution_count": 89,
   "id": "6a168f22",
   "metadata": {
    "execution": {
     "iopub.execute_input": "2022-08-08T10:56:17.153857Z",
     "iopub.status.busy": "2022-08-08T10:56:17.152544Z",
     "iopub.status.idle": "2022-08-08T10:56:17.510384Z",
     "shell.execute_reply": "2022-08-08T10:56:17.509477Z"
    },
    "papermill": {
     "duration": 0.43096,
     "end_time": "2022-08-08T10:56:17.512909",
     "exception": false,
     "start_time": "2022-08-08T10:56:17.081949",
     "status": "completed"
    },
    "tags": []
   },
   "outputs": [
    {
     "data": {
      "text/plain": [
       "<AxesSubplot:xlabel='binding_amino_acid', ylabel='count'>"
      ]
     },
     "execution_count": 89,
     "metadata": {},
     "output_type": "execute_result"
    },
    {
     "data": {
      "image/png": "[encoded data removed]",
      "text/plain": [
       "<Figure size 842.4x595.44 with 1 Axes>"
      ]
     },
     "metadata": {},
     "output_type": "display_data"
    }
   ],
   "source": [
    "# plot for the previous counts\n",
    "sns.countplot(x='binding_amino_acid', data=pos_train_comp_based)"
   ]
  },
  {
   "cell_type": "code",
   "execution_count": 90,
   "id": "d267dbd2",
   "metadata": {
    "execution": {
     "iopub.execute_input": "2022-08-08T10:56:17.653388Z",
     "iopub.status.busy": "2022-08-08T10:56:17.652761Z",
     "iopub.status.idle": "2022-08-08T10:56:17.682146Z",
     "shell.execute_reply": "2022-08-08T10:56:17.680860Z"
    },
    "papermill": {
     "duration": 0.101896,
     "end_time": "2022-08-08T10:56:17.684722",
     "exception": false,
     "start_time": "2022-08-08T10:56:17.582826",
     "status": "completed"
    },
    "tags": []
   },
   "outputs": [
    {
     "data": {
      "text/html": [
       "<div>\n",
       "<style scoped>\n",
       "    .dataframe tbody tr th:only-of-type {\n",
       "        vertical-align: middle;\n",
       "    }\n",
       "\n",
       "    .dataframe tbody tr th {\n",
       "        vertical-align: top;\n",
       "    }\n",
       "\n",
       "    .dataframe thead th {\n",
       "        text-align: right;\n",
       "    }\n",
       "</style>\n",
       "<table border=\"1\" class=\"dataframe\">\n",
       "  <thead>\n",
       "    <tr style=\"text-align: right;\">\n",
       "      <th></th>\n",
       "      <th>binding_amino_acid</th>\n",
       "      <th>metal_name</th>\n",
       "      <th>metal_counts</th>\n",
       "      <th>sequence</th>\n",
       "    </tr>\n",
       "  </thead>\n",
       "  <tbody>\n",
       "    <tr>\n",
       "      <th>0</th>\n",
       "      <td>C</td>\n",
       "      <td>Zn(2+)</td>\n",
       "      <td>1140</td>\n",
       "      <td>1140</td>\n",
       "    </tr>\n",
       "    <tr>\n",
       "      <th>1</th>\n",
       "      <td>D</td>\n",
       "      <td>Ca(2+)</td>\n",
       "      <td>814</td>\n",
       "      <td>814</td>\n",
       "    </tr>\n",
       "    <tr>\n",
       "      <th>2</th>\n",
       "      <td>H</td>\n",
       "      <td>Zn(2+)</td>\n",
       "      <td>729</td>\n",
       "      <td>729</td>\n",
       "    </tr>\n",
       "    <tr>\n",
       "      <th>3</th>\n",
       "      <td>E</td>\n",
       "      <td>Ca(2+)</td>\n",
       "      <td>361</td>\n",
       "      <td>361</td>\n",
       "    </tr>\n",
       "    <tr>\n",
       "      <th>4</th>\n",
       "      <td>D</td>\n",
       "      <td>Mg(2+)</td>\n",
       "      <td>350</td>\n",
       "      <td>350</td>\n",
       "    </tr>\n",
       "    <tr>\n",
       "      <th>...</th>\n",
       "      <td>...</td>\n",
       "      <td>...</td>\n",
       "      <td>...</td>\n",
       "      <td>...</td>\n",
       "    </tr>\n",
       "    <tr>\n",
       "      <th>156</th>\n",
       "      <td>P</td>\n",
       "      <td>Zn(2+)</td>\n",
       "      <td>1</td>\n",
       "      <td>1</td>\n",
       "    </tr>\n",
       "    <tr>\n",
       "      <th>157</th>\n",
       "      <td>Q</td>\n",
       "      <td>Fe cation</td>\n",
       "      <td>1</td>\n",
       "      <td>1</td>\n",
       "    </tr>\n",
       "    <tr>\n",
       "      <th>158</th>\n",
       "      <td>Q</td>\n",
       "      <td>Na(+)</td>\n",
       "      <td>1</td>\n",
       "      <td>1</td>\n",
       "    </tr>\n",
       "    <tr>\n",
       "      <th>159</th>\n",
       "      <td>S</td>\n",
       "      <td>Co(3+)</td>\n",
       "      <td>1</td>\n",
       "      <td>1</td>\n",
       "    </tr>\n",
       "    <tr>\n",
       "      <th>160</th>\n",
       "      <td>Y</td>\n",
       "      <td>a divalent metal cation</td>\n",
       "      <td>1</td>\n",
       "      <td>1</td>\n",
       "    </tr>\n",
       "  </tbody>\n",
       "</table>\n",
       "<p>161 rows × 4 columns</p>\n",
       "</div>"
      ],
      "text/plain": [
       "    binding_amino_acid               metal_name  metal_counts  sequence\n",
       "0                    C                   Zn(2+)          1140      1140\n",
       "1                    D                   Ca(2+)           814       814\n",
       "2                    H                   Zn(2+)           729       729\n",
       "3                    E                   Ca(2+)           361       361\n",
       "4                    D                   Mg(2+)           350       350\n",
       "..                 ...                      ...           ...       ...\n",
       "156                  P                   Zn(2+)             1         1\n",
       "157                  Q                Fe cation             1         1\n",
       "158                  Q                    Na(+)             1         1\n",
       "159                  S                   Co(3+)             1         1\n",
       "160                  Y  a divalent metal cation             1         1\n",
       "\n",
       "[161 rows x 4 columns]"
      ]
     },
     "execution_count": 90,
     "metadata": {},
     "output_type": "execute_result"
    }
   ],
   "source": [
    "# ranking the combinations between binding metals and amino acids and thier occurance count\n",
    "list_amino_acids = []\n",
    "pos_train_comp_based_temp = pos_train_comp_based[~pos_train_comp_based.binding_amino_acid.isin(list_amino_acids)]\n",
    "\n",
    "#pos_train_df1[pos_train_df1['Binding Amino Acid'] in ]\n",
    "pos_train_comp_based_temp = pos_train_comp_based_temp.groupby(['binding_amino_acid', 'metal_name']).count().sort_values(['id'], ascending=False)\n",
    "pos_train_comp_based_temp = pos_train_comp_based_temp.drop(['Position','window_3','window_10'], axis=1).rename(columns={'id':'metal_counts'}).reset_index()\n",
    "#temp['metal_counts'] = temp['metal_counts'] /temp['metal_counts'].abs().max()\n",
    "pos_train_comp_based_temp"
   ]
  },
  {
   "cell_type": "code",
   "execution_count": 91,
   "id": "0fda42da",
   "metadata": {
    "execution": {
     "iopub.execute_input": "2022-08-08T10:56:17.827482Z",
     "iopub.status.busy": "2022-08-08T10:56:17.826807Z",
     "iopub.status.idle": "2022-08-08T10:56:18.320685Z",
     "shell.execute_reply": "2022-08-08T10:56:18.319475Z"
    },
    "papermill": {
     "duration": 0.568394,
     "end_time": "2022-08-08T10:56:18.323600",
     "exception": false,
     "start_time": "2022-08-08T10:56:17.755206",
     "status": "completed"
    },
    "tags": []
   },
   "outputs": [
    {
     "data": {
      "image/png": "[encoded data removed]",
      "text/plain": [
       "<Figure size 842.4x595.44 with 2 Axes>"
      ]
     },
     "metadata": {},
     "output_type": "display_data"
    }
   ],
   "source": [
    "# Visualizing the combinations between binding metals and amino acids and thier occurance count\n",
    "heatmap2 = pos_train_comp_based_temp.pivot(\"binding_amino_acid\", \"metal_name\", \"metal_counts\")\n",
    "ax2 = sns.heatmap(heatmap2 , cmap=\"YlGnBu\")"
   ]
  },
  {
   "cell_type": "markdown",
   "id": "9ffdfc8d",
   "metadata": {
    "papermill": {
     "duration": 0.069909,
     "end_time": "2022-08-08T10:56:18.463965",
     "exception": false,
     "start_time": "2022-08-08T10:56:18.394056",
     "status": "completed"
    },
    "tags": []
   },
   "source": [
    "## Dataset combining both evidences"
   ]
  },
  {
   "cell_type": "code",
   "execution_count": 92,
   "id": "d8b895bc",
   "metadata": {
    "_kg_hide-input": true,
    "_kg_hide-output": true,
    "execution": {
     "iopub.execute_input": "2022-08-08T10:56:18.605981Z",
     "iopub.status.busy": "2022-08-08T10:56:18.605565Z",
     "iopub.status.idle": "2022-08-08T10:56:18.634561Z",
     "shell.execute_reply": "2022-08-08T10:56:18.633622Z"
    },
    "papermill": {
     "duration": 0.103204,
     "end_time": "2022-08-08T10:56:18.637140",
     "exception": false,
     "start_time": "2022-08-08T10:56:18.533936",
     "status": "completed"
    },
    "tags": []
   },
   "outputs": [
    {
     "name": "stdout",
     "output_type": "stream",
     "text": [
      "<class 'pandas.core.frame.DataFrame'>\n",
      "Int64Index: 18043 entries, 0 to 18042\n",
      "Data columns (total 4 columns):\n",
      " #   Column    Non-Null Count  Dtype \n",
      "---  ------    --------------  ----- \n",
      " 0   id        18043 non-null  object\n",
      " 1   ChEBI-ID  18043 non-null  object\n",
      " 2   Position  18043 non-null  int64 \n",
      " 3   sequence  18043 non-null  object\n",
      "dtypes: int64(1), object(3)\n",
      "memory usage: 704.8+ KB\n"
     ]
    }
   ],
   "source": [
    "pos_train_both_based = pd.merge(pos_train_tsv, pos_train_fasta, left_on='Accession', right_on='id')\n",
    "pos_train_both_based = pos_train_both_based[['id','ChEBI-ID','Position','sequence']]\n",
    "pos_train_both_based.info()"
   ]
  },
  {
   "cell_type": "code",
   "execution_count": 93,
   "id": "4f94b1ad",
   "metadata": {
    "_kg_hide-input": true,
    "_kg_hide-output": true,
    "execution": {
     "iopub.execute_input": "2022-08-08T10:56:18.778884Z",
     "iopub.status.busy": "2022-08-08T10:56:18.777880Z",
     "iopub.status.idle": "2022-08-08T10:56:18.812488Z",
     "shell.execute_reply": "2022-08-08T10:56:18.811294Z"
    },
    "papermill": {
     "duration": 0.10846,
     "end_time": "2022-08-08T10:56:18.814896",
     "exception": false,
     "start_time": "2022-08-08T10:56:18.706436",
     "status": "completed"
    },
    "tags": []
   },
   "outputs": [
    {
     "data": {
      "text/html": [
       "<div>\n",
       "<style scoped>\n",
       "    .dataframe tbody tr th:only-of-type {\n",
       "        vertical-align: middle;\n",
       "    }\n",
       "\n",
       "    .dataframe tbody tr th {\n",
       "        vertical-align: top;\n",
       "    }\n",
       "\n",
       "    .dataframe thead th {\n",
       "        text-align: right;\n",
       "    }\n",
       "</style>\n",
       "<table border=\"1\" class=\"dataframe\">\n",
       "  <thead>\n",
       "    <tr style=\"text-align: right;\">\n",
       "      <th></th>\n",
       "      <th>id</th>\n",
       "      <th>ChEBI-ID</th>\n",
       "      <th>Position</th>\n",
       "      <th>sequence</th>\n",
       "    </tr>\n",
       "  </thead>\n",
       "  <tbody>\n",
       "    <tr>\n",
       "      <th>13</th>\n",
       "      <td>P07327</td>\n",
       "      <td>CHEBI:29105</td>\n",
       "      <td>47</td>\n",
       "      <td>MSTAGKVIKCKAAVLWELKKPFSIEEVEVAPPKAHEVRIKMVAVGI...</td>\n",
       "    </tr>\n",
       "    <tr>\n",
       "      <th>14</th>\n",
       "      <td>P07327</td>\n",
       "      <td>CHEBI:29105</td>\n",
       "      <td>112</td>\n",
       "      <td>MSTAGKVIKCKAAVLWELKKPFSIEEVEVAPPKAHEVRIKMVAVGI...</td>\n",
       "    </tr>\n",
       "    <tr>\n",
       "      <th>15</th>\n",
       "      <td>P07327</td>\n",
       "      <td>CHEBI:29105</td>\n",
       "      <td>101</td>\n",
       "      <td>MSTAGKVIKCKAAVLWELKKPFSIEEVEVAPPKAHEVRIKMVAVGI...</td>\n",
       "    </tr>\n",
       "    <tr>\n",
       "      <th>17</th>\n",
       "      <td>P07327</td>\n",
       "      <td>CHEBI:29105</td>\n",
       "      <td>68</td>\n",
       "      <td>MSTAGKVIKCKAAVLWELKKPFSIEEVEVAPPKAHEVRIKMVAVGI...</td>\n",
       "    </tr>\n",
       "    <tr>\n",
       "      <th>18</th>\n",
       "      <td>P07327</td>\n",
       "      <td>CHEBI:29105</td>\n",
       "      <td>175</td>\n",
       "      <td>MSTAGKVIKCKAAVLWELKKPFSIEEVEVAPPKAHEVRIKMVAVGI...</td>\n",
       "    </tr>\n",
       "  </tbody>\n",
       "</table>\n",
       "</div>"
      ],
      "text/plain": [
       "        id     ChEBI-ID  Position  \\\n",
       "13  P07327  CHEBI:29105        47   \n",
       "14  P07327  CHEBI:29105       112   \n",
       "15  P07327  CHEBI:29105       101   \n",
       "17  P07327  CHEBI:29105        68   \n",
       "18  P07327  CHEBI:29105       175   \n",
       "\n",
       "                                             sequence  \n",
       "13  MSTAGKVIKCKAAVLWELKKPFSIEEVEVAPPKAHEVRIKMVAVGI...  \n",
       "14  MSTAGKVIKCKAAVLWELKKPFSIEEVEVAPPKAHEVRIKMVAVGI...  \n",
       "15  MSTAGKVIKCKAAVLWELKKPFSIEEVEVAPPKAHEVRIKMVAVGI...  \n",
       "17  MSTAGKVIKCKAAVLWELKKPFSIEEVEVAPPKAHEVRIKMVAVGI...  \n",
       "18  MSTAGKVIKCKAAVLWELKKPFSIEEVEVAPPKAHEVRIKMVAVGI...  "
      ]
     },
     "execution_count": 93,
     "metadata": {},
     "output_type": "execute_result"
    }
   ],
   "source": [
    "pos_train_both_based = pos_train_both_based[pos_train_both_based.duplicated()]\n",
    "pos_train_both_based.head()"
   ]
  },
  {
   "cell_type": "code",
   "execution_count": 94,
   "id": "fcc6f11b",
   "metadata": {
    "_kg_hide-input": true,
    "_kg_hide-output": true,
    "execution": {
     "iopub.execute_input": "2022-08-08T10:56:18.958044Z",
     "iopub.status.busy": "2022-08-08T10:56:18.957324Z",
     "iopub.status.idle": "2022-08-08T10:56:19.113829Z",
     "shell.execute_reply": "2022-08-08T10:56:19.112130Z"
    },
    "papermill": {
     "duration": 0.232053,
     "end_time": "2022-08-08T10:56:19.116946",
     "exception": false,
     "start_time": "2022-08-08T10:56:18.884893",
     "status": "completed"
    },
    "tags": []
   },
   "outputs": [
    {
     "name": "stdout",
     "output_type": "stream",
     "text": [
      "<class 'pandas.core.frame.DataFrame'>\n",
      "Int64Index: 6056 entries, 13 to 18025\n",
      "Data columns (total 5 columns):\n",
      " #   Column              Non-Null Count  Dtype \n",
      "---  ------              --------------  ----- \n",
      " 0   id                  6056 non-null   object\n",
      " 1   ChEBI-ID            6056 non-null   object\n",
      " 2   Position            6056 non-null   int64 \n",
      " 3   sequence            6056 non-null   object\n",
      " 4   binding_amino_acid  6056 non-null   object\n",
      "dtypes: int64(1), object(4)\n",
      "memory usage: 283.9+ KB\n"
     ]
    }
   ],
   "source": [
    "# function to determine the amino acid that the binding happened at\n",
    "pos_train_both_based['binding_amino_acid'] = pos_train_both_based.apply(\n",
    "    lambda row: row.sequence[row.Position-1] , axis=1)\n",
    "\n",
    "# function to determine the \n",
    "pos_train_both_based.info()"
   ]
  },
  {
   "cell_type": "code",
   "execution_count": 95,
   "id": "be9222e5",
   "metadata": {
    "_kg_hide-input": true,
    "_kg_hide-output": true,
    "execution": {
     "iopub.execute_input": "2022-08-08T10:56:19.260982Z",
     "iopub.status.busy": "2022-08-08T10:56:19.259754Z",
     "iopub.status.idle": "2022-08-08T10:56:19.284153Z",
     "shell.execute_reply": "2022-08-08T10:56:19.282312Z"
    },
    "papermill": {
     "duration": 0.101125,
     "end_time": "2022-08-08T10:56:19.287400",
     "exception": false,
     "start_time": "2022-08-08T10:56:19.186275",
     "status": "completed"
    },
    "tags": []
   },
   "outputs": [
    {
     "data": {
      "text/html": [
       "<div>\n",
       "<style scoped>\n",
       "    .dataframe tbody tr th:only-of-type {\n",
       "        vertical-align: middle;\n",
       "    }\n",
       "\n",
       "    .dataframe tbody tr th {\n",
       "        vertical-align: top;\n",
       "    }\n",
       "\n",
       "    .dataframe thead th {\n",
       "        text-align: right;\n",
       "    }\n",
       "</style>\n",
       "<table border=\"1\" class=\"dataframe\">\n",
       "  <thead>\n",
       "    <tr style=\"text-align: right;\">\n",
       "      <th></th>\n",
       "      <th>id</th>\n",
       "      <th>metal_name</th>\n",
       "      <th>Position</th>\n",
       "      <th>binding_amino_acid</th>\n",
       "      <th>sequence</th>\n",
       "    </tr>\n",
       "  </thead>\n",
       "  <tbody>\n",
       "    <tr>\n",
       "      <th>0</th>\n",
       "      <td>P07327</td>\n",
       "      <td>Zn(2+)</td>\n",
       "      <td>47</td>\n",
       "      <td>C</td>\n",
       "      <td>MSTAGKVIKCKAAVLWELKKPFSIEEVEVAPPKAHEVRIKMVAVGI...</td>\n",
       "    </tr>\n",
       "    <tr>\n",
       "      <th>1</th>\n",
       "      <td>P07327</td>\n",
       "      <td>Zn(2+)</td>\n",
       "      <td>112</td>\n",
       "      <td>C</td>\n",
       "      <td>MSTAGKVIKCKAAVLWELKKPFSIEEVEVAPPKAHEVRIKMVAVGI...</td>\n",
       "    </tr>\n",
       "    <tr>\n",
       "      <th>2</th>\n",
       "      <td>P07327</td>\n",
       "      <td>Zn(2+)</td>\n",
       "      <td>101</td>\n",
       "      <td>C</td>\n",
       "      <td>MSTAGKVIKCKAAVLWELKKPFSIEEVEVAPPKAHEVRIKMVAVGI...</td>\n",
       "    </tr>\n",
       "    <tr>\n",
       "      <th>3</th>\n",
       "      <td>P07327</td>\n",
       "      <td>Zn(2+)</td>\n",
       "      <td>68</td>\n",
       "      <td>H</td>\n",
       "      <td>MSTAGKVIKCKAAVLWELKKPFSIEEVEVAPPKAHEVRIKMVAVGI...</td>\n",
       "    </tr>\n",
       "    <tr>\n",
       "      <th>4</th>\n",
       "      <td>P07327</td>\n",
       "      <td>Zn(2+)</td>\n",
       "      <td>175</td>\n",
       "      <td>C</td>\n",
       "      <td>MSTAGKVIKCKAAVLWELKKPFSIEEVEVAPPKAHEVRIKMVAVGI...</td>\n",
       "    </tr>\n",
       "  </tbody>\n",
       "</table>\n",
       "</div>"
      ],
      "text/plain": [
       "       id metal_name  Position binding_amino_acid  \\\n",
       "0  P07327     Zn(2+)        47                  C   \n",
       "1  P07327     Zn(2+)       112                  C   \n",
       "2  P07327     Zn(2+)       101                  C   \n",
       "3  P07327     Zn(2+)        68                  H   \n",
       "4  P07327     Zn(2+)       175                  C   \n",
       "\n",
       "                                            sequence  \n",
       "0  MSTAGKVIKCKAAVLWELKKPFSIEEVEVAPPKAHEVRIKMVAVGI...  \n",
       "1  MSTAGKVIKCKAAVLWELKKPFSIEEVEVAPPKAHEVRIKMVAVGI...  \n",
       "2  MSTAGKVIKCKAAVLWELKKPFSIEEVEVAPPKAHEVRIKMVAVGI...  \n",
       "3  MSTAGKVIKCKAAVLWELKKPFSIEEVEVAPPKAHEVRIKMVAVGI...  \n",
       "4  MSTAGKVIKCKAAVLWELKKPFSIEEVEVAPPKAHEVRIKMVAVGI...  "
      ]
     },
     "execution_count": 95,
     "metadata": {},
     "output_type": "execute_result"
    }
   ],
   "source": [
    "pos_train_both_based = pd.merge(pos_train_both_based, chebi_id_df, left_on='ChEBI-ID', right_on='ChEBI-ID')\n",
    "pos_train_both_based = pos_train_both_based[['id','Name','Position', 'binding_amino_acid','sequence']]\n",
    "pos_train_both_based = pos_train_both_based.rename(columns={\"Name\": \"metal_name\"})\n",
    "pos_train_both_based.head()"
   ]
  },
  {
   "cell_type": "code",
   "execution_count": 96,
   "id": "4315cc74",
   "metadata": {
    "_kg_hide-input": true,
    "_kg_hide-output": true,
    "execution": {
     "iopub.execute_input": "2022-08-08T10:56:19.458245Z",
     "iopub.status.busy": "2022-08-08T10:56:19.457814Z",
     "iopub.status.idle": "2022-08-08T10:56:19.475269Z",
     "shell.execute_reply": "2022-08-08T10:56:19.473982Z"
    },
    "papermill": {
     "duration": 0.09998,
     "end_time": "2022-08-08T10:56:19.477950",
     "exception": false,
     "start_time": "2022-08-08T10:56:19.377970",
     "status": "completed"
    },
    "tags": []
   },
   "outputs": [
    {
     "data": {
      "text/plain": [
       "0"
      ]
     },
     "execution_count": 96,
     "metadata": {},
     "output_type": "execute_result"
    }
   ],
   "source": [
    "#  checking for duplicates\n",
    "pos_train_both_based.duplicated().sum()"
   ]
  },
  {
   "cell_type": "code",
   "execution_count": 97,
   "id": "afea6427",
   "metadata": {
    "_kg_hide-input": true,
    "_kg_hide-output": true,
    "execution": {
     "iopub.execute_input": "2022-08-08T10:56:19.622547Z",
     "iopub.status.busy": "2022-08-08T10:56:19.622115Z",
     "iopub.status.idle": "2022-08-08T10:56:19.634558Z",
     "shell.execute_reply": "2022-08-08T10:56:19.632947Z"
    },
    "papermill": {
     "duration": 0.088072,
     "end_time": "2022-08-08T10:56:19.637145",
     "exception": false,
     "start_time": "2022-08-08T10:56:19.549073",
     "status": "completed"
    },
    "tags": []
   },
   "outputs": [
    {
     "data": {
      "text/plain": [
       "count    6056.000000\n",
       "mean      278.220773\n",
       "std       406.732770\n",
       "min         1.000000\n",
       "25%        83.000000\n",
       "50%       183.000000\n",
       "75%       336.000000\n",
       "max      4672.000000\n",
       "Name: Position, dtype: float64"
      ]
     },
     "execution_count": 97,
     "metadata": {},
     "output_type": "execute_result"
    }
   ],
   "source": [
    "pos_train_both_based['Position'].describe()"
   ]
  },
  {
   "cell_type": "code",
   "execution_count": 98,
   "id": "9254a5d0",
   "metadata": {
    "_kg_hide-input": true,
    "_kg_hide-output": true,
    "execution": {
     "iopub.execute_input": "2022-08-08T10:56:19.779725Z",
     "iopub.status.busy": "2022-08-08T10:56:19.778482Z",
     "iopub.status.idle": "2022-08-08T10:56:19.878866Z",
     "shell.execute_reply": "2022-08-08T10:56:19.877497Z"
    },
    "papermill": {
     "duration": 0.174991,
     "end_time": "2022-08-08T10:56:19.881939",
     "exception": false,
     "start_time": "2022-08-08T10:56:19.706948",
     "status": "completed"
    },
    "tags": []
   },
   "outputs": [],
   "source": [
    "# Getting part of the sequence before and after the binding amino acids with an offset of 3 amino acids\n",
    "def window_3(Position,sequence):\n",
    "    if Position <= 3:\n",
    "        return sequence[:Position+3]\n",
    "    if Position >= (4672-3):\n",
    "        return sequence[Position-4:]\n",
    "    else:\n",
    "        return sequence[Position-4:Position+3]\n",
    "\n",
    "pos_train_both_based[\"window_3\"] = pos_train_both_based.apply(lambda row: window_3(row[\"Position\"],row[\"sequence\"]),\n",
    "\n",
    "axis=1)"
   ]
  },
  {
   "cell_type": "code",
   "execution_count": 99,
   "id": "70c6deab",
   "metadata": {
    "_kg_hide-input": true,
    "_kg_hide-output": true,
    "execution": {
     "iopub.execute_input": "2022-08-08T10:56:20.024500Z",
     "iopub.status.busy": "2022-08-08T10:56:20.024050Z",
     "iopub.status.idle": "2022-08-08T10:56:20.039066Z",
     "shell.execute_reply": "2022-08-08T10:56:20.037726Z"
    },
    "papermill": {
     "duration": 0.089744,
     "end_time": "2022-08-08T10:56:20.041875",
     "exception": false,
     "start_time": "2022-08-08T10:56:19.952131",
     "status": "completed"
    },
    "tags": []
   },
   "outputs": [
    {
     "data": {
      "text/plain": [
       "count        6056\n",
       "unique       5304\n",
       "top       AIHDVDH\n",
       "freq            9\n",
       "Name: window_3, dtype: object"
      ]
     },
     "execution_count": 99,
     "metadata": {},
     "output_type": "execute_result"
    }
   ],
   "source": [
    "pos_train_both_based['window_3'].describe()"
   ]
  },
  {
   "cell_type": "code",
   "execution_count": 100,
   "id": "512025a8",
   "metadata": {
    "_kg_hide-input": true,
    "_kg_hide-output": true,
    "execution": {
     "iopub.execute_input": "2022-08-08T10:56:20.183508Z",
     "iopub.status.busy": "2022-08-08T10:56:20.183052Z",
     "iopub.status.idle": "2022-08-08T10:56:20.282885Z",
     "shell.execute_reply": "2022-08-08T10:56:20.281621Z"
    },
    "papermill": {
     "duration": 0.174001,
     "end_time": "2022-08-08T10:56:20.285701",
     "exception": false,
     "start_time": "2022-08-08T10:56:20.111700",
     "status": "completed"
    },
    "tags": []
   },
   "outputs": [],
   "source": [
    "# Getting part of the sequence before and after the binding amino acids with an offset of 10 amino acids\n",
    "def window_10(Position,sequence):\n",
    "    if Position <= 10:\n",
    "        return sequence[:Position+10]\n",
    "    if Position >= (4672-10):\n",
    "        return sequence[Position-11:]\n",
    "    else:\n",
    "        return sequence[Position-11:Position+10]\n",
    "\n",
    "pos_train_both_based[\"window_10\"] = pos_train_both_based.apply(lambda row: window_10(row[\"Position\"],row[\"sequence\"]),\n",
    "\n",
    "axis=1)"
   ]
  },
  {
   "cell_type": "code",
   "execution_count": 101,
   "id": "7098a209",
   "metadata": {
    "_kg_hide-input": true,
    "_kg_hide-output": true,
    "execution": {
     "iopub.execute_input": "2022-08-08T10:56:20.432910Z",
     "iopub.status.busy": "2022-08-08T10:56:20.432488Z",
     "iopub.status.idle": "2022-08-08T10:56:20.447902Z",
     "shell.execute_reply": "2022-08-08T10:56:20.446756Z"
    },
    "papermill": {
     "duration": 0.090587,
     "end_time": "2022-08-08T10:56:20.450450",
     "exception": false,
     "start_time": "2022-08-08T10:56:20.359863",
     "status": "completed"
    },
    "tags": []
   },
   "outputs": [
    {
     "data": {
      "text/html": [
       "<div>\n",
       "<style scoped>\n",
       "    .dataframe tbody tr th:only-of-type {\n",
       "        vertical-align: middle;\n",
       "    }\n",
       "\n",
       "    .dataframe tbody tr th {\n",
       "        vertical-align: top;\n",
       "    }\n",
       "\n",
       "    .dataframe thead th {\n",
       "        text-align: right;\n",
       "    }\n",
       "</style>\n",
       "<table border=\"1\" class=\"dataframe\">\n",
       "  <thead>\n",
       "    <tr style=\"text-align: right;\">\n",
       "      <th></th>\n",
       "      <th>id</th>\n",
       "      <th>metal_name</th>\n",
       "      <th>Position</th>\n",
       "      <th>binding_amino_acid</th>\n",
       "      <th>sequence</th>\n",
       "      <th>window_3</th>\n",
       "      <th>window_10</th>\n",
       "    </tr>\n",
       "  </thead>\n",
       "  <tbody>\n",
       "    <tr>\n",
       "      <th>0</th>\n",
       "      <td>P07327</td>\n",
       "      <td>Zn(2+)</td>\n",
       "      <td>47</td>\n",
       "      <td>C</td>\n",
       "      <td>MSTAGKVIKCKAAVLWELKKPFSIEEVEVAPPKAHEVRIKMVAVGI...</td>\n",
       "      <td>VGICGTD</td>\n",
       "      <td>VRIKMVAVGICGTDDHVVSGT</td>\n",
       "    </tr>\n",
       "    <tr>\n",
       "      <th>1</th>\n",
       "      <td>P07327</td>\n",
       "      <td>Zn(2+)</td>\n",
       "      <td>112</td>\n",
       "      <td>C</td>\n",
       "      <td>MSTAGKVIKCKAAVLWELKKPFSIEEVEVAPPKAHEVRIKMVAVGI...</td>\n",
       "      <td>SNYCLKN</td>\n",
       "      <td>RICKNPESNYCLKNDVSNPQG</td>\n",
       "    </tr>\n",
       "    <tr>\n",
       "      <th>2</th>\n",
       "      <td>P07327</td>\n",
       "      <td>Zn(2+)</td>\n",
       "      <td>101</td>\n",
       "      <td>C</td>\n",
       "      <td>MSTAGKVIKCKAAVLWELKKPFSIEEVEVAPPKAHEVRIKMVAVGI...</td>\n",
       "      <td>CGKCRIC</td>\n",
       "      <td>IPLAIPQCGKCRICKNPESNY</td>\n",
       "    </tr>\n",
       "    <tr>\n",
       "      <th>3</th>\n",
       "      <td>P07327</td>\n",
       "      <td>Zn(2+)</td>\n",
       "      <td>68</td>\n",
       "      <td>H</td>\n",
       "      <td>MSTAGKVIKCKAAVLWELKKPFSIEEVEVAPPKAHEVRIKMVAVGI...</td>\n",
       "      <td>ILGHEAA</td>\n",
       "      <td>MVTPLPVILGHEAAGIVESVG</td>\n",
       "    </tr>\n",
       "    <tr>\n",
       "      <th>4</th>\n",
       "      <td>P07327</td>\n",
       "      <td>Zn(2+)</td>\n",
       "      <td>175</td>\n",
       "      <td>C</td>\n",
       "      <td>MSTAGKVIKCKAAVLWELKKPFSIEEVEVAPPKAHEVRIKMVAVGI...</td>\n",
       "      <td>LIGCGFS</td>\n",
       "      <td>SPLEKVCLIGCGFSTGYGSAV</td>\n",
       "    </tr>\n",
       "  </tbody>\n",
       "</table>\n",
       "</div>"
      ],
      "text/plain": [
       "       id metal_name  Position binding_amino_acid  \\\n",
       "0  P07327     Zn(2+)        47                  C   \n",
       "1  P07327     Zn(2+)       112                  C   \n",
       "2  P07327     Zn(2+)       101                  C   \n",
       "3  P07327     Zn(2+)        68                  H   \n",
       "4  P07327     Zn(2+)       175                  C   \n",
       "\n",
       "                                            sequence window_3  \\\n",
       "0  MSTAGKVIKCKAAVLWELKKPFSIEEVEVAPPKAHEVRIKMVAVGI...  VGICGTD   \n",
       "1  MSTAGKVIKCKAAVLWELKKPFSIEEVEVAPPKAHEVRIKMVAVGI...  SNYCLKN   \n",
       "2  MSTAGKVIKCKAAVLWELKKPFSIEEVEVAPPKAHEVRIKMVAVGI...  CGKCRIC   \n",
       "3  MSTAGKVIKCKAAVLWELKKPFSIEEVEVAPPKAHEVRIKMVAVGI...  ILGHEAA   \n",
       "4  MSTAGKVIKCKAAVLWELKKPFSIEEVEVAPPKAHEVRIKMVAVGI...  LIGCGFS   \n",
       "\n",
       "               window_10  \n",
       "0  VRIKMVAVGICGTDDHVVSGT  \n",
       "1  RICKNPESNYCLKNDVSNPQG  \n",
       "2  IPLAIPQCGKCRICKNPESNY  \n",
       "3  MVTPLPVILGHEAAGIVESVG  \n",
       "4  SPLEKVCLIGCGFSTGYGSAV  "
      ]
     },
     "execution_count": 101,
     "metadata": {},
     "output_type": "execute_result"
    }
   ],
   "source": [
    "pos_train_both_based.head()"
   ]
  },
  {
   "cell_type": "markdown",
   "id": "ce2af2b1",
   "metadata": {
    "papermill": {
     "duration": 0.070138,
     "end_time": "2022-08-08T10:56:20.591584",
     "exception": false,
     "start_time": "2022-08-08T10:56:20.521446",
     "status": "completed"
    },
    "tags": []
   },
   "source": [
    "## Findings"
   ]
  },
  {
   "cell_type": "code",
   "execution_count": 102,
   "id": "b1bfe067",
   "metadata": {
    "execution": {
     "iopub.execute_input": "2022-08-08T10:56:20.734853Z",
     "iopub.status.busy": "2022-08-08T10:56:20.734066Z",
     "iopub.status.idle": "2022-08-08T10:56:20.746170Z",
     "shell.execute_reply": "2022-08-08T10:56:20.744927Z"
    },
    "papermill": {
     "duration": 0.086834,
     "end_time": "2022-08-08T10:56:20.748852",
     "exception": false,
     "start_time": "2022-08-08T10:56:20.662018",
     "status": "completed"
    },
    "tags": []
   },
   "outputs": [
    {
     "data": {
      "text/plain": [
       "Zn(2+)                     32.595773\n",
       "Ca(2+)                     28.830911\n",
       "Mg(2+)                     10.402906\n",
       "Mn(2+)                      6.373844\n",
       "[4Fe-4S] cluster            4.656539\n",
       "a divalent metal cation     4.640026\n",
       "Fe cation                   4.607001\n",
       "Cu cation                   2.179657\n",
       "[2Fe-2S] cluster            1.519155\n",
       "Na(+)                       0.924703\n",
       "K(+)                        0.875165\n",
       "Fe(3+)                      0.825627\n",
       "Ni(2+)                      0.429326\n",
       "Cd(2+)                      0.297226\n",
       "[3Fe-4S] cluster            0.247688\n",
       "Cu(2+)                      0.214663\n",
       "Co(2+)                      0.181638\n",
       "Cu(+)                       0.115588\n",
       "Fe(2+)                      0.082563\n",
       "Name: metal_name, dtype: float64"
      ]
     },
     "execution_count": 102,
     "metadata": {},
     "output_type": "execute_result"
    }
   ],
   "source": [
    "# percentage of occurences of Metals\n",
    "counts_both_based_1 = pos_train_both_based['metal_name'].value_counts(normalize=True)*100\n",
    "counts_both_based_1"
   ]
  },
  {
   "cell_type": "code",
   "execution_count": 103,
   "id": "5a14b555",
   "metadata": {
    "execution": {
     "iopub.execute_input": "2022-08-08T10:56:20.893034Z",
     "iopub.status.busy": "2022-08-08T10:56:20.892633Z",
     "iopub.status.idle": "2022-08-08T10:56:20.901446Z",
     "shell.execute_reply": "2022-08-08T10:56:20.900487Z"
    },
    "papermill": {
     "duration": 0.084927,
     "end_time": "2022-08-08T10:56:20.903632",
     "exception": false,
     "start_time": "2022-08-08T10:56:20.818705",
     "status": "completed"
    },
    "tags": []
   },
   "outputs": [
    {
     "data": {
      "text/plain": [
       "O31526    44\n",
       "O31527    38\n",
       "E0VIU9    32\n",
       "Q868M7    31\n",
       "Q51817    28\n",
       "Q46085    26\n",
       "O75592    24\n",
       "P03956    24\n",
       "Q9Y4X5    24\n",
       "Q9H5U6    24\n",
       "Name: id, dtype: int64"
      ]
     },
     "execution_count": 103,
     "metadata": {},
     "output_type": "execute_result"
    }
   ],
   "source": [
    "# top 10 protiens with highest number of binding sites\n",
    "pos_train_both_based['id'].value_counts().head(10)"
   ]
  },
  {
   "cell_type": "code",
   "execution_count": 104,
   "id": "d1febd2a",
   "metadata": {
    "execution": {
     "iopub.execute_input": "2022-08-08T10:56:21.050257Z",
     "iopub.status.busy": "2022-08-08T10:56:21.049765Z",
     "iopub.status.idle": "2022-08-08T10:56:21.060114Z",
     "shell.execute_reply": "2022-08-08T10:56:21.059228Z"
    },
    "papermill": {
     "duration": 0.087746,
     "end_time": "2022-08-08T10:56:21.062552",
     "exception": false,
     "start_time": "2022-08-08T10:56:20.974806",
     "status": "completed"
    },
    "tags": []
   },
   "outputs": [
    {
     "data": {
      "text/plain": [
       "C    25.825627\n",
       "D    24.768824\n",
       "H    20.326948\n",
       "E    11.476222\n",
       "N     4.144650\n",
       "T     1.931968\n",
       "G     1.915456\n",
       "S     1.783355\n",
       "Y     1.469617\n",
       "K     1.089828\n",
       "V     0.842140\n",
       "Q     0.809115\n",
       "I     0.743065\n",
       "L     0.710040\n",
       "A     0.594452\n",
       "R     0.528402\n",
       "F     0.445839\n",
       "M     0.280713\n",
       "W     0.231176\n",
       "P     0.082563\n",
       "Name: binding_amino_acid, dtype: float64"
      ]
     },
     "execution_count": 104,
     "metadata": {},
     "output_type": "execute_result"
    }
   ],
   "source": [
    "#  frequancy percentage of having a binding site according to amino acid\n",
    "counts_both_based_2 = pos_train_both_based['binding_amino_acid'].value_counts(normalize=True)*100\n",
    "counts_both_based_2"
   ]
  },
  {
   "cell_type": "code",
   "execution_count": 105,
   "id": "5d06b051",
   "metadata": {
    "execution": {
     "iopub.execute_input": "2022-08-08T10:56:21.208125Z",
     "iopub.status.busy": "2022-08-08T10:56:21.207657Z",
     "iopub.status.idle": "2022-08-08T10:56:21.582554Z",
     "shell.execute_reply": "2022-08-08T10:56:21.581594Z"
    },
    "papermill": {
     "duration": 0.451349,
     "end_time": "2022-08-08T10:56:21.584969",
     "exception": false,
     "start_time": "2022-08-08T10:56:21.133620",
     "status": "completed"
    },
    "tags": []
   },
   "outputs": [
    {
     "data": {
      "text/plain": [
       "<AxesSubplot:xlabel='binding_amino_acid', ylabel='count'>"
      ]
     },
     "execution_count": 105,
     "metadata": {},
     "output_type": "execute_result"
    },
    {
     "data": {
      "image/png": "[encoded data removed]",
      "text/plain": [
       "<Figure size 842.4x595.44 with 1 Axes>"
      ]
     },
     "metadata": {},
     "output_type": "display_data"
    }
   ],
   "source": [
    "# plot for the previous counts\n",
    "sns.countplot(x='binding_amino_acid', data=pos_train_both_based)"
   ]
  },
  {
   "cell_type": "code",
   "execution_count": 106,
   "id": "bddee711",
   "metadata": {
    "execution": {
     "iopub.execute_input": "2022-08-08T10:56:21.729596Z",
     "iopub.status.busy": "2022-08-08T10:56:21.729164Z",
     "iopub.status.idle": "2022-08-08T10:56:21.761343Z",
     "shell.execute_reply": "2022-08-08T10:56:21.760182Z"
    },
    "papermill": {
     "duration": 0.108107,
     "end_time": "2022-08-08T10:56:21.764267",
     "exception": false,
     "start_time": "2022-08-08T10:56:21.656160",
     "status": "completed"
    },
    "tags": []
   },
   "outputs": [
    {
     "name": "stderr",
     "output_type": "stream",
     "text": [
      "/opt/conda/lib/python3.7/site-packages/ipykernel_launcher.py:3: UserWarning: Boolean Series key will be reindexed to match DataFrame index.\n",
      "  This is separate from the ipykernel package so we can avoid doing imports until\n"
     ]
    },
    {
     "data": {
      "text/html": [
       "<div>\n",
       "<style scoped>\n",
       "    .dataframe tbody tr th:only-of-type {\n",
       "        vertical-align: middle;\n",
       "    }\n",
       "\n",
       "    .dataframe tbody tr th {\n",
       "        vertical-align: top;\n",
       "    }\n",
       "\n",
       "    .dataframe thead th {\n",
       "        text-align: right;\n",
       "    }\n",
       "</style>\n",
       "<table border=\"1\" class=\"dataframe\">\n",
       "  <thead>\n",
       "    <tr style=\"text-align: right;\">\n",
       "      <th></th>\n",
       "      <th>binding_amino_acid</th>\n",
       "      <th>metal_name</th>\n",
       "      <th>metal_counts</th>\n",
       "      <th>sequence</th>\n",
       "    </tr>\n",
       "  </thead>\n",
       "  <tbody>\n",
       "    <tr>\n",
       "      <th>0</th>\n",
       "      <td>C</td>\n",
       "      <td>Zn(2+)</td>\n",
       "      <td>972</td>\n",
       "      <td>972</td>\n",
       "    </tr>\n",
       "    <tr>\n",
       "      <th>1</th>\n",
       "      <td>D</td>\n",
       "      <td>Ca(2+)</td>\n",
       "      <td>721</td>\n",
       "      <td>721</td>\n",
       "    </tr>\n",
       "    <tr>\n",
       "      <th>2</th>\n",
       "      <td>H</td>\n",
       "      <td>Zn(2+)</td>\n",
       "      <td>656</td>\n",
       "      <td>656</td>\n",
       "    </tr>\n",
       "    <tr>\n",
       "      <th>3</th>\n",
       "      <td>D</td>\n",
       "      <td>Mg(2+)</td>\n",
       "      <td>304</td>\n",
       "      <td>304</td>\n",
       "    </tr>\n",
       "    <tr>\n",
       "      <th>4</th>\n",
       "      <td>E</td>\n",
       "      <td>Ca(2+)</td>\n",
       "      <td>292</td>\n",
       "      <td>292</td>\n",
       "    </tr>\n",
       "    <tr>\n",
       "      <th>...</th>\n",
       "      <td>...</td>\n",
       "      <td>...</td>\n",
       "      <td>...</td>\n",
       "      <td>...</td>\n",
       "    </tr>\n",
       "    <tr>\n",
       "      <th>149</th>\n",
       "      <td>Q</td>\n",
       "      <td>Fe cation</td>\n",
       "      <td>1</td>\n",
       "      <td>1</td>\n",
       "    </tr>\n",
       "    <tr>\n",
       "      <th>150</th>\n",
       "      <td>Q</td>\n",
       "      <td>Na(+)</td>\n",
       "      <td>1</td>\n",
       "      <td>1</td>\n",
       "    </tr>\n",
       "    <tr>\n",
       "      <th>151</th>\n",
       "      <td>Q</td>\n",
       "      <td>a divalent metal cation</td>\n",
       "      <td>1</td>\n",
       "      <td>1</td>\n",
       "    </tr>\n",
       "    <tr>\n",
       "      <th>152</th>\n",
       "      <td>R</td>\n",
       "      <td>Zn(2+)</td>\n",
       "      <td>1</td>\n",
       "      <td>1</td>\n",
       "    </tr>\n",
       "    <tr>\n",
       "      <th>153</th>\n",
       "      <td>Y</td>\n",
       "      <td>a divalent metal cation</td>\n",
       "      <td>1</td>\n",
       "      <td>1</td>\n",
       "    </tr>\n",
       "  </tbody>\n",
       "</table>\n",
       "<p>154 rows × 4 columns</p>\n",
       "</div>"
      ],
      "text/plain": [
       "    binding_amino_acid               metal_name  metal_counts  sequence\n",
       "0                    C                   Zn(2+)           972       972\n",
       "1                    D                   Ca(2+)           721       721\n",
       "2                    H                   Zn(2+)           656       656\n",
       "3                    D                   Mg(2+)           304       304\n",
       "4                    E                   Ca(2+)           292       292\n",
       "..                 ...                      ...           ...       ...\n",
       "149                  Q                Fe cation             1         1\n",
       "150                  Q                    Na(+)             1         1\n",
       "151                  Q  a divalent metal cation             1         1\n",
       "152                  R                   Zn(2+)             1         1\n",
       "153                  Y  a divalent metal cation             1         1\n",
       "\n",
       "[154 rows x 4 columns]"
      ]
     },
     "execution_count": 106,
     "metadata": {},
     "output_type": "execute_result"
    }
   ],
   "source": [
    "# ranking the combinations between binding metals and amino acids and thier occurance count\n",
    "list_amino_acids = []\n",
    "pos_train_both_based_temp = pos_train_both_based[~pos_train_comp_based.binding_amino_acid.isin(list_amino_acids)]\n",
    "\n",
    "#pos_train_df1[pos_train_df1['Binding Amino Acid'] in ]\n",
    "pos_train_both_based_temp = pos_train_both_based_temp.groupby(['binding_amino_acid', 'metal_name']).count().sort_values(['id'], ascending=False)\n",
    "pos_train_both_based_temp = pos_train_both_based_temp.drop(['Position','window_3','window_10'], axis=1).rename(columns={'id':'metal_counts'}).reset_index()\n",
    "#temp['metal_counts'] = temp['metal_counts'] /temp['metal_counts'].abs().max()\n",
    "pos_train_both_based_temp"
   ]
  },
  {
   "cell_type": "code",
   "execution_count": 107,
   "id": "34e10fb2",
   "metadata": {
    "execution": {
     "iopub.execute_input": "2022-08-08T10:56:21.911396Z",
     "iopub.status.busy": "2022-08-08T10:56:21.910978Z",
     "iopub.status.idle": "2022-08-08T10:56:22.402010Z",
     "shell.execute_reply": "2022-08-08T10:56:22.400784Z"
    },
    "papermill": {
     "duration": 0.566848,
     "end_time": "2022-08-08T10:56:22.404648",
     "exception": false,
     "start_time": "2022-08-08T10:56:21.837800",
     "status": "completed"
    },
    "tags": []
   },
   "outputs": [
    {
     "data": {
      "image/png": "[encoded data removed]",
      "text/plain": [
       "<Figure size 842.4x595.44 with 2 Axes>"
      ]
     },
     "metadata": {},
     "output_type": "display_data"
    }
   ],
   "source": [
    "# Visualizing the combinations between binding metals and amino acids and thier occurance count\n",
    "heatmap2 = pos_train_both_based_temp.pivot(\"binding_amino_acid\", \"metal_name\", \"metal_counts\")\n",
    "ax2 = sns.heatmap(heatmap2 , cmap=\"YlGnBu\")"
   ]
  },
  {
   "cell_type": "markdown",
   "id": "7356cc42",
   "metadata": {
    "papermill": {
     "duration": 0.076322,
     "end_time": "2022-08-08T10:56:22.554102",
     "exception": false,
     "start_time": "2022-08-08T10:56:22.477780",
     "status": "completed"
    },
    "tags": []
   },
   "source": [
    "#### Plotting the Distribution (%) of metals for the Full Positive Dataset, Literature Based Instances, Computer Predicted dataset, and instances that has both evidences (literature and computer predictions) "
   ]
  },
  {
   "cell_type": "code",
   "execution_count": 108,
   "id": "e941000d",
   "metadata": {
    "execution": {
     "iopub.execute_input": "2022-08-08T10:56:22.712118Z",
     "iopub.status.busy": "2022-08-08T10:56:22.711670Z",
     "iopub.status.idle": "2022-08-08T10:56:23.263861Z",
     "shell.execute_reply": "2022-08-08T10:56:23.262836Z"
    },
    "papermill": {
     "duration": 0.636138,
     "end_time": "2022-08-08T10:56:23.266202",
     "exception": false,
     "start_time": "2022-08-08T10:56:22.630064",
     "status": "completed"
    },
    "tags": []
   },
   "outputs": [
    {
     "data": {
      "text/plain": [
       "<AxesSubplot:xlabel='Metal names', ylabel='Percentage (%)'>"
      ]
     },
     "execution_count": 108,
     "metadata": {},
     "output_type": "execute_result"
    },
    {
     "data": {
      "image/png": "[encoded data removed]",
      "text/plain": [
       "<Figure size 842.4x595.44 with 1 Axes>"
      ]
     },
     "metadata": {},
     "output_type": "display_data"
    }
   ],
   "source": [
    "pd.DataFrame(counts_pos_full_1).reset_index().merge(\n",
    "    pd.DataFrame(counts_lit_based_1).reset_index(), right_on='index', left_on='index').rename(\n",
    "    columns={'metal_name_x':'full_pos_set', 'metal_name_y':'lit_based'}).merge(\n",
    "    pd.DataFrame(counts_comp_based_1).reset_index(), right_on='index', left_on='index').rename(\n",
    "    columns={'metal_name':'comp_based'}).merge(\n",
    "    pd.DataFrame(counts_both_based_1).reset_index(), right_on='index', left_on='index').rename(\n",
    "    columns={'metal_name':'both_based', 'index':'metal_name'}).plot(\n",
    "    x=\"metal_name\", y=[\"full_pos_set\", \"lit_based\",'comp_based','both_based'], kind=\"bar\",\n",
    "    xlabel= 'Metal names', ylabel= \"Percentage (%)\")\n"
   ]
  },
  {
   "cell_type": "markdown",
   "id": "57a7d3ee",
   "metadata": {
    "papermill": {
     "duration": 0.073403,
     "end_time": "2022-08-08T10:56:23.414844",
     "exception": false,
     "start_time": "2022-08-08T10:56:23.341441",
     "status": "completed"
    },
    "tags": []
   },
   "source": [
    "#### Plotting the Distribution (%) of Amino Acids for the Full Positive Dataset, Literature Based Instances, Computer Predicted dataset, and instances that has both evidences (literature and computer predictions) "
   ]
  },
  {
   "cell_type": "code",
   "execution_count": 109,
   "id": "2a872a1a",
   "metadata": {
    "execution": {
     "iopub.execute_input": "2022-08-08T10:56:23.562235Z",
     "iopub.status.busy": "2022-08-08T10:56:23.561075Z",
     "iopub.status.idle": "2022-08-08T10:56:24.098291Z",
     "shell.execute_reply": "2022-08-08T10:56:24.097042Z"
    },
    "papermill": {
     "duration": 0.613966,
     "end_time": "2022-08-08T10:56:24.101041",
     "exception": false,
     "start_time": "2022-08-08T10:56:23.487075",
     "status": "completed"
    },
    "tags": []
   },
   "outputs": [
    {
     "data": {
      "text/plain": [
       "<AxesSubplot:xlabel='Amino Acids ', ylabel='Percentage (%)'>"
      ]
     },
     "execution_count": 109,
     "metadata": {},
     "output_type": "execute_result"
    },
    {
     "data": {
      "image/png": "[encoded data removed]",
      "text/plain": [
       "<Figure size 842.4x595.44 with 1 Axes>"
      ]
     },
     "metadata": {},
     "output_type": "display_data"
    }
   ],
   "source": [
    "pd.DataFrame(counts_pos_full_2).reset_index().merge(\n",
    "    pd.DataFrame(counts_lit_based_2).reset_index(), right_on='index', left_on='index').rename(\n",
    "    columns={'binding_amino_acid_x':'full_pos_set', 'binding_amino_acid_y':'lit_based'}).merge(\n",
    "    pd.DataFrame(counts_comp_based_2).reset_index(), right_on='index', left_on='index').rename(\n",
    "    columns={'binding_amino_acid':'comp_based'}).merge(\n",
    "    pd.DataFrame(counts_both_based_2).reset_index(), right_on='index', left_on='index').rename(\n",
    "    columns={'binding_amino_acid':'both_based', 'index':'binding_amino_acid'}).plot(\n",
    "    x=\"binding_amino_acid\", y=[\"full_pos_set\", \"lit_based\",'comp_based','both_based'], kind=\"bar\",\n",
    "    xlabel= 'Amino Acids ', ylabel= \"Percentage (%)\")\n"
   ]
  },
  {
   "cell_type": "markdown",
   "id": "1983ac79",
   "metadata": {
    "papermill": {
     "duration": 0.073289,
     "end_time": "2022-08-08T10:56:24.247683",
     "exception": false,
     "start_time": "2022-08-08T10:56:24.174394",
     "status": "completed"
    },
    "tags": []
   },
   "source": [
    "## Dataset Summary\n",
    "\n",
    "| Info/Dataset | Pos_Train_Full | Pos_Train_literature_based | Pos_Train_computer_based | Pos_Train_both_based | Neg_Train\n",
    "| --- | --- | --- | --- | --- | --- |\n",
    "| Name in this Notebook | pos_train_full_df1 | pos_train_lit_based | pos_train_comp_based | pos_train_both_based | neg_train_df\n",
    "| # of Instances | 399845 | 11169 | 6874 | 6056 | 193133\n",
    "| # of Protiens  | 93894 | 2191 | 1203 | 1076 | 193133"
   ]
  },
  {
   "cell_type": "markdown",
   "id": "8e149b67",
   "metadata": {
    "papermill": {
     "duration": 0.073026,
     "end_time": "2022-08-08T10:56:24.397774",
     "exception": false,
     "start_time": "2022-08-08T10:56:24.324748",
     "status": "completed"
    },
    "tags": []
   },
   "source": [
    "By observing the last two charts and the summary dataset table, I have noticed the following:\n",
    "* Very high percentage of the instances supported by computer-prediction already has a literature based evidence (6056/6874), which explains why in the charts the green and red columns are almost identical. In my opinion, this makes computer-predicted instances even more useless.\n",
    "* In the Full_Pos_Train Dataset, there are five other evidences (other than literature and computer predictions), which explains the huge size of the dataset when compared to the aggregate of the literature based and computer-predict based. No documentation is provided by uniprot for the other evidences.\n",
    "* Ca (+2) presence is interesting to observe when comparing the complete dataset with other subsets. It appears to be more abandunt or well annotated.\n",
    "* Again, all amino acids except \"C\" have expressed consistent distribution across all datasets.\n",
    "* All metals except Ca(+2), Mg(+2), [4Fe-4S] type also have consistent distribution across all datasets.\n"
   ]
  },
  {
   "cell_type": "markdown",
   "id": "ffbb2d05",
   "metadata": {
    "papermill": {
     "duration": 0.074541,
     "end_time": "2022-08-08T10:56:24.545252",
     "exception": false,
     "start_time": "2022-08-08T10:56:24.470711",
     "status": "completed"
    },
    "tags": []
   },
   "source": [
    "# Exploring datasets by amino acids types (charged, polar, amphipathic, hydrophobic)"
   ]
  },
  {
   "cell_type": "code",
   "execution_count": 110,
   "id": "7d917369",
   "metadata": {
    "execution": {
     "iopub.execute_input": "2022-08-08T10:56:24.698781Z",
     "iopub.status.busy": "2022-08-08T10:56:24.698257Z",
     "iopub.status.idle": "2022-08-08T10:56:24.709918Z",
     "shell.execute_reply": "2022-08-08T10:56:24.708942Z"
    },
    "papermill": {
     "duration": 0.091543,
     "end_time": "2022-08-08T10:56:24.712416",
     "exception": false,
     "start_time": "2022-08-08T10:56:24.620873",
     "status": "completed"
    },
    "tags": []
   },
   "outputs": [],
   "source": [
    "amino_acids_types = {'charged': ['R','K','D','E'], 'polar':['Q','N','H','S','T','Y','C'],\n",
    "               'amphipathic':['W','Y','M'], 'hydrophobic':['A','I','L','M','F','V','P','G']}\n",
    "\n",
    "# function to explore any dataset by types\n",
    "def metals_percent_by_types(df):\n",
    "    counts_df = pd.DataFrame()\n",
    "    for type in amino_acids_types:\n",
    "        subset = df[df['binding_amino_acid'].isin(amino_acids_types[type])]\n",
    "        counts = subset['metal_name'].value_counts()\n",
    "        counts_df[type] = counts\n",
    "    counts_df = (counts_df.div(counts_df.sum(axis=1), axis=0)*100).reset_index().rename(columns={'index':'metal_name'})\n",
    "    \n",
    "    #testing that all rows add up to 100 percent\n",
    "    #counts_df['sum'] = counts_df.sum(axis = 1)\n",
    "    counts_df.plot(y=['charged','polar','amphipathic','hydrophobic'] , x='metal_name', kind=\"bar\", xlabel= 'Metals ', ylabel= \"Percentage (%)\")\n",
    "\n",
    "    return counts_df\n",
    "# function to explore the distribution of amino acids in types\n",
    "def type_dist(df):\n",
    "    counts_df = pd.DataFrame()\n",
    "    for type in amino_acids_types:\n",
    "        subset = df[df['binding_amino_acid'].isin(amino_acids_types[type])]\n",
    "        counts = subset['metal_name'].value_counts()\n",
    "        counts_df[type] = counts\n",
    "    counts_df = counts_df.reset_index().rename(columns={'index':'metal_name'})\n",
    "    counts_df = pd.DataFrame(counts_df.sum())\n",
    "    counts_df = counts_df.drop(counts_df.index[[0]]).rename(columns={counts_df.columns[0]:'counts'})\n",
    "    counts_df['%'] = counts_df['counts']/counts_df['counts'].sum()*100\n",
    "    #counts_df.plot.pie(y='counts')\n",
    "    return counts_df"
   ]
  },
  {
   "cell_type": "code",
   "execution_count": 111,
   "id": "e961903d",
   "metadata": {
    "execution": {
     "iopub.execute_input": "2022-08-08T10:56:24.865055Z",
     "iopub.status.busy": "2022-08-08T10:56:24.864650Z",
     "iopub.status.idle": "2022-08-08T10:56:24.892767Z",
     "shell.execute_reply": "2022-08-08T10:56:24.891595Z"
    },
    "papermill": {
     "duration": 0.108169,
     "end_time": "2022-08-08T10:56:24.895318",
     "exception": false,
     "start_time": "2022-08-08T10:56:24.787149",
     "status": "completed"
    },
    "tags": []
   },
   "outputs": [
    {
     "data": {
      "text/html": [
       "<div>\n",
       "<style scoped>\n",
       "    .dataframe tbody tr th:only-of-type {\n",
       "        vertical-align: middle;\n",
       "    }\n",
       "\n",
       "    .dataframe tbody tr th {\n",
       "        vertical-align: top;\n",
       "    }\n",
       "\n",
       "    .dataframe thead th {\n",
       "        text-align: right;\n",
       "    }\n",
       "</style>\n",
       "<table border=\"1\" class=\"dataframe\">\n",
       "  <thead>\n",
       "    <tr style=\"text-align: right;\">\n",
       "      <th></th>\n",
       "      <th>counts</th>\n",
       "      <th>%</th>\n",
       "    </tr>\n",
       "  </thead>\n",
       "  <tbody>\n",
       "    <tr>\n",
       "      <th>charged</th>\n",
       "      <td>4181</td>\n",
       "      <td>37.874808</td>\n",
       "    </tr>\n",
       "    <tr>\n",
       "      <th>polar</th>\n",
       "      <td>6036</td>\n",
       "      <td>54.678866</td>\n",
       "    </tr>\n",
       "    <tr>\n",
       "      <th>amphipathic</th>\n",
       "      <td>223.0</td>\n",
       "      <td>2.020111</td>\n",
       "    </tr>\n",
       "    <tr>\n",
       "      <th>hydrophobic</th>\n",
       "      <td>599.0</td>\n",
       "      <td>5.426216</td>\n",
       "    </tr>\n",
       "  </tbody>\n",
       "</table>\n",
       "</div>"
      ],
      "text/plain": [
       "            counts          %\n",
       "charged       4181  37.874808\n",
       "polar         6036  54.678866\n",
       "amphipathic  223.0   2.020111\n",
       "hydrophobic  599.0   5.426216"
      ]
     },
     "execution_count": 111,
     "metadata": {},
     "output_type": "execute_result"
    }
   ],
   "source": [
    "# explore the distribution of amino acids in types in Literature Based Dataset\n",
    "type_dist(pos_train_lit_based)"
   ]
  },
  {
   "cell_type": "code",
   "execution_count": 112,
   "id": "86c3c6f9",
   "metadata": {
    "execution": {
     "iopub.execute_input": "2022-08-08T10:56:25.046618Z",
     "iopub.status.busy": "2022-08-08T10:56:25.046184Z",
     "iopub.status.idle": "2022-08-08T10:56:25.235280Z",
     "shell.execute_reply": "2022-08-08T10:56:25.233720Z"
    },
    "papermill": {
     "duration": 0.268072,
     "end_time": "2022-08-08T10:56:25.237946",
     "exception": false,
     "start_time": "2022-08-08T10:56:24.969874",
     "status": "completed"
    },
    "tags": []
   },
   "outputs": [
    {
     "data": {
      "text/html": [
       "<div>\n",
       "<style scoped>\n",
       "    .dataframe tbody tr th:only-of-type {\n",
       "        vertical-align: middle;\n",
       "    }\n",
       "\n",
       "    .dataframe tbody tr th {\n",
       "        vertical-align: top;\n",
       "    }\n",
       "\n",
       "    .dataframe thead th {\n",
       "        text-align: right;\n",
       "    }\n",
       "</style>\n",
       "<table border=\"1\" class=\"dataframe\">\n",
       "  <thead>\n",
       "    <tr style=\"text-align: right;\">\n",
       "      <th></th>\n",
       "      <th>counts</th>\n",
       "      <th>%</th>\n",
       "    </tr>\n",
       "  </thead>\n",
       "  <tbody>\n",
       "    <tr>\n",
       "      <th>charged</th>\n",
       "      <td>142679</td>\n",
       "      <td>35.73246</td>\n",
       "    </tr>\n",
       "    <tr>\n",
       "      <th>polar</th>\n",
       "      <td>243693.0</td>\n",
       "      <td>61.030358</td>\n",
       "    </tr>\n",
       "    <tr>\n",
       "      <th>amphipathic</th>\n",
       "      <td>2673.0</td>\n",
       "      <td>0.669425</td>\n",
       "    </tr>\n",
       "    <tr>\n",
       "      <th>hydrophobic</th>\n",
       "      <td>10253.0</td>\n",
       "      <td>2.567756</td>\n",
       "    </tr>\n",
       "  </tbody>\n",
       "</table>\n",
       "</div>"
      ],
      "text/plain": [
       "               counts          %\n",
       "charged        142679   35.73246\n",
       "polar        243693.0  61.030358\n",
       "amphipathic    2673.0   0.669425\n",
       "hydrophobic   10253.0   2.567756"
      ]
     },
     "execution_count": 112,
     "metadata": {},
     "output_type": "execute_result"
    }
   ],
   "source": [
    "# explore the distribution of amino acids in types in Literature Based Dataset\n",
    "type_dist(pos_train_full_df1)"
   ]
  },
  {
   "cell_type": "code",
   "execution_count": 113,
   "id": "e3915d2d",
   "metadata": {
    "execution": {
     "iopub.execute_input": "2022-08-08T10:56:25.387579Z",
     "iopub.status.busy": "2022-08-08T10:56:25.387176Z",
     "iopub.status.idle": "2022-08-08T10:56:25.848360Z",
     "shell.execute_reply": "2022-08-08T10:56:25.847148Z"
    },
    "papermill": {
     "duration": 0.539734,
     "end_time": "2022-08-08T10:56:25.851174",
     "exception": false,
     "start_time": "2022-08-08T10:56:25.311440",
     "status": "completed"
    },
    "tags": []
   },
   "outputs": [
    {
     "data": {
      "text/html": [
       "<div>\n",
       "<style scoped>\n",
       "    .dataframe tbody tr th:only-of-type {\n",
       "        vertical-align: middle;\n",
       "    }\n",
       "\n",
       "    .dataframe tbody tr th {\n",
       "        vertical-align: top;\n",
       "    }\n",
       "\n",
       "    .dataframe thead th {\n",
       "        text-align: right;\n",
       "    }\n",
       "</style>\n",
       "<table border=\"1\" class=\"dataframe\">\n",
       "  <thead>\n",
       "    <tr style=\"text-align: right;\">\n",
       "      <th></th>\n",
       "      <th>metal_name</th>\n",
       "      <th>charged</th>\n",
       "      <th>polar</th>\n",
       "      <th>amphipathic</th>\n",
       "      <th>hydrophobic</th>\n",
       "    </tr>\n",
       "  </thead>\n",
       "  <tbody>\n",
       "    <tr>\n",
       "      <th>0</th>\n",
       "      <td>Ca(2+)</td>\n",
       "      <td>59.400353</td>\n",
       "      <td>23.456790</td>\n",
       "      <td>4.303351</td>\n",
       "      <td>12.839506</td>\n",
       "    </tr>\n",
       "    <tr>\n",
       "      <th>1</th>\n",
       "      <td>Mg(2+)</td>\n",
       "      <td>73.847213</td>\n",
       "      <td>18.031659</td>\n",
       "      <td>1.101170</td>\n",
       "      <td>7.019959</td>\n",
       "    </tr>\n",
       "    <tr>\n",
       "      <th>2</th>\n",
       "      <td>Zn(2+)</td>\n",
       "      <td>15.697346</td>\n",
       "      <td>84.105025</td>\n",
       "      <td>0.112931</td>\n",
       "      <td>0.084698</td>\n",
       "    </tr>\n",
       "    <tr>\n",
       "      <th>3</th>\n",
       "      <td>Mn(2+)</td>\n",
       "      <td>57.975035</td>\n",
       "      <td>39.251040</td>\n",
       "      <td>0.277393</td>\n",
       "      <td>2.496533</td>\n",
       "    </tr>\n",
       "    <tr>\n",
       "      <th>4</th>\n",
       "      <td>Fe cation</td>\n",
       "      <td>30.670927</td>\n",
       "      <td>66.134185</td>\n",
       "      <td>2.236422</td>\n",
       "      <td>0.958466</td>\n",
       "    </tr>\n",
       "    <tr>\n",
       "      <th>5</th>\n",
       "      <td>a divalent metal cation</td>\n",
       "      <td>33.796296</td>\n",
       "      <td>64.120370</td>\n",
       "      <td>0.925926</td>\n",
       "      <td>1.157407</td>\n",
       "    </tr>\n",
       "    <tr>\n",
       "      <th>6</th>\n",
       "      <td>Na(+)</td>\n",
       "      <td>37.179487</td>\n",
       "      <td>30.769231</td>\n",
       "      <td>5.128205</td>\n",
       "      <td>26.923077</td>\n",
       "    </tr>\n",
       "    <tr>\n",
       "      <th>7</th>\n",
       "      <td>Fe(3+)</td>\n",
       "      <td>19.811321</td>\n",
       "      <td>57.547170</td>\n",
       "      <td>22.641509</td>\n",
       "      <td>NaN</td>\n",
       "    </tr>\n",
       "    <tr>\n",
       "      <th>8</th>\n",
       "      <td>K(+)</td>\n",
       "      <td>17.857143</td>\n",
       "      <td>35.714286</td>\n",
       "      <td>1.785714</td>\n",
       "      <td>44.642857</td>\n",
       "    </tr>\n",
       "    <tr>\n",
       "      <th>9</th>\n",
       "      <td>Co(2+)</td>\n",
       "      <td>38.888889</td>\n",
       "      <td>61.111111</td>\n",
       "      <td>NaN</td>\n",
       "      <td>NaN</td>\n",
       "    </tr>\n",
       "    <tr>\n",
       "      <th>10</th>\n",
       "      <td>Ni(2+)</td>\n",
       "      <td>23.076923</td>\n",
       "      <td>73.076923</td>\n",
       "      <td>1.923077</td>\n",
       "      <td>1.923077</td>\n",
       "    </tr>\n",
       "    <tr>\n",
       "      <th>11</th>\n",
       "      <td>Cu cation</td>\n",
       "      <td>1.262626</td>\n",
       "      <td>84.343434</td>\n",
       "      <td>7.323232</td>\n",
       "      <td>7.070707</td>\n",
       "    </tr>\n",
       "    <tr>\n",
       "      <th>12</th>\n",
       "      <td>Cd(2+)</td>\n",
       "      <td>15.625000</td>\n",
       "      <td>84.375000</td>\n",
       "      <td>NaN</td>\n",
       "      <td>NaN</td>\n",
       "    </tr>\n",
       "    <tr>\n",
       "      <th>13</th>\n",
       "      <td>[4Fe-4S] cluster</td>\n",
       "      <td>0.496689</td>\n",
       "      <td>99.172185</td>\n",
       "      <td>0.165563</td>\n",
       "      <td>0.165563</td>\n",
       "    </tr>\n",
       "    <tr>\n",
       "      <th>14</th>\n",
       "      <td>Fe(2+)</td>\n",
       "      <td>21.428571</td>\n",
       "      <td>78.571429</td>\n",
       "      <td>NaN</td>\n",
       "      <td>NaN</td>\n",
       "    </tr>\n",
       "  </tbody>\n",
       "</table>\n",
       "</div>"
      ],
      "text/plain": [
       "                 metal_name    charged      polar  amphipathic  hydrophobic\n",
       "0                    Ca(2+)  59.400353  23.456790     4.303351    12.839506\n",
       "1                    Mg(2+)  73.847213  18.031659     1.101170     7.019959\n",
       "2                    Zn(2+)  15.697346  84.105025     0.112931     0.084698\n",
       "3                    Mn(2+)  57.975035  39.251040     0.277393     2.496533\n",
       "4                 Fe cation  30.670927  66.134185     2.236422     0.958466\n",
       "5   a divalent metal cation  33.796296  64.120370     0.925926     1.157407\n",
       "6                     Na(+)  37.179487  30.769231     5.128205    26.923077\n",
       "7                    Fe(3+)  19.811321  57.547170    22.641509          NaN\n",
       "8                      K(+)  17.857143  35.714286     1.785714    44.642857\n",
       "9                    Co(2+)  38.888889  61.111111          NaN          NaN\n",
       "10                   Ni(2+)  23.076923  73.076923     1.923077     1.923077\n",
       "11                Cu cation   1.262626  84.343434     7.323232     7.070707\n",
       "12                   Cd(2+)  15.625000  84.375000          NaN          NaN\n",
       "13         [4Fe-4S] cluster   0.496689  99.172185     0.165563     0.165563\n",
       "14                   Fe(2+)  21.428571  78.571429          NaN          NaN"
      ]
     },
     "execution_count": 113,
     "metadata": {},
     "output_type": "execute_result"
    },
    {
     "data": {
      "image/png": "[encoded data removed]",
      "text/plain": [
       "<Figure size 842.4x595.44 with 1 Axes>"
      ]
     },
     "metadata": {},
     "output_type": "display_data"
    }
   ],
   "source": [
    "# Exploring Metal Percentages in Literature Dataset\n",
    "metals_percent_by_types(pos_train_lit_based)"
   ]
  },
  {
   "cell_type": "code",
   "execution_count": 114,
   "id": "b6debc5a",
   "metadata": {
    "execution": {
     "iopub.execute_input": "2022-08-08T10:56:26.006595Z",
     "iopub.status.busy": "2022-08-08T10:56:26.005456Z",
     "iopub.status.idle": "2022-08-08T10:56:26.620974Z",
     "shell.execute_reply": "2022-08-08T10:56:26.619811Z"
    },
    "papermill": {
     "duration": 0.695296,
     "end_time": "2022-08-08T10:56:26.623642",
     "exception": false,
     "start_time": "2022-08-08T10:56:25.928346",
     "status": "completed"
    },
    "tags": []
   },
   "outputs": [
    {
     "data": {
      "text/html": [
       "<div>\n",
       "<style scoped>\n",
       "    .dataframe tbody tr th:only-of-type {\n",
       "        vertical-align: middle;\n",
       "    }\n",
       "\n",
       "    .dataframe tbody tr th {\n",
       "        vertical-align: top;\n",
       "    }\n",
       "\n",
       "    .dataframe thead th {\n",
       "        text-align: right;\n",
       "    }\n",
       "</style>\n",
       "<table border=\"1\" class=\"dataframe\">\n",
       "  <thead>\n",
       "    <tr style=\"text-align: right;\">\n",
       "      <th></th>\n",
       "      <th>metal_name</th>\n",
       "      <th>charged</th>\n",
       "      <th>polar</th>\n",
       "      <th>amphipathic</th>\n",
       "      <th>hydrophobic</th>\n",
       "    </tr>\n",
       "  </thead>\n",
       "  <tbody>\n",
       "    <tr>\n",
       "      <th>0</th>\n",
       "      <td>Mg(2+)</td>\n",
       "      <td>78.404704</td>\n",
       "      <td>18.394320</td>\n",
       "      <td>0.258471</td>\n",
       "      <td>2.942504</td>\n",
       "    </tr>\n",
       "    <tr>\n",
       "      <th>1</th>\n",
       "      <td>Ca(2+)</td>\n",
       "      <td>64.603630</td>\n",
       "      <td>22.491469</td>\n",
       "      <td>3.422185</td>\n",
       "      <td>9.482716</td>\n",
       "    </tr>\n",
       "    <tr>\n",
       "      <th>2</th>\n",
       "      <td>Zn(2+)</td>\n",
       "      <td>11.460149</td>\n",
       "      <td>88.422147</td>\n",
       "      <td>0.100125</td>\n",
       "      <td>0.017579</td>\n",
       "    </tr>\n",
       "    <tr>\n",
       "      <th>3</th>\n",
       "      <td>Mn(2+)</td>\n",
       "      <td>59.437879</td>\n",
       "      <td>38.604736</td>\n",
       "      <td>0.045627</td>\n",
       "      <td>1.911758</td>\n",
       "    </tr>\n",
       "    <tr>\n",
       "      <th>4</th>\n",
       "      <td>a divalent metal cation</td>\n",
       "      <td>51.687598</td>\n",
       "      <td>47.348060</td>\n",
       "      <td>0.229872</td>\n",
       "      <td>0.734470</td>\n",
       "    </tr>\n",
       "    <tr>\n",
       "      <th>5</th>\n",
       "      <td>Fe cation</td>\n",
       "      <td>29.755056</td>\n",
       "      <td>68.874918</td>\n",
       "      <td>0.948935</td>\n",
       "      <td>0.421090</td>\n",
       "    </tr>\n",
       "    <tr>\n",
       "      <th>6</th>\n",
       "      <td>K(+)</td>\n",
       "      <td>26.602254</td>\n",
       "      <td>41.159420</td>\n",
       "      <td>0.418680</td>\n",
       "      <td>31.819646</td>\n",
       "    </tr>\n",
       "    <tr>\n",
       "      <th>7</th>\n",
       "      <td>Ni(2+)</td>\n",
       "      <td>23.010432</td>\n",
       "      <td>76.900149</td>\n",
       "      <td>0.059613</td>\n",
       "      <td>0.029806</td>\n",
       "    </tr>\n",
       "    <tr>\n",
       "      <th>8</th>\n",
       "      <td>[2Fe-2S] cluster</td>\n",
       "      <td>6.366018</td>\n",
       "      <td>93.588430</td>\n",
       "      <td>NaN</td>\n",
       "      <td>0.045553</td>\n",
       "    </tr>\n",
       "    <tr>\n",
       "      <th>9</th>\n",
       "      <td>[4Fe-4S] cluster</td>\n",
       "      <td>1.082382</td>\n",
       "      <td>98.913703</td>\n",
       "      <td>0.001957</td>\n",
       "      <td>0.001957</td>\n",
       "    </tr>\n",
       "    <tr>\n",
       "      <th>10</th>\n",
       "      <td>Fe(3+)</td>\n",
       "      <td>23.469994</td>\n",
       "      <td>69.756387</td>\n",
       "      <td>6.773619</td>\n",
       "      <td>NaN</td>\n",
       "    </tr>\n",
       "    <tr>\n",
       "      <th>11</th>\n",
       "      <td>Cu cation</td>\n",
       "      <td>4.194459</td>\n",
       "      <td>82.337096</td>\n",
       "      <td>7.234479</td>\n",
       "      <td>6.233966</td>\n",
       "    </tr>\n",
       "    <tr>\n",
       "      <th>12</th>\n",
       "      <td>Na(+)</td>\n",
       "      <td>11.458813</td>\n",
       "      <td>55.867464</td>\n",
       "      <td>0.506213</td>\n",
       "      <td>32.167510</td>\n",
       "    </tr>\n",
       "    <tr>\n",
       "      <th>13</th>\n",
       "      <td>Fe(2+)</td>\n",
       "      <td>30.195599</td>\n",
       "      <td>69.804401</td>\n",
       "      <td>NaN</td>\n",
       "      <td>NaN</td>\n",
       "    </tr>\n",
       "    <tr>\n",
       "      <th>14</th>\n",
       "      <td>Co(2+)</td>\n",
       "      <td>30.046948</td>\n",
       "      <td>69.953052</td>\n",
       "      <td>NaN</td>\n",
       "      <td>NaN</td>\n",
       "    </tr>\n",
       "    <tr>\n",
       "      <th>15</th>\n",
       "      <td>Li(+)</td>\n",
       "      <td>100.000000</td>\n",
       "      <td>NaN</td>\n",
       "      <td>NaN</td>\n",
       "      <td>NaN</td>\n",
       "    </tr>\n",
       "    <tr>\n",
       "      <th>16</th>\n",
       "      <td>Cd(2+)</td>\n",
       "      <td>1.492537</td>\n",
       "      <td>98.507463</td>\n",
       "      <td>NaN</td>\n",
       "      <td>NaN</td>\n",
       "    </tr>\n",
       "    <tr>\n",
       "      <th>17</th>\n",
       "      <td>Cu(+)</td>\n",
       "      <td>0.288184</td>\n",
       "      <td>99.711816</td>\n",
       "      <td>NaN</td>\n",
       "      <td>NaN</td>\n",
       "    </tr>\n",
       "  </tbody>\n",
       "</table>\n",
       "</div>"
      ],
      "text/plain": [
       "                 metal_name     charged      polar  amphipathic  hydrophobic\n",
       "0                    Mg(2+)   78.404704  18.394320     0.258471     2.942504\n",
       "1                    Ca(2+)   64.603630  22.491469     3.422185     9.482716\n",
       "2                    Zn(2+)   11.460149  88.422147     0.100125     0.017579\n",
       "3                    Mn(2+)   59.437879  38.604736     0.045627     1.911758\n",
       "4   a divalent metal cation   51.687598  47.348060     0.229872     0.734470\n",
       "5                 Fe cation   29.755056  68.874918     0.948935     0.421090\n",
       "6                      K(+)   26.602254  41.159420     0.418680    31.819646\n",
       "7                    Ni(2+)   23.010432  76.900149     0.059613     0.029806\n",
       "8          [2Fe-2S] cluster    6.366018  93.588430          NaN     0.045553\n",
       "9          [4Fe-4S] cluster    1.082382  98.913703     0.001957     0.001957\n",
       "10                   Fe(3+)   23.469994  69.756387     6.773619          NaN\n",
       "11                Cu cation    4.194459  82.337096     7.234479     6.233966\n",
       "12                    Na(+)   11.458813  55.867464     0.506213    32.167510\n",
       "13                   Fe(2+)   30.195599  69.804401          NaN          NaN\n",
       "14                   Co(2+)   30.046948  69.953052          NaN          NaN\n",
       "15                    Li(+)  100.000000        NaN          NaN          NaN\n",
       "16                   Cd(2+)    1.492537  98.507463          NaN          NaN\n",
       "17                    Cu(+)    0.288184  99.711816          NaN          NaN"
      ]
     },
     "execution_count": 114,
     "metadata": {},
     "output_type": "execute_result"
    },
    {
     "data": {
      "image/png": "[encoded data removed]",
      "text/plain": [
       "<Figure size 842.4x595.44 with 1 Axes>"
      ]
     },
     "metadata": {},
     "output_type": "display_data"
    }
   ],
   "source": [
    "# Exploring Metal Percentages in  full train dataset\n",
    "metals_percent_by_types(pos_train_full_df1)"
   ]
  },
  {
   "cell_type": "markdown",
   "id": "2c2f0c25",
   "metadata": {
    "papermill": {
     "duration": 0.07589,
     "end_time": "2022-08-08T10:56:26.777473",
     "exception": false,
     "start_time": "2022-08-08T10:56:26.701583",
     "status": "completed"
    },
    "tags": []
   },
   "source": [
    "**Key Findings:**\n",
    "* Polar and Charged types represent the majority of instances in the data with percentages exceeding 80% for both datasets.\n",
    "* Hydrophoic type is more likely to bind to K(+), Na(+), Ca(2+), Mg(2+) respectively.\n",
    "* Both Datasets share the insight that amphipathic and hydrophopic types do not bind to Co(2+), Fe(2+), Cd(2+) \n",
    "* In literture-based dataset, although amphipathic type has small presentage, but it is more likely to bind to Fe(3+), Cu cation, and Ca(2+)"
   ]
  }
 ],
 "metadata": {
  "kernelspec": {
   "display_name": "Python 3.9.5 64-bit",
   "language": "python",
   "name": "python3"
  },
  "language_info": {
   "codemirror_mode": {
    "name": "ipython",
    "version": 3
   },
   "file_extension": ".py",
   "mimetype": "text/x-python",
   "name": "python",
   "nbconvert_exporter": "python",
   "pygments_lexer": "ipython3",
   "version": "3.9.5"
  },
  "papermill": {
   "default_parameters": {},
   "duration": 159.538417,
   "end_time": "2022-08-08T10:56:27.981481",
   "environment_variables": {},
   "exception": null,
   "input_path": "__notebook__.ipynb",
   "output_path": "__notebook__.ipynb",
   "parameters": {},
   "start_time": "2022-08-08T10:53:48.443064",
   "version": "2.3.4"
  },
  "vscode": {
   "interpreter": {
    "hash": "aee8b7b246df8f9039afb4144a1f6fd8d2ca17a180786b69acc140d282b71a49"
   }
  }
 },
 "nbformat": 4,
 "nbformat_minor": 5
}
