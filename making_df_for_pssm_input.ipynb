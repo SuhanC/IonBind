{
 "cells": [
  {
   "cell_type": "code",
   "execution_count": 12,
   "metadata": {},
   "outputs": [],
   "source": [
    "import pandas as pd\n",
    "import os\n",
    "from tqdm import tqdm"
   ]
  },
  {
   "cell_type": "code",
   "execution_count": 2,
   "metadata": {},
   "outputs": [],
   "source": [
    "datpath = '/Users/suhancho/data/Uniprot_metalbinding_challenge/'"
   ]
  },
  {
   "cell_type": "code",
   "execution_count": 23,
   "metadata": {},
   "outputs": [
    {
     "name": "stderr",
     "output_type": "stream",
     "text": [
      "100%|██████████| 93894/93894 [01:20<00:00, 1171.41it/s]\n",
      "100%|██████████| 193133/193133 [02:27<00:00, 1307.41it/s]\n"
     ]
    }
   ],
   "source": [
    "df_lst=[]\n",
    "for seqs in ['pos_sequence','neg_sequence']:\n",
    "    files = [datpath+'/'+seqs+'/'+f for f in os.listdir(datpath+'/'+seqs)]\n",
    "    for f in tqdm(files) : \n",
    "        df_tmp = pd.read_table(f,header = None)\n",
    "        df_tmp['Protein name'] = f.split('/')[-1].split('.')[0]\n",
    "        df_tmp['Type'] = seqs\n",
    "        df_lst.append(df_tmp)"
   ]
  },
  {
   "cell_type": "code",
   "execution_count": 25,
   "metadata": {},
   "outputs": [],
   "source": [
    "df = pd.concat(df_lst)\n",
    "df.columns = ['Protein sequence','Protein name','Type']\n",
    "df.to_csv(datpath+'sequence_df.tsv',sep='\\t')"
   ]
  }
 ],
 "metadata": {
  "kernelspec": {
   "display_name": "Python 3.8.13 ('ionbind')",
   "language": "python",
   "name": "python3"
  },
  "language_info": {
   "codemirror_mode": {
    "name": "ipython",
    "version": 3
   },
   "file_extension": ".py",
   "mimetype": "text/x-python",
   "name": "python",
   "nbconvert_exporter": "python",
   "pygments_lexer": "ipython3",
   "version": "3.8.13"
  },
  "orig_nbformat": 4,
  "vscode": {
   "interpreter": {
    "hash": "af0642607111ca351c6f6bb1cc2d58e3175d3516a5920016d2f0a967d99ecd99"
   }
  }
 },
 "nbformat": 4,
 "nbformat_minor": 2
}
