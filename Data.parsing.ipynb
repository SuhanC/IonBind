{
 "cells": [
  {
   "cell_type": "code",
   "execution_count": 1,
   "metadata": {},
   "outputs": [],
   "source": [
    "import pandas as pd\n",
    "import numpy as np\n",
    "import os\n",
    "import seaborn as sns"
   ]
  },
  {
   "cell_type": "code",
   "execution_count": 2,
   "metadata": {},
   "outputs": [],
   "source": [
    "datpath = '/Users/suhancho/data/Uniprot_metalbinding_challenge/'"
   ]
  },
  {
   "cell_type": "code",
   "execution_count": 3,
   "metadata": {},
   "outputs": [
    {
     "data": {
      "text/plain": [
       "['POS_TRAIN.fasta',\n",
       " '.DS_Store',\n",
       " 'NEG_TRAIN.fasta',\n",
       " 'neg_sequence',\n",
       " 'pos_sequence',\n",
       " 'POS_TRAIN_FULL.fasta',\n",
       " 'POS_TRAIN_FULL.tsv',\n",
       " 'POS_TRAIN.tsv',\n",
       " 'ChEBI-IDs_for_metal_binding.tsv',\n",
       " 'test-dataset.fasta',\n",
       " 'UniProt Metal Binding Site Challenge.docx',\n",
       " 'wget-log']"
      ]
     },
     "execution_count": 3,
     "metadata": {},
     "output_type": "execute_result"
    }
   ],
   "source": [
    "os.listdir(datpath)"
   ]
  },
  {
   "cell_type": "code",
   "execution_count": 4,
   "metadata": {},
   "outputs": [],
   "source": [
    "train_pos = pd.read_table(datpath+'POS_TRAIN_FULL.tsv')"
   ]
  },
  {
   "cell_type": "code",
   "execution_count": 5,
   "metadata": {},
   "outputs": [],
   "source": [
    "chebi = pd.read_table(datpath+'ChEBI-IDs_for_metal_binding.tsv')"
   ]
  },
  {
   "cell_type": "code",
   "execution_count": 6,
   "metadata": {},
   "outputs": [],
   "source": [
    "def save_separate_fasta(my_file,outpath):\n",
    "    header = ''\n",
    "    with open(my_file, 'r') as my_gpcr:\n",
    "        for line in my_gpcr:\n",
    "            if line.startswith('>'):\n",
    "                if header:\n",
    "                    tempf.close()\n",
    "                    print()\n",
    "                header = line.split('|')[1]\n",
    "                tempf = open(outpath+header+'.fasta', 'w')\n",
    "            else:\n",
    "                tempf.write(line.strip())\n",
    "    return 0"
   ]
  },
  {
   "cell_type": "code",
   "execution_count": 7,
   "metadata": {},
   "outputs": [],
   "source": [
    "def get_separate_fasta_length(my_file):\n",
    "    header = ''\n",
    "    len_seq =[]\n",
    "\n",
    "    with open(my_file, 'r') as my_gpcr:\n",
    "        for line in my_gpcr:\n",
    "            tempf=''\n",
    "            if line.startswith('>'):\n",
    "                if header:\n",
    "                    pass\n",
    "                header = line.split('|')[1]\n",
    "            else:\n",
    "                tempf+=line.strip()\n",
    "            \n",
    "            len_seq.append([header,len(tempf)])\n",
    "    len_seq = pd.DataFrame(len_seq)\n",
    "    len_seq.columns = ['Accession','Length']\n",
    "    len_seq = len_seq.groupby('Accession').sum().reset_index()\n",
    "    len_seq = len_seq.sort_values('Length').reset_index(drop = True)\n",
    "    return (len_seq)"
   ]
  },
  {
   "cell_type": "code",
   "execution_count": 8,
   "metadata": {},
   "outputs": [],
   "source": [
    "# pos = get_separate_fasta_length(datpath+'POS_TRAIN_FULL.fasta')"
   ]
  },
  {
   "cell_type": "code",
   "execution_count": 9,
   "metadata": {},
   "outputs": [
    {
     "data": {
      "text/html": [
       "<div>\n",
       "<style scoped>\n",
       "    .dataframe tbody tr th:only-of-type {\n",
       "        vertical-align: middle;\n",
       "    }\n",
       "\n",
       "    .dataframe tbody tr th {\n",
       "        vertical-align: top;\n",
       "    }\n",
       "\n",
       "    .dataframe thead th {\n",
       "        text-align: right;\n",
       "    }\n",
       "</style>\n",
       "<table border=\"1\" class=\"dataframe\">\n",
       "  <thead>\n",
       "    <tr style=\"text-align: right;\">\n",
       "      <th></th>\n",
       "      <th>Accession</th>\n",
       "      <th>Evidence</th>\n",
       "      <th>ChEBI-ID</th>\n",
       "      <th>Position</th>\n",
       "    </tr>\n",
       "  </thead>\n",
       "  <tbody>\n",
       "    <tr>\n",
       "      <th>159880</th>\n",
       "      <td>Q03001</td>\n",
       "      <td>ECO:0000255</td>\n",
       "      <td>CHEBI:29108</td>\n",
       "      <td>7257</td>\n",
       "    </tr>\n",
       "    <tr>\n",
       "      <th>68188</th>\n",
       "      <td>Q03001</td>\n",
       "      <td>ECO:0000255</td>\n",
       "      <td>CHEBI:29108</td>\n",
       "      <td>7252</td>\n",
       "    </tr>\n",
       "    <tr>\n",
       "      <th>102078</th>\n",
       "      <td>Q03001</td>\n",
       "      <td>ECO:0000255</td>\n",
       "      <td>CHEBI:29108</td>\n",
       "      <td>7250</td>\n",
       "    </tr>\n",
       "    <tr>\n",
       "      <th>316823</th>\n",
       "      <td>Q03001</td>\n",
       "      <td>ECO:0000255</td>\n",
       "      <td>CHEBI:29108</td>\n",
       "      <td>7248</td>\n",
       "    </tr>\n",
       "    <tr>\n",
       "      <th>328306</th>\n",
       "      <td>Q03001</td>\n",
       "      <td>ECO:0000255</td>\n",
       "      <td>CHEBI:29108</td>\n",
       "      <td>7246</td>\n",
       "    </tr>\n",
       "    <tr>\n",
       "      <th>...</th>\n",
       "      <td>...</td>\n",
       "      <td>...</td>\n",
       "      <td>...</td>\n",
       "      <td>...</td>\n",
       "    </tr>\n",
       "    <tr>\n",
       "      <th>7345</th>\n",
       "      <td>Q46159</td>\n",
       "      <td>ECO:0000255</td>\n",
       "      <td>CHEBI:49883</td>\n",
       "      <td>1</td>\n",
       "    </tr>\n",
       "    <tr>\n",
       "      <th>216845</th>\n",
       "      <td>P40363</td>\n",
       "      <td>ECO:0000269</td>\n",
       "      <td>CHEBI:23378</td>\n",
       "      <td>1</td>\n",
       "    </tr>\n",
       "    <tr>\n",
       "      <th>47667</th>\n",
       "      <td>Q47948</td>\n",
       "      <td>ECO:0000255</td>\n",
       "      <td>CHEBI:49883</td>\n",
       "      <td>1</td>\n",
       "    </tr>\n",
       "    <tr>\n",
       "      <th>102459</th>\n",
       "      <td>P16293</td>\n",
       "      <td>ECO:0000250</td>\n",
       "      <td>CHEBI:29108</td>\n",
       "      <td>1</td>\n",
       "    </tr>\n",
       "    <tr>\n",
       "      <th>402523</th>\n",
       "      <td>Q46158</td>\n",
       "      <td>ECO:0000255</td>\n",
       "      <td>CHEBI:49883</td>\n",
       "      <td>1</td>\n",
       "    </tr>\n",
       "  </tbody>\n",
       "</table>\n",
       "<p>409989 rows × 4 columns</p>\n",
       "</div>"
      ],
      "text/plain": [
       "       Accession     Evidence     ChEBI-ID  Position\n",
       "159880    Q03001  ECO:0000255  CHEBI:29108      7257\n",
       "68188     Q03001  ECO:0000255  CHEBI:29108      7252\n",
       "102078    Q03001  ECO:0000255  CHEBI:29108      7250\n",
       "316823    Q03001  ECO:0000255  CHEBI:29108      7248\n",
       "328306    Q03001  ECO:0000255  CHEBI:29108      7246\n",
       "...          ...          ...          ...       ...\n",
       "7345      Q46159  ECO:0000255  CHEBI:49883         1\n",
       "216845    P40363  ECO:0000269  CHEBI:23378         1\n",
       "47667     Q47948  ECO:0000255  CHEBI:49883         1\n",
       "102459    P16293  ECO:0000250  CHEBI:29108         1\n",
       "402523    Q46158  ECO:0000255  CHEBI:49883         1\n",
       "\n",
       "[409989 rows x 4 columns]"
      ]
     },
     "execution_count": 9,
     "metadata": {},
     "output_type": "execute_result"
    }
   ],
   "source": [
    "train_pos.sort_values('Position')[::-1]"
   ]
  },
  {
   "cell_type": "code",
   "execution_count": 10,
   "metadata": {},
   "outputs": [],
   "source": [
    "# test = open(datpath+'/pos_sequence/P0C6X2.fasta','r').readlines()\n",
    "# my_file = datpath+'NEG_TRAIN.fasta'\n",
    "# outpath = datpath+'/neg_sequence/'\n",
    "# save_separate_fasta(my_file,outpath)   \n",
    "# my_file = datpath+'POS_TRAIN_FULL.fasta'\n",
    "# outpath = datpath+'/pos_sequence/'\n",
    "# save_separate_fasta(my_file,outpath)   "
   ]
  },
  {
   "cell_type": "code",
   "execution_count": 11,
   "metadata": {},
   "outputs": [
    {
     "data": {
      "text/html": [
       "<div>\n",
       "<style scoped>\n",
       "    .dataframe tbody tr th:only-of-type {\n",
       "        vertical-align: middle;\n",
       "    }\n",
       "\n",
       "    .dataframe tbody tr th {\n",
       "        vertical-align: top;\n",
       "    }\n",
       "\n",
       "    .dataframe thead th {\n",
       "        text-align: right;\n",
       "    }\n",
       "</style>\n",
       "<table border=\"1\" class=\"dataframe\">\n",
       "  <thead>\n",
       "    <tr style=\"text-align: right;\">\n",
       "      <th></th>\n",
       "      <th>Accession</th>\n",
       "      <th>Evidence</th>\n",
       "      <th>ChEBI-ID</th>\n",
       "      <th>Position</th>\n",
       "    </tr>\n",
       "  </thead>\n",
       "  <tbody>\n",
       "    <tr>\n",
       "      <th>1417</th>\n",
       "      <td>A0A023GPI8</td>\n",
       "      <td>ECO:0000269</td>\n",
       "      <td>CHEBI:29108</td>\n",
       "      <td>19</td>\n",
       "    </tr>\n",
       "    <tr>\n",
       "      <th>78292</th>\n",
       "      <td>A0A023GPI8</td>\n",
       "      <td>ECO:0000250</td>\n",
       "      <td>CHEBI:29108</td>\n",
       "      <td>208</td>\n",
       "    </tr>\n",
       "    <tr>\n",
       "      <th>125256</th>\n",
       "      <td>A0A023GPI8</td>\n",
       "      <td>ECO:0000269</td>\n",
       "      <td>CHEBI:29035</td>\n",
       "      <td>24</td>\n",
       "    </tr>\n",
       "    <tr>\n",
       "      <th>180476</th>\n",
       "      <td>A0A023GPI8</td>\n",
       "      <td>ECO:0000269</td>\n",
       "      <td>CHEBI:29035</td>\n",
       "      <td>19</td>\n",
       "    </tr>\n",
       "    <tr>\n",
       "      <th>239372</th>\n",
       "      <td>A0A023GPI8</td>\n",
       "      <td>ECO:0000269</td>\n",
       "      <td>CHEBI:29108</td>\n",
       "      <td>14</td>\n",
       "    </tr>\n",
       "    <tr>\n",
       "      <th>242994</th>\n",
       "      <td>A0A023GPI8</td>\n",
       "      <td>ECO:0000269</td>\n",
       "      <td>CHEBI:29108</td>\n",
       "      <td>12</td>\n",
       "    </tr>\n",
       "    <tr>\n",
       "      <th>291303</th>\n",
       "      <td>A0A023GPI8</td>\n",
       "      <td>ECO:0000269</td>\n",
       "      <td>CHEBI:29108</td>\n",
       "      <td>10</td>\n",
       "    </tr>\n",
       "    <tr>\n",
       "      <th>293849</th>\n",
       "      <td>A0A023GPI8</td>\n",
       "      <td>ECO:0000269</td>\n",
       "      <td>CHEBI:29035</td>\n",
       "      <td>10</td>\n",
       "    </tr>\n",
       "    <tr>\n",
       "      <th>293850</th>\n",
       "      <td>A0A023GPI8</td>\n",
       "      <td>ECO:0000269</td>\n",
       "      <td>CHEBI:29035</td>\n",
       "      <td>8</td>\n",
       "    </tr>\n",
       "  </tbody>\n",
       "</table>\n",
       "</div>"
      ],
      "text/plain": [
       "         Accession     Evidence     ChEBI-ID  Position\n",
       "1417    A0A023GPI8  ECO:0000269  CHEBI:29108        19\n",
       "78292   A0A023GPI8  ECO:0000250  CHEBI:29108       208\n",
       "125256  A0A023GPI8  ECO:0000269  CHEBI:29035        24\n",
       "180476  A0A023GPI8  ECO:0000269  CHEBI:29035        19\n",
       "239372  A0A023GPI8  ECO:0000269  CHEBI:29108        14\n",
       "242994  A0A023GPI8  ECO:0000269  CHEBI:29108        12\n",
       "291303  A0A023GPI8  ECO:0000269  CHEBI:29108        10\n",
       "293849  A0A023GPI8  ECO:0000269  CHEBI:29035        10\n",
       "293850  A0A023GPI8  ECO:0000269  CHEBI:29035         8"
      ]
     },
     "execution_count": 11,
     "metadata": {},
     "output_type": "execute_result"
    }
   ],
   "source": [
    "train_pos[train_pos.Accession=='A0A023GPI8']"
   ]
  }
 ],
 "metadata": {
  "kernelspec": {
   "display_name": "Python 3.9.13 ('base')",
   "language": "python",
   "name": "python3"
  },
  "language_info": {
   "codemirror_mode": {
    "name": "ipython",
    "version": 3
   },
   "file_extension": ".py",
   "mimetype": "text/x-python",
   "name": "python",
   "nbconvert_exporter": "python",
   "pygments_lexer": "ipython3",
   "version": "3.9.13"
  },
  "orig_nbformat": 4,
  "vscode": {
   "interpreter": {
    "hash": "ee267b7c4590c1a749889590dc3d70c900280592ba44a2100f93954512298989"
   }
  }
 },
 "nbformat": 4,
 "nbformat_minor": 2
}
