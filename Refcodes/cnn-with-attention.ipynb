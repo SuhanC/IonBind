{
 "cells": [
  {
   "cell_type": "markdown",
   "id": "a637df94",
   "metadata": {
    "id": "7gmt3RLoSPI1",
    "papermill": {
     "duration": 0.008268,
     "end_time": "2022-06-06T11:40:52.737525",
     "exception": false,
     "start_time": "2022-06-06T11:40:52.729257",
     "status": "completed"
    },
    "tags": []
   },
   "source": [
    "### **Ενσωμάτωση μηχανισμών προσοχής στο CNN μοντέλο**\n"
   ]
  },
  {
   "cell_type": "markdown",
   "id": "bd6d70e9",
   "metadata": {
    "id": "fdNYw5NZKf7B",
    "papermill": {
     "duration": 0.006939,
     "end_time": "2022-06-06T11:40:52.752114",
     "exception": false,
     "start_time": "2022-06-06T11:40:52.745175",
     "status": "completed"
    },
    "tags": []
   },
   "source": [
    "#### **Απλό CNN μοντέλο**\n"
   ]
  },
  {
   "cell_type": "code",
   "execution_count": 1,
   "id": "8c9e4cff",
   "metadata": {
    "execution": {
     "iopub.execute_input": "2022-06-06T11:40:52.767955Z",
     "iopub.status.busy": "2022-06-06T11:40:52.767514Z",
     "iopub.status.idle": "2022-06-06T11:40:58.076385Z",
     "shell.execute_reply": "2022-06-06T11:40:58.075576Z"
    },
    "id": "K32Vs1kVRY12",
    "papermill": {
     "duration": 5.319722,
     "end_time": "2022-06-06T11:40:58.078917",
     "exception": false,
     "start_time": "2022-06-06T11:40:52.759195",
     "status": "completed"
    },
    "tags": []
   },
   "outputs": [],
   "source": [
    "import pandas as pd\n",
    "import numpy as np\n",
    "import matplotlib.pyplot as plt\n",
    "import tensorflow as tf\n",
    "import os \n",
    "import random \n",
    "import cv2\n",
    "\n",
    "import keras\n",
    "from keras.layers import GlobalAveragePooling2D, GlobalMaxPooling2D, Reshape, Dense, multiply, Permute, Concatenate, Conv2D, Add, Activation, Lambda\n",
    "from keras import backend as K\n",
    "from keras.activations import sigmoid\n",
    "from keras import layers\n",
    "# from keras.preprocessing.image import ImageDataGenerator, load_img, img_to_array\n",
    "from keras.preprocessing.image import ImageDataGenerator\n",
    "from tensorflow.keras.utils import load_img, img_to_array\n",
    "from keras import initializers\n",
    "from keras.models import Sequential"
   ]
  },
  {
   "cell_type": "code",
   "execution_count": 2,
   "id": "d4370097",
   "metadata": {
    "execution": {
     "iopub.execute_input": "2022-06-06T11:40:58.768280Z",
     "iopub.status.busy": "2022-06-06T11:40:58.767842Z",
     "iopub.status.idle": "2022-06-06T11:40:58.772234Z",
     "shell.execute_reply": "2022-06-06T11:40:58.771526Z"
    },
    "papermill": {
     "duration": 0.015255,
     "end_time": "2022-06-06T11:40:58.774440",
     "exception": false,
     "start_time": "2022-06-06T11:40:58.759185",
     "status": "completed"
    },
    "tags": []
   },
   "outputs": [
    {
     "name": "stdout",
     "output_type": "stream",
     "text": [
      "2.10.0\n",
      "2.10.0\n"
     ]
    }
   ],
   "source": [
    "print(tf.__version__)\n",
    "print(keras.__version__)"
   ]
  },
  {
   "cell_type": "code",
   "execution_count": null,
   "id": "d0536043",
   "metadata": {},
   "outputs": [],
   "source": []
  },
  {
   "cell_type": "code",
   "execution_count": null,
   "id": "5996b738",
   "metadata": {},
   "outputs": [],
   "source": []
  },
  {
   "cell_type": "code",
   "execution_count": null,
   "id": "f035fe9b",
   "metadata": {},
   "outputs": [],
   "source": []
  },
  {
   "cell_type": "code",
   "execution_count": 10,
   "id": "5d69156b",
   "metadata": {
    "execution": {
     "iopub.execute_input": "2022-06-06T11:40:58.791115Z",
     "iopub.status.busy": "2022-06-06T11:40:58.790570Z",
     "iopub.status.idle": "2022-06-06T11:40:58.794160Z",
     "shell.execute_reply": "2022-06-06T11:40:58.793451Z"
    },
    "id": "diQr8VhTRg5V",
    "papermill": {
     "duration": 0.013318,
     "end_time": "2022-06-06T11:40:58.795845",
     "exception": false,
     "start_time": "2022-06-06T11:40:58.782527",
     "status": "completed"
    },
    "tags": []
   },
   "outputs": [],
   "source": [
    "train_path = \"../input/alzheimers-dataset-4-class-of-images/Alzheimer_s Dataset/train\"\n",
    "test_path = \"../input/alzheimers-dataset-4-class-of-images/Alzheimer_s Dataset/test\""
   ]
  },
  {
   "cell_type": "code",
   "execution_count": 5,
   "id": "516486b9",
   "metadata": {
    "execution": {
     "iopub.execute_input": "2022-06-06T11:40:58.812521Z",
     "iopub.status.busy": "2022-06-06T11:40:58.811843Z",
     "iopub.status.idle": "2022-06-06T11:41:03.560104Z",
     "shell.execute_reply": "2022-06-06T11:41:03.559229Z"
    },
    "id": "92fOK-jz68id",
    "outputId": "2fb792df-31eb-4ad8-ee09-458689b10497",
    "papermill": {
     "duration": 4.759273,
     "end_time": "2022-06-06T11:41:03.562495",
     "exception": false,
     "start_time": "2022-06-06T11:40:58.803222",
     "status": "completed"
    },
    "tags": []
   },
   "outputs": [
    {
     "name": "stdout",
     "output_type": "stream",
     "text": [
      "Found 4610 images belonging to 4 classes.\n",
      "Found 511 images belonging to 4 classes.\n",
      "Found 1279 images belonging to 4 classes.\n"
     ]
    }
   ],
   "source": [
    "train_batches = ImageDataGenerator(validation_split=0.1) \\\n",
    "                .flow_from_directory(directory=train_path,  \n",
    "                                     classes = ['NonDemented', 'VeryMildDemented', \n",
    "                                                'MildDemented', 'ModerateDemented'], \n",
    "                                     subset='training',\n",
    "                                     batch_size=10)\n",
    "\n",
    "validation_batches = ImageDataGenerator(validation_split=0.1) \\\n",
    "                     .flow_from_directory(directory=train_path, \n",
    "                                          classes = ['NonDemented', 'VeryMildDemented', \n",
    "                                                     'MildDemented', 'ModerateDemented'], \n",
    "                                          subset='validation',\n",
    "                                          batch_size=10)\n",
    "                \n",
    "test_batches = ImageDataGenerator() \\\n",
    "                    .flow_from_directory(directory=test_path, \n",
    "                                         classes = ['NonDemented', 'VeryMildDemented', \n",
    "                                                    'MildDemented', 'ModerateDemented'], \n",
    "                                         batch_size=10, \n",
    "                                         shuffle=False)"
   ]
  },
  {
   "cell_type": "code",
   "execution_count": 6,
   "id": "449ce87c",
   "metadata": {
    "execution": {
     "iopub.execute_input": "2022-06-06T11:41:03.579840Z",
     "iopub.status.busy": "2022-06-06T11:41:03.579363Z",
     "iopub.status.idle": "2022-06-06T11:41:03.768673Z",
     "shell.execute_reply": "2022-06-06T11:41:03.767893Z"
    },
    "id": "PBDLQN-2UqF0",
    "outputId": "5dc298fe-115a-4516-ebf8-c9e2a608d067",
    "papermill": {
     "duration": 0.199379,
     "end_time": "2022-06-06T11:41:03.770388",
     "exception": false,
     "start_time": "2022-06-06T11:41:03.571009",
     "status": "completed"
    },
    "tags": []
   },
   "outputs": [
    {
     "data": {
      "text/plain": [
       "<BarContainer object of 4 artists>"
      ]
     },
     "execution_count": 6,
     "metadata": {},
     "output_type": "execute_result"
    },
    {
     "data": {
      "image/png": "[encoded data removed]",
      "text/plain": [
       "<Figure size 720x360 with 1 Axes>"
      ]
     },
     "metadata": {
      "needs_background": "light"
     },
     "output_type": "display_data"
    }
   ],
   "source": [
    "data = {'NonDemented':      0, \n",
    "        'VeryMildDemented': 0, \n",
    "        'MildDemented':     0,\n",
    "        'ModerateDemented': 0}\n",
    "\n",
    "for cls in os.listdir(train_path):\n",
    "    for img in os.listdir(train_path + '/' + cls):\n",
    "        data[cls] = data[cls] + 1\n",
    "\n",
    "keys = list(data.keys())\n",
    "values = list(data.values())\n",
    "  \n",
    "fig = plt.figure(figsize = (10, 5))\n",
    " \n",
    "plt.bar(keys, values, color=(0.2, 0.4, 0.6, 0.6), width = 0.4)"
   ]
  },
  {
   "cell_type": "code",
   "execution_count": 3,
   "id": "9ef07f55",
   "metadata": {
    "execution": {
     "iopub.execute_input": "2022-06-06T11:41:03.787849Z",
     "iopub.status.busy": "2022-06-06T11:41:03.787252Z",
     "iopub.status.idle": "2022-06-06T11:41:06.706116Z",
     "shell.execute_reply": "2022-06-06T11:41:06.705188Z"
    },
    "id": "IyYIYWouI60G",
    "papermill": {
     "duration": 2.929904,
     "end_time": "2022-06-06T11:41:06.708353",
     "exception": false,
     "start_time": "2022-06-06T11:41:03.778449",
     "status": "completed"
    },
    "tags": []
   },
   "outputs": [],
   "source": [
    "IMG_SIZE = 224\n",
    "n_classes = 4\n",
    "\n",
    "model = Sequential([layers.Resizing(IMG_SIZE, IMG_SIZE),\n",
    "                    layers.Rescaling(1./255),\n",
    "                    layers.Conv2D(filters=32, kernel_size=(3, 3), activation='relu', \n",
    "                                  padding = 'same', input_shape=(IMG_SIZE,IMG_SIZE,3)),\n",
    "                    layers.BatchNormalization(),\n",
    "                    layers.MaxPool2D(pool_size=(2, 2)),\n",
    "                    layers.Conv2D(filters=64, kernel_size=(3, 3), \n",
    "                                  activation='relu', padding = 'same'),\n",
    "                    layers.BatchNormalization(),\n",
    "                    layers.MaxPool2D(pool_size=(2, 2)),\n",
    "                    layers.Conv2D(filters=128, kernel_size=(3, 3), \n",
    "                                  activation='relu', padding = 'same'),\n",
    "                    layers.BatchNormalization(),\n",
    "                    layers.MaxPool2D(pool_size=(2, 2)),\n",
    "                    layers.Conv2D(filters=256, kernel_size=(3, 3), \n",
    "                                  activation='relu', padding = 'same'),\n",
    "                    layers.BatchNormalization(),\n",
    "                    layers.MaxPool2D(pool_size=(2, 2)),\n",
    "                    layers.Flatten(),\n",
    "                    layers.Dense(300, activation='relu'),\n",
    "                    layers.Dense(150, activation='relu'),\n",
    "                    layers.Dropout(0.25),\n",
    "                    layers.Dense(n_classes, activation='softmax')])"
   ]
  },
  {
   "cell_type": "code",
   "execution_count": 8,
   "id": "70d486d2",
   "metadata": {
    "execution": {
     "iopub.execute_input": "2022-06-06T11:41:06.726876Z",
     "iopub.status.busy": "2022-06-06T11:41:06.726239Z",
     "iopub.status.idle": "2022-06-06T11:41:06.748297Z",
     "shell.execute_reply": "2022-06-06T11:41:06.747605Z"
    },
    "id": "2lqnGWQDHCc_",
    "papermill": {
     "duration": 0.032584,
     "end_time": "2022-06-06T11:41:06.749941",
     "exception": false,
     "start_time": "2022-06-06T11:41:06.717357",
     "status": "completed"
    },
    "tags": []
   },
   "outputs": [],
   "source": [
    "METRICS = [keras.metrics.CategoricalAccuracy(name='accuracy'),\n",
    "           keras.metrics.Precision(name='precision'),\n",
    "           keras.metrics.Recall(name='recall'),\n",
    "           keras.metrics.AUC(name='auc')]"
   ]
  },
  {
   "cell_type": "code",
   "execution_count": 9,
   "id": "0909d1c3",
   "metadata": {
    "execution": {
     "iopub.execute_input": "2022-06-06T11:41:06.768092Z",
     "iopub.status.busy": "2022-06-06T11:41:06.767839Z",
     "iopub.status.idle": "2022-06-06T11:41:06.779521Z",
     "shell.execute_reply": "2022-06-06T11:41:06.778815Z"
    },
    "id": "xPXJp3eiJfQ8",
    "papermill": {
     "duration": 0.022914,
     "end_time": "2022-06-06T11:41:06.781256",
     "exception": false,
     "start_time": "2022-06-06T11:41:06.758342",
     "status": "completed"
    },
    "tags": []
   },
   "outputs": [],
   "source": [
    "model.compile(optimizer=tf.keras.optimizers.Adam(learning_rate=0.0001), \n",
    "              loss='categorical_crossentropy', \n",
    "              metrics=METRICS)"
   ]
  },
  {
   "cell_type": "code",
   "execution_count": 10,
   "id": "2188a26a",
   "metadata": {
    "execution": {
     "iopub.execute_input": "2022-06-06T11:41:06.798467Z",
     "iopub.status.busy": "2022-06-06T11:41:06.798222Z",
     "iopub.status.idle": "2022-06-06T11:41:06.802575Z",
     "shell.execute_reply": "2022-06-06T11:41:06.801874Z"
    },
    "id": "llXJI7uHHiOi",
    "papermill": {
     "duration": 0.014896,
     "end_time": "2022-06-06T11:41:06.804263",
     "exception": false,
     "start_time": "2022-06-06T11:41:06.789367",
     "status": "completed"
    },
    "tags": []
   },
   "outputs": [],
   "source": [
    "EPOCHS = 50\n",
    "BATCH_SIZE = 8"
   ]
  },
  {
   "cell_type": "code",
   "execution_count": 11,
   "id": "2613793a",
   "metadata": {
    "execution": {
     "iopub.execute_input": "2022-06-06T11:41:06.821767Z",
     "iopub.status.busy": "2022-06-06T11:41:06.821257Z",
     "iopub.status.idle": "2022-06-06T11:52:09.002315Z",
     "shell.execute_reply": "2022-06-06T11:52:09.001489Z"
    },
    "id": "v3JiwCBLJhU7",
    "outputId": "40ce1aa4-5a96-438b-df2f-a0e97975c06f",
    "papermill": {
     "duration": 662.191831,
     "end_time": "2022-06-06T11:52:09.004338",
     "exception": false,
     "start_time": "2022-06-06T11:41:06.812507",
     "status": "completed"
    },
    "tags": []
   },
   "outputs": [
    {
     "name": "stderr",
     "output_type": "stream",
     "text": [
      "2022-06-06 11:41:07.696715: I tensorflow/stream_executor/cuda/cuda_dnn.cc:369] Loaded cuDNN version 8005\n",
      "2022-06-06 11:41:13.018089: I tensorflow/compiler/mlir/mlir_graph_optimization_pass.cc:185] None of the MLIR Optimization Passes are enabled (registered 2)\n"
     ]
    },
    {
     "name": "stdout",
     "output_type": "stream",
     "text": [
      "Epoch 1/50\n",
      "461/461 - 29s - loss: 1.1653 - accuracy: 0.5579 - precision: 0.5984 - recall: 0.4616 - auc: 0.8128 - val_loss: 0.9771 - val_accuracy: 0.5245 - val_precision: 0.5747 - val_recall: 0.4442 - val_auc: 0.8309\n",
      "Epoch 2/50\n",
      "461/461 - 11s - loss: 0.6178 - accuracy: 0.7286 - precision: 0.7660 - recall: 0.6766 - auc: 0.9309 - val_loss: 0.7233 - val_accuracy: 0.6321 - val_precision: 0.6577 - val_recall: 0.5753 - val_auc: 0.8978\n",
      "Epoch 3/50\n",
      "461/461 - 11s - loss: 0.2416 - accuracy: 0.9167 - precision: 0.9315 - recall: 0.9082 - auc: 0.9909 - val_loss: 0.7226 - val_accuracy: 0.6986 - val_precision: 0.7016 - val_recall: 0.6947 - val_auc: 0.9218\n",
      "Epoch 4/50\n",
      "461/461 - 10s - loss: 0.0924 - accuracy: 0.9694 - precision: 0.9783 - recall: 0.9670 - auc: 0.9986 - val_loss: 0.4081 - val_accuracy: 0.8160 - val_precision: 0.8238 - val_recall: 0.8141 - val_auc: 0.9725\n",
      "Epoch 5/50\n",
      "461/461 - 12s - loss: 0.0607 - accuracy: 0.9813 - precision: 0.9862 - recall: 0.9761 - auc: 0.9994 - val_loss: 0.2321 - val_accuracy: 0.9159 - val_precision: 0.9223 - val_recall: 0.9061 - val_auc: 0.9902\n",
      "Epoch 6/50\n",
      "461/461 - 11s - loss: 0.0296 - accuracy: 0.9941 - precision: 0.9967 - recall: 0.9866 - auc: 0.9998 - val_loss: 0.2969 - val_accuracy: 0.8982 - val_precision: 0.9016 - val_recall: 0.8963 - val_auc: 0.9829\n",
      "Epoch 7/50\n",
      "461/461 - 11s - loss: 0.0709 - accuracy: 0.9766 - precision: 0.9792 - recall: 0.9681 - auc: 0.9990 - val_loss: 0.9053 - val_accuracy: 0.5538 - val_precision: 0.5754 - val_recall: 0.5225 - val_auc: 0.8644\n",
      "Epoch 8/50\n",
      "461/461 - 10s - loss: 0.1149 - accuracy: 0.9616 - precision: 0.9642 - recall: 0.9534 - auc: 0.9971 - val_loss: 0.4503 - val_accuracy: 0.8474 - val_precision: 0.8538 - val_recall: 0.8454 - val_auc: 0.9741\n",
      "Epoch 9/50\n",
      "461/461 - 11s - loss: 0.0270 - accuracy: 0.9948 - precision: 0.9965 - recall: 0.9863 - auc: 0.9999 - val_loss: 0.2963 - val_accuracy: 0.8885 - val_precision: 0.8933 - val_recall: 0.8845 - val_auc: 0.9862\n",
      "Epoch 10/50\n",
      "461/461 - 11s - loss: 0.0314 - accuracy: 0.9926 - precision: 0.9941 - recall: 0.9837 - auc: 0.9997 - val_loss: 0.7968 - val_accuracy: 0.7750 - val_precision: 0.7795 - val_recall: 0.7750 - val_auc: 0.9389\n",
      "Epoch 11/50\n",
      "461/461 - 11s - loss: 0.0188 - accuracy: 0.9974 - precision: 0.9980 - recall: 0.9876 - auc: 0.9998 - val_loss: 0.1577 - val_accuracy: 0.9374 - val_precision: 0.9446 - val_recall: 0.9335 - val_auc: 0.9945\n",
      "Epoch 12/50\n",
      "461/461 - 11s - loss: 0.0333 - accuracy: 0.9918 - precision: 0.9921 - recall: 0.9822 - auc: 0.9994 - val_loss: 0.8117 - val_accuracy: 0.7515 - val_precision: 0.7620 - val_recall: 0.7456 - val_auc: 0.9357\n",
      "Epoch 13/50\n",
      "461/461 - 12s - loss: 0.0799 - accuracy: 0.9729 - precision: 0.9748 - recall: 0.9638 - auc: 0.9983 - val_loss: 0.1625 - val_accuracy: 0.9335 - val_precision: 0.9387 - val_recall: 0.9295 - val_auc: 0.9953\n",
      "Epoch 14/50\n",
      "461/461 - 11s - loss: 0.0323 - accuracy: 0.9898 - precision: 0.9904 - recall: 0.9803 - auc: 0.9998 - val_loss: 0.2186 - val_accuracy: 0.9276 - val_precision: 0.9310 - val_recall: 0.9237 - val_auc: 0.9917\n",
      "Epoch 15/50\n",
      "461/461 - 11s - loss: 0.0131 - accuracy: 0.9989 - precision: 0.9991 - recall: 0.9892 - auc: 1.0000 - val_loss: 0.0955 - val_accuracy: 0.9589 - val_precision: 0.9606 - val_recall: 0.9530 - val_auc: 0.9984\n",
      "Epoch 16/50\n",
      "461/461 - 10s - loss: 0.0104 - accuracy: 0.9996 - precision: 0.9996 - recall: 0.9894 - auc: 1.0000 - val_loss: 0.1397 - val_accuracy: 0.9472 - val_precision: 0.9488 - val_recall: 0.9432 - val_auc: 0.9927\n",
      "Epoch 17/50\n",
      "461/461 - 11s - loss: 0.0079 - accuracy: 1.0000 - precision: 1.0000 - recall: 0.9913 - auc: 1.0000 - val_loss: 0.1232 - val_accuracy: 0.9589 - val_precision: 0.9587 - val_recall: 0.9530 - val_auc: 0.9931\n",
      "Epoch 18/50\n",
      "461/461 - 11s - loss: 0.0073 - accuracy: 1.0000 - precision: 1.0000 - recall: 0.9965 - auc: 1.0000 - val_loss: 0.0631 - val_accuracy: 0.9765 - val_precision: 0.9765 - val_recall: 0.9746 - val_auc: 0.9993\n",
      "Epoch 19/50\n",
      "461/461 - 11s - loss: 0.0063 - accuracy: 1.0000 - precision: 1.0000 - recall: 0.9996 - auc: 1.0000 - val_loss: 0.0803 - val_accuracy: 0.9687 - val_precision: 0.9706 - val_recall: 0.9687 - val_auc: 0.9990\n",
      "Epoch 20/50\n",
      "461/461 - 11s - loss: 0.0545 - accuracy: 0.9837 - precision: 0.9848 - recall: 0.9829 - auc: 0.9987 - val_loss: 0.6607 - val_accuracy: 0.8141 - val_precision: 0.8200 - val_recall: 0.8023 - val_auc: 0.9502\n",
      "Epoch 21/50\n",
      "461/461 - 11s - loss: 0.1111 - accuracy: 0.9657 - precision: 0.9669 - recall: 0.9646 - auc: 0.9963 - val_loss: 0.2529 - val_accuracy: 0.9217 - val_precision: 0.9217 - val_recall: 0.9217 - val_auc: 0.9880\n",
      "Epoch 22/50\n",
      "461/461 - 11s - loss: 0.0165 - accuracy: 0.9952 - precision: 0.9952 - recall: 0.9946 - auc: 0.9998 - val_loss: 0.1085 - val_accuracy: 0.9609 - val_precision: 0.9609 - val_recall: 0.9609 - val_auc: 0.9972\n",
      "Epoch 23/50\n",
      "461/461 - 10s - loss: 0.0180 - accuracy: 0.9944 - precision: 0.9946 - recall: 0.9937 - auc: 0.9998 - val_loss: 0.1387 - val_accuracy: 0.9628 - val_precision: 0.9666 - val_recall: 0.9628 - val_auc: 0.9941\n",
      "Epoch 24/50\n",
      "461/461 - 11s - loss: 0.0220 - accuracy: 0.9935 - precision: 0.9937 - recall: 0.9935 - auc: 0.9998 - val_loss: 0.1118 - val_accuracy: 0.9609 - val_precision: 0.9609 - val_recall: 0.9609 - val_auc: 0.9972\n",
      "Epoch 25/50\n",
      "461/461 - 11s - loss: 0.0027 - accuracy: 0.9991 - precision: 0.9993 - recall: 0.9991 - auc: 1.0000 - val_loss: 0.1977 - val_accuracy: 0.9217 - val_precision: 0.9217 - val_recall: 0.9217 - val_auc: 0.9927\n",
      "Epoch 26/50\n",
      "461/461 - 11s - loss: 0.0158 - accuracy: 0.9954 - precision: 0.9954 - recall: 0.9954 - auc: 0.9998 - val_loss: 0.1329 - val_accuracy: 0.9569 - val_precision: 0.9569 - val_recall: 0.9569 - val_auc: 0.9968\n",
      "Epoch 27/50\n",
      "461/461 - 10s - loss: 0.0350 - accuracy: 0.9879 - precision: 0.9881 - recall: 0.9876 - auc: 0.9988 - val_loss: 0.1814 - val_accuracy: 0.9432 - val_precision: 0.9451 - val_recall: 0.9432 - val_auc: 0.9913\n",
      "Epoch 28/50\n",
      "461/461 - 10s - loss: 0.0235 - accuracy: 0.9922 - precision: 0.9924 - recall: 0.9920 - auc: 0.9995 - val_loss: 0.4246 - val_accuracy: 0.9041 - val_precision: 0.9041 - val_recall: 0.9041 - val_auc: 0.9734\n",
      "Epoch 29/50\n",
      "461/461 - 12s - loss: 0.0185 - accuracy: 0.9931 - precision: 0.9931 - recall: 0.9931 - auc: 0.9999 - val_loss: 0.0533 - val_accuracy: 0.9843 - val_precision: 0.9843 - val_recall: 0.9843 - val_auc: 0.9986\n",
      "Epoch 30/50\n",
      "461/461 - 11s - loss: 0.0045 - accuracy: 0.9987 - precision: 0.9987 - recall: 0.9987 - auc: 1.0000 - val_loss: 0.0580 - val_accuracy: 0.9824 - val_precision: 0.9843 - val_recall: 0.9804 - val_auc: 0.9982\n",
      "Epoch 31/50\n",
      "461/461 - 10s - loss: 3.2440e-04 - accuracy: 1.0000 - precision: 1.0000 - recall: 1.0000 - auc: 1.0000 - val_loss: 0.0567 - val_accuracy: 0.9843 - val_precision: 0.9863 - val_recall: 0.9843 - val_auc: 0.9970\n",
      "Epoch 32/50\n",
      "461/461 - 10s - loss: 1.3382e-04 - accuracy: 1.0000 - precision: 1.0000 - recall: 1.0000 - auc: 1.0000 - val_loss: 0.0590 - val_accuracy: 0.9863 - val_precision: 0.9863 - val_recall: 0.9863 - val_auc: 0.9970\n",
      "Epoch 33/50\n",
      "461/461 - 11s - loss: 1.0810e-04 - accuracy: 1.0000 - precision: 1.0000 - recall: 1.0000 - auc: 1.0000 - val_loss: 0.0533 - val_accuracy: 0.9843 - val_precision: 0.9843 - val_recall: 0.9843 - val_auc: 0.9971\n",
      "Epoch 34/50\n",
      "461/461 - 10s - loss: 9.1355e-05 - accuracy: 1.0000 - precision: 1.0000 - recall: 1.0000 - auc: 1.0000 - val_loss: 0.0533 - val_accuracy: 0.9843 - val_precision: 0.9843 - val_recall: 0.9843 - val_auc: 0.9971\n",
      "Epoch 35/50\n",
      "461/461 - 10s - loss: 9.1299e-05 - accuracy: 1.0000 - precision: 1.0000 - recall: 1.0000 - auc: 1.0000 - val_loss: 0.0459 - val_accuracy: 0.9863 - val_precision: 0.9863 - val_recall: 0.9863 - val_auc: 0.9984\n",
      "Epoch 36/50\n",
      "461/461 - 11s - loss: 4.8192e-05 - accuracy: 1.0000 - precision: 1.0000 - recall: 1.0000 - auc: 1.0000 - val_loss: 0.0416 - val_accuracy: 0.9843 - val_precision: 0.9843 - val_recall: 0.9843 - val_auc: 0.9984\n",
      "Epoch 37/50\n",
      "461/461 - 11s - loss: 4.6052e-05 - accuracy: 1.0000 - precision: 1.0000 - recall: 1.0000 - auc: 1.0000 - val_loss: 0.0449 - val_accuracy: 0.9863 - val_precision: 0.9863 - val_recall: 0.9863 - val_auc: 0.9984\n",
      "Epoch 38/50\n",
      "461/461 - 10s - loss: 3.1433e-05 - accuracy: 1.0000 - precision: 1.0000 - recall: 1.0000 - auc: 1.0000 - val_loss: 0.0523 - val_accuracy: 0.9843 - val_precision: 0.9843 - val_recall: 0.9843 - val_auc: 0.9971\n",
      "Epoch 39/50\n",
      "461/461 - 11s - loss: 3.3035e-05 - accuracy: 1.0000 - precision: 1.0000 - recall: 1.0000 - auc: 1.0000 - val_loss: 0.0537 - val_accuracy: 0.9824 - val_precision: 0.9824 - val_recall: 0.9824 - val_auc: 0.9970\n",
      "Epoch 40/50\n",
      "461/461 - 10s - loss: 2.8416e-05 - accuracy: 1.0000 - precision: 1.0000 - recall: 1.0000 - auc: 1.0000 - val_loss: 0.0360 - val_accuracy: 0.9883 - val_precision: 0.9883 - val_recall: 0.9883 - val_auc: 0.9998\n",
      "Epoch 41/50\n",
      "461/461 - 11s - loss: 1.7371e-05 - accuracy: 1.0000 - precision: 1.0000 - recall: 1.0000 - auc: 1.0000 - val_loss: 0.0378 - val_accuracy: 0.9883 - val_precision: 0.9883 - val_recall: 0.9883 - val_auc: 0.9997\n",
      "Epoch 42/50\n",
      "461/461 - 10s - loss: 1.2708e-05 - accuracy: 1.0000 - precision: 1.0000 - recall: 1.0000 - auc: 1.0000 - val_loss: 0.0374 - val_accuracy: 0.9863 - val_precision: 0.9863 - val_recall: 0.9863 - val_auc: 0.9997\n",
      "Epoch 43/50\n",
      "461/461 - 10s - loss: 0.0859 - accuracy: 0.9833 - precision: 0.9835 - recall: 0.9833 - auc: 0.9961 - val_loss: 0.5016 - val_accuracy: 0.8689 - val_precision: 0.8723 - val_recall: 0.8689 - val_auc: 0.9698\n",
      "Epoch 44/50\n",
      "461/461 - 11s - loss: 0.0540 - accuracy: 0.9844 - precision: 0.9846 - recall: 0.9844 - auc: 0.9983 - val_loss: 0.6657 - val_accuracy: 0.8415 - val_precision: 0.8422 - val_recall: 0.8356 - val_auc: 0.9506\n",
      "Epoch 45/50\n",
      "461/461 - 11s - loss: 0.0054 - accuracy: 0.9976 - precision: 0.9976 - recall: 0.9976 - auc: 1.0000 - val_loss: 0.0755 - val_accuracy: 0.9765 - val_precision: 0.9765 - val_recall: 0.9765 - val_auc: 0.9978\n",
      "Epoch 46/50\n",
      "461/461 - 11s - loss: 4.0780e-04 - accuracy: 1.0000 - precision: 1.0000 - recall: 1.0000 - auc: 1.0000 - val_loss: 0.0774 - val_accuracy: 0.9706 - val_precision: 0.9725 - val_recall: 0.9706 - val_auc: 0.9990\n",
      "Epoch 47/50\n",
      "461/461 - 10s - loss: 2.1881e-04 - accuracy: 1.0000 - precision: 1.0000 - recall: 1.0000 - auc: 1.0000 - val_loss: 0.0827 - val_accuracy: 0.9726 - val_precision: 0.9745 - val_recall: 0.9726 - val_auc: 0.9978\n",
      "Epoch 48/50\n",
      "461/461 - 10s - loss: 1.7188e-04 - accuracy: 1.0000 - precision: 1.0000 - recall: 1.0000 - auc: 1.0000 - val_loss: 0.0846 - val_accuracy: 0.9726 - val_precision: 0.9726 - val_recall: 0.9726 - val_auc: 0.9978\n",
      "Epoch 49/50\n",
      "461/461 - 11s - loss: 1.0464e-04 - accuracy: 1.0000 - precision: 1.0000 - recall: 1.0000 - auc: 1.0000 - val_loss: 0.0688 - val_accuracy: 0.9746 - val_precision: 0.9765 - val_recall: 0.9746 - val_auc: 0.9993\n",
      "Epoch 50/50\n",
      "461/461 - 11s - loss: 7.4554e-05 - accuracy: 1.0000 - precision: 1.0000 - recall: 1.0000 - auc: 1.0000 - val_loss: 0.0778 - val_accuracy: 0.9746 - val_precision: 0.9765 - val_recall: 0.9746 - val_auc: 0.9980\n"
     ]
    }
   ],
   "source": [
    "history = model.fit(x=train_batches,\n",
    "                    validation_data=validation_batches,\n",
    "                    steps_per_epoch=len(train_batches),\n",
    "                    validation_steps=len(validation_batches),\n",
    "                    epochs=EPOCHS,\n",
    "                    batch_size=BATCH_SIZE, \n",
    "                    verbose=2)"
   ]
  },
  {
   "cell_type": "code",
   "execution_count": 12,
   "id": "bc3c805f",
   "metadata": {
    "execution": {
     "iopub.execute_input": "2022-06-06T11:52:09.035153Z",
     "iopub.status.busy": "2022-06-06T11:52:09.034839Z",
     "iopub.status.idle": "2022-06-06T11:52:09.041500Z",
     "shell.execute_reply": "2022-06-06T11:52:09.040779Z"
    },
    "papermill": {
     "duration": 0.024995,
     "end_time": "2022-06-06T11:52:09.044218",
     "exception": false,
     "start_time": "2022-06-06T11:52:09.019223",
     "status": "completed"
    },
    "tags": []
   },
   "outputs": [
    {
     "name": "stdout",
     "output_type": "stream",
     "text": [
      "Model: \"sequential\"\n",
      "_________________________________________________________________\n",
      "Layer (type)                 Output Shape              Param #   \n",
      "=================================================================\n",
      "resizing (Resizing)          (None, 224, 224, None)    0         \n",
      "_________________________________________________________________\n",
      "rescaling (Rescaling)        (None, 224, 224, None)    0         \n",
      "_________________________________________________________________\n",
      "conv2d (Conv2D)              (None, 224, 224, 32)      896       \n",
      "_________________________________________________________________\n",
      "batch_normalization (BatchNo (None, 224, 224, 32)      128       \n",
      "_________________________________________________________________\n",
      "max_pooling2d (MaxPooling2D) (None, 112, 112, 32)      0         \n",
      "_________________________________________________________________\n",
      "conv2d_1 (Conv2D)            (None, 112, 112, 64)      18496     \n",
      "_________________________________________________________________\n",
      "batch_normalization_1 (Batch (None, 112, 112, 64)      256       \n",
      "_________________________________________________________________\n",
      "max_pooling2d_1 (MaxPooling2 (None, 56, 56, 64)        0         \n",
      "_________________________________________________________________\n",
      "conv2d_2 (Conv2D)            (None, 56, 56, 128)       73856     \n",
      "_________________________________________________________________\n",
      "batch_normalization_2 (Batch (None, 56, 56, 128)       512       \n",
      "_________________________________________________________________\n",
      "max_pooling2d_2 (MaxPooling2 (None, 28, 28, 128)       0         \n",
      "_________________________________________________________________\n",
      "conv2d_3 (Conv2D)            (None, 28, 28, 256)       295168    \n",
      "_________________________________________________________________\n",
      "batch_normalization_3 (Batch (None, 28, 28, 256)       1024      \n",
      "_________________________________________________________________\n",
      "max_pooling2d_3 (MaxPooling2 (None, 14, 14, 256)       0         \n",
      "_________________________________________________________________\n",
      "flatten (Flatten)            (None, 50176)             0         \n",
      "_________________________________________________________________\n",
      "dense (Dense)                (None, 300)               15053100  \n",
      "_________________________________________________________________\n",
      "dense_1 (Dense)              (None, 150)               45150     \n",
      "_________________________________________________________________\n",
      "dropout (Dropout)            (None, 150)               0         \n",
      "_________________________________________________________________\n",
      "dense_2 (Dense)              (None, 4)                 604       \n",
      "=================================================================\n",
      "Total params: 15,489,190\n",
      "Trainable params: 15,488,230\n",
      "Non-trainable params: 960\n",
      "_________________________________________________________________\n"
     ]
    }
   ],
   "source": [
    "model.summary()"
   ]
  },
  {
   "cell_type": "code",
   "execution_count": 13,
   "id": "96b54053",
   "metadata": {
    "execution": {
     "iopub.execute_input": "2022-06-06T11:52:09.073931Z",
     "iopub.status.busy": "2022-06-06T11:52:09.073354Z",
     "iopub.status.idle": "2022-06-06T11:52:09.078066Z",
     "shell.execute_reply": "2022-06-06T11:52:09.077243Z"
    },
    "id": "pB6eXsf5I9qw",
    "papermill": {
     "duration": 0.021342,
     "end_time": "2022-06-06T11:52:09.079866",
     "exception": false,
     "start_time": "2022-06-06T11:52:09.058524",
     "status": "completed"
    },
    "tags": []
   },
   "outputs": [],
   "source": [
    "def plot_loss(history, n):\n",
    "    plt.semilogy(history.epoch, history.history['loss'], label='Train')\n",
    "    plt.semilogy(history.epoch, history.history['val_loss'], label='Validation')\n",
    "    plt.xlabel('Epoch')\n",
    "    plt.ylabel('Loss')"
   ]
  },
  {
   "cell_type": "code",
   "execution_count": 14,
   "id": "67dab192",
   "metadata": {
    "execution": {
     "iopub.execute_input": "2022-06-06T11:52:09.108857Z",
     "iopub.status.busy": "2022-06-06T11:52:09.108606Z",
     "iopub.status.idle": "2022-06-06T11:52:09.724962Z",
     "shell.execute_reply": "2022-06-06T11:52:09.724201Z"
    },
    "id": "0PU2BqjOJAOd",
    "outputId": "5049208a-9701-4d55-fbac-dd0112bf4ad1",
    "papermill": {
     "duration": 0.632915,
     "end_time": "2022-06-06T11:52:09.726825",
     "exception": false,
     "start_time": "2022-06-06T11:52:09.093910",
     "status": "completed"
    },
    "tags": []
   },
   "outputs": [
    {
     "data": {
      "image/png": "[encoded data removed]",
      "text/plain": [
       "<Figure size 432x288 with 1 Axes>"
      ]
     },
     "metadata": {
      "needs_background": "light"
     },
     "output_type": "display_data"
    }
   ],
   "source": [
    "plot_loss(history, 0)"
   ]
  },
  {
   "cell_type": "code",
   "execution_count": 15,
   "id": "b4ed5548",
   "metadata": {
    "execution": {
     "iopub.execute_input": "2022-06-06T11:52:09.758619Z",
     "iopub.status.busy": "2022-06-06T11:52:09.758098Z",
     "iopub.status.idle": "2022-06-06T11:52:16.516018Z",
     "shell.execute_reply": "2022-06-06T11:52:16.515204Z"
    },
    "id": "AgcUJbnAJAvS",
    "outputId": "214dbb8f-e124-4ac1-ba96-5d2e90317bb0",
    "papermill": {
     "duration": 6.775939,
     "end_time": "2022-06-06T11:52:16.518341",
     "exception": false,
     "start_time": "2022-06-06T11:52:09.742402",
     "status": "completed"
    },
    "tags": []
   },
   "outputs": [
    {
     "name": "stdout",
     "output_type": "stream",
     "text": [
      "loss :  1.558251976966858\n",
      "accuracy :  0.6880375146865845\n",
      "precision :  0.6900078654289246\n",
      "recall :  0.6856919527053833\n",
      "auc :  0.8743016719818115\n"
     ]
    }
   ],
   "source": [
    "results = model.evaluate(test_batches, verbose=0)\n",
    "\n",
    "for name, value in zip(model.metrics_names, results):\n",
    "    print(name, ': ', value)"
   ]
  },
  {
   "cell_type": "markdown",
   "id": "65e4a1c0",
   "metadata": {
    "id": "RSPAqgrELIc6",
    "papermill": {
     "duration": 0.014555,
     "end_time": "2022-06-06T11:52:16.548660",
     "exception": false,
     "start_time": "2022-06-06T11:52:16.534105",
     "status": "completed"
    },
    "tags": []
   },
   "source": [
    "#### **Ενσωμάτωση μηχανισμών προσοχής**"
   ]
  },
  {
   "cell_type": "markdown",
   "id": "0a199619",
   "metadata": {
    "id": "j-E7NfGZKeiB",
    "papermill": {
     "duration": 0.014491,
     "end_time": "2022-06-06T11:52:16.577809",
     "exception": false,
     "start_time": "2022-06-06T11:52:16.563318",
     "status": "completed"
    },
    "tags": []
   },
   "source": [
    "##### Channel Attention: ECA-Net "
   ]
  },
  {
   "cell_type": "code",
   "execution_count": 16,
   "id": "857f46bb",
   "metadata": {
    "execution": {
     "iopub.execute_input": "2022-06-06T11:52:16.608998Z",
     "iopub.status.busy": "2022-06-06T11:52:16.608709Z",
     "iopub.status.idle": "2022-06-06T11:52:16.614675Z",
     "shell.execute_reply": "2022-06-06T11:52:16.613818Z"
    },
    "id": "GaBkCHeIgIcd",
    "papermill": {
     "duration": 0.024144,
     "end_time": "2022-06-06T11:52:16.616588",
     "exception": false,
     "start_time": "2022-06-06T11:52:16.592444",
     "status": "completed"
    },
    "tags": []
   },
   "outputs": [],
   "source": [
    "def ECA(x):\n",
    "    k_size = 3 \n",
    "    squeeze = tf.reduce_mean(x,(2,3),keepdims=False)\n",
    "    squeeze = tf.expand_dims(squeeze, axis=1)\n",
    "    attn = layers.Conv1D(filters=1,\n",
    "    kernel_size=k_size,\n",
    "    padding='same',\n",
    "    kernel_initializer='random_normal',\n",
    "    use_bias=False)(squeeze)\n",
    "\n",
    "    attn = tf.expand_dims(tf.transpose(attn, [0, 2, 1]), 3)\n",
    "    attn = tf.math.sigmoid(attn)\n",
    "    scale = x * attn\n",
    "    return x * attn"
   ]
  },
  {
   "cell_type": "code",
   "execution_count": 17,
   "id": "02f392c4",
   "metadata": {
    "execution": {
     "iopub.execute_input": "2022-06-06T11:52:16.647844Z",
     "iopub.status.busy": "2022-06-06T11:52:16.647434Z",
     "iopub.status.idle": "2022-06-06T11:52:16.842090Z",
     "shell.execute_reply": "2022-06-06T11:52:16.841304Z"
    },
    "id": "mSQnRvjTLeaX",
    "papermill": {
     "duration": 0.21206,
     "end_time": "2022-06-06T11:52:16.844048",
     "exception": false,
     "start_time": "2022-06-06T11:52:16.631988",
     "status": "completed"
    },
    "tags": []
   },
   "outputs": [],
   "source": [
    "IMG_SIZE = 224\n",
    "n_classes = 4\n",
    "\n",
    "inp = layers.Input(shape=(IMG_SIZE,IMG_SIZE,3))\n",
    "x1 = layers.Resizing(IMG_SIZE, IMG_SIZE)(inp)\n",
    "x2 = layers.Rescaling(1./255)(x1)\n",
    "x3 = layers.Conv2D(filters=32, kernel_size=(3, 3), activation='relu', \n",
    "                   padding = 'same', input_shape=(IMG_SIZE,IMG_SIZE,3))(x2)\n",
    "x4 = ECA(x3)\n",
    "x5 = layers.BatchNormalization(axis=-1)(x4)\n",
    "x6 = layers.MaxPool2D(pool_size=(2, 2))(x5)\n",
    "x7 = layers.Conv2D(filters=64, kernel_size=(3, 3), \n",
    "                   activation='relu', padding = 'same')(x6)\n",
    "x8 = ECA(x7)\n",
    "x9 = layers.BatchNormalization(axis=-1)(x8)\n",
    "x10 = layers.MaxPool2D(pool_size=(2, 2))(x9)\n",
    "x11 = layers.Conv2D(filters=128, kernel_size=(3, 3), \n",
    "                    activation='relu', padding = 'same')(x10)\n",
    "x12 = ECA(x11)\n",
    "x13 = layers.BatchNormalization(axis=-1)(x12)\n",
    "x14 = layers.MaxPool2D(pool_size=(2, 2))(x13)\n",
    "x15 = layers.Conv2D(filters=256, kernel_size=(3, 3), \n",
    "                      activation='relu', padding = 'same')(x14)\n",
    "x16 = ECA(x15)\n",
    "x17 = layers.BatchNormalization(axis=-1)(x16)\n",
    "x18 = layers.MaxPool2D(pool_size=(2, 2))(x17)\n",
    "y1 = layers.Flatten()(x18)\n",
    "y2 = layers.Dense(300, activation='relu')(y1)\n",
    "y3 = layers.Dense(150, activation='relu')(y2)\n",
    "y4 = layers.Dropout(0.25)(y3)\n",
    "y = layers.Dense(n_classes, activation='softmax')(y4)   \n",
    "\n",
    "\n",
    "model_ECA = tf.keras.Model(inp, y)"
   ]
  },
  {
   "cell_type": "code",
   "execution_count": 18,
   "id": "11e2e6d4",
   "metadata": {
    "execution": {
     "iopub.execute_input": "2022-06-06T11:52:16.875642Z",
     "iopub.status.busy": "2022-06-06T11:52:16.875158Z",
     "iopub.status.idle": "2022-06-06T11:52:16.884627Z",
     "shell.execute_reply": "2022-06-06T11:52:16.883945Z"
    },
    "id": "xIv2VMf2pdod",
    "papermill": {
     "duration": 0.026852,
     "end_time": "2022-06-06T11:52:16.886273",
     "exception": false,
     "start_time": "2022-06-06T11:52:16.859421",
     "status": "completed"
    },
    "tags": []
   },
   "outputs": [],
   "source": [
    "model_ECA.compile(optimizer=tf.keras.optimizers.Adam(learning_rate=0.0001), \n",
    "                  loss='categorical_crossentropy', \n",
    "                  metrics=METRICS)"
   ]
  },
  {
   "cell_type": "code",
   "execution_count": 19,
   "id": "1f62a762",
   "metadata": {
    "execution": {
     "iopub.execute_input": "2022-06-06T11:52:16.917429Z",
     "iopub.status.busy": "2022-06-06T11:52:16.916845Z",
     "iopub.status.idle": "2022-06-06T12:04:52.316728Z",
     "shell.execute_reply": "2022-06-06T12:04:52.315725Z"
    },
    "id": "CQskXibfo4d0",
    "papermill": {
     "duration": 755.417854,
     "end_time": "2022-06-06T12:04:52.319219",
     "exception": false,
     "start_time": "2022-06-06T11:52:16.901365",
     "status": "completed"
    },
    "tags": []
   },
   "outputs": [
    {
     "name": "stdout",
     "output_type": "stream",
     "text": [
      "Epoch 1/50\n",
      "461/461 - 14s - loss: 1.2826 - accuracy: 0.5544 - precision: 0.5956 - recall: 0.4824 - auc: 0.8036 - val_loss: 1.1594 - val_accuracy: 0.4716 - val_precision: 0.6475 - val_recall: 0.3738 - val_auc: 0.7509\n",
      "Epoch 2/50\n",
      "461/461 - 13s - loss: 0.7506 - accuracy: 0.6768 - precision: 0.7632 - recall: 0.5696 - auc: 0.9000 - val_loss: 0.7114 - val_accuracy: 0.6830 - val_precision: 0.7037 - val_recall: 0.6693 - val_auc: 0.9113\n",
      "Epoch 3/50\n",
      "461/461 - 12s - loss: 0.2911 - accuracy: 0.9000 - precision: 0.9258 - recall: 0.8766 - auc: 0.9869 - val_loss: 0.3195 - val_accuracy: 0.8885 - val_precision: 0.9124 - val_recall: 0.8767 - val_auc: 0.9826\n",
      "Epoch 4/50\n",
      "461/461 - 13s - loss: 0.0807 - accuracy: 0.9774 - precision: 0.9864 - recall: 0.9733 - auc: 0.9993 - val_loss: 0.2314 - val_accuracy: 0.9022 - val_precision: 0.9175 - val_recall: 0.8924 - val_auc: 0.9908\n",
      "Epoch 5/50\n",
      "461/461 - 12s - loss: 0.0984 - accuracy: 0.9644 - precision: 0.9728 - recall: 0.9623 - auc: 0.9980 - val_loss: 0.1442 - val_accuracy: 0.9452 - val_precision: 0.9580 - val_recall: 0.9374 - val_auc: 0.9967\n",
      "Epoch 6/50\n",
      "461/461 - 12s - loss: 0.0249 - accuracy: 0.9931 - precision: 0.9941 - recall: 0.9913 - auc: 0.9999 - val_loss: 0.2295 - val_accuracy: 0.8904 - val_precision: 0.8933 - val_recall: 0.8845 - val_auc: 0.9898\n",
      "Epoch 7/50\n",
      "461/461 - 13s - loss: 0.0062 - accuracy: 0.9993 - precision: 0.9996 - recall: 0.9991 - auc: 1.0000 - val_loss: 0.0513 - val_accuracy: 0.9824 - val_precision: 0.9843 - val_recall: 0.9824 - val_auc: 0.9995\n",
      "Epoch 8/50\n",
      "461/461 - 12s - loss: 0.0016 - accuracy: 1.0000 - precision: 1.0000 - recall: 1.0000 - auc: 1.0000 - val_loss: 0.0496 - val_accuracy: 0.9863 - val_precision: 0.9863 - val_recall: 0.9863 - val_auc: 0.9994\n",
      "Epoch 9/50\n",
      "461/461 - 12s - loss: 9.0037e-04 - accuracy: 1.0000 - precision: 1.0000 - recall: 1.0000 - auc: 1.0000 - val_loss: 0.0847 - val_accuracy: 0.9746 - val_precision: 0.9765 - val_recall: 0.9746 - val_auc: 0.9966\n",
      "Epoch 10/50\n",
      "461/461 - 13s - loss: 6.0865e-04 - accuracy: 1.0000 - precision: 1.0000 - recall: 1.0000 - auc: 1.0000 - val_loss: 0.0490 - val_accuracy: 0.9883 - val_precision: 0.9882 - val_recall: 0.9863 - val_auc: 0.9985\n",
      "Epoch 11/50\n",
      "461/461 - 12s - loss: 4.8190e-04 - accuracy: 1.0000 - precision: 1.0000 - recall: 1.0000 - auc: 1.0000 - val_loss: 0.0348 - val_accuracy: 0.9902 - val_precision: 0.9922 - val_recall: 0.9902 - val_auc: 0.9985\n",
      "Epoch 12/50\n",
      "461/461 - 13s - loss: 3.0600e-04 - accuracy: 1.0000 - precision: 1.0000 - recall: 1.0000 - auc: 1.0000 - val_loss: 0.0314 - val_accuracy: 0.9902 - val_precision: 0.9902 - val_recall: 0.9902 - val_auc: 0.9985\n",
      "Epoch 13/50\n",
      "461/461 - 12s - loss: 2.1180e-04 - accuracy: 1.0000 - precision: 1.0000 - recall: 1.0000 - auc: 1.0000 - val_loss: 0.0360 - val_accuracy: 0.9883 - val_precision: 0.9902 - val_recall: 0.9883 - val_auc: 0.9985\n",
      "Epoch 14/50\n",
      "461/461 - 13s - loss: 0.2143 - accuracy: 0.9252 - precision: 0.9355 - recall: 0.9154 - auc: 0.9906 - val_loss: 0.2311 - val_accuracy: 0.9178 - val_precision: 0.9231 - val_recall: 0.9159 - val_auc: 0.9900\n",
      "Epoch 15/50\n",
      "461/461 - 12s - loss: 0.0297 - accuracy: 0.9905 - precision: 0.9917 - recall: 0.9898 - auc: 0.9999 - val_loss: 0.1957 - val_accuracy: 0.9237 - val_precision: 0.9272 - val_recall: 0.9217 - val_auc: 0.9931\n",
      "Epoch 16/50\n",
      "461/461 - 12s - loss: 0.0039 - accuracy: 0.9996 - precision: 0.9996 - recall: 0.9996 - auc: 1.0000 - val_loss: 0.0551 - val_accuracy: 0.9804 - val_precision: 0.9824 - val_recall: 0.9804 - val_auc: 0.9993\n",
      "Epoch 17/50\n",
      "461/461 - 12s - loss: 0.0069 - accuracy: 0.9978 - precision: 0.9978 - recall: 0.9978 - auc: 0.9998 - val_loss: 0.1141 - val_accuracy: 0.9589 - val_precision: 0.9607 - val_recall: 0.9569 - val_auc: 0.9973\n",
      "Epoch 18/50\n",
      "461/461 - 13s - loss: 0.0696 - accuracy: 0.9764 - precision: 0.9776 - recall: 0.9746 - auc: 0.9985 - val_loss: 0.1296 - val_accuracy: 0.9569 - val_precision: 0.9588 - val_recall: 0.9569 - val_auc: 0.9969\n",
      "Epoch 19/50\n",
      "461/461 - 13s - loss: 0.0066 - accuracy: 0.9989 - precision: 0.9989 - recall: 0.9989 - auc: 1.0000 - val_loss: 0.1252 - val_accuracy: 0.9628 - val_precision: 0.9627 - val_recall: 0.9609 - val_auc: 0.9950\n",
      "Epoch 20/50\n",
      "461/461 - 12s - loss: 0.0026 - accuracy: 0.9993 - precision: 0.9996 - recall: 0.9993 - auc: 1.0000 - val_loss: 0.0918 - val_accuracy: 0.9667 - val_precision: 0.9667 - val_recall: 0.9667 - val_auc: 0.9985\n",
      "Epoch 21/50\n",
      "461/461 - 12s - loss: 0.0458 - accuracy: 0.9861 - precision: 0.9863 - recall: 0.9859 - auc: 0.9986 - val_loss: 0.5771 - val_accuracy: 0.7828 - val_precision: 0.7968 - val_recall: 0.7828 - val_auc: 0.9552\n",
      "Epoch 22/50\n",
      "461/461 - 12s - loss: 0.0426 - accuracy: 0.9863 - precision: 0.9865 - recall: 0.9859 - auc: 0.9991 - val_loss: 0.0488 - val_accuracy: 0.9785 - val_precision: 0.9785 - val_recall: 0.9785 - val_auc: 0.9995\n",
      "Epoch 23/50\n",
      "461/461 - 13s - loss: 0.0019 - accuracy: 1.0000 - precision: 1.0000 - recall: 0.9998 - auc: 1.0000 - val_loss: 0.0754 - val_accuracy: 0.9706 - val_precision: 0.9706 - val_recall: 0.9706 - val_auc: 0.9979\n",
      "Epoch 24/50\n",
      "461/461 - 12s - loss: 4.9077e-04 - accuracy: 1.0000 - precision: 1.0000 - recall: 1.0000 - auc: 1.0000 - val_loss: 0.0487 - val_accuracy: 0.9824 - val_precision: 0.9824 - val_recall: 0.9824 - val_auc: 0.9996\n",
      "Epoch 25/50\n",
      "461/461 - 13s - loss: 3.1965e-04 - accuracy: 1.0000 - precision: 1.0000 - recall: 1.0000 - auc: 1.0000 - val_loss: 0.0426 - val_accuracy: 0.9804 - val_precision: 0.9804 - val_recall: 0.9804 - val_auc: 0.9997\n",
      "Epoch 26/50\n",
      "461/461 - 13s - loss: 1.7148e-04 - accuracy: 1.0000 - precision: 1.0000 - recall: 1.0000 - auc: 1.0000 - val_loss: 0.0389 - val_accuracy: 0.9843 - val_precision: 0.9843 - val_recall: 0.9824 - val_auc: 0.9997\n",
      "Epoch 27/50\n",
      "461/461 - 13s - loss: 1.3738e-04 - accuracy: 1.0000 - precision: 1.0000 - recall: 1.0000 - auc: 1.0000 - val_loss: 0.0343 - val_accuracy: 0.9863 - val_precision: 0.9882 - val_recall: 0.9863 - val_auc: 0.9998\n",
      "Epoch 28/50\n",
      "461/461 - 12s - loss: 1.0714e-04 - accuracy: 1.0000 - precision: 1.0000 - recall: 1.0000 - auc: 1.0000 - val_loss: 0.0334 - val_accuracy: 0.9843 - val_precision: 0.9843 - val_recall: 0.9843 - val_auc: 0.9998\n",
      "Epoch 29/50\n",
      "461/461 - 13s - loss: 0.0061 - accuracy: 0.9980 - precision: 0.9980 - recall: 0.9980 - auc: 0.9999 - val_loss: 2.1172 - val_accuracy: 0.6751 - val_precision: 0.6791 - val_recall: 0.6751 - val_auc: 0.8554\n",
      "Epoch 30/50\n",
      "461/461 - 13s - loss: 0.0943 - accuracy: 0.9677 - precision: 0.9693 - recall: 0.9659 - auc: 0.9973 - val_loss: 0.1008 - val_accuracy: 0.9609 - val_precision: 0.9646 - val_recall: 0.9589 - val_auc: 0.9983\n",
      "Epoch 31/50\n",
      "461/461 - 12s - loss: 0.0228 - accuracy: 0.9941 - precision: 0.9941 - recall: 0.9941 - auc: 0.9995 - val_loss: 0.0744 - val_accuracy: 0.9824 - val_precision: 0.9824 - val_recall: 0.9824 - val_auc: 0.9969\n",
      "Epoch 32/50\n",
      "461/461 - 13s - loss: 5.9333e-04 - accuracy: 1.0000 - precision: 1.0000 - recall: 1.0000 - auc: 1.0000 - val_loss: 0.0540 - val_accuracy: 0.9824 - val_precision: 0.9824 - val_recall: 0.9824 - val_auc: 0.9987\n",
      "Epoch 33/50\n",
      "461/461 - 12s - loss: 1.8929e-04 - accuracy: 1.0000 - precision: 1.0000 - recall: 1.0000 - auc: 1.0000 - val_loss: 0.0482 - val_accuracy: 0.9824 - val_precision: 0.9824 - val_recall: 0.9824 - val_auc: 0.9987\n",
      "Epoch 34/50\n",
      "461/461 - 13s - loss: 8.2913e-05 - accuracy: 1.0000 - precision: 1.0000 - recall: 1.0000 - auc: 1.0000 - val_loss: 0.0494 - val_accuracy: 0.9843 - val_precision: 0.9843 - val_recall: 0.9843 - val_auc: 0.9987\n",
      "Epoch 35/50\n",
      "461/461 - 12s - loss: 8.6659e-05 - accuracy: 1.0000 - precision: 1.0000 - recall: 1.0000 - auc: 1.0000 - val_loss: 0.0569 - val_accuracy: 0.9843 - val_precision: 0.9843 - val_recall: 0.9843 - val_auc: 0.9986\n",
      "Epoch 36/50\n",
      "461/461 - 13s - loss: 6.3751e-05 - accuracy: 1.0000 - precision: 1.0000 - recall: 1.0000 - auc: 1.0000 - val_loss: 0.0549 - val_accuracy: 0.9843 - val_precision: 0.9843 - val_recall: 0.9843 - val_auc: 0.9977\n",
      "Epoch 37/50\n",
      "461/461 - 13s - loss: 1.2136e-04 - accuracy: 1.0000 - precision: 1.0000 - recall: 1.0000 - auc: 1.0000 - val_loss: 0.0408 - val_accuracy: 0.9863 - val_precision: 0.9863 - val_recall: 0.9863 - val_auc: 0.9998\n",
      "Epoch 38/50\n",
      "461/461 - 13s - loss: 3.5317e-05 - accuracy: 1.0000 - precision: 1.0000 - recall: 1.0000 - auc: 1.0000 - val_loss: 0.0457 - val_accuracy: 0.9863 - val_precision: 0.9863 - val_recall: 0.9843 - val_auc: 0.9997\n",
      "Epoch 39/50\n",
      "461/461 - 12s - loss: 4.7120e-05 - accuracy: 1.0000 - precision: 1.0000 - recall: 1.0000 - auc: 1.0000 - val_loss: 0.0496 - val_accuracy: 0.9804 - val_precision: 0.9804 - val_recall: 0.9804 - val_auc: 0.9987\n",
      "Epoch 40/50\n",
      "461/461 - 12s - loss: 4.5558e-05 - accuracy: 1.0000 - precision: 1.0000 - recall: 1.0000 - auc: 1.0000 - val_loss: 0.0381 - val_accuracy: 0.9863 - val_precision: 0.9863 - val_recall: 0.9863 - val_auc: 0.9998\n",
      "Epoch 41/50\n",
      "461/461 - 13s - loss: 2.5453e-05 - accuracy: 1.0000 - precision: 1.0000 - recall: 1.0000 - auc: 1.0000 - val_loss: 0.0922 - val_accuracy: 0.9726 - val_precision: 0.9726 - val_recall: 0.9726 - val_auc: 0.9954\n",
      "Epoch 42/50\n",
      "461/461 - 12s - loss: 4.5324e-05 - accuracy: 1.0000 - precision: 1.0000 - recall: 1.0000 - auc: 1.0000 - val_loss: 0.0415 - val_accuracy: 0.9843 - val_precision: 0.9843 - val_recall: 0.9843 - val_auc: 0.9985\n",
      "Epoch 43/50\n",
      "461/461 - 12s - loss: 1.1214e-05 - accuracy: 1.0000 - precision: 1.0000 - recall: 1.0000 - auc: 1.0000 - val_loss: 0.0448 - val_accuracy: 0.9824 - val_precision: 0.9824 - val_recall: 0.9824 - val_auc: 0.9985\n",
      "Epoch 44/50\n",
      "461/461 - 12s - loss: 0.0693 - accuracy: 0.9811 - precision: 0.9828 - recall: 0.9805 - auc: 0.9980 - val_loss: 0.5877 - val_accuracy: 0.8356 - val_precision: 0.8471 - val_recall: 0.8239 - val_auc: 0.9536\n",
      "Epoch 45/50\n",
      "461/461 - 13s - loss: 0.0513 - accuracy: 0.9818 - precision: 0.9824 - recall: 0.9816 - auc: 0.9986 - val_loss: 0.0582 - val_accuracy: 0.9804 - val_precision: 0.9804 - val_recall: 0.9804 - val_auc: 0.9985\n",
      "Epoch 46/50\n",
      "461/461 - 13s - loss: 0.0060 - accuracy: 0.9980 - precision: 0.9980 - recall: 0.9980 - auc: 1.0000 - val_loss: 0.1091 - val_accuracy: 0.9706 - val_precision: 0.9706 - val_recall: 0.9706 - val_auc: 0.9965\n",
      "Epoch 47/50\n",
      "461/461 - 12s - loss: 0.0014 - accuracy: 0.9996 - precision: 0.9996 - recall: 0.9996 - auc: 1.0000 - val_loss: 0.1103 - val_accuracy: 0.9648 - val_precision: 0.9648 - val_recall: 0.9648 - val_auc: 0.9965\n",
      "Epoch 48/50\n",
      "461/461 - 13s - loss: 4.2868e-04 - accuracy: 1.0000 - precision: 1.0000 - recall: 1.0000 - auc: 1.0000 - val_loss: 0.0838 - val_accuracy: 0.9706 - val_precision: 0.9706 - val_recall: 0.9706 - val_auc: 0.9992\n",
      "Epoch 49/50\n",
      "461/461 - 12s - loss: 1.5540e-04 - accuracy: 1.0000 - precision: 1.0000 - recall: 1.0000 - auc: 1.0000 - val_loss: 0.0623 - val_accuracy: 0.9765 - val_precision: 0.9765 - val_recall: 0.9765 - val_auc: 0.9995\n",
      "Epoch 50/50\n",
      "461/461 - 13s - loss: 1.1733e-04 - accuracy: 1.0000 - precision: 1.0000 - recall: 1.0000 - auc: 1.0000 - val_loss: 0.0605 - val_accuracy: 0.9785 - val_precision: 0.9804 - val_recall: 0.9785 - val_auc: 0.9996\n"
     ]
    }
   ],
   "source": [
    "history_ECA = model_ECA.fit(x=train_batches,\n",
    "                            validation_data=validation_batches,\n",
    "                            steps_per_epoch=len(train_batches),\n",
    "                            validation_steps=len(validation_batches),\n",
    "                            epochs=EPOCHS,\n",
    "                            batch_size=BATCH_SIZE, \n",
    "                            verbose=2)"
   ]
  },
  {
   "cell_type": "code",
   "execution_count": 20,
   "id": "b17033f3",
   "metadata": {
    "execution": {
     "iopub.execute_input": "2022-06-06T12:04:52.368345Z",
     "iopub.status.busy": "2022-06-06T12:04:52.367977Z",
     "iopub.status.idle": "2022-06-06T12:04:52.378165Z",
     "shell.execute_reply": "2022-06-06T12:04:52.377196Z"
    },
    "papermill": {
     "duration": 0.039354,
     "end_time": "2022-06-06T12:04:52.383292",
     "exception": false,
     "start_time": "2022-06-06T12:04:52.343938",
     "status": "completed"
    },
    "tags": []
   },
   "outputs": [
    {
     "name": "stdout",
     "output_type": "stream",
     "text": [
      "Model: \"model\"\n",
      "__________________________________________________________________________________________________\n",
      "Layer (type)                    Output Shape         Param #     Connected to                     \n",
      "==================================================================================================\n",
      "input_1 (InputLayer)            [(None, 224, 224, 3) 0                                            \n",
      "__________________________________________________________________________________________________\n",
      "resizing_1 (Resizing)           (None, 224, 224, 3)  0           input_1[0][0]                    \n",
      "__________________________________________________________________________________________________\n",
      "rescaling_1 (Rescaling)         (None, 224, 224, 3)  0           resizing_1[0][0]                 \n",
      "__________________________________________________________________________________________________\n",
      "conv2d_4 (Conv2D)               (None, 224, 224, 32) 896         rescaling_1[0][0]                \n",
      "__________________________________________________________________________________________________\n",
      "tf.math.reduce_mean (TFOpLambda (None, 224)          0           conv2d_4[0][0]                   \n",
      "__________________________________________________________________________________________________\n",
      "tf.expand_dims (TFOpLambda)     (None, 1, 224)       0           tf.math.reduce_mean[0][0]        \n",
      "__________________________________________________________________________________________________\n",
      "conv1d (Conv1D)                 (None, 1, 1)         672         tf.expand_dims[0][0]             \n",
      "__________________________________________________________________________________________________\n",
      "tf.compat.v1.transpose (TFOpLam (None, 1, 1)         0           conv1d[0][0]                     \n",
      "__________________________________________________________________________________________________\n",
      "tf.expand_dims_1 (TFOpLambda)   (None, 1, 1, 1)      0           tf.compat.v1.transpose[0][0]     \n",
      "__________________________________________________________________________________________________\n",
      "tf.math.sigmoid (TFOpLambda)    (None, 1, 1, 1)      0           tf.expand_dims_1[0][0]           \n",
      "__________________________________________________________________________________________________\n",
      "tf.math.multiply_1 (TFOpLambda) (None, 224, 224, 32) 0           conv2d_4[0][0]                   \n",
      "                                                                 tf.math.sigmoid[0][0]            \n",
      "__________________________________________________________________________________________________\n",
      "batch_normalization_4 (BatchNor (None, 224, 224, 32) 128         tf.math.multiply_1[0][0]         \n",
      "__________________________________________________________________________________________________\n",
      "max_pooling2d_4 (MaxPooling2D)  (None, 112, 112, 32) 0           batch_normalization_4[0][0]      \n",
      "__________________________________________________________________________________________________\n",
      "conv2d_5 (Conv2D)               (None, 112, 112, 64) 18496       max_pooling2d_4[0][0]            \n",
      "__________________________________________________________________________________________________\n",
      "tf.math.reduce_mean_1 (TFOpLamb (None, 112)          0           conv2d_5[0][0]                   \n",
      "__________________________________________________________________________________________________\n",
      "tf.expand_dims_2 (TFOpLambda)   (None, 1, 112)       0           tf.math.reduce_mean_1[0][0]      \n",
      "__________________________________________________________________________________________________\n",
      "conv1d_1 (Conv1D)               (None, 1, 1)         336         tf.expand_dims_2[0][0]           \n",
      "__________________________________________________________________________________________________\n",
      "tf.compat.v1.transpose_1 (TFOpL (None, 1, 1)         0           conv1d_1[0][0]                   \n",
      "__________________________________________________________________________________________________\n",
      "tf.expand_dims_3 (TFOpLambda)   (None, 1, 1, 1)      0           tf.compat.v1.transpose_1[0][0]   \n",
      "__________________________________________________________________________________________________\n",
      "tf.math.sigmoid_1 (TFOpLambda)  (None, 1, 1, 1)      0           tf.expand_dims_3[0][0]           \n",
      "__________________________________________________________________________________________________\n",
      "tf.math.multiply_3 (TFOpLambda) (None, 112, 112, 64) 0           conv2d_5[0][0]                   \n",
      "                                                                 tf.math.sigmoid_1[0][0]          \n",
      "__________________________________________________________________________________________________\n",
      "batch_normalization_5 (BatchNor (None, 112, 112, 64) 256         tf.math.multiply_3[0][0]         \n",
      "__________________________________________________________________________________________________\n",
      "max_pooling2d_5 (MaxPooling2D)  (None, 56, 56, 64)   0           batch_normalization_5[0][0]      \n",
      "__________________________________________________________________________________________________\n",
      "conv2d_6 (Conv2D)               (None, 56, 56, 128)  73856       max_pooling2d_5[0][0]            \n",
      "__________________________________________________________________________________________________\n",
      "tf.math.reduce_mean_2 (TFOpLamb (None, 56)           0           conv2d_6[0][0]                   \n",
      "__________________________________________________________________________________________________\n",
      "tf.expand_dims_4 (TFOpLambda)   (None, 1, 56)        0           tf.math.reduce_mean_2[0][0]      \n",
      "__________________________________________________________________________________________________\n",
      "conv1d_2 (Conv1D)               (None, 1, 1)         168         tf.expand_dims_4[0][0]           \n",
      "__________________________________________________________________________________________________\n",
      "tf.compat.v1.transpose_2 (TFOpL (None, 1, 1)         0           conv1d_2[0][0]                   \n",
      "__________________________________________________________________________________________________\n",
      "tf.expand_dims_5 (TFOpLambda)   (None, 1, 1, 1)      0           tf.compat.v1.transpose_2[0][0]   \n",
      "__________________________________________________________________________________________________\n",
      "tf.math.sigmoid_2 (TFOpLambda)  (None, 1, 1, 1)      0           tf.expand_dims_5[0][0]           \n",
      "__________________________________________________________________________________________________\n",
      "tf.math.multiply_5 (TFOpLambda) (None, 56, 56, 128)  0           conv2d_6[0][0]                   \n",
      "                                                                 tf.math.sigmoid_2[0][0]          \n",
      "__________________________________________________________________________________________________\n",
      "batch_normalization_6 (BatchNor (None, 56, 56, 128)  512         tf.math.multiply_5[0][0]         \n",
      "__________________________________________________________________________________________________\n",
      "max_pooling2d_6 (MaxPooling2D)  (None, 28, 28, 128)  0           batch_normalization_6[0][0]      \n",
      "__________________________________________________________________________________________________\n",
      "conv2d_7 (Conv2D)               (None, 28, 28, 256)  295168      max_pooling2d_6[0][0]            \n",
      "__________________________________________________________________________________________________\n",
      "tf.math.reduce_mean_3 (TFOpLamb (None, 28)           0           conv2d_7[0][0]                   \n",
      "__________________________________________________________________________________________________\n",
      "tf.expand_dims_6 (TFOpLambda)   (None, 1, 28)        0           tf.math.reduce_mean_3[0][0]      \n",
      "__________________________________________________________________________________________________\n",
      "conv1d_3 (Conv1D)               (None, 1, 1)         84          tf.expand_dims_6[0][0]           \n",
      "__________________________________________________________________________________________________\n",
      "tf.compat.v1.transpose_3 (TFOpL (None, 1, 1)         0           conv1d_3[0][0]                   \n",
      "__________________________________________________________________________________________________\n",
      "tf.expand_dims_7 (TFOpLambda)   (None, 1, 1, 1)      0           tf.compat.v1.transpose_3[0][0]   \n",
      "__________________________________________________________________________________________________\n",
      "tf.math.sigmoid_3 (TFOpLambda)  (None, 1, 1, 1)      0           tf.expand_dims_7[0][0]           \n",
      "__________________________________________________________________________________________________\n",
      "tf.math.multiply_7 (TFOpLambda) (None, 28, 28, 256)  0           conv2d_7[0][0]                   \n",
      "                                                                 tf.math.sigmoid_3[0][0]          \n",
      "__________________________________________________________________________________________________\n",
      "batch_normalization_7 (BatchNor (None, 28, 28, 256)  1024        tf.math.multiply_7[0][0]         \n",
      "__________________________________________________________________________________________________\n",
      "max_pooling2d_7 (MaxPooling2D)  (None, 14, 14, 256)  0           batch_normalization_7[0][0]      \n",
      "__________________________________________________________________________________________________\n",
      "flatten_1 (Flatten)             (None, 50176)        0           max_pooling2d_7[0][0]            \n",
      "__________________________________________________________________________________________________\n",
      "dense_3 (Dense)                 (None, 300)          15053100    flatten_1[0][0]                  \n",
      "__________________________________________________________________________________________________\n",
      "dense_4 (Dense)                 (None, 150)          45150       dense_3[0][0]                    \n",
      "__________________________________________________________________________________________________\n",
      "dropout_1 (Dropout)             (None, 150)          0           dense_4[0][0]                    \n",
      "__________________________________________________________________________________________________\n",
      "dense_5 (Dense)                 (None, 4)            604         dropout_1[0][0]                  \n",
      "==================================================================================================\n",
      "Total params: 15,490,450\n",
      "Trainable params: 15,489,490\n",
      "Non-trainable params: 960\n",
      "__________________________________________________________________________________________________\n"
     ]
    }
   ],
   "source": [
    "model_ECA.summary()"
   ]
  },
  {
   "cell_type": "code",
   "execution_count": 21,
   "id": "fa6ce16c",
   "metadata": {
    "execution": {
     "iopub.execute_input": "2022-06-06T12:04:52.430940Z",
     "iopub.status.busy": "2022-06-06T12:04:52.430638Z",
     "iopub.status.idle": "2022-06-06T12:04:52.962755Z",
     "shell.execute_reply": "2022-06-06T12:04:52.961910Z"
    },
    "id": "EcHzFqz2pQNC",
    "papermill": {
     "duration": 0.558035,
     "end_time": "2022-06-06T12:04:52.964918",
     "exception": false,
     "start_time": "2022-06-06T12:04:52.406883",
     "status": "completed"
    },
    "tags": []
   },
   "outputs": [
    {
     "data": {
      "image/png": "[encoded data removed]",
      "text/plain": [
       "<Figure size 432x288 with 1 Axes>"
      ]
     },
     "metadata": {
      "needs_background": "light"
     },
     "output_type": "display_data"
    }
   ],
   "source": [
    "plot_loss(history_ECA, 0)"
   ]
  },
  {
   "cell_type": "code",
   "execution_count": 22,
   "id": "fac68e68",
   "metadata": {
    "execution": {
     "iopub.execute_input": "2022-06-06T12:04:53.016284Z",
     "iopub.status.busy": "2022-06-06T12:04:53.015470Z",
     "iopub.status.idle": "2022-06-06T12:04:55.991909Z",
     "shell.execute_reply": "2022-06-06T12:04:55.990011Z"
    },
    "id": "wniYyBoSpV_O",
    "papermill": {
     "duration": 3.005011,
     "end_time": "2022-06-06T12:04:55.994613",
     "exception": false,
     "start_time": "2022-06-06T12:04:52.989602",
     "status": "completed"
    },
    "tags": []
   },
   "outputs": [
    {
     "name": "stdout",
     "output_type": "stream",
     "text": [
      "loss :  1.4463093280792236\n",
      "accuracy :  0.7068021893501282\n",
      "precision :  0.7107958793640137\n",
      "recall :  0.7052384614944458\n",
      "auc :  0.8775234818458557\n"
     ]
    }
   ],
   "source": [
    "results = model_ECA.evaluate(test_batches, verbose=0)\n",
    "\n",
    "for name, value in zip(model_ECA.metrics_names, results):\n",
    "    print(name, ': ', value)"
   ]
  },
  {
   "cell_type": "markdown",
   "id": "497288d5",
   "metadata": {
    "papermill": {
     "duration": 0.021862,
     "end_time": "2022-06-06T12:04:56.039574",
     "exception": false,
     "start_time": "2022-06-06T12:04:56.017712",
     "status": "completed"
    },
    "tags": []
   },
   "source": [
    "##### Channel & Spatial Attention: CBAM "
   ]
  },
  {
   "cell_type": "code",
   "execution_count": 23,
   "id": "54afd6ce",
   "metadata": {
    "execution": {
     "iopub.execute_input": "2022-06-06T12:04:56.085114Z",
     "iopub.status.busy": "2022-06-06T12:04:56.084810Z",
     "iopub.status.idle": "2022-06-06T12:04:56.101808Z",
     "shell.execute_reply": "2022-06-06T12:04:56.100996Z"
    },
    "papermill": {
     "duration": 0.042176,
     "end_time": "2022-06-06T12:04:56.103743",
     "exception": false,
     "start_time": "2022-06-06T12:04:56.061567",
     "status": "completed"
    },
    "tags": []
   },
   "outputs": [],
   "source": [
    "def cbam_block(cbam_feature, ratio=8):\n",
    "    \"\"\"Contains the implementation of Convolutional Block Attention Module(CBAM) block.\n",
    "    As described in https://arxiv.org/abs/1807.06521.\n",
    "    \"\"\"\n",
    "    \n",
    "    cbam_feature = channel_attention(cbam_feature, ratio)\n",
    "    cbam_feature = spatial_attention(cbam_feature)\n",
    "    return cbam_feature\n",
    "\n",
    "def channel_attention(input_feature, ratio=8):\n",
    "    \n",
    "    channel_axis = 1 if K.image_data_format() == \"channels_first\" else -1\n",
    "    channel = input_feature.shape[channel_axis]\n",
    "    \n",
    "    shared_layer_one = Dense(channel//ratio,\n",
    "                             activation='relu',\n",
    "                             kernel_initializer='he_normal',\n",
    "                             use_bias=True,\n",
    "                             bias_initializer='zeros')\n",
    "    shared_layer_two = Dense(channel,\n",
    "                             kernel_initializer='he_normal',\n",
    "                             use_bias=True,\n",
    "                             bias_initializer='zeros')\n",
    "    \n",
    "    avg_pool = GlobalAveragePooling2D()(input_feature)    \n",
    "    avg_pool = Reshape((1,1,channel))(avg_pool)\n",
    "    assert avg_pool.shape[1:] == (1,1,channel)\n",
    "    avg_pool = shared_layer_one(avg_pool)\n",
    "    assert avg_pool.shape[1:] == (1,1,channel//ratio)\n",
    "    avg_pool = shared_layer_two(avg_pool)\n",
    "    assert avg_pool.shape[1:] == (1,1,channel)\n",
    "    \n",
    "    max_pool = GlobalMaxPooling2D()(input_feature)\n",
    "    max_pool = Reshape((1,1,channel))(max_pool)\n",
    "    assert max_pool.shape[1:] == (1,1,channel)\n",
    "    max_pool = shared_layer_one(max_pool)\n",
    "    assert max_pool.shape[1:] == (1,1,channel//ratio)\n",
    "    max_pool = shared_layer_two(max_pool)\n",
    "    assert max_pool.shape[1:] == (1,1,channel)\n",
    "    \n",
    "    cbam_feature = Add()([avg_pool,max_pool])\n",
    "    cbam_feature = Activation('sigmoid')(cbam_feature)\n",
    "    \n",
    "    if K.image_data_format() == \"channels_first\":\n",
    "        cbam_feature = Permute((3, 1, 2))(cbam_feature)\n",
    "    \n",
    "    return multiply([input_feature, cbam_feature])\n",
    "\n",
    "def spatial_attention(input_feature):\n",
    "    kernel_size = 7\n",
    "    \n",
    "    if K.image_data_format() == \"channels_first\":\n",
    "        channel = input_feature.shape[1]\n",
    "        cbam_feature = Permute((2,3,1))(input_feature)\n",
    "    else:\n",
    "        channel = input_feature.shape[-1]\n",
    "        cbam_feature = input_feature\n",
    "\n",
    "    avg_pool = Lambda(lambda x: K.mean(x, axis=3, keepdims=True))(cbam_feature)\n",
    "    assert avg_pool.shape[-1] == 1\n",
    "    max_pool = Lambda(lambda x: K.max(x, axis=3, keepdims=True))(cbam_feature)\n",
    "    assert max_pool.shape[-1] == 1\n",
    "    concat = Concatenate(axis=3)([avg_pool, max_pool])\n",
    "    assert concat.shape[-1] == 2\n",
    "    cbam_feature = Conv2D(filters = 1,\n",
    "                    kernel_size=kernel_size,\n",
    "                    strides=1,\n",
    "                    padding='same',\n",
    "                    activation='sigmoid',\n",
    "                    kernel_initializer='he_normal',\n",
    "                    use_bias=False)(concat)\t\n",
    "    assert cbam_feature.shape[-1] == 1\n",
    "    \n",
    "    if K.image_data_format() == \"channels_first\":\n",
    "        cbam_feature = Permute((3, 1, 2))(cbam_feature)\n",
    "    \n",
    "    return multiply([input_feature, cbam_feature])"
   ]
  },
  {
   "cell_type": "code",
   "execution_count": 24,
   "id": "dddb0afc",
   "metadata": {
    "execution": {
     "iopub.execute_input": "2022-06-06T12:04:56.148181Z",
     "iopub.status.busy": "2022-06-06T12:04:56.147884Z",
     "iopub.status.idle": "2022-06-06T12:04:56.595121Z",
     "shell.execute_reply": "2022-06-06T12:04:56.594337Z"
    },
    "papermill": {
     "duration": 0.471615,
     "end_time": "2022-06-06T12:04:56.597231",
     "exception": false,
     "start_time": "2022-06-06T12:04:56.125616",
     "status": "completed"
    },
    "tags": []
   },
   "outputs": [],
   "source": [
    "IMG_SIZE = 224\n",
    "n_classes = 4\n",
    "\n",
    "inp = layers.Input(shape=(IMG_SIZE,IMG_SIZE,3))\n",
    "x1 = layers.Resizing(IMG_SIZE, IMG_SIZE)(inp)\n",
    "x2 = layers.Rescaling(1./255)(x1)\n",
    "x3 = layers.Conv2D(filters=32, kernel_size=(3, 3), activation='relu', \n",
    "                   padding = 'same', input_shape=(IMG_SIZE,IMG_SIZE,3))(x2)\n",
    "x4 = cbam_block(x3)\n",
    "x5 = layers.BatchNormalization(axis=-1)(x4)\n",
    "x6 = layers.MaxPool2D(pool_size=(2, 2))(x5)\n",
    "x7 = layers.Conv2D(filters=64, kernel_size=(3, 3), \n",
    "                   activation='relu', padding = 'same')(x6)\n",
    "x8 = cbam_block(x7)\n",
    "x9 = layers.BatchNormalization(axis=-1)(x8)\n",
    "x10 = layers.MaxPool2D(pool_size=(2, 2))(x9)\n",
    "x11 = layers.Conv2D(filters=128, kernel_size=(3, 3), \n",
    "                    activation='relu', padding = 'same')(x10)\n",
    "x12 = cbam_block(x11)\n",
    "x13 = layers.BatchNormalization(axis=-1)(x12)\n",
    "x14 = layers.MaxPool2D(pool_size=(2, 2))(x13)\n",
    "x15 = layers.Conv2D(filters=256, kernel_size=(3, 3), \n",
    "                      activation='relu', padding = 'same')(x14)\n",
    "x16 = cbam_block(x15)\n",
    "x17 = layers.BatchNormalization(axis=-1)(x16)\n",
    "x18 = layers.MaxPool2D(pool_size=(2, 2))(x17)\n",
    "y1 = layers.Flatten()(x18)\n",
    "y2 = layers.Dense(300, activation='relu')(y1)\n",
    "y3 = layers.Dense(150, activation='relu')(y2)\n",
    "y4 = layers.Dropout(0.25)(y3)\n",
    "y = layers.Dense(n_classes, activation='softmax')(y4)   \n",
    "\n",
    "\n",
    "model_CBAM = tf.keras.Model(inp, y)"
   ]
  },
  {
   "cell_type": "code",
   "execution_count": 25,
   "id": "400f619e",
   "metadata": {
    "execution": {
     "iopub.execute_input": "2022-06-06T12:04:56.642676Z",
     "iopub.status.busy": "2022-06-06T12:04:56.641986Z",
     "iopub.status.idle": "2022-06-06T12:04:56.651827Z",
     "shell.execute_reply": "2022-06-06T12:04:56.651012Z"
    },
    "papermill": {
     "duration": 0.03485,
     "end_time": "2022-06-06T12:04:56.653878",
     "exception": false,
     "start_time": "2022-06-06T12:04:56.619028",
     "status": "completed"
    },
    "tags": []
   },
   "outputs": [],
   "source": [
    "model_CBAM.compile(optimizer=tf.keras.optimizers.Adam(learning_rate=0.0001), \n",
    "                   loss='categorical_crossentropy', \n",
    "                   metrics=METRICS)"
   ]
  },
  {
   "cell_type": "code",
   "execution_count": 26,
   "id": "5c548a84",
   "metadata": {
    "execution": {
     "iopub.execute_input": "2022-06-06T12:04:56.698757Z",
     "iopub.status.busy": "2022-06-06T12:04:56.698470Z",
     "iopub.status.idle": "2022-06-06T12:29:18.687887Z",
     "shell.execute_reply": "2022-06-06T12:29:18.686980Z"
    },
    "papermill": {
     "duration": 1462.013924,
     "end_time": "2022-06-06T12:29:18.690036",
     "exception": false,
     "start_time": "2022-06-06T12:04:56.676112",
     "status": "completed"
    },
    "tags": []
   },
   "outputs": [
    {
     "name": "stdout",
     "output_type": "stream",
     "text": [
      "Epoch 1/50\n",
      "461/461 - 28s - loss: 1.0979 - accuracy: 0.5891 - precision: 0.6180 - recall: 0.5410 - auc: 0.8362 - val_loss: 3.2494 - val_accuracy: 0.5010 - val_precision: 0.5010 - val_recall: 0.5010 - val_auc: 0.7864\n",
      "Epoch 2/50\n",
      "461/461 - 24s - loss: 0.6355 - accuracy: 0.7371 - precision: 0.7695 - recall: 0.6857 - auc: 0.9285 - val_loss: 0.6280 - val_accuracy: 0.7221 - val_precision: 0.7532 - val_recall: 0.6986 - val_auc: 0.9313\n",
      "Epoch 3/50\n",
      "461/461 - 25s - loss: 0.3547 - accuracy: 0.8560 - precision: 0.8808 - recall: 0.8419 - auc: 0.9772 - val_loss: 0.6826 - val_accuracy: 0.7241 - val_precision: 0.7339 - val_recall: 0.7123 - val_auc: 0.9296\n",
      "Epoch 4/50\n",
      "461/461 - 24s - loss: 0.1981 - accuracy: 0.9284 - precision: 0.9357 - recall: 0.9213 - auc: 0.9921 - val_loss: 0.5530 - val_accuracy: 0.7769 - val_precision: 0.7853 - val_recall: 0.7730 - val_auc: 0.9526\n",
      "Epoch 5/50\n",
      "461/461 - 24s - loss: 0.1107 - accuracy: 0.9638 - precision: 0.9671 - recall: 0.9618 - auc: 0.9972 - val_loss: 0.3731 - val_accuracy: 0.8787 - val_precision: 0.8799 - val_recall: 0.8748 - val_auc: 0.9723\n",
      "Epoch 6/50\n",
      "461/461 - 24s - loss: 0.0643 - accuracy: 0.9779 - precision: 0.9796 - recall: 0.9770 - auc: 0.9990 - val_loss: 0.7319 - val_accuracy: 0.7945 - val_precision: 0.7964 - val_recall: 0.7886 - val_auc: 0.9383\n",
      "Epoch 7/50\n",
      "461/461 - 24s - loss: 0.0574 - accuracy: 0.9826 - precision: 0.9831 - recall: 0.9818 - auc: 0.9989 - val_loss: 1.0462 - val_accuracy: 0.6986 - val_precision: 0.7000 - val_recall: 0.6986 - val_auc: 0.9188\n",
      "Epoch 8/50\n",
      "461/461 - 25s - loss: 0.0600 - accuracy: 0.9772 - precision: 0.9780 - recall: 0.9761 - auc: 0.9989 - val_loss: 0.4270 - val_accuracy: 0.8474 - val_precision: 0.8571 - val_recall: 0.8454 - val_auc: 0.9738\n",
      "Epoch 9/50\n",
      "461/461 - 24s - loss: 0.0768 - accuracy: 0.9720 - precision: 0.9728 - recall: 0.9714 - auc: 0.9984 - val_loss: 0.2473 - val_accuracy: 0.8963 - val_precision: 0.8998 - val_recall: 0.8963 - val_auc: 0.9893\n",
      "Epoch 10/50\n",
      "461/461 - 24s - loss: 0.0250 - accuracy: 0.9920 - precision: 0.9920 - recall: 0.9918 - auc: 0.9997 - val_loss: 0.9245 - val_accuracy: 0.7886 - val_precision: 0.7945 - val_recall: 0.7867 - val_auc: 0.9295\n",
      "Epoch 11/50\n",
      "461/461 - 24s - loss: 0.0574 - accuracy: 0.9820 - precision: 0.9833 - recall: 0.9816 - auc: 0.9986 - val_loss: 0.2273 - val_accuracy: 0.9198 - val_precision: 0.9234 - val_recall: 0.9198 - val_auc: 0.9868\n",
      "Epoch 12/50\n",
      "461/461 - 24s - loss: 0.0603 - accuracy: 0.9783 - precision: 0.9798 - recall: 0.9772 - auc: 0.9986 - val_loss: 0.2883 - val_accuracy: 0.9022 - val_precision: 0.9075 - val_recall: 0.9022 - val_auc: 0.9874\n",
      "Epoch 13/50\n",
      "461/461 - 24s - loss: 0.0345 - accuracy: 0.9889 - precision: 0.9891 - recall: 0.9887 - auc: 0.9994 - val_loss: 0.1802 - val_accuracy: 0.9335 - val_precision: 0.9353 - val_recall: 0.9335 - val_auc: 0.9932\n",
      "Epoch 14/50\n",
      "461/461 - 24s - loss: 0.0408 - accuracy: 0.9857 - precision: 0.9859 - recall: 0.9855 - auc: 0.9994 - val_loss: 0.1929 - val_accuracy: 0.9217 - val_precision: 0.9235 - val_recall: 0.9217 - val_auc: 0.9920\n",
      "Epoch 15/50\n",
      "461/461 - 25s - loss: 0.0504 - accuracy: 0.9831 - precision: 0.9835 - recall: 0.9831 - auc: 0.9989 - val_loss: 0.2550 - val_accuracy: 0.8767 - val_precision: 0.8849 - val_recall: 0.8728 - val_auc: 0.9873\n",
      "Epoch 16/50\n",
      "461/461 - 24s - loss: 0.0279 - accuracy: 0.9913 - precision: 0.9915 - recall: 0.9907 - auc: 0.9998 - val_loss: 0.1341 - val_accuracy: 0.9511 - val_precision: 0.9509 - val_recall: 0.9472 - val_auc: 0.9964\n",
      "Epoch 17/50\n",
      "461/461 - 25s - loss: 0.0322 - accuracy: 0.9889 - precision: 0.9891 - recall: 0.9887 - auc: 0.9992 - val_loss: 0.3363 - val_accuracy: 0.9002 - val_precision: 0.9020 - val_recall: 0.9002 - val_auc: 0.9832\n",
      "Epoch 18/50\n",
      "461/461 - 24s - loss: 0.0240 - accuracy: 0.9902 - precision: 0.9905 - recall: 0.9902 - auc: 0.9996 - val_loss: 0.2978 - val_accuracy: 0.8963 - val_precision: 0.9010 - val_recall: 0.8904 - val_auc: 0.9872\n",
      "Epoch 19/50\n",
      "461/461 - 24s - loss: 0.0248 - accuracy: 0.9926 - precision: 0.9926 - recall: 0.9926 - auc: 0.9996 - val_loss: 0.3896 - val_accuracy: 0.8865 - val_precision: 0.8895 - val_recall: 0.8826 - val_auc: 0.9793\n",
      "Epoch 20/50\n",
      "461/461 - 24s - loss: 0.0111 - accuracy: 0.9965 - precision: 0.9967 - recall: 0.9965 - auc: 0.9998 - val_loss: 0.1349 - val_accuracy: 0.9648 - val_precision: 0.9648 - val_recall: 0.9648 - val_auc: 0.9939\n",
      "Epoch 21/50\n",
      "461/461 - 24s - loss: 0.0449 - accuracy: 0.9837 - precision: 0.9842 - recall: 0.9833 - auc: 0.9995 - val_loss: 0.3005 - val_accuracy: 0.8982 - val_precision: 0.9016 - val_recall: 0.8963 - val_auc: 0.9856\n",
      "Epoch 22/50\n",
      "461/461 - 24s - loss: 0.0082 - accuracy: 0.9980 - precision: 0.9980 - recall: 0.9978 - auc: 0.9998 - val_loss: 0.0355 - val_accuracy: 0.9902 - val_precision: 0.9902 - val_recall: 0.9902 - val_auc: 0.9985\n",
      "Epoch 23/50\n",
      "461/461 - 24s - loss: 0.0168 - accuracy: 0.9944 - precision: 0.9944 - recall: 0.9944 - auc: 0.9997 - val_loss: 3.4839 - val_accuracy: 0.6438 - val_precision: 0.6476 - val_recall: 0.6438 - val_auc: 0.8054\n",
      "Epoch 24/50\n",
      "461/461 - 24s - loss: 0.0380 - accuracy: 0.9879 - precision: 0.9883 - recall: 0.9872 - auc: 0.9992 - val_loss: 0.3133 - val_accuracy: 0.9080 - val_precision: 0.9080 - val_recall: 0.9080 - val_auc: 0.9829\n",
      "Epoch 25/50\n",
      "461/461 - 24s - loss: 0.0353 - accuracy: 0.9868 - precision: 0.9868 - recall: 0.9866 - auc: 0.9990 - val_loss: 0.1491 - val_accuracy: 0.9472 - val_precision: 0.9472 - val_recall: 0.9472 - val_auc: 0.9945\n",
      "Epoch 26/50\n",
      "461/461 - 24s - loss: 0.0151 - accuracy: 0.9946 - precision: 0.9948 - recall: 0.9946 - auc: 0.9997 - val_loss: 0.5631 - val_accuracy: 0.8395 - val_precision: 0.8462 - val_recall: 0.8395 - val_auc: 0.9641\n",
      "Epoch 27/50\n",
      "461/461 - 24s - loss: 0.0196 - accuracy: 0.9935 - precision: 0.9935 - recall: 0.9935 - auc: 0.9997 - val_loss: 0.0713 - val_accuracy: 0.9628 - val_precision: 0.9627 - val_recall: 0.9609 - val_auc: 0.9990\n",
      "Epoch 28/50\n",
      "461/461 - 24s - loss: 0.0545 - accuracy: 0.9839 - precision: 0.9844 - recall: 0.9839 - auc: 0.9979 - val_loss: 0.4209 - val_accuracy: 0.8708 - val_precision: 0.8706 - val_recall: 0.8689 - val_auc: 0.9722\n",
      "Epoch 29/50\n",
      "461/461 - 24s - loss: 0.0076 - accuracy: 0.9976 - precision: 0.9976 - recall: 0.9976 - auc: 1.0000 - val_loss: 0.1144 - val_accuracy: 0.9530 - val_precision: 0.9529 - val_recall: 0.9511 - val_auc: 0.9971\n",
      "Epoch 30/50\n",
      "461/461 - 24s - loss: 0.0030 - accuracy: 0.9987 - precision: 0.9987 - recall: 0.9987 - auc: 1.0000 - val_loss: 0.0269 - val_accuracy: 0.9922 - val_precision: 0.9922 - val_recall: 0.9922 - val_auc: 0.9989\n",
      "Epoch 31/50\n",
      "461/461 - 24s - loss: 3.8388e-04 - accuracy: 1.0000 - precision: 1.0000 - recall: 1.0000 - auc: 1.0000 - val_loss: 0.0367 - val_accuracy: 0.9883 - val_precision: 0.9902 - val_recall: 0.9883 - val_auc: 0.9985\n",
      "Epoch 32/50\n",
      "461/461 - 24s - loss: 1.0579e-04 - accuracy: 1.0000 - precision: 1.0000 - recall: 1.0000 - auc: 1.0000 - val_loss: 0.0276 - val_accuracy: 0.9902 - val_precision: 0.9902 - val_recall: 0.9902 - val_auc: 0.9998\n",
      "Epoch 33/50\n",
      "461/461 - 24s - loss: 1.0032e-04 - accuracy: 1.0000 - precision: 1.0000 - recall: 1.0000 - auc: 1.0000 - val_loss: 0.0253 - val_accuracy: 0.9922 - val_precision: 0.9922 - val_recall: 0.9922 - val_auc: 0.9999\n",
      "Epoch 34/50\n",
      "461/461 - 24s - loss: 5.4051e-05 - accuracy: 1.0000 - precision: 1.0000 - recall: 1.0000 - auc: 1.0000 - val_loss: 0.0288 - val_accuracy: 0.9883 - val_precision: 0.9883 - val_recall: 0.9883 - val_auc: 0.9999\n",
      "Epoch 35/50\n",
      "461/461 - 24s - loss: 6.8997e-05 - accuracy: 1.0000 - precision: 1.0000 - recall: 1.0000 - auc: 1.0000 - val_loss: 0.0283 - val_accuracy: 0.9902 - val_precision: 0.9902 - val_recall: 0.9902 - val_auc: 0.9998\n",
      "Epoch 36/50\n",
      "461/461 - 24s - loss: 5.4391e-05 - accuracy: 1.0000 - precision: 1.0000 - recall: 1.0000 - auc: 1.0000 - val_loss: 0.0218 - val_accuracy: 0.9902 - val_precision: 0.9902 - val_recall: 0.9902 - val_auc: 0.9999\n",
      "Epoch 37/50\n",
      "461/461 - 24s - loss: 3.3610e-05 - accuracy: 1.0000 - precision: 1.0000 - recall: 1.0000 - auc: 1.0000 - val_loss: 0.0237 - val_accuracy: 0.9883 - val_precision: 0.9883 - val_recall: 0.9883 - val_auc: 0.9999\n",
      "Epoch 38/50\n",
      "461/461 - 24s - loss: 2.2787e-05 - accuracy: 1.0000 - precision: 1.0000 - recall: 1.0000 - auc: 1.0000 - val_loss: 0.0186 - val_accuracy: 0.9902 - val_precision: 0.9902 - val_recall: 0.9902 - val_auc: 0.9999\n",
      "Epoch 39/50\n",
      "461/461 - 24s - loss: 3.1667e-05 - accuracy: 1.0000 - precision: 1.0000 - recall: 1.0000 - auc: 1.0000 - val_loss: 0.0213 - val_accuracy: 0.9902 - val_precision: 0.9902 - val_recall: 0.9902 - val_auc: 0.9999\n",
      "Epoch 40/50\n",
      "461/461 - 24s - loss: 2.8106e-05 - accuracy: 1.0000 - precision: 1.0000 - recall: 1.0000 - auc: 1.0000 - val_loss: 0.0254 - val_accuracy: 0.9883 - val_precision: 0.9883 - val_recall: 0.9883 - val_auc: 0.9999\n",
      "Epoch 41/50\n",
      "461/461 - 24s - loss: 1.3295e-05 - accuracy: 1.0000 - precision: 1.0000 - recall: 1.0000 - auc: 1.0000 - val_loss: 0.0267 - val_accuracy: 0.9902 - val_precision: 0.9902 - val_recall: 0.9902 - val_auc: 0.9999\n",
      "Epoch 42/50\n",
      "461/461 - 24s - loss: 0.1155 - accuracy: 0.9618 - precision: 0.9633 - recall: 0.9610 - auc: 0.9963 - val_loss: 0.2558 - val_accuracy: 0.9335 - val_precision: 0.9335 - val_recall: 0.9335 - val_auc: 0.9859\n",
      "Epoch 43/50\n",
      "461/461 - 24s - loss: 0.0100 - accuracy: 0.9965 - precision: 0.9967 - recall: 0.9965 - auc: 1.0000 - val_loss: 0.0734 - val_accuracy: 0.9765 - val_precision: 0.9765 - val_recall: 0.9765 - val_auc: 0.9982\n",
      "Epoch 44/50\n",
      "461/461 - 24s - loss: 0.0055 - accuracy: 0.9987 - precision: 0.9987 - recall: 0.9987 - auc: 0.9999 - val_loss: 0.1315 - val_accuracy: 0.9569 - val_precision: 0.9569 - val_recall: 0.9569 - val_auc: 0.9953\n",
      "Epoch 45/50\n",
      "461/461 - 24s - loss: 0.0111 - accuracy: 0.9965 - precision: 0.9965 - recall: 0.9965 - auc: 1.0000 - val_loss: 0.0914 - val_accuracy: 0.9628 - val_precision: 0.9627 - val_recall: 0.9609 - val_auc: 0.9988\n",
      "Epoch 46/50\n",
      "461/461 - 24s - loss: 0.0030 - accuracy: 0.9987 - precision: 0.9987 - recall: 0.9987 - auc: 1.0000 - val_loss: 0.0640 - val_accuracy: 0.9765 - val_precision: 0.9765 - val_recall: 0.9765 - val_auc: 0.9981\n",
      "Epoch 47/50\n",
      "461/461 - 24s - loss: 0.0320 - accuracy: 0.9898 - precision: 0.9902 - recall: 0.9898 - auc: 0.9993 - val_loss: 0.1697 - val_accuracy: 0.9491 - val_precision: 0.9491 - val_recall: 0.9491 - val_auc: 0.9915\n",
      "Epoch 48/50\n",
      "461/461 - 24s - loss: 0.0152 - accuracy: 0.9954 - precision: 0.9954 - recall: 0.9954 - auc: 0.9998 - val_loss: 0.0405 - val_accuracy: 0.9824 - val_precision: 0.9824 - val_recall: 0.9824 - val_auc: 0.9997\n",
      "Epoch 49/50\n",
      "461/461 - 24s - loss: 0.0179 - accuracy: 0.9939 - precision: 0.9941 - recall: 0.9939 - auc: 0.9997 - val_loss: 0.1274 - val_accuracy: 0.9550 - val_precision: 0.9549 - val_recall: 0.9530 - val_auc: 0.9954\n",
      "Epoch 50/50\n",
      "461/461 - 24s - loss: 0.0137 - accuracy: 0.9954 - precision: 0.9954 - recall: 0.9954 - auc: 0.9997 - val_loss: 0.2925 - val_accuracy: 0.9178 - val_precision: 0.9178 - val_recall: 0.9178 - val_auc: 0.9853\n"
     ]
    }
   ],
   "source": [
    "history_CBAM = model_CBAM.fit(x=train_batches,\n",
    "                              validation_data=validation_batches,\n",
    "                              steps_per_epoch=len(train_batches),\n",
    "                              validation_steps=len(validation_batches),\n",
    "                              epochs=EPOCHS,\n",
    "                              batch_size=BATCH_SIZE, \n",
    "                              verbose=2)"
   ]
  },
  {
   "cell_type": "code",
   "execution_count": 27,
   "id": "cce3c90f",
   "metadata": {
    "execution": {
     "iopub.execute_input": "2022-06-06T12:29:18.746697Z",
     "iopub.status.busy": "2022-06-06T12:29:18.745967Z",
     "iopub.status.idle": "2022-06-06T12:29:18.757407Z",
     "shell.execute_reply": "2022-06-06T12:29:18.756649Z"
    },
    "papermill": {
     "duration": 0.043969,
     "end_time": "2022-06-06T12:29:18.761940",
     "exception": false,
     "start_time": "2022-06-06T12:29:18.717971",
     "status": "completed"
    },
    "tags": []
   },
   "outputs": [
    {
     "name": "stdout",
     "output_type": "stream",
     "text": [
      "Model: \"model_1\"\n",
      "__________________________________________________________________________________________________\n",
      "Layer (type)                    Output Shape         Param #     Connected to                     \n",
      "==================================================================================================\n",
      "input_2 (InputLayer)            [(None, 224, 224, 3) 0                                            \n",
      "__________________________________________________________________________________________________\n",
      "resizing_2 (Resizing)           (None, 224, 224, 3)  0           input_2[0][0]                    \n",
      "__________________________________________________________________________________________________\n",
      "rescaling_2 (Rescaling)         (None, 224, 224, 3)  0           resizing_2[0][0]                 \n",
      "__________________________________________________________________________________________________\n",
      "conv2d_8 (Conv2D)               (None, 224, 224, 32) 896         rescaling_2[0][0]                \n",
      "__________________________________________________________________________________________________\n",
      "global_average_pooling2d (Globa (None, 32)           0           conv2d_8[0][0]                   \n",
      "__________________________________________________________________________________________________\n",
      "global_max_pooling2d (GlobalMax (None, 32)           0           conv2d_8[0][0]                   \n",
      "__________________________________________________________________________________________________\n",
      "reshape (Reshape)               (None, 1, 1, 32)     0           global_average_pooling2d[0][0]   \n",
      "__________________________________________________________________________________________________\n",
      "reshape_1 (Reshape)             (None, 1, 1, 32)     0           global_max_pooling2d[0][0]       \n",
      "__________________________________________________________________________________________________\n",
      "dense_6 (Dense)                 (None, 1, 1, 4)      132         reshape[0][0]                    \n",
      "                                                                 reshape_1[0][0]                  \n",
      "__________________________________________________________________________________________________\n",
      "dense_7 (Dense)                 (None, 1, 1, 32)     160         dense_6[0][0]                    \n",
      "                                                                 dense_6[1][0]                    \n",
      "__________________________________________________________________________________________________\n",
      "add (Add)                       (None, 1, 1, 32)     0           dense_7[0][0]                    \n",
      "                                                                 dense_7[1][0]                    \n",
      "__________________________________________________________________________________________________\n",
      "activation (Activation)         (None, 1, 1, 32)     0           add[0][0]                        \n",
      "__________________________________________________________________________________________________\n",
      "multiply (Multiply)             (None, 224, 224, 32) 0           conv2d_8[0][0]                   \n",
      "                                                                 activation[0][0]                 \n",
      "__________________________________________________________________________________________________\n",
      "lambda (Lambda)                 (None, 224, 224, 1)  0           multiply[0][0]                   \n",
      "__________________________________________________________________________________________________\n",
      "lambda_1 (Lambda)               (None, 224, 224, 1)  0           multiply[0][0]                   \n",
      "__________________________________________________________________________________________________\n",
      "concatenate (Concatenate)       (None, 224, 224, 2)  0           lambda[0][0]                     \n",
      "                                                                 lambda_1[0][0]                   \n",
      "__________________________________________________________________________________________________\n",
      "conv2d_9 (Conv2D)               (None, 224, 224, 1)  98          concatenate[0][0]                \n",
      "__________________________________________________________________________________________________\n",
      "multiply_1 (Multiply)           (None, 224, 224, 32) 0           multiply[0][0]                   \n",
      "                                                                 conv2d_9[0][0]                   \n",
      "__________________________________________________________________________________________________\n",
      "batch_normalization_8 (BatchNor (None, 224, 224, 32) 128         multiply_1[0][0]                 \n",
      "__________________________________________________________________________________________________\n",
      "max_pooling2d_8 (MaxPooling2D)  (None, 112, 112, 32) 0           batch_normalization_8[0][0]      \n",
      "__________________________________________________________________________________________________\n",
      "conv2d_10 (Conv2D)              (None, 112, 112, 64) 18496       max_pooling2d_8[0][0]            \n",
      "__________________________________________________________________________________________________\n",
      "global_average_pooling2d_1 (Glo (None, 64)           0           conv2d_10[0][0]                  \n",
      "__________________________________________________________________________________________________\n",
      "global_max_pooling2d_1 (GlobalM (None, 64)           0           conv2d_10[0][0]                  \n",
      "__________________________________________________________________________________________________\n",
      "reshape_2 (Reshape)             (None, 1, 1, 64)     0           global_average_pooling2d_1[0][0] \n",
      "__________________________________________________________________________________________________\n",
      "reshape_3 (Reshape)             (None, 1, 1, 64)     0           global_max_pooling2d_1[0][0]     \n",
      "__________________________________________________________________________________________________\n",
      "dense_8 (Dense)                 (None, 1, 1, 8)      520         reshape_2[0][0]                  \n",
      "                                                                 reshape_3[0][0]                  \n",
      "__________________________________________________________________________________________________\n",
      "dense_9 (Dense)                 (None, 1, 1, 64)     576         dense_8[0][0]                    \n",
      "                                                                 dense_8[1][0]                    \n",
      "__________________________________________________________________________________________________\n",
      "add_1 (Add)                     (None, 1, 1, 64)     0           dense_9[0][0]                    \n",
      "                                                                 dense_9[1][0]                    \n",
      "__________________________________________________________________________________________________\n",
      "activation_1 (Activation)       (None, 1, 1, 64)     0           add_1[0][0]                      \n",
      "__________________________________________________________________________________________________\n",
      "multiply_2 (Multiply)           (None, 112, 112, 64) 0           conv2d_10[0][0]                  \n",
      "                                                                 activation_1[0][0]               \n",
      "__________________________________________________________________________________________________\n",
      "lambda_2 (Lambda)               (None, 112, 112, 1)  0           multiply_2[0][0]                 \n",
      "__________________________________________________________________________________________________\n",
      "lambda_3 (Lambda)               (None, 112, 112, 1)  0           multiply_2[0][0]                 \n",
      "__________________________________________________________________________________________________\n",
      "concatenate_1 (Concatenate)     (None, 112, 112, 2)  0           lambda_2[0][0]                   \n",
      "                                                                 lambda_3[0][0]                   \n",
      "__________________________________________________________________________________________________\n",
      "conv2d_11 (Conv2D)              (None, 112, 112, 1)  98          concatenate_1[0][0]              \n",
      "__________________________________________________________________________________________________\n",
      "multiply_3 (Multiply)           (None, 112, 112, 64) 0           multiply_2[0][0]                 \n",
      "                                                                 conv2d_11[0][0]                  \n",
      "__________________________________________________________________________________________________\n",
      "batch_normalization_9 (BatchNor (None, 112, 112, 64) 256         multiply_3[0][0]                 \n",
      "__________________________________________________________________________________________________\n",
      "max_pooling2d_9 (MaxPooling2D)  (None, 56, 56, 64)   0           batch_normalization_9[0][0]      \n",
      "__________________________________________________________________________________________________\n",
      "conv2d_12 (Conv2D)              (None, 56, 56, 128)  73856       max_pooling2d_9[0][0]            \n",
      "__________________________________________________________________________________________________\n",
      "global_average_pooling2d_2 (Glo (None, 128)          0           conv2d_12[0][0]                  \n",
      "__________________________________________________________________________________________________\n",
      "global_max_pooling2d_2 (GlobalM (None, 128)          0           conv2d_12[0][0]                  \n",
      "__________________________________________________________________________________________________\n",
      "reshape_4 (Reshape)             (None, 1, 1, 128)    0           global_average_pooling2d_2[0][0] \n",
      "__________________________________________________________________________________________________\n",
      "reshape_5 (Reshape)             (None, 1, 1, 128)    0           global_max_pooling2d_2[0][0]     \n",
      "__________________________________________________________________________________________________\n",
      "dense_10 (Dense)                (None, 1, 1, 16)     2064        reshape_4[0][0]                  \n",
      "                                                                 reshape_5[0][0]                  \n",
      "__________________________________________________________________________________________________\n",
      "dense_11 (Dense)                (None, 1, 1, 128)    2176        dense_10[0][0]                   \n",
      "                                                                 dense_10[1][0]                   \n",
      "__________________________________________________________________________________________________\n",
      "add_2 (Add)                     (None, 1, 1, 128)    0           dense_11[0][0]                   \n",
      "                                                                 dense_11[1][0]                   \n",
      "__________________________________________________________________________________________________\n",
      "activation_2 (Activation)       (None, 1, 1, 128)    0           add_2[0][0]                      \n",
      "__________________________________________________________________________________________________\n",
      "multiply_4 (Multiply)           (None, 56, 56, 128)  0           conv2d_12[0][0]                  \n",
      "                                                                 activation_2[0][0]               \n",
      "__________________________________________________________________________________________________\n",
      "lambda_4 (Lambda)               (None, 56, 56, 1)    0           multiply_4[0][0]                 \n",
      "__________________________________________________________________________________________________\n",
      "lambda_5 (Lambda)               (None, 56, 56, 1)    0           multiply_4[0][0]                 \n",
      "__________________________________________________________________________________________________\n",
      "concatenate_2 (Concatenate)     (None, 56, 56, 2)    0           lambda_4[0][0]                   \n",
      "                                                                 lambda_5[0][0]                   \n",
      "__________________________________________________________________________________________________\n",
      "conv2d_13 (Conv2D)              (None, 56, 56, 1)    98          concatenate_2[0][0]              \n",
      "__________________________________________________________________________________________________\n",
      "multiply_5 (Multiply)           (None, 56, 56, 128)  0           multiply_4[0][0]                 \n",
      "                                                                 conv2d_13[0][0]                  \n",
      "__________________________________________________________________________________________________\n",
      "batch_normalization_10 (BatchNo (None, 56, 56, 128)  512         multiply_5[0][0]                 \n",
      "__________________________________________________________________________________________________\n",
      "max_pooling2d_10 (MaxPooling2D) (None, 28, 28, 128)  0           batch_normalization_10[0][0]     \n",
      "__________________________________________________________________________________________________\n",
      "conv2d_14 (Conv2D)              (None, 28, 28, 256)  295168      max_pooling2d_10[0][0]           \n",
      "__________________________________________________________________________________________________\n",
      "global_average_pooling2d_3 (Glo (None, 256)          0           conv2d_14[0][0]                  \n",
      "__________________________________________________________________________________________________\n",
      "global_max_pooling2d_3 (GlobalM (None, 256)          0           conv2d_14[0][0]                  \n",
      "__________________________________________________________________________________________________\n",
      "reshape_6 (Reshape)             (None, 1, 1, 256)    0           global_average_pooling2d_3[0][0] \n",
      "__________________________________________________________________________________________________\n",
      "reshape_7 (Reshape)             (None, 1, 1, 256)    0           global_max_pooling2d_3[0][0]     \n",
      "__________________________________________________________________________________________________\n",
      "dense_12 (Dense)                (None, 1, 1, 32)     8224        reshape_6[0][0]                  \n",
      "                                                                 reshape_7[0][0]                  \n",
      "__________________________________________________________________________________________________\n",
      "dense_13 (Dense)                (None, 1, 1, 256)    8448        dense_12[0][0]                   \n",
      "                                                                 dense_12[1][0]                   \n",
      "__________________________________________________________________________________________________\n",
      "add_3 (Add)                     (None, 1, 1, 256)    0           dense_13[0][0]                   \n",
      "                                                                 dense_13[1][0]                   \n",
      "__________________________________________________________________________________________________\n",
      "activation_3 (Activation)       (None, 1, 1, 256)    0           add_3[0][0]                      \n",
      "__________________________________________________________________________________________________\n",
      "multiply_6 (Multiply)           (None, 28, 28, 256)  0           conv2d_14[0][0]                  \n",
      "                                                                 activation_3[0][0]               \n",
      "__________________________________________________________________________________________________\n",
      "lambda_6 (Lambda)               (None, 28, 28, 1)    0           multiply_6[0][0]                 \n",
      "__________________________________________________________________________________________________\n",
      "lambda_7 (Lambda)               (None, 28, 28, 1)    0           multiply_6[0][0]                 \n",
      "__________________________________________________________________________________________________\n",
      "concatenate_3 (Concatenate)     (None, 28, 28, 2)    0           lambda_6[0][0]                   \n",
      "                                                                 lambda_7[0][0]                   \n",
      "__________________________________________________________________________________________________\n",
      "conv2d_15 (Conv2D)              (None, 28, 28, 1)    98          concatenate_3[0][0]              \n",
      "__________________________________________________________________________________________________\n",
      "multiply_7 (Multiply)           (None, 28, 28, 256)  0           multiply_6[0][0]                 \n",
      "                                                                 conv2d_15[0][0]                  \n",
      "__________________________________________________________________________________________________\n",
      "batch_normalization_11 (BatchNo (None, 28, 28, 256)  1024        multiply_7[0][0]                 \n",
      "__________________________________________________________________________________________________\n",
      "max_pooling2d_11 (MaxPooling2D) (None, 14, 14, 256)  0           batch_normalization_11[0][0]     \n",
      "__________________________________________________________________________________________________\n",
      "flatten_2 (Flatten)             (None, 50176)        0           max_pooling2d_11[0][0]           \n",
      "__________________________________________________________________________________________________\n",
      "dense_14 (Dense)                (None, 300)          15053100    flatten_2[0][0]                  \n",
      "__________________________________________________________________________________________________\n",
      "dense_15 (Dense)                (None, 150)          45150       dense_14[0][0]                   \n",
      "__________________________________________________________________________________________________\n",
      "dropout_2 (Dropout)             (None, 150)          0           dense_15[0][0]                   \n",
      "__________________________________________________________________________________________________\n",
      "dense_16 (Dense)                (None, 4)            604         dropout_2[0][0]                  \n",
      "==================================================================================================\n",
      "Total params: 15,511,882\n",
      "Trainable params: 15,510,922\n",
      "Non-trainable params: 960\n",
      "__________________________________________________________________________________________________\n"
     ]
    }
   ],
   "source": [
    "model_CBAM.summary()"
   ]
  },
  {
   "cell_type": "code",
   "execution_count": 28,
   "id": "4772bf05",
   "metadata": {
    "execution": {
     "iopub.execute_input": "2022-06-06T12:29:18.820657Z",
     "iopub.status.busy": "2022-06-06T12:29:18.820381Z",
     "iopub.status.idle": "2022-06-06T12:29:19.284672Z",
     "shell.execute_reply": "2022-06-06T12:29:19.283949Z"
    },
    "papermill": {
     "duration": 0.494856,
     "end_time": "2022-06-06T12:29:19.286468",
     "exception": false,
     "start_time": "2022-06-06T12:29:18.791612",
     "status": "completed"
    },
    "tags": []
   },
   "outputs": [
    {
     "data": {
      "image/png": "[encoded data removed]",
      "text/plain": [
       "<Figure size 432x288 with 1 Axes>"
      ]
     },
     "metadata": {
      "needs_background": "light"
     },
     "output_type": "display_data"
    }
   ],
   "source": [
    "plot_loss(history_CBAM, 0)"
   ]
  },
  {
   "cell_type": "code",
   "execution_count": 29,
   "id": "f8443957",
   "metadata": {
    "execution": {
     "iopub.execute_input": "2022-06-06T12:29:19.344804Z",
     "iopub.status.busy": "2022-06-06T12:29:19.344181Z",
     "iopub.status.idle": "2022-06-06T12:29:22.373438Z",
     "shell.execute_reply": "2022-06-06T12:29:22.372584Z"
    },
    "papermill": {
     "duration": 3.060268,
     "end_time": "2022-06-06T12:29:22.375544",
     "exception": false,
     "start_time": "2022-06-06T12:29:19.315276",
     "status": "completed"
    },
    "tags": []
   },
   "outputs": [
    {
     "name": "stdout",
     "output_type": "stream",
     "text": [
      "loss :  2.0657761096954346\n",
      "accuracy :  0.6864737868309021\n",
      "precision :  0.6859827637672424\n",
      "recall :  0.6849100589752197\n",
      "auc :  0.860176682472229\n"
     ]
    }
   ],
   "source": [
    "results = model_CBAM.evaluate(test_batches, verbose=0)\n",
    "\n",
    "for name, value in zip(model_CBAM.metrics_names, results):\n",
    "    print(name, ': ', value)"
   ]
  },
  {
   "cell_type": "code",
   "execution_count": 30,
   "id": "cc618283",
   "metadata": {
    "execution": {
     "iopub.execute_input": "2022-06-06T12:29:22.435040Z",
     "iopub.status.busy": "2022-06-06T12:29:22.434731Z",
     "iopub.status.idle": "2022-06-06T12:29:22.450172Z",
     "shell.execute_reply": "2022-06-06T12:29:22.449290Z"
    },
    "papermill": {
     "duration": 0.047157,
     "end_time": "2022-06-06T12:29:22.451924",
     "exception": false,
     "start_time": "2022-06-06T12:29:22.404767",
     "status": "completed"
    },
    "tags": []
   },
   "outputs": [],
   "source": [
    "class GradCAM:\n",
    "    def __init__(self, model, classIdx, layerName=None):\n",
    "        self.model = model\n",
    "        self.classIdx = classIdx\n",
    "        self.layerName = layerName\n",
    "\n",
    "        if self.layerName is None:\n",
    "            self.layerName = self.find_target_layer()\n",
    "            \n",
    "    def find_target_layer(self):\n",
    "        for layer in reversed(self.model.layers):\n",
    "            if len(layer.output_shape) == 4:\n",
    "                return layer.name\n",
    "        raise ValueError(\"Could not find 4D layer. Cannot apply GradCAM.\")\n",
    "        \n",
    "    def compute_heatmap(self, image, eps=1e-8):\n",
    "        # construct our gradient model by supplying (1) the inputs\n",
    "        # (2) the output of the (presumably)\n",
    "        # final 4D layer in the network, and (3) the output of the\n",
    "        # softmax activations from the model\n",
    "        gradModel = tf.keras.Model(\n",
    "        inputs=[self.model.inputs],\n",
    "        outputs=[self.model.get_layer(self.layerName).output,\n",
    "                 self.model.output])\n",
    "        \n",
    "        # record operations for automatic differentiation\n",
    "        with tf.GradientTape() as tape:\n",
    "            # cast the image tensor to a float-32 data type, pass the\n",
    "            # image through the gradient model, and grab the loss\n",
    "            # associated with the specific class index\n",
    "            inputs = tf.cast(image, tf.float32)\n",
    "            (convOutputs, predictions) = gradModel(inputs)\n",
    "            loss = predictions[:, self.classIdx]\n",
    "        \n",
    "        # use automatic differentiation to compute the gradients\n",
    "        grads = tape.gradient(loss, convOutputs)\n",
    "        \n",
    "        # compute the guided gradients\n",
    "        castConvOutputs = tf.cast(convOutputs > 0, \"float32\")\n",
    "        castGrads = tf.cast(grads > 0, \"float32\")\n",
    "        guidedGrads = castConvOutputs * castGrads * grads\n",
    "        \n",
    "        # the convolution and guided gradients have a batch dimension\n",
    "        # (which we don't need) so let's grab the volume itself and\n",
    "        # discard the batch\n",
    "        convOutputs = convOutputs[0]\n",
    "        guidedGrads = guidedGrads[0]\n",
    "        \n",
    "        # compute the average of the gradient values, and using them\n",
    "        # as weights, compute the ponderation of the filters with\n",
    "        # respect to the weights\n",
    "        weights = tf.reduce_mean(guidedGrads, axis=(0, 1))\n",
    "        cam = tf.reduce_sum(tf.multiply(weights, convOutputs), axis=-1)\n",
    "        \n",
    "        # grab the spatial dimensions of the input image and resize\n",
    "        # the output class activation map to match the input image\n",
    "        # dimensions\n",
    "        (w, h) = (image.shape[2], image.shape[1])\n",
    "        heatmap = cv2.resize(cam.numpy(), (w, h))\n",
    "        # normalize the heatmap such that all values lie in the range\n",
    "        # [0, 1], scale the resulting values to the range [0, 255],\n",
    "        # and then convert to an unsigned 8-bit integer\n",
    "        numer = heatmap - np.min(heatmap)\n",
    "        denom = (heatmap.max() - heatmap.min()) + eps\n",
    "        heatmap = numer / denom\n",
    "        heatmap = (heatmap * 255).astype(\"uint8\")\n",
    "        # return the resulting heatmap to the calling function\n",
    "        return heatmap\n",
    "\n",
    "    def overlay_heatmap(self, heatmap, image, alpha=0.5,\n",
    "        colormap=cv2.COLORMAP_VIRIDIS):\n",
    "        # apply the supplied color map to the heatmap and then\n",
    "        # overlay the heatmap on the input image\n",
    "        heatmap = cv2.applyColorMap(heatmap, colormap)\n",
    "        image = np.asarray(image, np.float64)\n",
    "        heatmap = np.asarray(heatmap, np.float64)\n",
    "        output = cv2.addWeighted(image, alpha, heatmap, 1 - alpha, 0)\n",
    "\n",
    "        return (heatmap, output)"
   ]
  },
  {
   "cell_type": "code",
   "execution_count": 31,
   "id": "55b3ff9c",
   "metadata": {
    "execution": {
     "iopub.execute_input": "2022-06-06T12:29:22.509616Z",
     "iopub.status.busy": "2022-06-06T12:29:22.509340Z",
     "iopub.status.idle": "2022-06-06T12:29:22.516799Z",
     "shell.execute_reply": "2022-06-06T12:29:22.515987Z"
    },
    "papermill": {
     "duration": 0.038273,
     "end_time": "2022-06-06T12:29:22.518444",
     "exception": false,
     "start_time": "2022-06-06T12:29:22.480171",
     "status": "completed"
    },
    "tags": []
   },
   "outputs": [],
   "source": [
    "def show_heatmap(model, img_path):\n",
    "    image = load_img(img_path, target_size=(224, 224))\n",
    "    image = img_to_array(image)\n",
    "    image = np.expand_dims(image, axis=0)\n",
    "    preds = model.predict(image)\n",
    "    i = np.argmax(preds[0])\n",
    "    label_to_class = {'NonDemented': 0,\n",
    "                      'VeryMildDemented': 1,\n",
    "                      'MildDemented': 2,\n",
    "                      'ModerateDemented': 3}\n",
    "\n",
    "    class_to_label = {v: k for k, v in label_to_class.items()}\n",
    "\n",
    "    label = class_to_label[i]\n",
    "    print(f'Predicted class: {label} | Prediction probability: {max(preds[0]) * 100}%')\n",
    "    \n",
    "    cam = GradCAM(model, i)\n",
    "    heatmap = cam.compute_heatmap(image)\n",
    "\n",
    "    (heatmap, output) = cam.overlay_heatmap(heatmap, image[0], alpha=0.5)\n",
    "    \n",
    "    output = output.astype(np.uint8)\n",
    "    plt.imshow(output, interpolation='nearest')\n",
    "    plt.show()"
   ]
  },
  {
   "cell_type": "code",
   "execution_count": 32,
   "id": "db63d7e4",
   "metadata": {
    "execution": {
     "iopub.execute_input": "2022-06-06T12:29:22.575903Z",
     "iopub.status.busy": "2022-06-06T12:29:22.575431Z",
     "iopub.status.idle": "2022-06-06T12:29:23.083730Z",
     "shell.execute_reply": "2022-06-06T12:29:23.082955Z"
    },
    "papermill": {
     "duration": 0.539342,
     "end_time": "2022-06-06T12:29:23.085984",
     "exception": false,
     "start_time": "2022-06-06T12:29:22.546642",
     "status": "completed"
    },
    "tags": []
   },
   "outputs": [
    {
     "name": "stdout",
     "output_type": "stream",
     "text": [
      "Predicted class: MildDemented | Prediction probability: 86.69216632843018%\n"
     ]
    },
    {
     "data": {
      "image/png": "[encoded data removed]",
      "text/plain": [
       "<Figure size 432x288 with 1 Axes>"
      ]
     },
     "metadata": {
      "needs_background": "light"
     },
     "output_type": "display_data"
    }
   ],
   "source": [
    "img_path = \"../input/alzheimers-dataset-4-class-of-images/Alzheimer_s Dataset/train/MildDemented/mildDem0.jpg\"\n",
    "show_heatmap(model, img_path)"
   ]
  },
  {
   "cell_type": "code",
   "execution_count": 33,
   "id": "50c8a246",
   "metadata": {
    "execution": {
     "iopub.execute_input": "2022-06-06T12:29:23.146786Z",
     "iopub.status.busy": "2022-06-06T12:29:23.146462Z",
     "iopub.status.idle": "2022-06-06T12:29:23.584216Z",
     "shell.execute_reply": "2022-06-06T12:29:23.583413Z"
    },
    "papermill": {
     "duration": 0.469786,
     "end_time": "2022-06-06T12:29:23.586045",
     "exception": false,
     "start_time": "2022-06-06T12:29:23.116259",
     "status": "completed"
    },
    "tags": []
   },
   "outputs": [
    {
     "name": "stdout",
     "output_type": "stream",
     "text": [
      "Predicted class: MildDemented | Prediction probability: 99.99969005584717%\n"
     ]
    },
    {
     "data": {
      "image/png": "[encoded data removed]",
      "text/plain": [
       "<Figure size 432x288 with 1 Axes>"
      ]
     },
     "metadata": {
      "needs_background": "light"
     },
     "output_type": "display_data"
    }
   ],
   "source": [
    "img_path = \"../input/alzheimers-dataset-4-class-of-images/Alzheimer_s Dataset/train/MildDemented/mildDem0.jpg\"\n",
    "show_heatmap(model_ECA, img_path)"
   ]
  },
  {
   "cell_type": "code",
   "execution_count": 34,
   "id": "9351741a",
   "metadata": {
    "execution": {
     "iopub.execute_input": "2022-06-06T12:29:23.648267Z",
     "iopub.status.busy": "2022-06-06T12:29:23.647964Z",
     "iopub.status.idle": "2022-06-06T12:29:24.677947Z",
     "shell.execute_reply": "2022-06-06T12:29:24.677192Z"
    },
    "papermill": {
     "duration": 1.063402,
     "end_time": "2022-06-06T12:29:24.680226",
     "exception": false,
     "start_time": "2022-06-06T12:29:23.616824",
     "status": "completed"
    },
    "tags": []
   },
   "outputs": [
    {
     "name": "stdout",
     "output_type": "stream",
     "text": [
      "Predicted class: VeryMildDemented | Prediction probability: 81.06232285499573%\n"
     ]
    },
    {
     "data": {
      "image/png": "[encoded data removed]",
      "text/plain": [
       "<Figure size 432x288 with 1 Axes>"
      ]
     },
     "metadata": {
      "needs_background": "light"
     },
     "output_type": "display_data"
    }
   ],
   "source": [
    "img_path = \"../input/alzheimers-dataset-4-class-of-images/Alzheimer_s Dataset/train/MildDemented/mildDem0.jpg\"\n",
    "show_heatmap(model_CBAM, img_path)"
   ]
  }
 ],
 "metadata": {
  "kernelspec": {
   "display_name": "Python 3.10.6 ('keras')",
   "language": "python",
   "name": "python3"
  },
  "language_info": {
   "codemirror_mode": {
    "name": "ipython",
    "version": 3
   },
   "file_extension": ".py",
   "mimetype": "text/x-python",
   "name": "python",
   "nbconvert_exporter": "python",
   "pygments_lexer": "ipython3",
   "version": "3.8.13"
  },
  "papermill": {
   "default_parameters": {},
   "duration": 2923.872162,
   "end_time": "2022-06-06T12:29:28.211538",
   "environment_variables": {},
   "exception": null,
   "input_path": "__notebook__.ipynb",
   "output_path": "__notebook__.ipynb",
   "parameters": {},
   "start_time": "2022-06-06T11:40:44.339376",
   "version": "2.3.4"
  },
  "vscode": {
   "interpreter": {
    "hash": "ea3476042c22507d4a4a83ae58c770fc528ff15454871552e09ef37283ce2491"
   }
  }
 },
 "nbformat": 4,
 "nbformat_minor": 5
}
